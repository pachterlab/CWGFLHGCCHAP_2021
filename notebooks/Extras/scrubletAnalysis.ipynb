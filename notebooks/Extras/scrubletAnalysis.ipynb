{
  "nbformat": 4,
  "nbformat_minor": 0,
  "metadata": {
    "colab": {
      "name": "scrubletAnalysis.ipynb",
      "provenance": [],
      "collapsed_sections": [
        "oHARSeqvYgc_"
      ],
      "include_colab_link": true
    },
    "kernelspec": {
      "name": "python3",
      "display_name": "Python 3"
    },
    "widgets": {
      "application/vnd.jupyter.widget-state+json": {
        "1f9675ed1687445b8d09422fc74fbfd1": {
          "model_module": "@jupyter-widgets/controls",
          "model_name": "HBoxModel",
          "model_module_version": "1.5.0",
          "state": {
            "_dom_classes": [],
            "_model_module": "@jupyter-widgets/controls",
            "_model_module_version": "1.5.0",
            "_model_name": "HBoxModel",
            "_view_count": null,
            "_view_module": "@jupyter-widgets/controls",
            "_view_module_version": "1.5.0",
            "_view_name": "HBoxView",
            "box_style": "",
            "children": [
              "IPY_MODEL_7d87831be245419a9c942aceebf0a76a",
              "IPY_MODEL_9c089c215394429da134dc9ae1a4dd13",
              "IPY_MODEL_157b9631671f4a2590f34f16bc5194e5"
            ],
            "layout": "IPY_MODEL_7713eab3008e489bb24bf17cc3bdf54a"
          }
        },
        "7d87831be245419a9c942aceebf0a76a": {
          "model_module": "@jupyter-widgets/controls",
          "model_name": "HTMLModel",
          "model_module_version": "1.5.0",
          "state": {
            "_dom_classes": [],
            "_model_module": "@jupyter-widgets/controls",
            "_model_module_version": "1.5.0",
            "_model_name": "HTMLModel",
            "_view_count": null,
            "_view_module": "@jupyter-widgets/controls",
            "_view_module_version": "1.5.0",
            "_view_name": "HTMLView",
            "description": "",
            "description_tooltip": null,
            "layout": "IPY_MODEL_a8c1dbf562e4473a8e5a5ffea2bd7807",
            "placeholder": "​",
            "style": "IPY_MODEL_4c17dcf7df8e41b9acc7e9ce128dfc6c",
            "value": ""
          }
        },
        "9c089c215394429da134dc9ae1a4dd13": {
          "model_module": "@jupyter-widgets/controls",
          "model_name": "FloatProgressModel",
          "model_module_version": "1.5.0",
          "state": {
            "_dom_classes": [],
            "_model_module": "@jupyter-widgets/controls",
            "_model_module_version": "1.5.0",
            "_model_name": "FloatProgressModel",
            "_view_count": null,
            "_view_module": "@jupyter-widgets/controls",
            "_view_module_version": "1.5.0",
            "_view_name": "ProgressView",
            "bar_style": "success",
            "description": "",
            "description_tooltip": null,
            "layout": "IPY_MODEL_cf6d2b1477ac4c2d84bc48056b3d659d",
            "max": 23757,
            "min": 0,
            "orientation": "horizontal",
            "style": "IPY_MODEL_9f87681a55ec44369c1509992a4d8086",
            "value": 23757
          }
        },
        "157b9631671f4a2590f34f16bc5194e5": {
          "model_module": "@jupyter-widgets/controls",
          "model_name": "HTMLModel",
          "model_module_version": "1.5.0",
          "state": {
            "_dom_classes": [],
            "_model_module": "@jupyter-widgets/controls",
            "_model_module_version": "1.5.0",
            "_model_name": "HTMLModel",
            "_view_count": null,
            "_view_module": "@jupyter-widgets/controls",
            "_view_module_version": "1.5.0",
            "_view_name": "HTMLView",
            "description": "",
            "description_tooltip": null,
            "layout": "IPY_MODEL_f23e8ab535fb41a1bf50a53930db6068",
            "placeholder": "​",
            "style": "IPY_MODEL_715590e6a05f42c685eb11ce05d4c552",
            "value": " 23758/? [02:11&lt;00:00, 17705.67B/s]"
          }
        },
        "7713eab3008e489bb24bf17cc3bdf54a": {
          "model_module": "@jupyter-widgets/base",
          "model_name": "LayoutModel",
          "model_module_version": "1.2.0",
          "state": {
            "_model_module": "@jupyter-widgets/base",
            "_model_module_version": "1.2.0",
            "_model_name": "LayoutModel",
            "_view_count": null,
            "_view_module": "@jupyter-widgets/base",
            "_view_module_version": "1.2.0",
            "_view_name": "LayoutView",
            "align_content": null,
            "align_items": null,
            "align_self": null,
            "border": null,
            "bottom": null,
            "display": null,
            "flex": null,
            "flex_flow": null,
            "grid_area": null,
            "grid_auto_columns": null,
            "grid_auto_flow": null,
            "grid_auto_rows": null,
            "grid_column": null,
            "grid_gap": null,
            "grid_row": null,
            "grid_template_areas": null,
            "grid_template_columns": null,
            "grid_template_rows": null,
            "height": null,
            "justify_content": null,
            "justify_items": null,
            "left": null,
            "margin": null,
            "max_height": null,
            "max_width": null,
            "min_height": null,
            "min_width": null,
            "object_fit": null,
            "object_position": null,
            "order": null,
            "overflow": null,
            "overflow_x": null,
            "overflow_y": null,
            "padding": null,
            "right": null,
            "top": null,
            "visibility": null,
            "width": null
          }
        },
        "a8c1dbf562e4473a8e5a5ffea2bd7807": {
          "model_module": "@jupyter-widgets/base",
          "model_name": "LayoutModel",
          "model_module_version": "1.2.0",
          "state": {
            "_model_module": "@jupyter-widgets/base",
            "_model_module_version": "1.2.0",
            "_model_name": "LayoutModel",
            "_view_count": null,
            "_view_module": "@jupyter-widgets/base",
            "_view_module_version": "1.2.0",
            "_view_name": "LayoutView",
            "align_content": null,
            "align_items": null,
            "align_self": null,
            "border": null,
            "bottom": null,
            "display": null,
            "flex": null,
            "flex_flow": null,
            "grid_area": null,
            "grid_auto_columns": null,
            "grid_auto_flow": null,
            "grid_auto_rows": null,
            "grid_column": null,
            "grid_gap": null,
            "grid_row": null,
            "grid_template_areas": null,
            "grid_template_columns": null,
            "grid_template_rows": null,
            "height": null,
            "justify_content": null,
            "justify_items": null,
            "left": null,
            "margin": null,
            "max_height": null,
            "max_width": null,
            "min_height": null,
            "min_width": null,
            "object_fit": null,
            "object_position": null,
            "order": null,
            "overflow": null,
            "overflow_x": null,
            "overflow_y": null,
            "padding": null,
            "right": null,
            "top": null,
            "visibility": null,
            "width": null
          }
        },
        "4c17dcf7df8e41b9acc7e9ce128dfc6c": {
          "model_module": "@jupyter-widgets/controls",
          "model_name": "DescriptionStyleModel",
          "model_module_version": "1.5.0",
          "state": {
            "_model_module": "@jupyter-widgets/controls",
            "_model_module_version": "1.5.0",
            "_model_name": "DescriptionStyleModel",
            "_view_count": null,
            "_view_module": "@jupyter-widgets/base",
            "_view_module_version": "1.2.0",
            "_view_name": "StyleView",
            "description_width": ""
          }
        },
        "cf6d2b1477ac4c2d84bc48056b3d659d": {
          "model_module": "@jupyter-widgets/base",
          "model_name": "LayoutModel",
          "model_module_version": "1.2.0",
          "state": {
            "_model_module": "@jupyter-widgets/base",
            "_model_module_version": "1.2.0",
            "_model_name": "LayoutModel",
            "_view_count": null,
            "_view_module": "@jupyter-widgets/base",
            "_view_module_version": "1.2.0",
            "_view_name": "LayoutView",
            "align_content": null,
            "align_items": null,
            "align_self": null,
            "border": null,
            "bottom": null,
            "display": null,
            "flex": null,
            "flex_flow": null,
            "grid_area": null,
            "grid_auto_columns": null,
            "grid_auto_flow": null,
            "grid_auto_rows": null,
            "grid_column": null,
            "grid_gap": null,
            "grid_row": null,
            "grid_template_areas": null,
            "grid_template_columns": null,
            "grid_template_rows": null,
            "height": null,
            "justify_content": null,
            "justify_items": null,
            "left": null,
            "margin": null,
            "max_height": null,
            "max_width": null,
            "min_height": null,
            "min_width": null,
            "object_fit": null,
            "object_position": null,
            "order": null,
            "overflow": null,
            "overflow_x": null,
            "overflow_y": null,
            "padding": null,
            "right": null,
            "top": null,
            "visibility": null,
            "width": null
          }
        },
        "9f87681a55ec44369c1509992a4d8086": {
          "model_module": "@jupyter-widgets/controls",
          "model_name": "ProgressStyleModel",
          "model_module_version": "1.5.0",
          "state": {
            "_model_module": "@jupyter-widgets/controls",
            "_model_module_version": "1.5.0",
            "_model_name": "ProgressStyleModel",
            "_view_count": null,
            "_view_module": "@jupyter-widgets/base",
            "_view_module_version": "1.2.0",
            "_view_name": "StyleView",
            "bar_color": null,
            "description_width": ""
          }
        },
        "f23e8ab535fb41a1bf50a53930db6068": {
          "model_module": "@jupyter-widgets/base",
          "model_name": "LayoutModel",
          "model_module_version": "1.2.0",
          "state": {
            "_model_module": "@jupyter-widgets/base",
            "_model_module_version": "1.2.0",
            "_model_name": "LayoutModel",
            "_view_count": null,
            "_view_module": "@jupyter-widgets/base",
            "_view_module_version": "1.2.0",
            "_view_name": "LayoutView",
            "align_content": null,
            "align_items": null,
            "align_self": null,
            "border": null,
            "bottom": null,
            "display": null,
            "flex": null,
            "flex_flow": null,
            "grid_area": null,
            "grid_auto_columns": null,
            "grid_auto_flow": null,
            "grid_auto_rows": null,
            "grid_column": null,
            "grid_gap": null,
            "grid_row": null,
            "grid_template_areas": null,
            "grid_template_columns": null,
            "grid_template_rows": null,
            "height": null,
            "justify_content": null,
            "justify_items": null,
            "left": null,
            "margin": null,
            "max_height": null,
            "max_width": null,
            "min_height": null,
            "min_width": null,
            "object_fit": null,
            "object_position": null,
            "order": null,
            "overflow": null,
            "overflow_x": null,
            "overflow_y": null,
            "padding": null,
            "right": null,
            "top": null,
            "visibility": null,
            "width": null
          }
        },
        "715590e6a05f42c685eb11ce05d4c552": {
          "model_module": "@jupyter-widgets/controls",
          "model_name": "DescriptionStyleModel",
          "model_module_version": "1.5.0",
          "state": {
            "_model_module": "@jupyter-widgets/controls",
            "_model_module_version": "1.5.0",
            "_model_name": "DescriptionStyleModel",
            "_view_count": null,
            "_view_module": "@jupyter-widgets/base",
            "_view_module_version": "1.2.0",
            "_view_name": "StyleView",
            "description_width": ""
          }
        },
        "a6387c1c0e9d44acad4651be324583f0": {
          "model_module": "@jupyter-widgets/controls",
          "model_name": "HBoxModel",
          "model_module_version": "1.5.0",
          "state": {
            "_dom_classes": [],
            "_model_module": "@jupyter-widgets/controls",
            "_model_module_version": "1.5.0",
            "_model_name": "HBoxModel",
            "_view_count": null,
            "_view_module": "@jupyter-widgets/controls",
            "_view_module_version": "1.5.0",
            "_view_name": "HBoxView",
            "box_style": "",
            "children": [
              "IPY_MODEL_aa145f3b3b494cfba0811d31e24a7121",
              "IPY_MODEL_a8928f3f1d904e199cfe158e0b006859",
              "IPY_MODEL_4423a47a03464756853e7221e410f2fb"
            ],
            "layout": "IPY_MODEL_78e69e982644472d948b1783bf7fec22"
          }
        },
        "aa145f3b3b494cfba0811d31e24a7121": {
          "model_module": "@jupyter-widgets/controls",
          "model_name": "HTMLModel",
          "model_module_version": "1.5.0",
          "state": {
            "_dom_classes": [],
            "_model_module": "@jupyter-widgets/controls",
            "_model_module_version": "1.5.0",
            "_model_name": "HTMLModel",
            "_view_count": null,
            "_view_module": "@jupyter-widgets/controls",
            "_view_module_version": "1.5.0",
            "_view_name": "HTMLView",
            "description": "",
            "description_tooltip": null,
            "layout": "IPY_MODEL_6f52820635ec4150b6485f899635159d",
            "placeholder": "​",
            "style": "IPY_MODEL_c115fb31915f4f44b64564f089b487de",
            "value": ""
          }
        },
        "a8928f3f1d904e199cfe158e0b006859": {
          "model_module": "@jupyter-widgets/controls",
          "model_name": "FloatProgressModel",
          "model_module_version": "1.5.0",
          "state": {
            "_dom_classes": [],
            "_model_module": "@jupyter-widgets/controls",
            "_model_module_version": "1.5.0",
            "_model_name": "FloatProgressModel",
            "_view_count": null,
            "_view_module": "@jupyter-widgets/controls",
            "_view_module_version": "1.5.0",
            "_view_name": "ProgressView",
            "bar_style": "success",
            "description": "",
            "description_tooltip": null,
            "layout": "IPY_MODEL_ad8cfc1fb7c94fabb5fbe48df5de1ce8",
            "max": 4972,
            "min": 0,
            "orientation": "horizontal",
            "style": "IPY_MODEL_8cd2d5e50f6c43d0849abf4ceba5d200",
            "value": 4972
          }
        },
        "4423a47a03464756853e7221e410f2fb": {
          "model_module": "@jupyter-widgets/controls",
          "model_name": "HTMLModel",
          "model_module_version": "1.5.0",
          "state": {
            "_dom_classes": [],
            "_model_module": "@jupyter-widgets/controls",
            "_model_module_version": "1.5.0",
            "_model_name": "HTMLModel",
            "_view_count": null,
            "_view_module": "@jupyter-widgets/controls",
            "_view_module_version": "1.5.0",
            "_view_name": "HTMLView",
            "description": "",
            "description_tooltip": null,
            "layout": "IPY_MODEL_504b5c2cff894e989d4ac8ce690cbaa0",
            "placeholder": "​",
            "style": "IPY_MODEL_56725976e3da452f989b8ce3f47cf6a2",
            "value": " 4973/? [00:48&lt;00:00, 7360.74B/s]"
          }
        },
        "78e69e982644472d948b1783bf7fec22": {
          "model_module": "@jupyter-widgets/base",
          "model_name": "LayoutModel",
          "model_module_version": "1.2.0",
          "state": {
            "_model_module": "@jupyter-widgets/base",
            "_model_module_version": "1.2.0",
            "_model_name": "LayoutModel",
            "_view_count": null,
            "_view_module": "@jupyter-widgets/base",
            "_view_module_version": "1.2.0",
            "_view_name": "LayoutView",
            "align_content": null,
            "align_items": null,
            "align_self": null,
            "border": null,
            "bottom": null,
            "display": null,
            "flex": null,
            "flex_flow": null,
            "grid_area": null,
            "grid_auto_columns": null,
            "grid_auto_flow": null,
            "grid_auto_rows": null,
            "grid_column": null,
            "grid_gap": null,
            "grid_row": null,
            "grid_template_areas": null,
            "grid_template_columns": null,
            "grid_template_rows": null,
            "height": null,
            "justify_content": null,
            "justify_items": null,
            "left": null,
            "margin": null,
            "max_height": null,
            "max_width": null,
            "min_height": null,
            "min_width": null,
            "object_fit": null,
            "object_position": null,
            "order": null,
            "overflow": null,
            "overflow_x": null,
            "overflow_y": null,
            "padding": null,
            "right": null,
            "top": null,
            "visibility": null,
            "width": null
          }
        },
        "6f52820635ec4150b6485f899635159d": {
          "model_module": "@jupyter-widgets/base",
          "model_name": "LayoutModel",
          "model_module_version": "1.2.0",
          "state": {
            "_model_module": "@jupyter-widgets/base",
            "_model_module_version": "1.2.0",
            "_model_name": "LayoutModel",
            "_view_count": null,
            "_view_module": "@jupyter-widgets/base",
            "_view_module_version": "1.2.0",
            "_view_name": "LayoutView",
            "align_content": null,
            "align_items": null,
            "align_self": null,
            "border": null,
            "bottom": null,
            "display": null,
            "flex": null,
            "flex_flow": null,
            "grid_area": null,
            "grid_auto_columns": null,
            "grid_auto_flow": null,
            "grid_auto_rows": null,
            "grid_column": null,
            "grid_gap": null,
            "grid_row": null,
            "grid_template_areas": null,
            "grid_template_columns": null,
            "grid_template_rows": null,
            "height": null,
            "justify_content": null,
            "justify_items": null,
            "left": null,
            "margin": null,
            "max_height": null,
            "max_width": null,
            "min_height": null,
            "min_width": null,
            "object_fit": null,
            "object_position": null,
            "order": null,
            "overflow": null,
            "overflow_x": null,
            "overflow_y": null,
            "padding": null,
            "right": null,
            "top": null,
            "visibility": null,
            "width": null
          }
        },
        "c115fb31915f4f44b64564f089b487de": {
          "model_module": "@jupyter-widgets/controls",
          "model_name": "DescriptionStyleModel",
          "model_module_version": "1.5.0",
          "state": {
            "_model_module": "@jupyter-widgets/controls",
            "_model_module_version": "1.5.0",
            "_model_name": "DescriptionStyleModel",
            "_view_count": null,
            "_view_module": "@jupyter-widgets/base",
            "_view_module_version": "1.2.0",
            "_view_name": "StyleView",
            "description_width": ""
          }
        },
        "ad8cfc1fb7c94fabb5fbe48df5de1ce8": {
          "model_module": "@jupyter-widgets/base",
          "model_name": "LayoutModel",
          "model_module_version": "1.2.0",
          "state": {
            "_model_module": "@jupyter-widgets/base",
            "_model_module_version": "1.2.0",
            "_model_name": "LayoutModel",
            "_view_count": null,
            "_view_module": "@jupyter-widgets/base",
            "_view_module_version": "1.2.0",
            "_view_name": "LayoutView",
            "align_content": null,
            "align_items": null,
            "align_self": null,
            "border": null,
            "bottom": null,
            "display": null,
            "flex": null,
            "flex_flow": null,
            "grid_area": null,
            "grid_auto_columns": null,
            "grid_auto_flow": null,
            "grid_auto_rows": null,
            "grid_column": null,
            "grid_gap": null,
            "grid_row": null,
            "grid_template_areas": null,
            "grid_template_columns": null,
            "grid_template_rows": null,
            "height": null,
            "justify_content": null,
            "justify_items": null,
            "left": null,
            "margin": null,
            "max_height": null,
            "max_width": null,
            "min_height": null,
            "min_width": null,
            "object_fit": null,
            "object_position": null,
            "order": null,
            "overflow": null,
            "overflow_x": null,
            "overflow_y": null,
            "padding": null,
            "right": null,
            "top": null,
            "visibility": null,
            "width": null
          }
        },
        "8cd2d5e50f6c43d0849abf4ceba5d200": {
          "model_module": "@jupyter-widgets/controls",
          "model_name": "ProgressStyleModel",
          "model_module_version": "1.5.0",
          "state": {
            "_model_module": "@jupyter-widgets/controls",
            "_model_module_version": "1.5.0",
            "_model_name": "ProgressStyleModel",
            "_view_count": null,
            "_view_module": "@jupyter-widgets/base",
            "_view_module_version": "1.2.0",
            "_view_name": "StyleView",
            "bar_color": null,
            "description_width": ""
          }
        },
        "504b5c2cff894e989d4ac8ce690cbaa0": {
          "model_module": "@jupyter-widgets/base",
          "model_name": "LayoutModel",
          "model_module_version": "1.2.0",
          "state": {
            "_model_module": "@jupyter-widgets/base",
            "_model_module_version": "1.2.0",
            "_model_name": "LayoutModel",
            "_view_count": null,
            "_view_module": "@jupyter-widgets/base",
            "_view_module_version": "1.2.0",
            "_view_name": "LayoutView",
            "align_content": null,
            "align_items": null,
            "align_self": null,
            "border": null,
            "bottom": null,
            "display": null,
            "flex": null,
            "flex_flow": null,
            "grid_area": null,
            "grid_auto_columns": null,
            "grid_auto_flow": null,
            "grid_auto_rows": null,
            "grid_column": null,
            "grid_gap": null,
            "grid_row": null,
            "grid_template_areas": null,
            "grid_template_columns": null,
            "grid_template_rows": null,
            "height": null,
            "justify_content": null,
            "justify_items": null,
            "left": null,
            "margin": null,
            "max_height": null,
            "max_width": null,
            "min_height": null,
            "min_width": null,
            "object_fit": null,
            "object_position": null,
            "order": null,
            "overflow": null,
            "overflow_x": null,
            "overflow_y": null,
            "padding": null,
            "right": null,
            "top": null,
            "visibility": null,
            "width": null
          }
        },
        "56725976e3da452f989b8ce3f47cf6a2": {
          "model_module": "@jupyter-widgets/controls",
          "model_name": "DescriptionStyleModel",
          "model_module_version": "1.5.0",
          "state": {
            "_model_module": "@jupyter-widgets/controls",
            "_model_module_version": "1.5.0",
            "_model_name": "DescriptionStyleModel",
            "_view_count": null,
            "_view_module": "@jupyter-widgets/base",
            "_view_module_version": "1.2.0",
            "_view_name": "StyleView",
            "description_width": ""
          }
        },
        "0ea3dff659894ca3ba5b238b8c371e7f": {
          "model_module": "@jupyter-widgets/controls",
          "model_name": "HBoxModel",
          "model_module_version": "1.5.0",
          "state": {
            "_dom_classes": [],
            "_model_module": "@jupyter-widgets/controls",
            "_model_module_version": "1.5.0",
            "_model_name": "HBoxModel",
            "_view_count": null,
            "_view_module": "@jupyter-widgets/controls",
            "_view_module_version": "1.5.0",
            "_view_name": "HBoxView",
            "box_style": "",
            "children": [
              "IPY_MODEL_83fcb0d6e9504b178c4b14a6fff69349",
              "IPY_MODEL_1ece5ad458fa4ec0bd947356818d9cf0",
              "IPY_MODEL_7d3e25f831fd41d9a4c5433da1139eb9"
            ],
            "layout": "IPY_MODEL_db84c3888481454296e2d74d7e07076d"
          }
        },
        "83fcb0d6e9504b178c4b14a6fff69349": {
          "model_module": "@jupyter-widgets/controls",
          "model_name": "HTMLModel",
          "model_module_version": "1.5.0",
          "state": {
            "_dom_classes": [],
            "_model_module": "@jupyter-widgets/controls",
            "_model_module_version": "1.5.0",
            "_model_name": "HTMLModel",
            "_view_count": null,
            "_view_module": "@jupyter-widgets/controls",
            "_view_module_version": "1.5.0",
            "_view_name": "HTMLView",
            "description": "",
            "description_tooltip": null,
            "layout": "IPY_MODEL_742623a93eac47359cb326afdae9b37c",
            "placeholder": "​",
            "style": "IPY_MODEL_e5ed1d93d2fa4fadb496ab79756a6952",
            "value": ""
          }
        },
        "1ece5ad458fa4ec0bd947356818d9cf0": {
          "model_module": "@jupyter-widgets/controls",
          "model_name": "FloatProgressModel",
          "model_module_version": "1.5.0",
          "state": {
            "_dom_classes": [],
            "_model_module": "@jupyter-widgets/controls",
            "_model_module_version": "1.5.0",
            "_model_name": "FloatProgressModel",
            "_view_count": null,
            "_view_module": "@jupyter-widgets/controls",
            "_view_module_version": "1.5.0",
            "_view_name": "ProgressView",
            "bar_style": "success",
            "description": "",
            "description_tooltip": null,
            "layout": "IPY_MODEL_4e2d738071724c829fadfa50728a1e43",
            "max": 45376,
            "min": 0,
            "orientation": "horizontal",
            "style": "IPY_MODEL_a633d067509545cba63dad4be5bf816a",
            "value": 45376
          }
        },
        "7d3e25f831fd41d9a4c5433da1139eb9": {
          "model_module": "@jupyter-widgets/controls",
          "model_name": "HTMLModel",
          "model_module_version": "1.5.0",
          "state": {
            "_dom_classes": [],
            "_model_module": "@jupyter-widgets/controls",
            "_model_module_version": "1.5.0",
            "_model_name": "HTMLModel",
            "_view_count": null,
            "_view_module": "@jupyter-widgets/controls",
            "_view_module_version": "1.5.0",
            "_view_name": "HTMLView",
            "description": "",
            "description_tooltip": null,
            "layout": "IPY_MODEL_5da83388553142ceb849bd860d346155",
            "placeholder": "​",
            "style": "IPY_MODEL_9e698152e41645e587734258318b089d",
            "value": " 45377/? [00:53&lt;00:00, 20679.54B/s]"
          }
        },
        "db84c3888481454296e2d74d7e07076d": {
          "model_module": "@jupyter-widgets/base",
          "model_name": "LayoutModel",
          "model_module_version": "1.2.0",
          "state": {
            "_model_module": "@jupyter-widgets/base",
            "_model_module_version": "1.2.0",
            "_model_name": "LayoutModel",
            "_view_count": null,
            "_view_module": "@jupyter-widgets/base",
            "_view_module_version": "1.2.0",
            "_view_name": "LayoutView",
            "align_content": null,
            "align_items": null,
            "align_self": null,
            "border": null,
            "bottom": null,
            "display": null,
            "flex": null,
            "flex_flow": null,
            "grid_area": null,
            "grid_auto_columns": null,
            "grid_auto_flow": null,
            "grid_auto_rows": null,
            "grid_column": null,
            "grid_gap": null,
            "grid_row": null,
            "grid_template_areas": null,
            "grid_template_columns": null,
            "grid_template_rows": null,
            "height": null,
            "justify_content": null,
            "justify_items": null,
            "left": null,
            "margin": null,
            "max_height": null,
            "max_width": null,
            "min_height": null,
            "min_width": null,
            "object_fit": null,
            "object_position": null,
            "order": null,
            "overflow": null,
            "overflow_x": null,
            "overflow_y": null,
            "padding": null,
            "right": null,
            "top": null,
            "visibility": null,
            "width": null
          }
        },
        "742623a93eac47359cb326afdae9b37c": {
          "model_module": "@jupyter-widgets/base",
          "model_name": "LayoutModel",
          "model_module_version": "1.2.0",
          "state": {
            "_model_module": "@jupyter-widgets/base",
            "_model_module_version": "1.2.0",
            "_model_name": "LayoutModel",
            "_view_count": null,
            "_view_module": "@jupyter-widgets/base",
            "_view_module_version": "1.2.0",
            "_view_name": "LayoutView",
            "align_content": null,
            "align_items": null,
            "align_self": null,
            "border": null,
            "bottom": null,
            "display": null,
            "flex": null,
            "flex_flow": null,
            "grid_area": null,
            "grid_auto_columns": null,
            "grid_auto_flow": null,
            "grid_auto_rows": null,
            "grid_column": null,
            "grid_gap": null,
            "grid_row": null,
            "grid_template_areas": null,
            "grid_template_columns": null,
            "grid_template_rows": null,
            "height": null,
            "justify_content": null,
            "justify_items": null,
            "left": null,
            "margin": null,
            "max_height": null,
            "max_width": null,
            "min_height": null,
            "min_width": null,
            "object_fit": null,
            "object_position": null,
            "order": null,
            "overflow": null,
            "overflow_x": null,
            "overflow_y": null,
            "padding": null,
            "right": null,
            "top": null,
            "visibility": null,
            "width": null
          }
        },
        "e5ed1d93d2fa4fadb496ab79756a6952": {
          "model_module": "@jupyter-widgets/controls",
          "model_name": "DescriptionStyleModel",
          "model_module_version": "1.5.0",
          "state": {
            "_model_module": "@jupyter-widgets/controls",
            "_model_module_version": "1.5.0",
            "_model_name": "DescriptionStyleModel",
            "_view_count": null,
            "_view_module": "@jupyter-widgets/base",
            "_view_module_version": "1.2.0",
            "_view_name": "StyleView",
            "description_width": ""
          }
        },
        "4e2d738071724c829fadfa50728a1e43": {
          "model_module": "@jupyter-widgets/base",
          "model_name": "LayoutModel",
          "model_module_version": "1.2.0",
          "state": {
            "_model_module": "@jupyter-widgets/base",
            "_model_module_version": "1.2.0",
            "_model_name": "LayoutModel",
            "_view_count": null,
            "_view_module": "@jupyter-widgets/base",
            "_view_module_version": "1.2.0",
            "_view_name": "LayoutView",
            "align_content": null,
            "align_items": null,
            "align_self": null,
            "border": null,
            "bottom": null,
            "display": null,
            "flex": null,
            "flex_flow": null,
            "grid_area": null,
            "grid_auto_columns": null,
            "grid_auto_flow": null,
            "grid_auto_rows": null,
            "grid_column": null,
            "grid_gap": null,
            "grid_row": null,
            "grid_template_areas": null,
            "grid_template_columns": null,
            "grid_template_rows": null,
            "height": null,
            "justify_content": null,
            "justify_items": null,
            "left": null,
            "margin": null,
            "max_height": null,
            "max_width": null,
            "min_height": null,
            "min_width": null,
            "object_fit": null,
            "object_position": null,
            "order": null,
            "overflow": null,
            "overflow_x": null,
            "overflow_y": null,
            "padding": null,
            "right": null,
            "top": null,
            "visibility": null,
            "width": null
          }
        },
        "a633d067509545cba63dad4be5bf816a": {
          "model_module": "@jupyter-widgets/controls",
          "model_name": "ProgressStyleModel",
          "model_module_version": "1.5.0",
          "state": {
            "_model_module": "@jupyter-widgets/controls",
            "_model_module_version": "1.5.0",
            "_model_name": "ProgressStyleModel",
            "_view_count": null,
            "_view_module": "@jupyter-widgets/base",
            "_view_module_version": "1.2.0",
            "_view_name": "StyleView",
            "bar_color": null,
            "description_width": ""
          }
        },
        "5da83388553142ceb849bd860d346155": {
          "model_module": "@jupyter-widgets/base",
          "model_name": "LayoutModel",
          "model_module_version": "1.2.0",
          "state": {
            "_model_module": "@jupyter-widgets/base",
            "_model_module_version": "1.2.0",
            "_model_name": "LayoutModel",
            "_view_count": null,
            "_view_module": "@jupyter-widgets/base",
            "_view_module_version": "1.2.0",
            "_view_name": "LayoutView",
            "align_content": null,
            "align_items": null,
            "align_self": null,
            "border": null,
            "bottom": null,
            "display": null,
            "flex": null,
            "flex_flow": null,
            "grid_area": null,
            "grid_auto_columns": null,
            "grid_auto_flow": null,
            "grid_auto_rows": null,
            "grid_column": null,
            "grid_gap": null,
            "grid_row": null,
            "grid_template_areas": null,
            "grid_template_columns": null,
            "grid_template_rows": null,
            "height": null,
            "justify_content": null,
            "justify_items": null,
            "left": null,
            "margin": null,
            "max_height": null,
            "max_width": null,
            "min_height": null,
            "min_width": null,
            "object_fit": null,
            "object_position": null,
            "order": null,
            "overflow": null,
            "overflow_x": null,
            "overflow_y": null,
            "padding": null,
            "right": null,
            "top": null,
            "visibility": null,
            "width": null
          }
        },
        "9e698152e41645e587734258318b089d": {
          "model_module": "@jupyter-widgets/controls",
          "model_name": "DescriptionStyleModel",
          "model_module_version": "1.5.0",
          "state": {
            "_model_module": "@jupyter-widgets/controls",
            "_model_module_version": "1.5.0",
            "_model_name": "DescriptionStyleModel",
            "_view_count": null,
            "_view_module": "@jupyter-widgets/base",
            "_view_module_version": "1.2.0",
            "_view_name": "StyleView",
            "description_width": ""
          }
        },
        "6a8077d301734712a7efd40c091a6caf": {
          "model_module": "@jupyter-widgets/controls",
          "model_name": "HBoxModel",
          "model_module_version": "1.5.0",
          "state": {
            "_dom_classes": [],
            "_model_module": "@jupyter-widgets/controls",
            "_model_module_version": "1.5.0",
            "_model_name": "HBoxModel",
            "_view_count": null,
            "_view_module": "@jupyter-widgets/controls",
            "_view_module_version": "1.5.0",
            "_view_name": "HBoxView",
            "box_style": "",
            "children": [
              "IPY_MODEL_6a59761c45da4c31ae327d6b23c620e2",
              "IPY_MODEL_a34bbe61b5364b178283fe0b480a2730",
              "IPY_MODEL_a4e527fcc2db40a5ac5c0e32762f1f72"
            ],
            "layout": "IPY_MODEL_3094653a6fc345179f9e7e8c97bc0ff2"
          }
        },
        "6a59761c45da4c31ae327d6b23c620e2": {
          "model_module": "@jupyter-widgets/controls",
          "model_name": "HTMLModel",
          "model_module_version": "1.5.0",
          "state": {
            "_dom_classes": [],
            "_model_module": "@jupyter-widgets/controls",
            "_model_module_version": "1.5.0",
            "_model_name": "HTMLModel",
            "_view_count": null,
            "_view_module": "@jupyter-widgets/controls",
            "_view_module_version": "1.5.0",
            "_view_name": "HTMLView",
            "description": "",
            "description_tooltip": null,
            "layout": "IPY_MODEL_d23f0269bdac442cb76522b9ce005853",
            "placeholder": "​",
            "style": "IPY_MODEL_4eab2d5b34d544bba454f524fe6fe538",
            "value": ""
          }
        },
        "a34bbe61b5364b178283fe0b480a2730": {
          "model_module": "@jupyter-widgets/controls",
          "model_name": "FloatProgressModel",
          "model_module_version": "1.5.0",
          "state": {
            "_dom_classes": [],
            "_model_module": "@jupyter-widgets/controls",
            "_model_module_version": "1.5.0",
            "_model_name": "FloatProgressModel",
            "_view_count": null,
            "_view_module": "@jupyter-widgets/controls",
            "_view_module_version": "1.5.0",
            "_view_name": "ProgressView",
            "bar_style": "success",
            "description": "",
            "description_tooltip": null,
            "layout": "IPY_MODEL_63d2713c87424cb38d4560322daa5e92",
            "max": 183,
            "min": 0,
            "orientation": "horizontal",
            "style": "IPY_MODEL_179d9f786be143a1be3d7a20496722c1",
            "value": 183
          }
        },
        "a4e527fcc2db40a5ac5c0e32762f1f72": {
          "model_module": "@jupyter-widgets/controls",
          "model_name": "HTMLModel",
          "model_module_version": "1.5.0",
          "state": {
            "_dom_classes": [],
            "_model_module": "@jupyter-widgets/controls",
            "_model_module_version": "1.5.0",
            "_model_name": "HTMLModel",
            "_view_count": null,
            "_view_module": "@jupyter-widgets/controls",
            "_view_module_version": "1.5.0",
            "_view_name": "HTMLView",
            "description": "",
            "description_tooltip": null,
            "layout": "IPY_MODEL_06778e3a2ce84365bc8aa7171172397a",
            "placeholder": "​",
            "style": "IPY_MODEL_975716b682134e1088f79bf1a658b3e6",
            "value": " 184/? [00:47&lt;00:00, 285.13B/s]"
          }
        },
        "3094653a6fc345179f9e7e8c97bc0ff2": {
          "model_module": "@jupyter-widgets/base",
          "model_name": "LayoutModel",
          "model_module_version": "1.2.0",
          "state": {
            "_model_module": "@jupyter-widgets/base",
            "_model_module_version": "1.2.0",
            "_model_name": "LayoutModel",
            "_view_count": null,
            "_view_module": "@jupyter-widgets/base",
            "_view_module_version": "1.2.0",
            "_view_name": "LayoutView",
            "align_content": null,
            "align_items": null,
            "align_self": null,
            "border": null,
            "bottom": null,
            "display": null,
            "flex": null,
            "flex_flow": null,
            "grid_area": null,
            "grid_auto_columns": null,
            "grid_auto_flow": null,
            "grid_auto_rows": null,
            "grid_column": null,
            "grid_gap": null,
            "grid_row": null,
            "grid_template_areas": null,
            "grid_template_columns": null,
            "grid_template_rows": null,
            "height": null,
            "justify_content": null,
            "justify_items": null,
            "left": null,
            "margin": null,
            "max_height": null,
            "max_width": null,
            "min_height": null,
            "min_width": null,
            "object_fit": null,
            "object_position": null,
            "order": null,
            "overflow": null,
            "overflow_x": null,
            "overflow_y": null,
            "padding": null,
            "right": null,
            "top": null,
            "visibility": null,
            "width": null
          }
        },
        "d23f0269bdac442cb76522b9ce005853": {
          "model_module": "@jupyter-widgets/base",
          "model_name": "LayoutModel",
          "model_module_version": "1.2.0",
          "state": {
            "_model_module": "@jupyter-widgets/base",
            "_model_module_version": "1.2.0",
            "_model_name": "LayoutModel",
            "_view_count": null,
            "_view_module": "@jupyter-widgets/base",
            "_view_module_version": "1.2.0",
            "_view_name": "LayoutView",
            "align_content": null,
            "align_items": null,
            "align_self": null,
            "border": null,
            "bottom": null,
            "display": null,
            "flex": null,
            "flex_flow": null,
            "grid_area": null,
            "grid_auto_columns": null,
            "grid_auto_flow": null,
            "grid_auto_rows": null,
            "grid_column": null,
            "grid_gap": null,
            "grid_row": null,
            "grid_template_areas": null,
            "grid_template_columns": null,
            "grid_template_rows": null,
            "height": null,
            "justify_content": null,
            "justify_items": null,
            "left": null,
            "margin": null,
            "max_height": null,
            "max_width": null,
            "min_height": null,
            "min_width": null,
            "object_fit": null,
            "object_position": null,
            "order": null,
            "overflow": null,
            "overflow_x": null,
            "overflow_y": null,
            "padding": null,
            "right": null,
            "top": null,
            "visibility": null,
            "width": null
          }
        },
        "4eab2d5b34d544bba454f524fe6fe538": {
          "model_module": "@jupyter-widgets/controls",
          "model_name": "DescriptionStyleModel",
          "model_module_version": "1.5.0",
          "state": {
            "_model_module": "@jupyter-widgets/controls",
            "_model_module_version": "1.5.0",
            "_model_name": "DescriptionStyleModel",
            "_view_count": null,
            "_view_module": "@jupyter-widgets/base",
            "_view_module_version": "1.2.0",
            "_view_name": "StyleView",
            "description_width": ""
          }
        },
        "63d2713c87424cb38d4560322daa5e92": {
          "model_module": "@jupyter-widgets/base",
          "model_name": "LayoutModel",
          "model_module_version": "1.2.0",
          "state": {
            "_model_module": "@jupyter-widgets/base",
            "_model_module_version": "1.2.0",
            "_model_name": "LayoutModel",
            "_view_count": null,
            "_view_module": "@jupyter-widgets/base",
            "_view_module_version": "1.2.0",
            "_view_name": "LayoutView",
            "align_content": null,
            "align_items": null,
            "align_self": null,
            "border": null,
            "bottom": null,
            "display": null,
            "flex": null,
            "flex_flow": null,
            "grid_area": null,
            "grid_auto_columns": null,
            "grid_auto_flow": null,
            "grid_auto_rows": null,
            "grid_column": null,
            "grid_gap": null,
            "grid_row": null,
            "grid_template_areas": null,
            "grid_template_columns": null,
            "grid_template_rows": null,
            "height": null,
            "justify_content": null,
            "justify_items": null,
            "left": null,
            "margin": null,
            "max_height": null,
            "max_width": null,
            "min_height": null,
            "min_width": null,
            "object_fit": null,
            "object_position": null,
            "order": null,
            "overflow": null,
            "overflow_x": null,
            "overflow_y": null,
            "padding": null,
            "right": null,
            "top": null,
            "visibility": null,
            "width": null
          }
        },
        "179d9f786be143a1be3d7a20496722c1": {
          "model_module": "@jupyter-widgets/controls",
          "model_name": "ProgressStyleModel",
          "model_module_version": "1.5.0",
          "state": {
            "_model_module": "@jupyter-widgets/controls",
            "_model_module_version": "1.5.0",
            "_model_name": "ProgressStyleModel",
            "_view_count": null,
            "_view_module": "@jupyter-widgets/base",
            "_view_module_version": "1.2.0",
            "_view_name": "StyleView",
            "bar_color": null,
            "description_width": ""
          }
        },
        "06778e3a2ce84365bc8aa7171172397a": {
          "model_module": "@jupyter-widgets/base",
          "model_name": "LayoutModel",
          "model_module_version": "1.2.0",
          "state": {
            "_model_module": "@jupyter-widgets/base",
            "_model_module_version": "1.2.0",
            "_model_name": "LayoutModel",
            "_view_count": null,
            "_view_module": "@jupyter-widgets/base",
            "_view_module_version": "1.2.0",
            "_view_name": "LayoutView",
            "align_content": null,
            "align_items": null,
            "align_self": null,
            "border": null,
            "bottom": null,
            "display": null,
            "flex": null,
            "flex_flow": null,
            "grid_area": null,
            "grid_auto_columns": null,
            "grid_auto_flow": null,
            "grid_auto_rows": null,
            "grid_column": null,
            "grid_gap": null,
            "grid_row": null,
            "grid_template_areas": null,
            "grid_template_columns": null,
            "grid_template_rows": null,
            "height": null,
            "justify_content": null,
            "justify_items": null,
            "left": null,
            "margin": null,
            "max_height": null,
            "max_width": null,
            "min_height": null,
            "min_width": null,
            "object_fit": null,
            "object_position": null,
            "order": null,
            "overflow": null,
            "overflow_x": null,
            "overflow_y": null,
            "padding": null,
            "right": null,
            "top": null,
            "visibility": null,
            "width": null
          }
        },
        "975716b682134e1088f79bf1a658b3e6": {
          "model_module": "@jupyter-widgets/controls",
          "model_name": "DescriptionStyleModel",
          "model_module_version": "1.5.0",
          "state": {
            "_model_module": "@jupyter-widgets/controls",
            "_model_module_version": "1.5.0",
            "_model_name": "DescriptionStyleModel",
            "_view_count": null,
            "_view_module": "@jupyter-widgets/base",
            "_view_module_version": "1.2.0",
            "_view_name": "StyleView",
            "description_width": ""
          }
        }
      }
    }
  },
  "cells": [
    {
      "cell_type": "markdown",
      "metadata": {
        "id": "view-in-github",
        "colab_type": "text"
      },
      "source": [
        "<a href=\"https://colab.research.google.com/github/pachterlab/CWGFLHGCCHAP_2021/blob/master/notebooks/Extras/scrubletAnalysis.ipynb\" target=\"_parent\"><img src=\"https://colab.research.google.com/assets/colab-badge.svg\" alt=\"Open In Colab\"/></a>"
      ]
    },
    {
      "cell_type": "code",
      "metadata": {
        "id": "oN2VaaIQ_zHw",
        "colab": {
          "base_uri": "https://localhost:8080/"
        },
        "outputId": "86c6b10b-fff7-419f-b030-a5961c1e9d2a"
      },
      "source": [
        "!date"
      ],
      "execution_count": null,
      "outputs": [
        {
          "output_type": "stream",
          "text": [
            "Fri Apr 30 18:56:17 UTC 2021\n"
          ],
          "name": "stdout"
        }
      ]
    },
    {
      "cell_type": "markdown",
      "metadata": {
        "id": "5c1yTem1RNye"
      },
      "source": [
        "### **Download Data**"
      ]
    },
    {
      "cell_type": "code",
      "metadata": {
        "id": "qfirib2yPrHF"
      },
      "source": [
        "#Install kallisto and bustools\n",
        "\n",
        "!wget --quiet https://github.com/pachterlab/kallisto/releases/download/v0.46.2/kallisto_linux-v0.46.2.tar.gz\n",
        "!tar -xf kallisto_linux-v0.46.2.tar.gz\n",
        "!cp kallisto/kallisto /usr/local/bin/\n",
        "\n",
        "!wget --quiet https://github.com/BUStools/bustools/releases/download/v0.40.0/bustools_linux-v0.40.0.tar.gz\n",
        "!tar -xf bustools_linux-v0.40.0.tar.gz\n",
        "!cp bustools/bustools /usr/local/bin/"
      ],
      "execution_count": 1,
      "outputs": []
    },
    {
      "cell_type": "code",
      "metadata": {
        "id": "JrzLW-FjV3LA"
      },
      "source": [
        "import requests\n",
        "from tqdm import tnrange, tqdm_notebook\n",
        "def download_file(doi,ext):\n",
        "    url = 'https://api.datacite.org/dois/'+doi+'/media'\n",
        "    r = requests.get(url).json()\n",
        "    netcdf_url = r['data'][0]['attributes']['url']\n",
        "    r = requests.get(netcdf_url,stream=True)\n",
        "    #Set file name\n",
        "    fname = doi.split('/')[-1]+ext\n",
        "    #Download file with progress bar\n",
        "    if r.status_code == 403:\n",
        "        print(\"File Unavailable\")\n",
        "    if 'content-length' not in r.headers:\n",
        "        print(\"Did not get file\")\n",
        "    else:\n",
        "        with open(fname, 'wb') as f:\n",
        "            total_length = int(r.headers.get('content-length'))\n",
        "            pbar = tnrange(int(total_length/1024), unit=\"B\")\n",
        "            for chunk in r.iter_content(chunk_size=1024):\n",
        "                if chunk:\n",
        "                    pbar.update()\n",
        "                    f.write(chunk)\n",
        "        return fname"
      ],
      "execution_count": 2,
      "outputs": []
    },
    {
      "cell_type": "code",
      "metadata": {
        "id": "hxFD2QMnQ-xG",
        "colab": {
          "base_uri": "https://localhost:8080/",
          "height": 135,
          "referenced_widgets": [
            "1f9675ed1687445b8d09422fc74fbfd1",
            "7d87831be245419a9c942aceebf0a76a",
            "9c089c215394429da134dc9ae1a4dd13",
            "157b9631671f4a2590f34f16bc5194e5",
            "7713eab3008e489bb24bf17cc3bdf54a",
            "a8c1dbf562e4473a8e5a5ffea2bd7807",
            "4c17dcf7df8e41b9acc7e9ce128dfc6c",
            "cf6d2b1477ac4c2d84bc48056b3d659d",
            "9f87681a55ec44369c1509992a4d8086",
            "f23e8ab535fb41a1bf50a53930db6068",
            "715590e6a05f42c685eb11ce05d4c552",
            "a6387c1c0e9d44acad4651be324583f0",
            "aa145f3b3b494cfba0811d31e24a7121",
            "a8928f3f1d904e199cfe158e0b006859",
            "4423a47a03464756853e7221e410f2fb",
            "78e69e982644472d948b1783bf7fec22",
            "6f52820635ec4150b6485f899635159d",
            "c115fb31915f4f44b64564f089b487de",
            "ad8cfc1fb7c94fabb5fbe48df5de1ce8",
            "8cd2d5e50f6c43d0849abf4ceba5d200",
            "504b5c2cff894e989d4ac8ce690cbaa0",
            "56725976e3da452f989b8ce3f47cf6a2"
          ]
        },
        "outputId": "dbbb50dc-e2aa-4147-fcdd-0b58d28f54d9"
      },
      "source": [
        "#Get reference data () fastq's)\n",
        "\n",
        "#Trinity Transcripts\n",
        "download_file('10.22002/D1.1825','.gz')\n",
        "\n",
        "#Gff3 (Trinity)\n",
        "download_file('10.22002/D1.1824','.gz')\n",
        "\n"
      ],
      "execution_count": 3,
      "outputs": [
        {
          "output_type": "stream",
          "name": "stderr",
          "text": [
            "<ipython-input-2-3d0e4fc72fc7>:18: TqdmDeprecationWarning: Please use `tqdm.notebook.trange` instead of `tqdm.tnrange`\n",
            "  pbar = tnrange(int(total_length/1024), unit=\"B\")\n"
          ]
        },
        {
          "output_type": "display_data",
          "data": {
            "text/plain": [
              "  0%|          | 0/23757 [00:00<?, ?B/s]"
            ],
            "application/vnd.jupyter.widget-view+json": {
              "version_major": 2,
              "version_minor": 0,
              "model_id": "1f9675ed1687445b8d09422fc74fbfd1"
            }
          },
          "metadata": {}
        },
        {
          "output_type": "display_data",
          "data": {
            "text/plain": [
              "  0%|          | 0/4972 [00:00<?, ?B/s]"
            ],
            "application/vnd.jupyter.widget-view+json": {
              "version_major": 2,
              "version_minor": 0,
              "model_id": "a6387c1c0e9d44acad4651be324583f0"
            }
          },
          "metadata": {}
        },
        {
          "output_type": "execute_result",
          "data": {
            "text/plain": [
              "'D1.1824.gz'"
            ],
            "application/vnd.google.colaboratory.intrinsic+json": {
              "type": "string"
            }
          },
          "metadata": {},
          "execution_count": 3
        }
      ]
    },
    {
      "cell_type": "code",
      "metadata": {
        "id": "5uDqcKvT5hFt"
      },
      "source": [
        "# Get doi links for all Starvation cDNA fastq.gz files\n",
        "starvFiles = []\n",
        "dois = ['10.22002/D1.1840','10.22002/D1.1841','10.22002/D1.1842','10.22002/D1.1843',\n",
        "        '10.22002/D1.1844','10.22002/D1.1845','10.22002/D1.1846','10.22002/D1.1847',\n",
        "        '10.22002/D1.1848','10.22002/D1.1849','10.22002/D1.1850','10.22002/D1.1851',\n",
        "        '10.22002/D1.1852','10.22002/D1.1853','10.22002/D1.1854','10.22002/D1.1855'] #16 doi numbers\n",
        "for doi in dois:\n",
        "  url = 'https://api.datacite.org/dois/'+doi+'/media'\n",
        "  r = requests.get(url).json()\n",
        "  netcdf_url = r['data'][0]['attributes']['url']\n",
        "\n",
        "  starvFiles += [netcdf_url]\n",
        "\n",
        "s1 = starvFiles[0]\n",
        "s2 = starvFiles[1]\n",
        "s3 = starvFiles[2]\n",
        "s4 = starvFiles[3]\n",
        "s5 = starvFiles[4]\n",
        "s6 = starvFiles[5]\n",
        "s7 = starvFiles[6]\n",
        "s8 = starvFiles[7]\n",
        "\n",
        "s9 = starvFiles[8]\n",
        "s10 = starvFiles[9]\n",
        "s11 = starvFiles[10]\n",
        "s12 = starvFiles[11]\n",
        "s13 = starvFiles[12]\n",
        "s14 = starvFiles[13]\n",
        "s15 = starvFiles[14]\n",
        "s16 = starvFiles[15]"
      ],
      "execution_count": 4,
      "outputs": []
    },
    {
      "cell_type": "code",
      "metadata": {
        "id": "iOrWY2jM6FHF"
      },
      "source": [
        "# Get doi links for all Stimulation cDNA fastq.gz files\n",
        "stimFiles = []\n",
        "dois = ['10.22002/D1.1860','10.22002/D1.1863','10.22002/D1.1864','10.22002/D1.1865',\n",
        "        '10.22002/D1.1866','10.22002/D1.1868','10.22002/D1.1870','10.22002/D1.1871'] #8 numbers\n",
        "for doi in dois:\n",
        "  url = 'https://api.datacite.org/dois/'+doi+'/media'\n",
        "  r = requests.get(url).json()\n",
        "  netcdf_url = r['data'][0]['attributes']['url']\n",
        "\n",
        "  stimFiles += [netcdf_url]\n",
        "\n",
        "\n",
        "stim1 = stimFiles[0]\n",
        "stim2 = stimFiles[1]\n",
        "stim3 = stimFiles[2]\n",
        "stim4 = stimFiles[3]\n",
        "stim5 = stimFiles[4]\n",
        "stim6 = stimFiles[5]\n",
        "stim7 = stimFiles[6]\n",
        "stim8 = stimFiles[7]\n"
      ],
      "execution_count": 5,
      "outputs": []
    },
    {
      "cell_type": "code",
      "metadata": {
        "id": "ZpoZNcGmqK1V",
        "colab": {
          "base_uri": "https://localhost:8080/",
          "height": 135,
          "referenced_widgets": [
            "0ea3dff659894ca3ba5b238b8c371e7f",
            "83fcb0d6e9504b178c4b14a6fff69349",
            "1ece5ad458fa4ec0bd947356818d9cf0",
            "7d3e25f831fd41d9a4c5433da1139eb9",
            "db84c3888481454296e2d74d7e07076d",
            "742623a93eac47359cb326afdae9b37c",
            "e5ed1d93d2fa4fadb496ab79756a6952",
            "4e2d738071724c829fadfa50728a1e43",
            "a633d067509545cba63dad4be5bf816a",
            "5da83388553142ceb849bd860d346155",
            "9e698152e41645e587734258318b089d",
            "6a8077d301734712a7efd40c091a6caf",
            "6a59761c45da4c31ae327d6b23c620e2",
            "a34bbe61b5364b178283fe0b480a2730",
            "a4e527fcc2db40a5ac5c0e32762f1f72",
            "3094653a6fc345179f9e7e8c97bc0ff2",
            "d23f0269bdac442cb76522b9ce005853",
            "4eab2d5b34d544bba454f524fe6fe538",
            "63d2713c87424cb38d4560322daa5e92",
            "179d9f786be143a1be3d7a20496722c1",
            "06778e3a2ce84365bc8aa7171172397a",
            "975716b682134e1088f79bf1a658b3e6"
          ]
        },
        "outputId": "6eafaa95-2e2d-448e-b95b-405e7868efd7"
      },
      "source": [
        "#Get original, CellRanger clustered starvation adata\n",
        "download_file('10.22002/D1.1798','.gz')\n",
        "\n",
        "#Cell barcodes selected from Stim ClickTags\n",
        "download_file('10.22002/D1.1817','.gz')\n",
        "\n"
      ],
      "execution_count": 6,
      "outputs": [
        {
          "output_type": "stream",
          "name": "stderr",
          "text": [
            "<ipython-input-2-3d0e4fc72fc7>:18: TqdmDeprecationWarning: Please use `tqdm.notebook.trange` instead of `tqdm.tnrange`\n",
            "  pbar = tnrange(int(total_length/1024), unit=\"B\")\n"
          ]
        },
        {
          "output_type": "display_data",
          "data": {
            "text/plain": [
              "  0%|          | 0/45376 [00:00<?, ?B/s]"
            ],
            "application/vnd.jupyter.widget-view+json": {
              "version_major": 2,
              "version_minor": 0,
              "model_id": "0ea3dff659894ca3ba5b238b8c371e7f"
            }
          },
          "metadata": {}
        },
        {
          "output_type": "display_data",
          "data": {
            "text/plain": [
              "  0%|          | 0/183 [00:00<?, ?B/s]"
            ],
            "application/vnd.jupyter.widget-view+json": {
              "version_major": 2,
              "version_minor": 0,
              "model_id": "6a8077d301734712a7efd40c091a6caf"
            }
          },
          "metadata": {}
        },
        {
          "output_type": "execute_result",
          "data": {
            "text/plain": [
              "'D1.1817.gz'"
            ],
            "application/vnd.google.colaboratory.intrinsic+json": {
              "type": "string"
            }
          },
          "metadata": {},
          "execution_count": 6
        }
      ]
    },
    {
      "cell_type": "code",
      "metadata": {
        "id": "gzWVyI4PWqi1"
      },
      "source": [
        "!gunzip *.gz"
      ],
      "execution_count": 7,
      "outputs": []
    },
    {
      "cell_type": "code",
      "metadata": {
        "id": "2iEq4BbbsDsL",
        "colab": {
          "base_uri": "https://localhost:8080/",
          "height": 1000
        },
        "outputId": "f7d962c1-c333-48ab-dcd8-f03b33164a38"
      },
      "source": [
        "!pip install --quiet anndata\n",
        "!pip install --quiet scanpy\n",
        "!pip install --quiet louvain\n",
        "!pip install scrublet"
      ],
      "execution_count": 8,
      "outputs": [
        {
          "output_type": "stream",
          "name": "stdout",
          "text": [
            "\u001b[2K     \u001b[90m━━━━━━━━━━━━━━━━━━━━━━━━━━━━━━━━━━━━━━━\u001b[0m \u001b[32m104.2/104.2 kB\u001b[0m \u001b[31m2.6 MB/s\u001b[0m eta \u001b[36m0:00:00\u001b[0m\n",
            "\u001b[2K     \u001b[90m━━━━━━━━━━━━━━━━━━━━━━━━━━━━━━━━━━━━━━━━\u001b[0m \u001b[32m2.0/2.0 MB\u001b[0m \u001b[31m15.8 MB/s\u001b[0m eta \u001b[36m0:00:00\u001b[0m\n",
            "\u001b[2K     \u001b[90m━━━━━━━━━━━━━━━━━━━━━━━━━━━━━━━━━━━━━━━━\u001b[0m \u001b[32m90.8/90.8 kB\u001b[0m \u001b[31m9.5 MB/s\u001b[0m eta \u001b[36m0:00:00\u001b[0m\n",
            "\u001b[?25h  Preparing metadata (setup.py) ... \u001b[?25l\u001b[?25hdone\n",
            "  Preparing metadata (setup.py) ... \u001b[?25l\u001b[?25hdone\n",
            "\u001b[2K     \u001b[90m━━━━━━━━━━━━━━━━━━━━━━━━━━━━━━━━━━━━━━━━\u001b[0m \u001b[32m1.1/1.1 MB\u001b[0m \u001b[31m27.9 MB/s\u001b[0m eta \u001b[36m0:00:00\u001b[0m\n",
            "\u001b[?25h  Preparing metadata (setup.py) ... \u001b[?25l\u001b[?25hdone\n",
            "\u001b[2K     \u001b[90m━━━━━━━━━━━━━━━━━━━━━━━━━━━━━━━━━━━━━━━━\u001b[0m \u001b[32m75.6/75.6 kB\u001b[0m \u001b[31m9.6 MB/s\u001b[0m eta \u001b[36m0:00:00\u001b[0m\n",
            "\u001b[?25h  Building wheel for umap-learn (setup.py) ... \u001b[?25l\u001b[?25hdone\n",
            "  Building wheel for session-info (setup.py) ... \u001b[?25l\u001b[?25hdone\n",
            "  Building wheel for pynndescent (setup.py) ... \u001b[?25l\u001b[?25hdone\n",
            "\u001b[2K     \u001b[90m━━━━━━━━━━━━━━━━━━━━━━━━━━━━━━━━━━━━━━━━\u001b[0m \u001b[32m1.1/1.1 MB\u001b[0m \u001b[31m10.4 MB/s\u001b[0m eta \u001b[36m0:00:00\u001b[0m\n",
            "\u001b[2K     \u001b[90m━━━━━━━━━━━━━━━━━━━━━━━━━━━━━━━━━━━━━━━━\u001b[0m \u001b[32m3.3/3.3 MB\u001b[0m \u001b[31m26.7 MB/s\u001b[0m eta \u001b[36m0:00:00\u001b[0m\n",
            "\u001b[?25hCollecting scrublet\n",
            "  Downloading scrublet-0.2.3-py3-none-any.whl (15 kB)\n",
            "Requirement already satisfied: cython in /usr/local/lib/python3.10/dist-packages (from scrublet) (3.0.2)\n",
            "Requirement already satisfied: numpy in /usr/local/lib/python3.10/dist-packages (from scrublet) (1.23.5)\n",
            "Requirement already satisfied: scipy in /usr/local/lib/python3.10/dist-packages (from scrublet) (1.11.2)\n",
            "Requirement already satisfied: scikit-learn in /usr/local/lib/python3.10/dist-packages (from scrublet) (1.2.2)\n",
            "Requirement already satisfied: scikit-image in /usr/local/lib/python3.10/dist-packages (from scrublet) (0.19.3)\n",
            "Requirement already satisfied: matplotlib in /usr/local/lib/python3.10/dist-packages (from scrublet) (3.7.1)\n",
            "Collecting annoy (from scrublet)\n",
            "  Downloading annoy-1.17.3.tar.gz (647 kB)\n",
            "\u001b[2K     \u001b[90m━━━━━━━━━━━━━━━━━━━━━━━━━━━━━━━━━━━━━━━\u001b[0m \u001b[32m647.5/647.5 kB\u001b[0m \u001b[31m7.9 MB/s\u001b[0m eta \u001b[36m0:00:00\u001b[0m\n",
            "\u001b[?25h  Preparing metadata (setup.py) ... \u001b[?25l\u001b[?25hdone\n",
            "Requirement already satisfied: numba in /usr/local/lib/python3.10/dist-packages (from scrublet) (0.56.4)\n",
            "Requirement already satisfied: pandas in /usr/local/lib/python3.10/dist-packages (from scrublet) (1.5.3)\n",
            "Requirement already satisfied: umap-learn in /usr/local/lib/python3.10/dist-packages (from scrublet) (0.5.4)\n",
            "Requirement already satisfied: contourpy>=1.0.1 in /usr/local/lib/python3.10/dist-packages (from matplotlib->scrublet) (1.1.0)\n",
            "Requirement already satisfied: cycler>=0.10 in /usr/local/lib/python3.10/dist-packages (from matplotlib->scrublet) (0.11.0)\n",
            "Requirement already satisfied: fonttools>=4.22.0 in /usr/local/lib/python3.10/dist-packages (from matplotlib->scrublet) (4.42.1)\n",
            "Requirement already satisfied: kiwisolver>=1.0.1 in /usr/local/lib/python3.10/dist-packages (from matplotlib->scrublet) (1.4.5)\n",
            "Requirement already satisfied: packaging>=20.0 in /usr/local/lib/python3.10/dist-packages (from matplotlib->scrublet) (23.1)\n",
            "Requirement already satisfied: pillow>=6.2.0 in /usr/local/lib/python3.10/dist-packages (from matplotlib->scrublet) (9.4.0)\n",
            "Requirement already satisfied: pyparsing>=2.3.1 in /usr/local/lib/python3.10/dist-packages (from matplotlib->scrublet) (3.1.1)\n",
            "Requirement already satisfied: python-dateutil>=2.7 in /usr/local/lib/python3.10/dist-packages (from matplotlib->scrublet) (2.8.2)\n",
            "Requirement already satisfied: llvmlite<0.40,>=0.39.0dev0 in /usr/local/lib/python3.10/dist-packages (from numba->scrublet) (0.39.1)\n",
            "Requirement already satisfied: setuptools in /usr/local/lib/python3.10/dist-packages (from numba->scrublet) (67.7.2)\n",
            "Requirement already satisfied: pytz>=2020.1 in /usr/local/lib/python3.10/dist-packages (from pandas->scrublet) (2023.3.post1)\n",
            "Requirement already satisfied: networkx>=2.2 in /usr/local/lib/python3.10/dist-packages (from scikit-image->scrublet) (3.1)\n",
            "Requirement already satisfied: imageio>=2.4.1 in /usr/local/lib/python3.10/dist-packages (from scikit-image->scrublet) (2.31.3)\n",
            "Requirement already satisfied: tifffile>=2019.7.26 in /usr/local/lib/python3.10/dist-packages (from scikit-image->scrublet) (2023.8.30)\n",
            "Requirement already satisfied: PyWavelets>=1.1.1 in /usr/local/lib/python3.10/dist-packages (from scikit-image->scrublet) (1.4.1)\n",
            "Requirement already satisfied: joblib>=1.1.1 in /usr/local/lib/python3.10/dist-packages (from scikit-learn->scrublet) (1.3.2)\n",
            "Requirement already satisfied: threadpoolctl>=2.0.0 in /usr/local/lib/python3.10/dist-packages (from scikit-learn->scrublet) (3.2.0)\n",
            "Requirement already satisfied: pynndescent>=0.5 in /usr/local/lib/python3.10/dist-packages (from umap-learn->scrublet) (0.5.10)\n",
            "Requirement already satisfied: tqdm in /usr/local/lib/python3.10/dist-packages (from umap-learn->scrublet) (4.66.1)\n",
            "Requirement already satisfied: tbb>=2019.0 in /usr/local/lib/python3.10/dist-packages (from umap-learn->scrublet) (2021.10.0)\n",
            "Requirement already satisfied: six>=1.5 in /usr/local/lib/python3.10/dist-packages (from python-dateutil>=2.7->matplotlib->scrublet) (1.16.0)\n",
            "Building wheels for collected packages: annoy\n",
            "  Building wheel for annoy (setup.py) ... \u001b[?25l\u001b[?25hdone\n",
            "  Created wheel for annoy: filename=annoy-1.17.3-cp310-cp310-linux_x86_64.whl size=552450 sha256=4bea572f5b97ed710e02be62e8826238ec6cfe8171bb2860c9c9f5fdc3e62ac5\n",
            "  Stored in directory: /root/.cache/pip/wheels/64/8a/da/f714bcf46c5efdcfcac0559e63370c21abe961c48e3992465a\n",
            "Successfully built annoy\n",
            "Installing collected packages: annoy, scrublet\n",
            "Successfully installed annoy-1.17.3 scrublet-0.2.3\n"
          ]
        }
      ]
    },
    {
      "cell_type": "markdown",
      "metadata": {
        "id": "Urq6pSygRjQW"
      },
      "source": [
        "### **Import Packages**"
      ]
    },
    {
      "cell_type": "code",
      "metadata": {
        "id": "5WmLsw20n84I"
      },
      "source": [
        "import pandas as pd\n",
        "import anndata\n",
        "import scanpy as sc\n",
        "import numpy as np\n",
        "import scipy.sparse\n",
        "\n",
        "import scrublet as scr\n",
        "\n",
        "import matplotlib.pyplot as plt\n",
        "%matplotlib inline\n",
        "sc.set_figure_params(dpi=125)"
      ],
      "execution_count": 9,
      "outputs": []
    },
    {
      "cell_type": "markdown",
      "metadata": {
        "id": "Lw5ZtHL1pQmc"
      },
      "source": [
        "### **Run kallisto bus on data with Starvation cDNA data**\n",
        "\n"
      ]
    },
    {
      "cell_type": "code",
      "metadata": {
        "id": "2BS7MYZgSm4Y",
        "colab": {
          "base_uri": "https://localhost:8080/"
        },
        "outputId": "2ed7d771-cc15-40eb-8095-93ad3d5f4c58"
      },
      "source": [
        "#Make Kallisto index (referene https://www.kallistobus.tools/getting_started)\n",
        "!mv D1.1825 transcripts.fa\n",
        "!kallisto index -i clytia_trin.idx -k 31 transcripts.fa"
      ],
      "execution_count": null,
      "outputs": [
        {
          "output_type": "stream",
          "text": [
            "\n",
            "[build] loading fasta file transcripts.fa\n",
            "[build] k-mer length: 31\n",
            "[build] warning: clipped off poly-A tail (longer than 10)\n",
            "        from 30 target sequences\n",
            "[build] warning: replaced 205989 non-ACGUT characters in the input sequence\n",
            "        with pseudorandom nucleotides\n",
            "[build] counting k-mers ... tcmalloc: large alloc 1610612736 bytes == 0x692da000 @  0x7f1a409fc1e7 0x6f46bd 0x6f4739 0x4af899 0x4a7a68 0x4aec09 0x44e175 0x7f1a3fa18bf7 0x452f19\n",
            "done.\n",
            "[build] building target de Bruijn graph ...  done \n",
            "[build] creating equivalence classes ...  done\n",
            "[build] target de Bruijn graph has 410850 contigs and contains 61068880 k-mers \n",
            "\n"
          ],
          "name": "stdout"
        }
      ]
    },
    {
      "cell_type": "markdown",
      "metadata": {
        "id": "U0wHSp3BTrQN"
      },
      "source": [
        "Run kallisto for one set of samples"
      ]
    },
    {
      "cell_type": "code",
      "metadata": {
        "id": "RZiGNdecTXo6",
        "colab": {
          "base_uri": "https://localhost:8080/"
        },
        "outputId": "1e74a6e5-3991-4e7e-97d3-af7e60e28554"
      },
      "source": [
        "#Create BUS files from fastq's, can't do separate lines\n",
        "!mkfifo R1.gz R2.gz R1_02.gz R2_02.gz R1_03.gz R2_03.gz R1_04.gz R2_04.gz; curl -Ls $s1 > R1.gz & curl -Ls $s2 > R2.gz & curl -Ls $s3 > R1_02.gz & curl -Ls $s4 > R2_02.gz & curl -Ls $s5 > R1_03.gz & curl -Ls $s6 > R2_03.gz & curl -Ls $s7 > R1_04.gz & curl -Ls $s8 > R2_04.gz & kallisto bus -i clytia_trin.idx -o bus_output/ -x 10xv2 -t 2 R1.gz R2.gz R1_02.gz R2_02.gz R1_03.gz R2_03.gz R1_04.gz R2_04.gz\n"
      ],
      "execution_count": null,
      "outputs": [
        {
          "output_type": "stream",
          "text": [
            "\n",
            "[index] k-mer length: 31\n",
            "[index] number of targets: 113,915\n",
            "[index] number of k-mers: 61,068,880\n",
            "tcmalloc: large alloc 1610612736 bytes == 0x2ef0000 @  0x7f116ba8f1e7 0x6f46bd 0x6f4739 0x4af899 0x4a9a10 0x44e2bc 0x7f116aaabbf7 0x452f19\n",
            "[index] number of equivalence classes: 245,726\n",
            "[quant] will process sample 1: R1.gz\n",
            "                               R2.gz\n",
            "[quant] will process sample 2: R1_02.gz\n",
            "                               R2_02.gz\n",
            "[quant] will process sample 3: R1_03.gz\n",
            "                               R2_03.gz\n",
            "[quant] will process sample 4: R1_04.gz\n",
            "                               R2_04.gz\n",
            "[quant] finding pseudoalignments for the reads ... done\n",
            "[quant] processed 219,421,150 reads, 188,296,358 reads pseudoaligned\n",
            "\n"
          ],
          "name": "stdout"
        }
      ]
    },
    {
      "cell_type": "code",
      "metadata": {
        "id": "NIgYOcC9Tf0o"
      },
      "source": [
        "#Generate gene-count matrices\n",
        "!wget --quiet https://github.com/bustools/getting_started/releases/download/getting_started/10xv2_whitelist.txt\n",
        "\n",
        "#Make t2g file\n",
        "!mv D1.1824 trinity.gff3\n",
        "!awk '{ print $12\"\\t\"$10}' trinity.gff3  > t2g_rough.txt\n",
        "!sed 's/[\";]//g' t2g_rough.txt > t2g_trin.txt\n",
        "\n",
        "\n"
      ],
      "execution_count": null,
      "outputs": []
    },
    {
      "cell_type": "code",
      "metadata": {
        "id": "lUE_RQTWfcQz",
        "colab": {
          "base_uri": "https://localhost:8080/"
        },
        "outputId": "ca37b7e2-5412-4f71-99fd-8a73e035b9ee"
      },
      "source": [
        "#!cd bus_output/\n",
        "!mkdir bus_output/genecount/ bus_output/tmp/\n",
        "\n",
        "!bustools correct -w 10xv2_whitelist.txt -p bus_output/output.bus | bustools sort -T bus_output/tmptmp/ -t 2 -p - | bustools count -o bus_output/genecount/genes -g t2g_trin.txt -e bus_output/matrix.ec -t bus_output/transcripts.txt --genecounts -"
      ],
      "execution_count": null,
      "outputs": [
        {
          "output_type": "stream",
          "text": [
            "Found 737280 barcodes in the whitelist\n",
            "Processed 188296358 BUS records\n",
            "In whitelist = 179043072\n",
            "Corrected = 3009765\n",
            "Uncorrected = 6243521\n",
            "Read in 182052837 BUS records\n"
          ],
          "name": "stdout"
        }
      ]
    },
    {
      "cell_type": "markdown",
      "metadata": {
        "id": "wxD1HzygTvcE"
      },
      "source": [
        "Run kallisto for other sample set"
      ]
    },
    {
      "cell_type": "code",
      "metadata": {
        "id": "u89nNlMdTyoV",
        "colab": {
          "base_uri": "https://localhost:8080/"
        },
        "outputId": "f7d45753-49a0-4427-97a6-4640de0a5f1a"
      },
      "source": [
        "#Create BUS files from fastq's\n",
        "!mkfifo R1_new.gz R2_new.gz R1_02_new.gz R2_02_new.gz R1_03_new.gz R2_03_new.gz R1_04_new.gz R2_04_new.gz; curl -Ls $s9 > R1_new.gz & curl -Ls $s10 > R2_new.gz & curl -Ls $s11 > R1_02_new.gz & curl -Ls $s12 > R2_02_new.gz & curl -Ls $s13 > R1_03_new.gz & curl -Ls $s14 > R2_03_new.gz & curl -Ls $s15 > R1_04_new.gz & curl -Ls $s16 > R2_04_new.gz & kallisto bus -i clytia_trin.idx -o bus_output_02/ -x 10xv2 -t 2 R1_new.gz R2_new.gz R1_02_new.gz R2_02_new.gz R1_03_new.gz R2_03_new.gz R1_04_new.gz R2_04_new.gz"
      ],
      "execution_count": null,
      "outputs": [
        {
          "output_type": "stream",
          "text": [
            "\n",
            "[index] k-mer length: 31\n",
            "[index] number of targets: 113,915\n",
            "[index] number of k-mers: 61,068,880\n",
            "tcmalloc: large alloc 1610612736 bytes == 0x2c52000 @  0x7fb75ff611e7 0x6f46bd 0x6f4739 0x4af899 0x4a9a10 0x44e2bc 0x7fb75ef7dbf7 0x452f19\n",
            "[index] number of equivalence classes: 245,726\n",
            "[quant] will process sample 1: R1_new.gz\n",
            "                               R2_new.gz\n",
            "[quant] will process sample 2: R1_02_new.gz\n",
            "                               R2_02_new.gz\n",
            "[quant] will process sample 3: R1_03_new.gz\n",
            "                               R2_03_new.gz\n",
            "[quant] will process sample 4: R1_04_new.gz\n",
            "                               R2_04_new.gz\n",
            "[quant] finding pseudoalignments for the reads ... done\n",
            "[quant] processed 245,357,482 reads, 211,673,174 reads pseudoaligned\n",
            "\n"
          ],
          "name": "stdout"
        }
      ]
    },
    {
      "cell_type": "code",
      "metadata": {
        "id": "ly1VEne6TyoY",
        "colab": {
          "base_uri": "https://localhost:8080/"
        },
        "outputId": "cb25f35e-a422-4f1a-e999-4cc55067004c"
      },
      "source": [
        "#Generate gene-count matrices\n",
        "!cd bus_output_02/\n",
        "!mkdir bus_output_02/genecount/ bus_output_02/tmp/\n",
        "\n",
        "!bustools correct -w 10xv2_whitelist.txt -p bus_output_02/output.bus | bustools sort -T bus_output_02/tmp/ -t 2 -p -  | bustools count -o bus_output_02/genecount/genes -g t2g_trin.txt -e bus_output_02/matrix.ec -t bus_output_02/transcripts.txt --genecounts -"
      ],
      "execution_count": null,
      "outputs": [
        {
          "output_type": "stream",
          "text": [
            "Found 737280 barcodes in the whitelist\n",
            "Processed 211673174 BUS records\n",
            "In whitelist = 201242063\n",
            "Corrected = 3408308\n",
            "Uncorrected = 7022803\n",
            "Read in 204650371 BUS records\n"
          ],
          "name": "stdout"
        }
      ]
    },
    {
      "cell_type": "markdown",
      "metadata": {
        "id": "FmFy0KoKTz5D"
      },
      "source": [
        "Merge matrices (Add -1 to first and -2 to second dataset)"
      ]
    },
    {
      "cell_type": "code",
      "metadata": {
        "id": "pK1rsIu1T36J"
      },
      "source": [
        "path = \"bus_output/genecount/\"\n",
        "jelly_adata_01 = sc.read(path+'genes.mtx', cache=True)\n",
        "jelly_adata_01.var_names = pd.read_csv(path+'genes.genes.txt', header=None)[0]\n",
        "jelly_adata_01.obs_names = pd.read_csv(path+'genes.barcodes.txt', header=None)[0]\n",
        "\n",
        "jelly_adata_01.obs_names = [i+\"-1\" for i in jelly_adata_01.obs_names]"
      ],
      "execution_count": null,
      "outputs": []
    },
    {
      "cell_type": "code",
      "metadata": {
        "id": "2h1ZCLJXT5Bs"
      },
      "source": [
        "path = \"bus_output_02/genecount/\"\n",
        "jelly_adata_02 = sc.read(path+'genes.mtx', cache=True)\n",
        "jelly_adata_02.var_names = pd.read_csv(path+'genes.genes.txt', header=None)[0]\n",
        "jelly_adata_02.obs_names = pd.read_csv(path+'genes.barcodes.txt', header=None)[0]\n",
        "\n",
        "jelly_adata_02.obs_names = [i+\"-2\" for i in jelly_adata_02.obs_names]"
      ],
      "execution_count": null,
      "outputs": []
    },
    {
      "cell_type": "code",
      "metadata": {
        "id": "P1W9dmtnT5Fp",
        "colab": {
          "base_uri": "https://localhost:8080/"
        },
        "outputId": "dc293924-7af7-4f7e-8af0-78e225bd20ec"
      },
      "source": [
        "jelly_adata = jelly_adata_01.concatenate(jelly_adata_02,join='outer', index_unique=None)\n",
        "jelly_adata_01"
      ],
      "execution_count": null,
      "outputs": [
        {
          "output_type": "execute_result",
          "data": {
            "text/plain": [
              "AnnData object with n_obs × n_vars = 479562 × 46716"
            ]
          },
          "metadata": {
            "tags": []
          },
          "execution_count": 4
        }
      ]
    },
    {
      "cell_type": "code",
      "metadata": {
        "colab": {
          "base_uri": "https://localhost:8080/"
        },
        "id": "j6HfLRMgpCn0",
        "outputId": "5969a9a8-ceab-42db-b7b2-bcfcae56747f"
      },
      "source": [
        "sc.pp.filter_cells(jelly_adata_01, min_counts=10)\n",
        "sc.pp.filter_genes(jelly_adata_01, min_counts=5)\n",
        "jelly_adata_01"
      ],
      "execution_count": null,
      "outputs": [
        {
          "output_type": "execute_result",
          "data": {
            "text/plain": [
              "AnnData object with n_obs × n_vars = 89456 × 18722\n",
              "    obs: 'n_counts'\n",
              "    var: 'n_counts'"
            ]
          },
          "metadata": {
            "tags": []
          },
          "execution_count": 4
        }
      ]
    },
    {
      "cell_type": "code",
      "metadata": {
        "colab": {
          "base_uri": "https://localhost:8080/"
        },
        "id": "t8ZVPtsMppM1",
        "outputId": "a9df4c4b-5b30-42d4-c047-7c4e11fad8ff"
      },
      "source": [
        "sc.pp.filter_cells(jelly_adata_02, min_counts=10)\n",
        "sc.pp.filter_genes(jelly_adata_02, min_counts=5)\n",
        "jelly_adata_02"
      ],
      "execution_count": null,
      "outputs": [
        {
          "output_type": "execute_result",
          "data": {
            "text/plain": [
              "AnnData object with n_obs × n_vars = 81310 × 18875\n",
              "    obs: 'n_counts'\n",
              "    var: 'n_counts'"
            ]
          },
          "metadata": {
            "tags": []
          },
          "execution_count": 3
        }
      ]
    },
    {
      "cell_type": "code",
      "metadata": {
        "id": "KQinBzME25r6"
      },
      "source": [
        "cellR = anndata.read('D1.1798')\n",
        "cells = list(cellR.obs_names)"
      ],
      "execution_count": null,
      "outputs": []
    },
    {
      "cell_type": "code",
      "metadata": {
        "colab": {
          "base_uri": "https://localhost:8080/"
        },
        "id": "AustWCrI260h",
        "outputId": "e379dec6-573c-4d7f-988f-fa5a177f09c7"
      },
      "source": [
        "len(set(cells).intersection(jelly_adata_01.obs_names))/len(cells)"
      ],
      "execution_count": null,
      "outputs": [
        {
          "output_type": "execute_result",
          "data": {
            "text/plain": [
              "0.501206757843926"
            ]
          },
          "metadata": {
            "tags": []
          },
          "execution_count": 12
        }
      ]
    },
    {
      "cell_type": "code",
      "metadata": {
        "colab": {
          "base_uri": "https://localhost:8080/"
        },
        "id": "XARbS0lT-wLH",
        "outputId": "ff4b1147-e730-458f-dbb9-05400f56d3e1"
      },
      "source": [
        "len(set(cells).intersection(jelly_adata_02.obs_names))/len(cells)"
      ],
      "execution_count": null,
      "outputs": [
        {
          "output_type": "execute_result",
          "data": {
            "text/plain": [
              "0.498793242156074"
            ]
          },
          "metadata": {
            "tags": []
          },
          "execution_count": 5
        }
      ]
    },
    {
      "cell_type": "markdown",
      "metadata": {
        "id": "q3tinpXuJU5Y"
      },
      "source": [
        "Check doublets detected by scrublet"
      ]
    },
    {
      "cell_type": "code",
      "metadata": {
        "id": "JvCWlx-IJiw2"
      },
      "source": [
        "scrub = scr.Scrublet(jelly_adata_01.X, expected_doublet_rate=0.06,n_neighbors=0.5*np.sqrt(len(jelly_adata_01.obs_names)))\n"
      ],
      "execution_count": null,
      "outputs": []
    },
    {
      "cell_type": "code",
      "metadata": {
        "colab": {
          "base_uri": "https://localhost:8080/"
        },
        "id": "FxE8Ml3MN67v",
        "outputId": "3eb5ecdd-1967-401f-f8ee-dee25ae071cf"
      },
      "source": [
        "scrub.call_doublets(threshold=0.4)\n",
        "doublet_scores, predicted_doublets = scrub.scrub_doublets(min_counts=5,\n",
        "                                                          min_cells=5,\n",
        "                                                          min_gene_variability_pctl=85,\n",
        "                                                          n_prin_comps=30)"
      ],
      "execution_count": null,
      "outputs": [
        {
          "output_type": "stream",
          "text": [
            "Detected doublet rate = 0.1%\n",
            "Estimated detectable doublet fraction = 0.7%\n",
            "Overall doublet rate:\n",
            "\tExpected   = 6.0%\n",
            "\tEstimated  = 7.5%\n",
            "Preprocessing...\n",
            "Simulating doublets...\n",
            "Embedding transcriptomes using PCA...\n",
            "Calculating doublet scores...\n",
            "Automatically set threshold at doublet score = 0.31\n",
            "Detected doublet rate = 2.1%\n",
            "Estimated detectable doublet fraction = 25.6%\n",
            "Overall doublet rate:\n",
            "\tExpected   = 6.0%\n",
            "\tEstimated  = 8.2%\n",
            "Elapsed time: 265.9 seconds\n"
          ],
          "name": "stdout"
        }
      ]
    },
    {
      "cell_type": "code",
      "metadata": {
        "colab": {
          "base_uri": "https://localhost:8080/",
          "height": 313
        },
        "id": "G46UmqIBOJN5",
        "outputId": "c81476b7-77fd-497f-ec56-9cea6c32a5ff"
      },
      "source": [
        "#scrub.call_doublets(threshold=0.4)\n",
        "scrub.plot_histogram();"
      ],
      "execution_count": null,
      "outputs": [
        {
          "output_type": "stream",
          "text": [
            "Detected doublet rate = 0.1%\n",
            "Estimated detectable doublet fraction = 0.7%\n",
            "Overall doublet rate:\n",
            "\tExpected   = 6.0%\n",
            "\tEstimated  = 7.5%\n"
          ],
          "name": "stdout"
        },
        {
          "output_type": "display_data",
          "data": {
            "image/png": "[encoded data removed]",
            "text/plain": [
              "<Figure size 576x216 with 2 Axes>"
            ]
          },
          "metadata": {
            "tags": [],
            "image/png": {
              "width": 571,
              "height": 208
            },
            "needs_background": "light"
          }
        }
      ]
    },
    {
      "cell_type": "code",
      "metadata": {
        "colab": {
          "base_uri": "https://localhost:8080/",
          "height": 296
        },
        "id": "1cKSGfDwOuKK",
        "outputId": "b1b0fa34-9ef7-4833-87d6-f62388af49b6"
      },
      "source": [
        "\n",
        "scrub.set_embedding('UMAP', scr.get_umap(scrub.manifold_obs_, 10, min_dist=0.3))\n",
        "\n",
        "# # Uncomment to run tSNE - slow\n",
        "# print('Running tSNE...')\n",
        "# scrub.set_embedding('tSNE', scr.get_tsne(scrub.manifold_obs_, angle=0.9))\n",
        "\n",
        "# # Uncomment to run force layout - slow\n",
        "# print('Running ForceAtlas2...')\n",
        "# scrub.set_embedding('FA', scr.get_force_layout(scrub.manifold_obs_, n_neighbors=5. n_iter=1000))\n",
        "\n",
        "\n",
        "scrub.plot_embedding('UMAP', order_points=True);"
      ],
      "execution_count": null,
      "outputs": [
        {
          "output_type": "display_data",
          "data": {
            "image/png": "[encoded data removed]",
            "text/plain": [
              "<Figure size 576x288 with 3 Axes>"
            ]
          },
          "metadata": {
            "tags": [],
            "image/png": {
              "width": 562,
              "height": 280
            },
            "needs_background": "light"
          }
        }
      ]
    },
    {
      "cell_type": "markdown",
      "metadata": {
        "id": "tn4rMmAJ4EMk"
      },
      "source": [
        "Compare 'doublets' with filtered cells (look for overlap)"
      ]
    },
    {
      "cell_type": "code",
      "metadata": {
        "colab": {
          "base_uri": "https://localhost:8080/"
        },
        "id": "ifA8ZKWE4HXl",
        "outputId": "067d004b-2503-47f6-ac18-3ae3ed8349c7"
      },
      "source": [
        "len(cellR[cellR.obs['louvain'] == '10'].obs_names)\n"
      ],
      "execution_count": null,
      "outputs": [
        {
          "output_type": "execute_result",
          "data": {
            "text/plain": [
              "485"
            ]
          },
          "metadata": {
            "tags": []
          },
          "execution_count": 24
        }
      ]
    },
    {
      "cell_type": "code",
      "metadata": {
        "colab": {
          "base_uri": "https://localhost:8080/"
        },
        "id": "uppAWP3o4sbh",
        "outputId": "99e644fa-e39e-43f3-a108-384d0112972d"
      },
      "source": [
        "len(set(cellR[cellR.obs['louvain'] == '10'].obs_names).intersection(jelly_adata_01.obs_names[predicted_doublets]))/len(cellR[cellR.obs['louvain'] == '10'].obs_names)"
      ],
      "execution_count": null,
      "outputs": [
        {
          "output_type": "execute_result",
          "data": {
            "text/plain": [
              "0.0"
            ]
          },
          "metadata": {
            "tags": []
          },
          "execution_count": 23
        }
      ]
    },
    {
      "cell_type": "code",
      "metadata": {
        "colab": {
          "base_uri": "https://localhost:8080/"
        },
        "id": "ywxAYCc97GDG",
        "outputId": "38b155f9-dc80-4301-c21f-0e02af025579"
      },
      "source": [
        "len(set(jelly_adata_01.obs_names[predicted_doublets]).intersection(cellR.obs_names))/len(jelly_adata_01.obs_names[predicted_doublets])"
      ],
      "execution_count": null,
      "outputs": [
        {
          "output_type": "execute_result",
          "data": {
            "text/plain": [
              "0.15132275132275133"
            ]
          },
          "metadata": {
            "tags": []
          },
          "execution_count": 25
        }
      ]
    },
    {
      "cell_type": "markdown",
      "metadata": {
        "id": "d9fH6_1p7Oqw"
      },
      "source": [
        "Repeat for second sample"
      ]
    },
    {
      "cell_type": "code",
      "metadata": {
        "id": "DRpLDCGIpmE0"
      },
      "source": [
        "scrub = scr.Scrublet(jelly_adata_02.X, expected_doublet_rate=0.06,n_neighbors=0.5*np.sqrt(len(jelly_adata_02.obs_names)))\n"
      ],
      "execution_count": null,
      "outputs": []
    },
    {
      "cell_type": "code",
      "metadata": {
        "colab": {
          "base_uri": "https://localhost:8080/"
        },
        "id": "fsEqX_PppmE4",
        "outputId": "25c9f50a-4021-4ce8-98a3-fc45b2793a18"
      },
      "source": [
        "scrub.call_doublets(threshold=0.4)\n",
        "doublet_scores2, predicted_doublets2 = scrub.scrub_doublets(min_counts=5,\n",
        "                                                          min_cells=5,\n",
        "                                                          min_gene_variability_pctl=85,\n",
        "                                                          n_prin_comps=30)"
      ],
      "execution_count": null,
      "outputs": [
        {
          "output_type": "stream",
          "text": [
            "Detected doublet rate = 0.0%\n",
            "Estimated detectable doublet fraction = 0.4%\n",
            "Overall doublet rate:\n",
            "\tExpected   = 6.0%\n",
            "\tEstimated  = 5.2%\n",
            "Preprocessing...\n",
            "Simulating doublets...\n",
            "Embedding transcriptomes using PCA...\n",
            "Calculating doublet scores...\n",
            "Automatically set threshold at doublet score = 0.29\n",
            "Detected doublet rate = 2.4%\n",
            "Estimated detectable doublet fraction = 30.3%\n",
            "Overall doublet rate:\n",
            "\tExpected   = 6.0%\n",
            "\tEstimated  = 7.8%\n",
            "Elapsed time: 210.9 seconds\n"
          ],
          "name": "stdout"
        }
      ]
    },
    {
      "cell_type": "code",
      "metadata": {
        "colab": {
          "base_uri": "https://localhost:8080/",
          "height": 224
        },
        "id": "ooxV5HWI7WqP",
        "outputId": "e8f0d73f-48c0-4909-d1eb-d756f58679a6"
      },
      "source": [
        "#scrub.call_doublets(threshold=0.4)\n",
        "scrub.plot_histogram();"
      ],
      "execution_count": null,
      "outputs": [
        {
          "output_type": "display_data",
          "data": {
            "image/png": "[encoded data removed]",
            "text/plain": [
              "<Figure size 576x216 with 2 Axes>"
            ]
          },
          "metadata": {
            "tags": [],
            "image/png": {
              "width": 571,
              "height": 208
            },
            "needs_background": "light"
          }
        }
      ]
    },
    {
      "cell_type": "code",
      "metadata": {
        "id": "gM8srMlR7Wy-"
      },
      "source": [],
      "execution_count": null,
      "outputs": []
    },
    {
      "cell_type": "markdown",
      "metadata": {
        "id": "tLpmwwB47byZ"
      },
      "source": [
        "Compare 'doublets' with filtered cells (look for overlap)"
      ]
    },
    {
      "cell_type": "code",
      "metadata": {
        "colab": {
          "base_uri": "https://localhost:8080/"
        },
        "id": "t5CBvvdx7byZ",
        "outputId": "1102e49c-3227-4070-eec6-16ead969fee7"
      },
      "source": [
        "len(jelly_adata_02.obs_names[predicted_doublets2])\n"
      ],
      "execution_count": null,
      "outputs": [
        {
          "output_type": "execute_result",
          "data": {
            "text/plain": [
              "1930"
            ]
          },
          "metadata": {
            "tags": []
          },
          "execution_count": 22
        }
      ]
    },
    {
      "cell_type": "code",
      "metadata": {
        "colab": {
          "base_uri": "https://localhost:8080/"
        },
        "id": "ZuO7yOff7bya",
        "outputId": "42f8c172-ec8c-43a9-c03f-23a5eff0f930"
      },
      "source": [
        "len(set(cellR[cellR.obs['louvain'] == '10'].obs_names).intersection(jelly_adata_02.obs_names[predicted_doublets2]))/len(cellR[cellR.obs['louvain'] == '10'].obs_names)"
      ],
      "execution_count": null,
      "outputs": [
        {
          "output_type": "execute_result",
          "data": {
            "text/plain": [
              "0.0"
            ]
          },
          "metadata": {
            "tags": []
          },
          "execution_count": 28
        }
      ]
    },
    {
      "cell_type": "code",
      "metadata": {
        "colab": {
          "base_uri": "https://localhost:8080/"
        },
        "id": "eesIZeBk7bya",
        "outputId": "58fff242-7afd-4f17-9318-75d4ebc23752"
      },
      "source": [
        "len(set(jelly_adata_02.obs_names[predicted_doublets2]).intersection(cellR.obs_names))/len(jelly_adata_02.obs_names[predicted_doublets2])"
      ],
      "execution_count": null,
      "outputs": [
        {
          "output_type": "execute_result",
          "data": {
            "text/plain": [
              "0.17046632124352332"
            ]
          },
          "metadata": {
            "tags": []
          },
          "execution_count": 24
        }
      ]
    },
    {
      "cell_type": "code",
      "metadata": {
        "id": "TPHz_m5p7W4O"
      },
      "source": [],
      "execution_count": null,
      "outputs": []
    },
    {
      "cell_type": "markdown",
      "metadata": {
        "id": "4sdB2YkqRy2x"
      },
      "source": [
        "Filter cell barcodes by previous selection done with ClickTag counts"
      ]
    },
    {
      "cell_type": "code",
      "metadata": {
        "id": "l_AZ_wvlXzTk",
        "colab": {
          "base_uri": "https://localhost:8080/"
        },
        "outputId": "af4753c0-ac7e-4501-f96b-a0632ea776fa"
      },
      "source": [
        "# # Filter barcodes by 'real' cells\n",
        "# cellR = anndata.read('D1.1798')\n",
        "# cells = list(cellR.obs_names)\n",
        "\n",
        "# jelly_adata = jelly_adata[cells,:]\n",
        "# jelly_adata"
      ],
      "execution_count": null,
      "outputs": [
        {
          "output_type": "execute_result",
          "data": {
            "text/plain": [
              "View of AnnData object with n_obs × n_vars = 13673 × 46716\n",
              "    obs: 'batch'"
            ]
          },
          "metadata": {
            "tags": []
          },
          "execution_count": 21
        }
      ]
    },
    {
      "cell_type": "code",
      "metadata": {
        "id": "fM3_ngiYT5dj"
      },
      "source": [
        "# jelly_adata.write('fedStarved_raw.h5ad')"
      ],
      "execution_count": null,
      "outputs": []
    },
    {
      "cell_type": "markdown",
      "metadata": {
        "id": "oHARSeqvYgc_"
      },
      "source": [
        "### **Run kallisto bus on data with Stimulation cDNA data**\n",
        "\n",
        "\n"
      ]
    },
    {
      "cell_type": "markdown",
      "metadata": {
        "id": "1RoMlXMoYgdG"
      },
      "source": [
        "Run kallisto for one set of samples"
      ]
    },
    {
      "cell_type": "code",
      "metadata": {
        "id": "OrsvTe4kYgdH"
      },
      "source": [
        "#Create BUS files from fastq's, can't do separate lines\n",
        "!mkfifo R1_stim.gz R2_stim.gz R1_02_stim.gz R2_02_stim.gz ; curl -Ls $stim1 > R1_stim.gz & curl -Ls $stim2 > R2_stim.gz & curl -Ls $stim3 > R1_02_stim.gz & curl -Ls $stim4 > R2_02_stim.gz & kallisto bus -i clytia_trin.idx -o bus_output/ -x 10xv3 -t 2 R1_stim.gz R2_stim.gz R1_02_stim.gz R2_02_stim.gz\n",
        "\n"
      ],
      "execution_count": null,
      "outputs": []
    },
    {
      "cell_type": "code",
      "metadata": {
        "id": "J_WVkvNTYgdM"
      },
      "source": [
        "#Generate gene-count matrices\n",
        "!wget --quiet https://github.com/bustools/getting_started/releases/download/getting_started/10xv3_whitelist.txt\n"
      ],
      "execution_count": null,
      "outputs": []
    },
    {
      "cell_type": "code",
      "metadata": {
        "id": "0uXrKm7WYgdQ"
      },
      "source": [
        "#!cd bus_output/\n",
        "!mkdir bus_output/genecount/ bus_output/tmp/\n",
        "\n",
        "!bustools correct -w 10xv3_whitelist.txt -p bus_output/output.bus | bustools sort -T bus_output/tmptmp/ -t 2 -p - | bustools count -o bus_output/genecount/genes -g t2g_trin.txt -e bus_output/matrix.ec -t bus_output/transcripts.txt --genecounts -"
      ],
      "execution_count": null,
      "outputs": []
    },
    {
      "cell_type": "code",
      "metadata": {
        "id": "WUoz_i50YgdS"
      },
      "source": [
        "!ls test"
      ],
      "execution_count": null,
      "outputs": []
    },
    {
      "cell_type": "markdown",
      "metadata": {
        "id": "wsGhFlcqYgdV"
      },
      "source": [
        "Run kallisto for other sample set"
      ]
    },
    {
      "cell_type": "code",
      "metadata": {
        "id": "N-FhmQXbYgdW"
      },
      "source": [
        "#Create BUS files from fastq's\n",
        "\n",
        "!mkfifo R1_stim2.gz R2_stim2.gz R1_02_stim2.gz R2_02_stim2.gz ; curl -Ls $stim5 > R1_stim2.gz & curl -Ls $stim6 > R2_stim2.gz & curl -Ls $stim7 > R1_02_stim2.gz & curl -Ls $stim8 > R2_02_stim2.gz & kallisto bus -i clytia_trin.idx -o bus_output_02/ -x 10xv3 -t 2 R1_stim2.gz R2_stim2.gz R1_02_stim2.gz R2_02_stim2.gz\n"
      ],
      "execution_count": null,
      "outputs": []
    },
    {
      "cell_type": "code",
      "metadata": {
        "id": "Xed7_x4iYgdZ"
      },
      "source": [
        "#Generate gene-count matrices\n",
        "!cd bus_output_02/\n",
        "!mkdir bus_output_02/genecount/ bus_output_02/tmp/\n",
        "\n",
        "!bustools correct -w 10xv3_whitelist.txt -p bus_output_02/output.bus | bustools sort -T bus_output_02/tmp/ -t 2 -p -  | bustools count -o bus_output_02/genecount/genes -g t2g_trin.txt -e bus_output_02/matrix.ec -t bus_output_02/transcripts.txt --genecounts -"
      ],
      "execution_count": null,
      "outputs": []
    },
    {
      "cell_type": "markdown",
      "metadata": {
        "id": "bNhHT8eiYgdj"
      },
      "source": [
        "Merge matrices (Add -1 to first and -2 to second dataset)"
      ]
    },
    {
      "cell_type": "code",
      "metadata": {
        "id": "8ErKJ3chYgdk"
      },
      "source": [
        "path = \"bus_output/genecount/\"\n",
        "jelly_adata_01 = sc.read(path+'genes.mtx', cache=True)\n",
        "jelly_adata_01.var_names = pd.read_csv(path+'genes.genes.txt', header=None)[0]\n",
        "jelly_adata_01.obs_names = pd.read_csv(path+'genes.barcodes.txt', header=None)[0]\n",
        "\n",
        "jelly_adata_01.obs_names = [i+\"-1\" for i in jelly_adata_01.obs_names]"
      ],
      "execution_count": null,
      "outputs": []
    },
    {
      "cell_type": "code",
      "metadata": {
        "id": "6K88YwSzYgdn"
      },
      "source": [
        "path = \"bus_output_02/genecount/\"\n",
        "jelly_adata_02 = sc.read(path+'genes.mtx', cache=True)\n",
        "jelly_adata_02.var_names = pd.read_csv(path+'genes.genes.txt', header=None)[0]\n",
        "jelly_adata_02.obs_names = pd.read_csv(path+'genes.barcodes.txt', header=None)[0]\n",
        "\n",
        "jelly_adata_02.obs_names = [i+\"-2\" for i in jelly_adata_02.obs_names]"
      ],
      "execution_count": null,
      "outputs": []
    },
    {
      "cell_type": "code",
      "metadata": {
        "id": "cs1nTQ_4Ygdp"
      },
      "source": [
        "jelly_adata = jelly_adata_01.concatenate(jelly_adata_02,join='outer', index_unique=None)"
      ],
      "execution_count": null,
      "outputs": []
    },
    {
      "cell_type": "markdown",
      "metadata": {
        "id": "nDkEEWmERt3z"
      },
      "source": [
        "Filter cell barcodes by previous filtering done with ClickTag counts"
      ]
    },
    {
      "cell_type": "code",
      "metadata": {
        "id": "ERKOTY96Ygdu"
      },
      "source": [
        "# Filter barcodes by 'real' cells\n",
        "!mv D1.1817 jelly4stim_individs_tagCells_50k.mat\n",
        "barcodes_list = sio.loadmat('jelly4stim_individs_tagCells_50k.mat')\n",
        "barcodes_list.pop('__header__', None)\n",
        "barcodes_list.pop('__version__', None)\n",
        "barcodes_list.pop('__globals__', None)\n",
        "\n",
        "# Add all cell barcodes for each individual\n",
        "barcodes = []\n",
        "for b in barcodes_list:\n",
        "    if barcodes_list[b] != \"None\":\n",
        "        barcodes.append(b)\n",
        "\n",
        "print(len(barcodes))\n",
        "\n",
        "barcodes = [s.replace('-1', '-3') for s in barcodes]\n",
        "barcodes = [s.replace('-2', '-1') for s in barcodes]\n",
        "barcodes = [s.replace('-3', '-2') for s in barcodes]\n"
      ],
      "execution_count": null,
      "outputs": []
    },
    {
      "cell_type": "code",
      "metadata": {
        "id": "j9O5Ep-FZdj3"
      },
      "source": [
        "jelly_adata = jelly_adata[barcodes,:]"
      ],
      "execution_count": null,
      "outputs": []
    },
    {
      "cell_type": "code",
      "metadata": {
        "id": "3YGU50_pYgdw"
      },
      "source": [
        "jelly_adata.write('stimulation_raw.h5ad')"
      ],
      "execution_count": null,
      "outputs": []
    },
    {
      "cell_type": "code",
      "metadata": {
        "id": "LUQ8ypqpYgd0"
      },
      "source": [],
      "execution_count": null,
      "outputs": []
    }
  ]
}