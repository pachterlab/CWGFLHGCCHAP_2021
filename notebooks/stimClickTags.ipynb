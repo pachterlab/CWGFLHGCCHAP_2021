{
  "nbformat": 4,
  "nbformat_minor": 0,
  "metadata": {
    "colab": {
      "name": "stimClickTags.ipynb",
      "provenance": [],
      "collapsed_sections": [],
      "authorship_tag": "ABX9TyODtHsLjBLor5CtE6hc4dHO",
      "include_colab_link": true
    },
    "kernelspec": {
      "name": "python3",
      "display_name": "Python 3"
    }
  },
  "cells": [
    {
      "cell_type": "markdown",
      "metadata": {
        "id": "view-in-github",
        "colab_type": "text"
      },
      "source": [
        "<a href=\"https://colab.research.google.com/github/pachterlab/Clytia_single_cell_2020/blob/master/notebooks/stimClickTags.ipynb\" target=\"_parent\"><img src=\"https://colab.research.google.com/assets/colab-badge.svg\" alt=\"Open In Colab\"/></a>"
      ]
    },
    {
      "cell_type": "code",
      "metadata": {
        "id": "eKQsiRv-jznh",
        "outputId": "d748c97f-f5b3-48ae-a0e3-1a93eef59505",
        "colab": {
          "base_uri": "https://localhost:8080/"
        }
      },
      "source": [
        "#/home/sina/drive/jasefiles20190919/scRNAseq/clytia/20190405/all_tag_fastqs\n",
        "\n",
        "#Install kallisto and bustools\n",
        "\n",
        "!wget --quiet https://github.com/pachterlab/kallisto/releases/download/v0.46.2/kallisto_linux-v0.46.2.tar.gz\n",
        "!tar -xf kallisto_linux-v0.46.0.tar.gz\n",
        "!cp kallisto/kallisto /usr/local/bin/\n",
        "\n",
        "!wget --quiet https://github.com/BUStools/bustools/releases/download/v0.40.0/bustools_linux-v0.40.0.tar.gz\n",
        "!tar -xf bustools_linux-v0.40.0.tar.gz\n",
        "!cp bustools/bustools /usr/local/bin/"
      ],
      "execution_count": 1,
      "outputs": [
        {
          "output_type": "stream",
          "text": [
            "tar: kallisto_linux-v0.46.0.tar.gz: Cannot open: No such file or directory\n",
            "tar: Error is not recoverable: exiting now\n",
            "cp: cannot stat 'kallisto/kallisto': No such file or directory\n"
          ],
          "name": "stdout"
        }
      ]
    },
    {
      "cell_type": "code",
      "metadata": {
        "id": "Frej9kuboV8N"
      },
      "source": [
        "#Get HiSeq/MiSeq sequencing\n",
        "\n",
        "#L1 R1\n",
        "!wget --quiet \n",
        "\n",
        "#L1 R2\n",
        "!wget --quiet \n",
        "\n",
        "\n",
        "#L2 R1\n",
        "!wget --quiet \n",
        "\n",
        "#L2 R2\n",
        "!wget --quiet "
      ],
      "execution_count": null,
      "outputs": []
    },
    {
      "cell_type": "code",
      "metadata": {
        "id": "w6CEFzQ_pfFv"
      },
      "source": [
        "## set parameters - below are parameters for 10x 3' v2 chemistry\n",
        "## the cell hashing method uses tags of length 12, we included the variable B (T,C,G) in the end to make it lenght 13\n",
        "cell_barcode_length = 16\n",
        "UMI_length = 12\n",
        "sample_tag_length=11\n",
        "\n",
        "\"\"\"\n",
        "This function returns all sample tags and and their single base mismatches (hamming distance 1).\n",
        "ClickTag sequences are provided as a fasta file, and the script indexes the barcode region of the fasta\n",
        "\"\"\"\n",
        "\n",
        "\"parse the tags file and output the set of tag sequences\"\n",
        "\n",
        "def parse_tags(filename):\n",
        "    odict = OrderedDict()\n",
        "    print('Read the following tags:')\n",
        "    for record in SeqIO.parse(filename, \"fasta\"):\n",
        "        counter=0\n",
        "        print(record.seq)\n",
        "        odict[record.name] = str(record.seq)[26:26+sample_tag_length]\n",
        "        for pos in range(sample_tag_length):\n",
        "            letter =str(record.seq)[26+pos]\n",
        "            barcode=list(str(record.seq)[26:26+sample_tag_length])\n",
        "            if letter=='A':\n",
        "                barcode[pos]='T'\n",
        "                odict[record.name+'-'+str(pos)+'-1'] = \"\".join(barcode)\n",
        "                barcode[pos]='G'\n",
        "                odict[record.name+'-'+str(pos)+'-2'] = \"\".join(barcode)\n",
        "                barcode[pos]='C'\n",
        "                odict[record.name+'-'+str(pos)+'-3'] = \"\".join(barcode)\n",
        "            elif letter=='G':\n",
        "                barcode[pos]='T'\n",
        "                odict[record.name+'-'+str(pos)+'-1'] = \"\".join(barcode)\n",
        "                barcode[pos]='A'\n",
        "                odict[record.name+'-'+str(pos)+'-2'] = \"\".join(barcode)\n",
        "                barcode[pos]='C'\n",
        "                odict[record.name+'-'+str(pos)+'-3'] = \"\".join(barcode)\n",
        "            elif letter=='C':\n",
        "                barcode[pos]='T'\n",
        "                odict[record.name+'-'+str(pos)+'-1'] = \"\".join(barcode)\n",
        "                barcode[pos]='G'\n",
        "                odict[record.name+'-'+str(pos)+'-2'] = \"\".join(barcode)\n",
        "                barcode[pos]='A'\n",
        "                odict[record.name+'-'+str(pos)+'-3'] = \"\".join(barcode)\n",
        "            else:\n",
        "                barcode[pos]='A'\n",
        "                odict[record.name+'-'+str(pos)+'-1'] = \"\".join(barcode)\n",
        "                barcode[pos]='G'\n",
        "                odict[record.name+'-'+str(pos)+'-2'] = \"\".join(barcode)\n",
        "                barcode[pos]='C'\n",
        "                odict[record.name+'-'+str(pos)+'-3'] = \"\".join(barcode)\n",
        "                \n",
        "    return odict\n",
        "\n"
      ],
      "execution_count": 2,
      "outputs": []
    },
    {
      "cell_type": "code",
      "metadata": {
        "id": "7ogy3YWypfQS"
      },
      "source": [
        "tags_file_path = (\"/home/jgehring/scRNAseq/reference_data/5primebarcodesBC21-40/70BPbarcodes.fa\") #DOWNLOAD\n",
        "tag_map=parse_tags(tags_file_path)\n",
        "\n",
        "\n",
        "work_folder = ''\n",
        "data_folder = ''#/home/jgehring/scRNAseq/clytia/20190405/all_tag_fastqs//\n",
        "write_folder = ''\n",
        "\n",
        "#Write the list of barcodes as a fasta, then make a kallisto index\n",
        "!mkdir barcode_corrected_tags\n",
        "tagmap_file_path = \"barcode_corrected_tags/70BPbarcodes_tagmap.fa\"\n",
        "\n",
        "tagmap_file = open(tagmap_file_path, \"w+\")\n",
        "for i in list(tag_map.keys()):\n",
        "    tagmap_file.write(\">\" + i + \"\\n\" +tag_map[i] + \"\\n\")\n",
        "tagmap_file.close()\n",
        "\n",
        "!kallisto index -i {tagmap_file_path}.idx -k 11 {tagmap_file_path}\n",
        "\n",
        "!kallisto inspect {tagmap_file_path}.idx\n",
        "!mkdir jelly4stim_1_tags_HiSeq\n",
        "\n",
        "write_folder = './jelly4stim_1_tags_HiSeq'\n",
        "!kallisto bus -i {tagmap_file_path}.idx -o {write_folder} -x 10xv2 -t 20 \\\n",
        "{os.path.join(data_folder,'jelly4stim1MiSeqHiSeq_tags_R1.fastq')} \\ #Name\n",
        "{os.path.join(data_folder,'jelly4stim1MiSeqHiSeq_tags_R2.fastq')} \\ #Name\n",
        "\n",
        "#sort bus file\n",
        "!bustools sort -o {os.path.join(write_folder,'output_sorted.bus')} {os.path.join(write_folder,'output.bus')}\n",
        "\n",
        "\n",
        "# convert the sorted busfile to txt\n",
        "!bustools text -o {os.path.join(write_folder,'output_sorted.txt')} {os.path.join(write_folder,'output_sorted.bus')}\n",
        "\n",
        "!mkdir jelly4stim_2_tags_HiSeq\n",
        "write_folder = './jelly4stim_2_tags_HiSeq'\n",
        "!kallisto bus -i {tagmap_file_path}.idx -o {write_folder} -x 10xv2 -t 20 \\\n",
        "{os.path.join(data_folder,'jelly4stim2MiSeqHiSeq_tags_R1.fastq')} \\\n",
        "{os.path.join(data_folder,'jelly4stim2MiSeqHiSeq_tags_R2.fastq')} \\\n",
        "\n",
        "#sort bus file\n",
        "!bustools sort -o {os.path.join(write_folder,'output_sorted.bus')} {os.path.join(write_folder,'output.bus')}\n",
        "\n",
        "# convert the sorted busfile to txt\n",
        "!bustools text -o {os.path.join(write_folder,'output_sorted.txt')} {os.path.join(write_folder,'output_sorted.bus')}\n",
        "\n",
        "\n"
      ],
      "execution_count": null,
      "outputs": []
    },
    {
      "cell_type": "code",
      "metadata": {
        "id": "8SrKS9YAwZZp",
        "outputId": "af04cd8d-764e-4dfe-fd55-f36a5ce40891",
        "colab": {
          "base_uri": "https://localhost:8080/"
        }
      },
      "source": [
        "!pip install --quiet anndata\n",
        "!pip install --quiet scanpy\n",
        "!pip3 install --quiet leidenalg\n",
        "!pip install --quiet louvain\n",
        "!pip3 install biopython"
      ],
      "execution_count": 6,
      "outputs": [
        {
          "output_type": "stream",
          "text": [
            "Collecting biopython\n",
            "\u001b[?25l  Downloading https://files.pythonhosted.org/packages/76/02/8b606c4aa92ff61b5eda71d23b499ab1de57d5e818be33f77b01a6f435a8/biopython-1.78-cp36-cp36m-manylinux1_x86_64.whl (2.3MB)\n",
            "\u001b[K     |████████████████████████████████| 2.3MB 9.7MB/s \n",
            "\u001b[?25hRequirement already satisfied: numpy in /usr/local/lib/python3.6/dist-packages (from biopython) (1.18.5)\n",
            "Installing collected packages: biopython\n",
            "Successfully installed biopython-1.78\n"
          ],
          "name": "stdout"
        }
      ]
    },
    {
      "cell_type": "code",
      "metadata": {
        "id": "EgmIstaUq6Nb"
      },
      "source": [
        "import pandas as pd\n",
        "import copy\n",
        "from sklearn.preprocessing import LabelEncoder\n",
        "from scipy import sparse\n",
        "import scipy\n",
        "import numpy as np\n",
        "import anndata\n",
        "import matplotlib.pyplot as plt\n",
        "import seaborn as sns\n",
        "import scanpy as sc\n",
        "\n",
        "from collections import OrderedDict\n",
        "from Bio import SeqIO\n",
        "import os\n",
        "from scipy import io\n",
        "import scipy.io as sio\n",
        "import time\n",
        "\n",
        "\n",
        "%matplotlib inline\n",
        "%config InlineBackend.figure_format = 'retina'\n",
        "\n"
      ],
      "execution_count": 7,
      "outputs": []
    },
    {
      "cell_type": "code",
      "metadata": {
        "id": "3Lqot-AKq95m"
      },
      "source": [
        "write_folder = '' #/home/jgehring/scRNAseq/clytia/20190405/\n",
        "\n",
        "bus_data_jelly1 = pd.read_csv(os.path.join(write_folder,'jelly4stim_1_tags_HiSeq/output_sorted.txt'), delimiter='\\t', header=None, names = ['barcode', 'umi', 'tag_eqclass', 'multiplicity'])\n",
        "bus_data_jelly1.head()\n",
        "\n",
        "bus_data_jelly1\n",
        "\n",
        "bus_data_jelly2 = pd.read_csv(os.path.join(write_folder,'jelly4stim_2_tags_HiSeq/output_sorted.txt'), delimiter='\\t', header=None, names = ['barcode', 'umi', 'tag_eqclass', 'multiplicity'])\n",
        "bus_data_jelly2.head()\n",
        "\n",
        "tag_map_df = pd.DataFrame.from_dict(tag_map, orient = 'index').reset_index()\n",
        "tag_map_df.columns=['tagname','tagseq']\n",
        "tag_map_df['ClickTag'] = tag_map_df['tagname'].str.split('-').str.get(0)\n",
        "tag_map_df.head()\n",
        "\n",
        "bus_data_jelly1['tag']= bus_data_jelly1['tag_eqclass'].map(tag_map_df['ClickTag'])\n",
        "bus_data_jelly1.head()\n",
        "\n",
        "bus_data_jelly2['tag']= bus_data_jelly2['tag_eqclass'].map(tag_map_df['ClickTag'])\n",
        "bus_data_jelly2.head()\n",
        "\n",
        "\n",
        "\n",
        "print('Counting UMIs')\n",
        "counted_data_jelly1 = bus_data_jelly1.groupby(['barcode', 'tag'])['umi'].count().reset_index()\n",
        "counted_data_jelly1.rename(columns={'umi':'umi_counts'}, inplace = True)\n",
        "counted_data_jelly1.head()\n",
        "\n",
        "print('Counting UMIs')\n",
        "counted_data_jelly2 = bus_data_jelly2.groupby(['barcode', 'tag'])['umi'].count().reset_index()\n",
        "counted_data_jelly2.rename(columns={'umi':'umi_counts'}, inplace = True)\n",
        "counted_data_jelly2.head()\n",
        "\n"
      ],
      "execution_count": null,
      "outputs": []
    },
    {
      "cell_type": "code",
      "metadata": {
        "id": "yG8mn2mrrT7T"
      },
      "source": [
        "data_dict={'counted_data_jelly1':counted_data_jelly1, 'counted_data_jelly2':counted_data_jelly2}\n",
        "counted_data_jelly1['barcode']=[x+'-1' for x in counted_data_jelly1['barcode'].values]\n",
        "counted_data_jelly2['barcode']=[x+'-2' for x in counted_data_jelly2['barcode'].values]\n",
        "\n",
        "\n",
        "for counted_data in data_dict:\n",
        "\n",
        "    le_barcode = LabelEncoder()\n",
        "    barcode_idx =le_barcode.fit_transform(data_dict[counted_data]['barcode'].values)\n",
        "    print('Barcode index shape:', barcode_idx.shape)\n",
        "\n",
        "    le_umi = LabelEncoder()\n",
        "    umi_idx = le_umi.fit_transform(data_dict[counted_data]['umi_counts'].values)\n",
        "    print('UMI index shape:', umi_idx.shape)\n",
        "\n",
        "    le_tag = LabelEncoder()\n",
        "    tag_idx = le_tag.fit_transform(data_dict[counted_data]['tag'].values)\n",
        "    print('Tag index shape:', tag_idx.shape)\n",
        "    \n",
        "    # convert data to csr matrix\n",
        "    csr_matrix_data = scipy.sparse.csr_matrix((data_dict[counted_data]['umi_counts'].values,(barcode_idx,tag_idx)))\n",
        "    \n",
        "    scipy.io.mmwrite(os.path.join(write_folder,'counted_tag_data/' + counted_data + '.mtx'),csr_matrix_data)\n",
        "    print('Saved sparse csr matrix')\n",
        "    \n",
        "    pd.DataFrame(le_tag.classes_).to_csv(os.path.join(write_folder,'counted_tag_data/' + counted_data + '_ClickTag_tag_labels.csv'), index = False, header = False)\n",
        "    pd.DataFrame(le_barcode.classes_).to_csv(os.path.join(write_folder,'counted_tag_data/' + counted_data + '_ClickTag_barcode_labels.csv'), index = False, header = False)\n",
        "    print('Saved cell barcode and hashtag labels')\n",
        "    print('Number of unique cell barcodes seen:', len(le_barcode.classes_))\n",
        "\n"
      ],
      "execution_count": null,
      "outputs": []
    },
    {
      "cell_type": "code",
      "metadata": {
        "id": "I-C0GZXfrj9K"
      },
      "source": [
        "# Clicktag for both 10x lanes concatenated\n",
        "\n",
        "ClickTagCountsmat=scipy.io.mmread(os.path.join(write_folder,'counted_tag_data/counted_data_jelly1.mtx'))\n",
        "ClickTagCounts=pd.DataFrame(ClickTagCountsmat.toarray(), \n",
        "                            index=list(pd.read_csv(os.path.join(write_folder,'counted_tag_data/counted_data_jelly1_ClickTag_barcode_labels.csv'), header=None).loc[:,0]),\n",
        "                            columns=list(pd.read_csv(os.path.join(write_folder,'counted_tag_data/' + counted_data + '_ClickTag_tag_labels.csv'), header=None).loc[:,0]))\n",
        "\n",
        "ClickTagCountsmat=scipy.io.mmread(os.path.join(write_folder,'counted_tag_data/counted_data_jelly2.mtx'))\n",
        "ClickTagCounts=ClickTagCounts.append(pd.DataFrame(ClickTagCountsmat.toarray(), \n",
        "                            index=list(pd.read_csv(os.path.join(write_folder,'counted_tag_data/counted_data_jelly2_ClickTag_barcode_labels.csv'), header=None).loc[:,0]),\n",
        "                            columns=list(pd.read_csv(os.path.join(write_folder,'counted_tag_data/' + counted_data + '_ClickTag_tag_labels.csv'), header=None).loc[:,0])))\n",
        "\n",
        "\n",
        "ClickTagCounts\n",
        "\n"
      ],
      "execution_count": null,
      "outputs": []
    },
    {
      "cell_type": "code",
      "metadata": {
        "id": "AC2Y7IxHr-hE"
      },
      "source": [
        "ClickTag_counts_sorted = copy.deepcopy(ClickTagCounts.T.sum())\n",
        "ClickTag_counts_sorted = ClickTag_counts_sorted.sort_values(ascending=False)\n",
        "plt.plot(np.log10(range(len(ClickTag_counts_sorted))), ClickTag_counts_sorted.apply(np.log10))\n",
        "plt.axvline(x=np.log10(50000))\n",
        "plt.show()\n",
        "\n",
        "ClickTag_counts_filtered=ClickTagCounts.loc[list(ClickTag_counts_sorted[:50000].index)]\n",
        "ClickTag_counts_filtered=ClickTag_counts_filtered.iloc[:,4:]\n",
        "filtered_ClickTag_counts=ClickTag_counts_filtered.T\n",
        "filtered_ClickTag_counts\n",
        "\n",
        "\n",
        "\n",
        "hits = 0\n",
        "counter = 1\n",
        "for barcode in filtered_ClickTag_counts.index:\n",
        "    for i in filtered_ClickTag_counts:    \n",
        "        if filtered_ClickTag_counts[i].idxmax() == barcode:\n",
        "            if hits ==0:\n",
        "                sortedheatmap_dtf=pd.DataFrame({counter:filtered_ClickTag_counts[i]})\n",
        "                hits+=1\n",
        "                counter+=1\n",
        "            else:\n",
        "               sortedheatmap_dtf = sortedheatmap_dtf.assign(i = filtered_ClickTag_counts[i])\n",
        "               sortedheatmap_dtf.rename(columns = {'i':counter}, inplace = True)\n",
        "               counter+=1\n",
        "\n",
        "filtered_ClickTag_counts=copy.deepcopy(sortedheatmap_dtf)\n",
        "\n",
        "percentClickTags_counts = copy.deepcopy(filtered_ClickTag_counts)\n",
        "for i in filtered_ClickTag_counts:\n",
        "        percentClickTags_counts[i] = filtered_ClickTag_counts[i]/filtered_ClickTag_counts[i].sum()\n",
        "        \n",
        "\n",
        "\n"
      ],
      "execution_count": null,
      "outputs": []
    },
    {
      "cell_type": "code",
      "metadata": {
        "id": "xxTpbhw4sDjb"
      },
      "source": [
        "fig, ax = plt.subplots(figsize=(10,10))  \n",
        "sns.heatmap(np.log1p(filtered_ClickTag_counts), cmap='viridis')\n",
        "plt.show()\n",
        "\n",
        "fig, ax = plt.subplots(figsize=(10,10))  \n",
        "sns.heatmap(percentClickTags_counts, cmap='viridis')\n",
        "plt.show()\n",
        "\n",
        "filtered_ClickTag_counts\n",
        "\n",
        "adata = sc.AnnData(ClickTag_counts_filtered)\n",
        "adata.var_names= list(ClickTag_counts_filtered.columns)\n",
        "adata.obs_names= list(ClickTag_counts_filtered[:50000].index)\n",
        "#pd.read_csv(os.path.join(write_folder,'counted_tag_data/counted_data_jelly2_ClickTag_barcode_labels.csv'), header=None, sep=',')[:15000][0].tolist()\n",
        "\n"
      ],
      "execution_count": null,
      "outputs": []
    },
    {
      "cell_type": "code",
      "metadata": {
        "id": "bBI5PZ4YuZzY"
      },
      "source": [
        "adata\n",
        "\n",
        "sc.pp.filter_genes(adata, min_counts=0)\n",
        "sc.pp.normalize_per_cell(adata, counts_per_cell_after=10000)\n",
        "adata.obs['n_countslog']=np.log(adata.obs['n_counts'])\n",
        "sc.pp.log1p(adata)\n",
        "sc.pp.regress_out(adata, ['n_counts'])\n",
        "sc.tl.tsne(adata, perplexity=30, use_rep=None)\n",
        "\n",
        "\n",
        "\n",
        "\n",
        "sc.pp.neighbors(adata)\n",
        "\n",
        "sc.tl.umap(adata)\n",
        "\n",
        "sc.tl.louvain(adata, resolution=2)\n",
        "\n",
        "sc.pl.tsne(adata, color='n_countslog')\n",
        "\n",
        "sc.set_figure_params(dpi=120)\n",
        "sc.pl.tsne(adata,color=['louvain'])\n",
        "\n",
        "\n",
        "# keeps=adata[adata.obs['louvain'].isin(['2','3','6','15','17','18','20','21','22','24','25', '33'])]\n",
        "# sc.pl.tsne(keeps,color='louvain')\n",
        "\n",
        "# keeps\n",
        "\n",
        "# for i in ['2','3','6','15','17','18','20','21','22','24','25', '33']:\n",
        "#     sc.pl.violin(keeps[keeps.obs['louvain'].isin([str(i)])], keys=keeps.var_names)\n",
        "\n",
        "# sc.pl.tsne(adata, color=adata.var_names)\n",
        "\n",
        "# for i in range(20):\n",
        "#     sc.pl.violin(adata[adata.obs['louvain'].isin([str(i)])], keys=adata.var_names)\n",
        "\n",
        "# sc.pl.tsne(adata, color=['louvain'],palette='rainbow',legend_loc='on data')\n",
        "\n",
        "# keeps.obs_names\n"
      ],
      "execution_count": null,
      "outputs": []
    },
    {
      "cell_type": "code",
      "metadata": {
        "id": "fhMB7WU8vCPk"
      },
      "source": [
        "sc.pl.umap(adata, color='louvain')\n",
        "sc.pl.umap(adata, color='n_countslog')\n",
        "sc.pl.umap(adata, color=adata.var_names)"
      ],
      "execution_count": null,
      "outputs": []
    },
    {
      "cell_type": "code",
      "metadata": {
        "id": "xIU63YpPvF7q"
      },
      "source": [
        "sc.tl.louvain(adata, resolution=0.15)\n",
        "sc.pl.umap(adata, color='louvain')"
      ],
      "execution_count": null,
      "outputs": []
    },
    {
      "cell_type": "code",
      "metadata": {
        "id": "Q6wkjDv9vRlk"
      },
      "source": [
        "sub1=adata[adata.obs['louvain'].isin(['0'])]\n",
        "sub2=adata[adata.obs['louvain'].isin(['1','6','9'])]\n",
        "sub3=adata[adata.obs['louvain'].isin(['3'])]\n",
        "sub4=adata[adata.obs['louvain'].isin(['4'])]\n",
        "sub5=adata[adata.obs['louvain'].isin(['5'])]\n",
        "sub6=adata[adata.obs['louvain'].isin(['7'])]\n",
        "sub7=adata[adata.obs['louvain'].isin(['8'])]\n",
        "sub8=adata[adata.obs['louvain'].isin(['10'])]\n",
        "sub9=adata[adata.obs['louvain'].isin(['11'])]"
      ],
      "execution_count": null,
      "outputs": []
    },
    {
      "cell_type": "code",
      "metadata": {
        "id": "L2RrNDLpvShR"
      },
      "source": [
        "sc.tl.louvain(sub1, resolution=0.5)\n",
        "sc.tl.umap(sub1)\n",
        "sc.pl.umap(sub1, color='louvain')"
      ],
      "execution_count": null,
      "outputs": []
    },
    {
      "cell_type": "code",
      "metadata": {
        "id": "em80Rxq3yuXP"
      },
      "source": [
        "sc.tl.louvain(sub1, resolution=0.5)\n",
        "sc.tl.umap(sub1)\n",
        "sc.pl.umap(sub1, color='louvain')\n",
        "\n",
        "sub1dict={}\n",
        "sc.pl.umap(sub1, color=sub1.var_names)\n",
        "\n",
        "sub1keeps = sub1[~sub1.obs['louvain'].isin(['3'])]\n",
        "sc.pl.umap(sub1keeps, color='louvain')\n",
        "\n",
        "sub1keeps_orgIDdict={'0':'8', '1':'5', '2':'6','4':'3', '5':'4', '6':'7', '7':'1', '8':'2', '9':'9', '10':'10', '11':'11','12':'12','louvain':'org'}\n",
        "sub1keeps.obs['orgID']=[sub1keeps_orgIDdict.get(x) for x in list(sub1keeps.obs['louvain'])]\n",
        "\n",
        "sc.pl.umap(sub1keeps, color=['orgID'])\n",
        "sc.pl.umap(sub1keeps, color=sub1.var_names)\n",
        "\n"
      ],
      "execution_count": null,
      "outputs": []
    },
    {
      "cell_type": "code",
      "metadata": {
        "id": "Ntd2cTWoz7Rs"
      },
      "source": [
        "sc.tl.louvain(sub2, resolution=0.5)\n",
        "sc.tl.umap(sub2)\n",
        "sc.pl.umap(sub2, color=['louvain', 'n_countslog'])\n",
        "\n",
        "# Skip to sub 3\n",
        "sc.tl.louvain(sub3, resolution=0.5)\n",
        "sc.tl.umap(sub3)\n",
        "sc.pl.umap(sub3, color='louvain')\n",
        "\n",
        "sc.pl.umap(sub3, color=sub1.var_names)\n",
        "\n",
        "\n",
        "sub3_orgIDdict={'0':'5', '1':'8', '2':'6', '3':'11', '4':'3', '5':'7', '6':'1', '7':'9', '8':'4', '9':'10', '10':'12', 'louvain':'org'}\n",
        "sub3.obs['orgID']=[sub3_orgIDdict.get(x) for x in list(sub3.obs['louvain'])]\n",
        "\n",
        "\n",
        "sc.pl.umap(sub3, color=['orgID'])\n",
        "sc.pl.umap(sub3, color=sub1.var_names)\n",
        "\n",
        "sub3\n",
        "\n",
        "\n"
      ],
      "execution_count": null,
      "outputs": []
    },
    {
      "cell_type": "code",
      "metadata": {
        "id": "XqIIEel40GCn"
      },
      "source": [
        "sc.tl.louvain(sub4, resolution=0.5)\n",
        "sc.tl.umap(sub4)\n",
        "sc.pl.umap(sub4, color='louvain')\n",
        "\n",
        "sc.pl.umap(sub4, color=sub1.var_names)\n",
        "\n",
        "sub4\n",
        "\n",
        "sub4_orgIDdict={'0':'8', '1':'5', '2':'6', '3':'3', '4':'12', '5':'7', '6':'4', '7':'2', '8':'11', '9':'10', '10':'1', 'louvain':'org'}\n",
        "sub4.obs['orgID']=[sub4_orgIDdict.get(x) for x in list(sub4.obs['louvain'])]\n",
        "\n",
        "\n",
        "sc.pl.umap(sub4, color=['orgID'])\n",
        "sc.pl.umap(sub4, color=sub1.var_names)\n",
        "\n"
      ],
      "execution_count": null,
      "outputs": []
    },
    {
      "cell_type": "code",
      "metadata": {
        "id": "prWyoZNo0K1A"
      },
      "source": [
        "sc.tl.louvain(sub6, resolution=0.5)\n",
        "sc.tl.umap(sub6)\n",
        "sc.pl.umap(sub6, color='louvain')\n",
        "\n",
        "sc.pl.umap(sub6, color=sub1.var_names)\n",
        "\n",
        "sub6keeps=sub6[sub6.obs['louvain'].isin(['0','1','3','4','5','6','7','9','10','11','12'])]\n",
        "\n",
        "sc.tl.louvain(sub6keeps, resolution=1)\n",
        "sc.pl.umap(sub6keeps, color='louvain')\n",
        "\n",
        "sub6keeps_orgIDdict={'0':'5', '1':'8', '2':'6', '3':'3', '4':'4', '5':'1', '6':'11', '7':'2', '8':'9', '9':'7', '10':'10', 'louvain':'org'}\n",
        "sub6keeps.obs['orgID']=[sub6keeps_orgIDdict.get(x) for x in list(sub6keeps.obs['louvain'])]\n",
        "\n",
        "\n",
        "sc.pl.umap(sub6keeps, color=['orgID'])\n",
        "sc.pl.umap(sub6keeps, color=sub1.var_names)\n",
        "\n"
      ],
      "execution_count": null,
      "outputs": []
    },
    {
      "cell_type": "code",
      "metadata": {
        "id": "nvVQf8XM0TTk"
      },
      "source": [
        "sc.tl.louvain(sub8, resolution=0.7)\n",
        "sc.tl.umap(sub8)\n",
        "sc.pl.umap(sub8, color='louvain')\n",
        "\n",
        "sc.pl.umap(sub8, color=sub1.var_names)\n",
        "\n",
        "sub8\n",
        "\n",
        "sub8keeps=sub8[~sub8.obs['louvain'].isin(['2'])]\n",
        "sc.tl.louvain(sub8keeps, resolution=1)\n",
        "sc.pl.umap(sub8keeps, color='louvain')\n",
        "\n",
        "\n",
        "sub8keeps_orgIDdict={'0':'8', '1':'5', '2':'6', '3':'3', '4':'4', '5':'1', '6':'11', '7':'9', '8':'2', '9':'7', 'louvain':'org'}\n",
        "sub8keeps.obs['orgID']=[sub8keeps_orgIDdict.get(x) for x in list(sub8keeps.obs['louvain'])]\n",
        "\n",
        "\n",
        "sc.pl.umap(sub8keeps, color=['orgID'])\n",
        "sc.pl.umap(sub8keeps, color=sub1.var_names)\n",
        "\n",
        "\n",
        "sub8rejects=sub8[sub8.obs['louvain'].isin(['2'])]\n",
        "sc.tl.louvain(sub8rejects, resolution=0.2)\n",
        "sc.pl.umap(sub8rejects, color=['louvain', 'BC_36'])\n",
        "\n",
        "sub8rejects=sub8rejects[sub8rejects.obs['louvain'].isin(['0'])]\n",
        "sub8rejects_orgIDdict={'0':'12', 'louvain':'org'}\n",
        "sub8rejects.obs['orgID']=[sub8rejects_orgIDdict.get(x) for x in list(sub8rejects.obs['louvain'])]\n",
        "\n"
      ],
      "execution_count": null,
      "outputs": []
    },
    {
      "cell_type": "code",
      "metadata": {
        "id": "FnBSvP2M0X6E"
      },
      "source": [
        "sc.tl.louvain(sub9, resolution=1.2)\n",
        "sc.tl.umap(sub9)\n",
        "sc.pl.umap(sub9, color='louvain')\n",
        "\n",
        "sc.pl.umap(sub9, color=sub1.var_names)\n",
        "\n",
        "sub9\n",
        "\n",
        "sub9_orgIDdict={'0':'8', '1':'6', '2':'5', '3':'10', '4':'7', '5':'4', '6':'11', '7':'3', '8':'1', '9':'12', 'louvain':'org'}\n",
        "sub9.obs['orgID']=[sub9_orgIDdict.get(x) for x in list(sub9.obs['louvain'])]\n",
        "\n",
        "\n",
        "sc.pl.umap(sub9, color=['orgID'])\n",
        "sc.pl.umap(sub9, color=sub1.var_names)\n",
        "\n"
      ],
      "execution_count": null,
      "outputs": []
    },
    {
      "cell_type": "code",
      "metadata": {
        "id": "gqsjFt4H0aRe"
      },
      "source": [
        "selected_cells=sub1keeps.obs['orgID']\n",
        "selected_cells = selected_cells.append(sub3.obs['orgID'])\n",
        "selected_cells = selected_cells.append(sub4.obs['orgID'])\n",
        "selected_cells = selected_cells.append(sub6keeps.obs['orgID'])\n",
        "selected_cells = selected_cells.append(sub8keeps.obs['orgID'])\n",
        "selected_cells = selected_cells.append(sub8rejects.obs['orgID'])\n",
        "selected_cells = selected_cells.append(sub9.obs['orgID'])\n",
        "\n",
        "\n",
        "#selected_cells\n",
        "sio.savemat('041519_jelly4stim_individs_tagCells_50k.mat', selected_cells)\n",
        "#adata.write('041219_adata.h5ad')"
      ],
      "execution_count": null,
      "outputs": []
    }
  ]
}