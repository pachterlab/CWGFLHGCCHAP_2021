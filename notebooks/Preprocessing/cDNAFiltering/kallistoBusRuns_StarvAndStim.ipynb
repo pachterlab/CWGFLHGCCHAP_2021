{
  "nbformat": 4,
  "nbformat_minor": 0,
  "metadata": {
    "colab": {
      "name": "kallistoBusRuns_StarvAndStim.ipynb",
      "provenance": [],
      "collapsed_sections": [],
      "authorship_tag": "ABX9TyPbBjlzWXxvxr3ipsmEARuh",
      "include_colab_link": true
    },
    "kernelspec": {
      "name": "python3",
      "display_name": "Python 3"
    },
    "widgets": {
      "application/vnd.jupyter.widget-state+json": {
        "88460009a70540d28b3c8b8ef4957a5a": {
          "model_module": "@jupyter-widgets/controls",
          "model_name": "HBoxModel",
          "state": {
            "_view_name": "HBoxView",
            "_dom_classes": [],
            "_model_name": "HBoxModel",
            "_view_module": "@jupyter-widgets/controls",
            "_model_module_version": "1.5.0",
            "_view_count": null,
            "_view_module_version": "1.5.0",
            "box_style": "",
            "layout": "IPY_MODEL_d5f80320746e4feea04111faf0d00e4a",
            "_model_module": "@jupyter-widgets/controls",
            "children": [
              "IPY_MODEL_b37dfc995e0c40e48092644891a035c8",
              "IPY_MODEL_0a5bb2a0dc70412f8abaec77af55e37b"
            ]
          }
        },
        "d5f80320746e4feea04111faf0d00e4a": {
          "model_module": "@jupyter-widgets/base",
          "model_name": "LayoutModel",
          "state": {
            "_view_name": "LayoutView",
            "grid_template_rows": null,
            "right": null,
            "justify_content": null,
            "_view_module": "@jupyter-widgets/base",
            "overflow": null,
            "_model_module_version": "1.2.0",
            "_view_count": null,
            "flex_flow": null,
            "width": null,
            "min_width": null,
            "border": null,
            "align_items": null,
            "bottom": null,
            "_model_module": "@jupyter-widgets/base",
            "top": null,
            "grid_column": null,
            "overflow_y": null,
            "overflow_x": null,
            "grid_auto_flow": null,
            "grid_area": null,
            "grid_template_columns": null,
            "flex": null,
            "_model_name": "LayoutModel",
            "justify_items": null,
            "grid_row": null,
            "max_height": null,
            "align_content": null,
            "visibility": null,
            "align_self": null,
            "height": null,
            "min_height": null,
            "padding": null,
            "grid_auto_rows": null,
            "grid_gap": null,
            "max_width": null,
            "order": null,
            "_view_module_version": "1.2.0",
            "grid_template_areas": null,
            "object_position": null,
            "object_fit": null,
            "grid_auto_columns": null,
            "margin": null,
            "display": null,
            "left": null
          }
        },
        "b37dfc995e0c40e48092644891a035c8": {
          "model_module": "@jupyter-widgets/controls",
          "model_name": "FloatProgressModel",
          "state": {
            "_view_name": "ProgressView",
            "style": "IPY_MODEL_a0bc717788d34e18ad69f3bac05e2923",
            "_dom_classes": [],
            "description": "",
            "_model_name": "FloatProgressModel",
            "bar_style": "",
            "max": 23757,
            "_view_module": "@jupyter-widgets/controls",
            "_model_module_version": "1.5.0",
            "value": 23757,
            "_view_count": null,
            "_view_module_version": "1.5.0",
            "orientation": "horizontal",
            "min": 0,
            "description_tooltip": null,
            "_model_module": "@jupyter-widgets/controls",
            "layout": "IPY_MODEL_5aae682c1896480c921efca036a057dc"
          }
        },
        "0a5bb2a0dc70412f8abaec77af55e37b": {
          "model_module": "@jupyter-widgets/controls",
          "model_name": "HTMLModel",
          "state": {
            "_view_name": "HTMLView",
            "style": "IPY_MODEL_c869d1e7694546fdaa5accca47dc60e6",
            "_dom_classes": [],
            "description": "",
            "_model_name": "HTMLModel",
            "placeholder": "​",
            "_view_module": "@jupyter-widgets/controls",
            "_model_module_version": "1.5.0",
            "value": " 23758/? [00:20&lt;00:00, 9614.27B/s]",
            "_view_count": null,
            "_view_module_version": "1.5.0",
            "description_tooltip": null,
            "_model_module": "@jupyter-widgets/controls",
            "layout": "IPY_MODEL_faba1f4271af4b0594bed8c728ce04aa"
          }
        },
        "a0bc717788d34e18ad69f3bac05e2923": {
          "model_module": "@jupyter-widgets/controls",
          "model_name": "ProgressStyleModel",
          "state": {
            "_view_name": "StyleView",
            "_model_name": "ProgressStyleModel",
            "description_width": "initial",
            "_view_module": "@jupyter-widgets/base",
            "_model_module_version": "1.5.0",
            "_view_count": null,
            "_view_module_version": "1.2.0",
            "bar_color": null,
            "_model_module": "@jupyter-widgets/controls"
          }
        },
        "5aae682c1896480c921efca036a057dc": {
          "model_module": "@jupyter-widgets/base",
          "model_name": "LayoutModel",
          "state": {
            "_view_name": "LayoutView",
            "grid_template_rows": null,
            "right": null,
            "justify_content": null,
            "_view_module": "@jupyter-widgets/base",
            "overflow": null,
            "_model_module_version": "1.2.0",
            "_view_count": null,
            "flex_flow": null,
            "width": null,
            "min_width": null,
            "border": null,
            "align_items": null,
            "bottom": null,
            "_model_module": "@jupyter-widgets/base",
            "top": null,
            "grid_column": null,
            "overflow_y": null,
            "overflow_x": null,
            "grid_auto_flow": null,
            "grid_area": null,
            "grid_template_columns": null,
            "flex": null,
            "_model_name": "LayoutModel",
            "justify_items": null,
            "grid_row": null,
            "max_height": null,
            "align_content": null,
            "visibility": null,
            "align_self": null,
            "height": null,
            "min_height": null,
            "padding": null,
            "grid_auto_rows": null,
            "grid_gap": null,
            "max_width": null,
            "order": null,
            "_view_module_version": "1.2.0",
            "grid_template_areas": null,
            "object_position": null,
            "object_fit": null,
            "grid_auto_columns": null,
            "margin": null,
            "display": null,
            "left": null
          }
        },
        "c869d1e7694546fdaa5accca47dc60e6": {
          "model_module": "@jupyter-widgets/controls",
          "model_name": "DescriptionStyleModel",
          "state": {
            "_view_name": "StyleView",
            "_model_name": "DescriptionStyleModel",
            "description_width": "",
            "_view_module": "@jupyter-widgets/base",
            "_model_module_version": "1.5.0",
            "_view_count": null,
            "_view_module_version": "1.2.0",
            "_model_module": "@jupyter-widgets/controls"
          }
        },
        "faba1f4271af4b0594bed8c728ce04aa": {
          "model_module": "@jupyter-widgets/base",
          "model_name": "LayoutModel",
          "state": {
            "_view_name": "LayoutView",
            "grid_template_rows": null,
            "right": null,
            "justify_content": null,
            "_view_module": "@jupyter-widgets/base",
            "overflow": null,
            "_model_module_version": "1.2.0",
            "_view_count": null,
            "flex_flow": null,
            "width": null,
            "min_width": null,
            "border": null,
            "align_items": null,
            "bottom": null,
            "_model_module": "@jupyter-widgets/base",
            "top": null,
            "grid_column": null,
            "overflow_y": null,
            "overflow_x": null,
            "grid_auto_flow": null,
            "grid_area": null,
            "grid_template_columns": null,
            "flex": null,
            "_model_name": "LayoutModel",
            "justify_items": null,
            "grid_row": null,
            "max_height": null,
            "align_content": null,
            "visibility": null,
            "align_self": null,
            "height": null,
            "min_height": null,
            "padding": null,
            "grid_auto_rows": null,
            "grid_gap": null,
            "max_width": null,
            "order": null,
            "_view_module_version": "1.2.0",
            "grid_template_areas": null,
            "object_position": null,
            "object_fit": null,
            "grid_auto_columns": null,
            "margin": null,
            "display": null,
            "left": null
          }
        },
        "c87ca072c86e46b5bac510fb07193b0b": {
          "model_module": "@jupyter-widgets/controls",
          "model_name": "HBoxModel",
          "state": {
            "_view_name": "HBoxView",
            "_dom_classes": [],
            "_model_name": "HBoxModel",
            "_view_module": "@jupyter-widgets/controls",
            "_model_module_version": "1.5.0",
            "_view_count": null,
            "_view_module_version": "1.5.0",
            "box_style": "",
            "layout": "IPY_MODEL_e9621e9bfdc942a999f5bec0652ca368",
            "_model_module": "@jupyter-widgets/controls",
            "children": [
              "IPY_MODEL_1271ded973fa4e418c234d60b4fe033d",
              "IPY_MODEL_63a0a4b2d5fa43e59e065f0148e9f9b2"
            ]
          }
        },
        "e9621e9bfdc942a999f5bec0652ca368": {
          "model_module": "@jupyter-widgets/base",
          "model_name": "LayoutModel",
          "state": {
            "_view_name": "LayoutView",
            "grid_template_rows": null,
            "right": null,
            "justify_content": null,
            "_view_module": "@jupyter-widgets/base",
            "overflow": null,
            "_model_module_version": "1.2.0",
            "_view_count": null,
            "flex_flow": null,
            "width": null,
            "min_width": null,
            "border": null,
            "align_items": null,
            "bottom": null,
            "_model_module": "@jupyter-widgets/base",
            "top": null,
            "grid_column": null,
            "overflow_y": null,
            "overflow_x": null,
            "grid_auto_flow": null,
            "grid_area": null,
            "grid_template_columns": null,
            "flex": null,
            "_model_name": "LayoutModel",
            "justify_items": null,
            "grid_row": null,
            "max_height": null,
            "align_content": null,
            "visibility": null,
            "align_self": null,
            "height": null,
            "min_height": null,
            "padding": null,
            "grid_auto_rows": null,
            "grid_gap": null,
            "max_width": null,
            "order": null,
            "_view_module_version": "1.2.0",
            "grid_template_areas": null,
            "object_position": null,
            "object_fit": null,
            "grid_auto_columns": null,
            "margin": null,
            "display": null,
            "left": null
          }
        },
        "1271ded973fa4e418c234d60b4fe033d": {
          "model_module": "@jupyter-widgets/controls",
          "model_name": "FloatProgressModel",
          "state": {
            "_view_name": "ProgressView",
            "style": "IPY_MODEL_c8390c4d62474f588e3ac3ec207a17f7",
            "_dom_classes": [],
            "description": "",
            "_model_name": "FloatProgressModel",
            "bar_style": "",
            "max": 4972,
            "_view_module": "@jupyter-widgets/controls",
            "_model_module_version": "1.5.0",
            "value": 4972,
            "_view_count": null,
            "_view_module_version": "1.5.0",
            "orientation": "horizontal",
            "min": 0,
            "description_tooltip": null,
            "_model_module": "@jupyter-widgets/controls",
            "layout": "IPY_MODEL_cb7f54e36a4647709aa73665b8c0258f"
          }
        },
        "63a0a4b2d5fa43e59e065f0148e9f9b2": {
          "model_module": "@jupyter-widgets/controls",
          "model_name": "HTMLModel",
          "state": {
            "_view_name": "HTMLView",
            "style": "IPY_MODEL_dae61352132d4602ba7e9aaa278e2e98",
            "_dom_classes": [],
            "description": "",
            "_model_name": "HTMLModel",
            "placeholder": "​",
            "_view_module": "@jupyter-widgets/controls",
            "_model_module_version": "1.5.0",
            "value": " 4973/? [00:14&lt;00:00, 788.19B/s]",
            "_view_count": null,
            "_view_module_version": "1.5.0",
            "description_tooltip": null,
            "_model_module": "@jupyter-widgets/controls",
            "layout": "IPY_MODEL_2e7490977c15463f95516975b4398ca6"
          }
        },
        "c8390c4d62474f588e3ac3ec207a17f7": {
          "model_module": "@jupyter-widgets/controls",
          "model_name": "ProgressStyleModel",
          "state": {
            "_view_name": "StyleView",
            "_model_name": "ProgressStyleModel",
            "description_width": "initial",
            "_view_module": "@jupyter-widgets/base",
            "_model_module_version": "1.5.0",
            "_view_count": null,
            "_view_module_version": "1.2.0",
            "bar_color": null,
            "_model_module": "@jupyter-widgets/controls"
          }
        },
        "cb7f54e36a4647709aa73665b8c0258f": {
          "model_module": "@jupyter-widgets/base",
          "model_name": "LayoutModel",
          "state": {
            "_view_name": "LayoutView",
            "grid_template_rows": null,
            "right": null,
            "justify_content": null,
            "_view_module": "@jupyter-widgets/base",
            "overflow": null,
            "_model_module_version": "1.2.0",
            "_view_count": null,
            "flex_flow": null,
            "width": null,
            "min_width": null,
            "border": null,
            "align_items": null,
            "bottom": null,
            "_model_module": "@jupyter-widgets/base",
            "top": null,
            "grid_column": null,
            "overflow_y": null,
            "overflow_x": null,
            "grid_auto_flow": null,
            "grid_area": null,
            "grid_template_columns": null,
            "flex": null,
            "_model_name": "LayoutModel",
            "justify_items": null,
            "grid_row": null,
            "max_height": null,
            "align_content": null,
            "visibility": null,
            "align_self": null,
            "height": null,
            "min_height": null,
            "padding": null,
            "grid_auto_rows": null,
            "grid_gap": null,
            "max_width": null,
            "order": null,
            "_view_module_version": "1.2.0",
            "grid_template_areas": null,
            "object_position": null,
            "object_fit": null,
            "grid_auto_columns": null,
            "margin": null,
            "display": null,
            "left": null
          }
        },
        "dae61352132d4602ba7e9aaa278e2e98": {
          "model_module": "@jupyter-widgets/controls",
          "model_name": "DescriptionStyleModel",
          "state": {
            "_view_name": "StyleView",
            "_model_name": "DescriptionStyleModel",
            "description_width": "",
            "_view_module": "@jupyter-widgets/base",
            "_model_module_version": "1.5.0",
            "_view_count": null,
            "_view_module_version": "1.2.0",
            "_model_module": "@jupyter-widgets/controls"
          }
        },
        "2e7490977c15463f95516975b4398ca6": {
          "model_module": "@jupyter-widgets/base",
          "model_name": "LayoutModel",
          "state": {
            "_view_name": "LayoutView",
            "grid_template_rows": null,
            "right": null,
            "justify_content": null,
            "_view_module": "@jupyter-widgets/base",
            "overflow": null,
            "_model_module_version": "1.2.0",
            "_view_count": null,
            "flex_flow": null,
            "width": null,
            "min_width": null,
            "border": null,
            "align_items": null,
            "bottom": null,
            "_model_module": "@jupyter-widgets/base",
            "top": null,
            "grid_column": null,
            "overflow_y": null,
            "overflow_x": null,
            "grid_auto_flow": null,
            "grid_area": null,
            "grid_template_columns": null,
            "flex": null,
            "_model_name": "LayoutModel",
            "justify_items": null,
            "grid_row": null,
            "max_height": null,
            "align_content": null,
            "visibility": null,
            "align_self": null,
            "height": null,
            "min_height": null,
            "padding": null,
            "grid_auto_rows": null,
            "grid_gap": null,
            "max_width": null,
            "order": null,
            "_view_module_version": "1.2.0",
            "grid_template_areas": null,
            "object_position": null,
            "object_fit": null,
            "grid_auto_columns": null,
            "margin": null,
            "display": null,
            "left": null
          }
        },
        "06a1bab732234a6cb888443425967f3e": {
          "model_module": "@jupyter-widgets/controls",
          "model_name": "HBoxModel",
          "state": {
            "_view_name": "HBoxView",
            "_dom_classes": [],
            "_model_name": "HBoxModel",
            "_view_module": "@jupyter-widgets/controls",
            "_model_module_version": "1.5.0",
            "_view_count": null,
            "_view_module_version": "1.5.0",
            "box_style": "",
            "layout": "IPY_MODEL_3808a53bf180412cb5918491656a81a1",
            "_model_module": "@jupyter-widgets/controls",
            "children": [
              "IPY_MODEL_76856d10c9504af2ae2a843721e97360",
              "IPY_MODEL_dc6e49b2bf24423497af373a7417d829"
            ]
          }
        },
        "3808a53bf180412cb5918491656a81a1": {
          "model_module": "@jupyter-widgets/base",
          "model_name": "LayoutModel",
          "state": {
            "_view_name": "LayoutView",
            "grid_template_rows": null,
            "right": null,
            "justify_content": null,
            "_view_module": "@jupyter-widgets/base",
            "overflow": null,
            "_model_module_version": "1.2.0",
            "_view_count": null,
            "flex_flow": null,
            "width": null,
            "min_width": null,
            "border": null,
            "align_items": null,
            "bottom": null,
            "_model_module": "@jupyter-widgets/base",
            "top": null,
            "grid_column": null,
            "overflow_y": null,
            "overflow_x": null,
            "grid_auto_flow": null,
            "grid_area": null,
            "grid_template_columns": null,
            "flex": null,
            "_model_name": "LayoutModel",
            "justify_items": null,
            "grid_row": null,
            "max_height": null,
            "align_content": null,
            "visibility": null,
            "align_self": null,
            "height": null,
            "min_height": null,
            "padding": null,
            "grid_auto_rows": null,
            "grid_gap": null,
            "max_width": null,
            "order": null,
            "_view_module_version": "1.2.0",
            "grid_template_areas": null,
            "object_position": null,
            "object_fit": null,
            "grid_auto_columns": null,
            "margin": null,
            "display": null,
            "left": null
          }
        },
        "76856d10c9504af2ae2a843721e97360": {
          "model_module": "@jupyter-widgets/controls",
          "model_name": "FloatProgressModel",
          "state": {
            "_view_name": "ProgressView",
            "style": "IPY_MODEL_dde80995dbd14c999bbca76e60e915d6",
            "_dom_classes": [],
            "description": "",
            "_model_name": "FloatProgressModel",
            "bar_style": "",
            "max": 45376,
            "_view_module": "@jupyter-widgets/controls",
            "_model_module_version": "1.5.0",
            "value": 45376,
            "_view_count": null,
            "_view_module_version": "1.5.0",
            "orientation": "horizontal",
            "min": 0,
            "description_tooltip": null,
            "_model_module": "@jupyter-widgets/controls",
            "layout": "IPY_MODEL_84a1427cd41e4648b60db1a9b5f5cd4b"
          }
        },
        "dc6e49b2bf24423497af373a7417d829": {
          "model_module": "@jupyter-widgets/controls",
          "model_name": "HTMLModel",
          "state": {
            "_view_name": "HTMLView",
            "style": "IPY_MODEL_561105ad446143a79b2686ea4e3204e4",
            "_dom_classes": [],
            "description": "",
            "_model_name": "HTMLModel",
            "placeholder": "​",
            "_view_module": "@jupyter-widgets/controls",
            "_model_module_version": "1.5.0",
            "value": " 45377/? [00:23&lt;00:00, 15414.04B/s]",
            "_view_count": null,
            "_view_module_version": "1.5.0",
            "description_tooltip": null,
            "_model_module": "@jupyter-widgets/controls",
            "layout": "IPY_MODEL_945f1cba6d5644339bb090a0c308021d"
          }
        },
        "dde80995dbd14c999bbca76e60e915d6": {
          "model_module": "@jupyter-widgets/controls",
          "model_name": "ProgressStyleModel",
          "state": {
            "_view_name": "StyleView",
            "_model_name": "ProgressStyleModel",
            "description_width": "initial",
            "_view_module": "@jupyter-widgets/base",
            "_model_module_version": "1.5.0",
            "_view_count": null,
            "_view_module_version": "1.2.0",
            "bar_color": null,
            "_model_module": "@jupyter-widgets/controls"
          }
        },
        "84a1427cd41e4648b60db1a9b5f5cd4b": {
          "model_module": "@jupyter-widgets/base",
          "model_name": "LayoutModel",
          "state": {
            "_view_name": "LayoutView",
            "grid_template_rows": null,
            "right": null,
            "justify_content": null,
            "_view_module": "@jupyter-widgets/base",
            "overflow": null,
            "_model_module_version": "1.2.0",
            "_view_count": null,
            "flex_flow": null,
            "width": null,
            "min_width": null,
            "border": null,
            "align_items": null,
            "bottom": null,
            "_model_module": "@jupyter-widgets/base",
            "top": null,
            "grid_column": null,
            "overflow_y": null,
            "overflow_x": null,
            "grid_auto_flow": null,
            "grid_area": null,
            "grid_template_columns": null,
            "flex": null,
            "_model_name": "LayoutModel",
            "justify_items": null,
            "grid_row": null,
            "max_height": null,
            "align_content": null,
            "visibility": null,
            "align_self": null,
            "height": null,
            "min_height": null,
            "padding": null,
            "grid_auto_rows": null,
            "grid_gap": null,
            "max_width": null,
            "order": null,
            "_view_module_version": "1.2.0",
            "grid_template_areas": null,
            "object_position": null,
            "object_fit": null,
            "grid_auto_columns": null,
            "margin": null,
            "display": null,
            "left": null
          }
        },
        "561105ad446143a79b2686ea4e3204e4": {
          "model_module": "@jupyter-widgets/controls",
          "model_name": "DescriptionStyleModel",
          "state": {
            "_view_name": "StyleView",
            "_model_name": "DescriptionStyleModel",
            "description_width": "",
            "_view_module": "@jupyter-widgets/base",
            "_model_module_version": "1.5.0",
            "_view_count": null,
            "_view_module_version": "1.2.0",
            "_model_module": "@jupyter-widgets/controls"
          }
        },
        "945f1cba6d5644339bb090a0c308021d": {
          "model_module": "@jupyter-widgets/base",
          "model_name": "LayoutModel",
          "state": {
            "_view_name": "LayoutView",
            "grid_template_rows": null,
            "right": null,
            "justify_content": null,
            "_view_module": "@jupyter-widgets/base",
            "overflow": null,
            "_model_module_version": "1.2.0",
            "_view_count": null,
            "flex_flow": null,
            "width": null,
            "min_width": null,
            "border": null,
            "align_items": null,
            "bottom": null,
            "_model_module": "@jupyter-widgets/base",
            "top": null,
            "grid_column": null,
            "overflow_y": null,
            "overflow_x": null,
            "grid_auto_flow": null,
            "grid_area": null,
            "grid_template_columns": null,
            "flex": null,
            "_model_name": "LayoutModel",
            "justify_items": null,
            "grid_row": null,
            "max_height": null,
            "align_content": null,
            "visibility": null,
            "align_self": null,
            "height": null,
            "min_height": null,
            "padding": null,
            "grid_auto_rows": null,
            "grid_gap": null,
            "max_width": null,
            "order": null,
            "_view_module_version": "1.2.0",
            "grid_template_areas": null,
            "object_position": null,
            "object_fit": null,
            "grid_auto_columns": null,
            "margin": null,
            "display": null,
            "left": null
          }
        },
        "465460b4dca94b1faa2bb68d87f86ba8": {
          "model_module": "@jupyter-widgets/controls",
          "model_name": "HBoxModel",
          "state": {
            "_view_name": "HBoxView",
            "_dom_classes": [],
            "_model_name": "HBoxModel",
            "_view_module": "@jupyter-widgets/controls",
            "_model_module_version": "1.5.0",
            "_view_count": null,
            "_view_module_version": "1.5.0",
            "box_style": "",
            "layout": "IPY_MODEL_afbcb11c1de148dd9ad19f0b4bfbb4c9",
            "_model_module": "@jupyter-widgets/controls",
            "children": [
              "IPY_MODEL_5d55cff97fee4f43805a8a2c015c3924",
              "IPY_MODEL_75de5e1ee6d7419d9c664e39bf465dc9"
            ]
          }
        },
        "afbcb11c1de148dd9ad19f0b4bfbb4c9": {
          "model_module": "@jupyter-widgets/base",
          "model_name": "LayoutModel",
          "state": {
            "_view_name": "LayoutView",
            "grid_template_rows": null,
            "right": null,
            "justify_content": null,
            "_view_module": "@jupyter-widgets/base",
            "overflow": null,
            "_model_module_version": "1.2.0",
            "_view_count": null,
            "flex_flow": null,
            "width": null,
            "min_width": null,
            "border": null,
            "align_items": null,
            "bottom": null,
            "_model_module": "@jupyter-widgets/base",
            "top": null,
            "grid_column": null,
            "overflow_y": null,
            "overflow_x": null,
            "grid_auto_flow": null,
            "grid_area": null,
            "grid_template_columns": null,
            "flex": null,
            "_model_name": "LayoutModel",
            "justify_items": null,
            "grid_row": null,
            "max_height": null,
            "align_content": null,
            "visibility": null,
            "align_self": null,
            "height": null,
            "min_height": null,
            "padding": null,
            "grid_auto_rows": null,
            "grid_gap": null,
            "max_width": null,
            "order": null,
            "_view_module_version": "1.2.0",
            "grid_template_areas": null,
            "object_position": null,
            "object_fit": null,
            "grid_auto_columns": null,
            "margin": null,
            "display": null,
            "left": null
          }
        },
        "5d55cff97fee4f43805a8a2c015c3924": {
          "model_module": "@jupyter-widgets/controls",
          "model_name": "FloatProgressModel",
          "state": {
            "_view_name": "ProgressView",
            "style": "IPY_MODEL_0fd00f5a0cd4401493dd3e0883c81e77",
            "_dom_classes": [],
            "description": "",
            "_model_name": "FloatProgressModel",
            "bar_style": "",
            "max": 183,
            "_view_module": "@jupyter-widgets/controls",
            "_model_module_version": "1.5.0",
            "value": 183,
            "_view_count": null,
            "_view_module_version": "1.5.0",
            "orientation": "horizontal",
            "min": 0,
            "description_tooltip": null,
            "_model_module": "@jupyter-widgets/controls",
            "layout": "IPY_MODEL_35bf466c7e224a63ab3c093f003123ad"
          }
        },
        "75de5e1ee6d7419d9c664e39bf465dc9": {
          "model_module": "@jupyter-widgets/controls",
          "model_name": "HTMLModel",
          "state": {
            "_view_name": "HTMLView",
            "style": "IPY_MODEL_c03ead23f6b34044a22ce1b9b665e169",
            "_dom_classes": [],
            "description": "",
            "_model_name": "HTMLModel",
            "placeholder": "​",
            "_view_module": "@jupyter-widgets/controls",
            "_model_module_version": "1.5.0",
            "value": " 184/? [00:16&lt;00:00, 142.06B/s]",
            "_view_count": null,
            "_view_module_version": "1.5.0",
            "description_tooltip": null,
            "_model_module": "@jupyter-widgets/controls",
            "layout": "IPY_MODEL_2f4fe81ed007435e84ef6028119f2743"
          }
        },
        "0fd00f5a0cd4401493dd3e0883c81e77": {
          "model_module": "@jupyter-widgets/controls",
          "model_name": "ProgressStyleModel",
          "state": {
            "_view_name": "StyleView",
            "_model_name": "ProgressStyleModel",
            "description_width": "initial",
            "_view_module": "@jupyter-widgets/base",
            "_model_module_version": "1.5.0",
            "_view_count": null,
            "_view_module_version": "1.2.0",
            "bar_color": null,
            "_model_module": "@jupyter-widgets/controls"
          }
        },
        "35bf466c7e224a63ab3c093f003123ad": {
          "model_module": "@jupyter-widgets/base",
          "model_name": "LayoutModel",
          "state": {
            "_view_name": "LayoutView",
            "grid_template_rows": null,
            "right": null,
            "justify_content": null,
            "_view_module": "@jupyter-widgets/base",
            "overflow": null,
            "_model_module_version": "1.2.0",
            "_view_count": null,
            "flex_flow": null,
            "width": null,
            "min_width": null,
            "border": null,
            "align_items": null,
            "bottom": null,
            "_model_module": "@jupyter-widgets/base",
            "top": null,
            "grid_column": null,
            "overflow_y": null,
            "overflow_x": null,
            "grid_auto_flow": null,
            "grid_area": null,
            "grid_template_columns": null,
            "flex": null,
            "_model_name": "LayoutModel",
            "justify_items": null,
            "grid_row": null,
            "max_height": null,
            "align_content": null,
            "visibility": null,
            "align_self": null,
            "height": null,
            "min_height": null,
            "padding": null,
            "grid_auto_rows": null,
            "grid_gap": null,
            "max_width": null,
            "order": null,
            "_view_module_version": "1.2.0",
            "grid_template_areas": null,
            "object_position": null,
            "object_fit": null,
            "grid_auto_columns": null,
            "margin": null,
            "display": null,
            "left": null
          }
        },
        "c03ead23f6b34044a22ce1b9b665e169": {
          "model_module": "@jupyter-widgets/controls",
          "model_name": "DescriptionStyleModel",
          "state": {
            "_view_name": "StyleView",
            "_model_name": "DescriptionStyleModel",
            "description_width": "",
            "_view_module": "@jupyter-widgets/base",
            "_model_module_version": "1.5.0",
            "_view_count": null,
            "_view_module_version": "1.2.0",
            "_model_module": "@jupyter-widgets/controls"
          }
        },
        "2f4fe81ed007435e84ef6028119f2743": {
          "model_module": "@jupyter-widgets/base",
          "model_name": "LayoutModel",
          "state": {
            "_view_name": "LayoutView",
            "grid_template_rows": null,
            "right": null,
            "justify_content": null,
            "_view_module": "@jupyter-widgets/base",
            "overflow": null,
            "_model_module_version": "1.2.0",
            "_view_count": null,
            "flex_flow": null,
            "width": null,
            "min_width": null,
            "border": null,
            "align_items": null,
            "bottom": null,
            "_model_module": "@jupyter-widgets/base",
            "top": null,
            "grid_column": null,
            "overflow_y": null,
            "overflow_x": null,
            "grid_auto_flow": null,
            "grid_area": null,
            "grid_template_columns": null,
            "flex": null,
            "_model_name": "LayoutModel",
            "justify_items": null,
            "grid_row": null,
            "max_height": null,
            "align_content": null,
            "visibility": null,
            "align_self": null,
            "height": null,
            "min_height": null,
            "padding": null,
            "grid_auto_rows": null,
            "grid_gap": null,
            "max_width": null,
            "order": null,
            "_view_module_version": "1.2.0",
            "grid_template_areas": null,
            "object_position": null,
            "object_fit": null,
            "grid_auto_columns": null,
            "margin": null,
            "display": null,
            "left": null
          }
        }
      }
    }
  },
  "cells": [
    {
      "cell_type": "markdown",
      "metadata": {
        "id": "view-in-github",
        "colab_type": "text"
      },
      "source": [
        "<a href=\"https://colab.research.google.com/github/pachterlab/CWGFLHGCCHAP_2021/blob/master/notebooks/Preprocessing/cDNAFiltering/kallistoBusRuns_StarvAndStim.ipynb\" target=\"_parent\"><img src=\"https://colab.research.google.com/assets/colab-badge.svg\" alt=\"Open In Colab\"/></a>"
      ]
    },
    {
      "cell_type": "code",
      "metadata": {
        "id": "oN2VaaIQ_zHw"
      },
      "source": [
        "!date"
      ],
      "execution_count": null,
      "outputs": []
    },
    {
      "cell_type": "code",
      "metadata": {
        "id": "qfirib2yPrHF"
      },
      "source": [
        "#Install kallisto and bustools\n",
        "\n",
        "!wget --quiet https://github.com/pachterlab/kallisto/releases/download/v0.46.2/kallisto_linux-v0.46.2.tar.gz\n",
        "!tar -xf kallisto_linux-v0.46.2.tar.gz\n",
        "!cp kallisto/kallisto /usr/local/bin/\n",
        "\n",
        "!wget --quiet https://github.com/BUStools/bustools/releases/download/v0.40.0/bustools_linux-v0.40.0.tar.gz\n",
        "!tar -xf bustools_linux-v0.40.0.tar.gz\n",
        "!cp bustools/bustools /usr/local/bin/"
      ],
      "execution_count": null,
      "outputs": []
    },
    {
      "cell_type": "code",
      "metadata": {
        "id": "JrzLW-FjV3LA"
      },
      "source": [
        "import requests\n",
        "from tqdm import tnrange, tqdm_notebook\n",
        "def download_file(doi,ext):\n",
        "    url = 'https://api.datacite.org/dois/'+doi+'/media'\n",
        "    r = requests.get(url).json()\n",
        "    netcdf_url = r['data'][0]['attributes']['url']\n",
        "    r = requests.get(netcdf_url,stream=True)\n",
        "    #Set file name\n",
        "    fname = doi.split('/')[-1]+ext\n",
        "    #Download file with progress bar\n",
        "    if r.status_code == 403:\n",
        "        print(\"File Unavailable\")\n",
        "    if 'content-length' not in r.headers:\n",
        "        print(\"Did not get file\")\n",
        "    else:\n",
        "        with open(fname, 'wb') as f:\n",
        "            total_length = int(r.headers.get('content-length'))\n",
        "            pbar = tnrange(int(total_length/1024), unit=\"B\")\n",
        "            for chunk in r.iter_content(chunk_size=1024):\n",
        "                if chunk:\n",
        "                    pbar.update()\n",
        "                    f.write(chunk)\n",
        "        return fname"
      ],
      "execution_count": null,
      "outputs": []
    },
    {
      "cell_type": "code",
      "metadata": {
        "id": "hxFD2QMnQ-xG",
        "colab": {
          "base_uri": "https://localhost:8080/",
          "height": 116,
          "referenced_widgets": [
            "88460009a70540d28b3c8b8ef4957a5a",
            "d5f80320746e4feea04111faf0d00e4a",
            "b37dfc995e0c40e48092644891a035c8",
            "0a5bb2a0dc70412f8abaec77af55e37b",
            "a0bc717788d34e18ad69f3bac05e2923",
            "5aae682c1896480c921efca036a057dc",
            "c869d1e7694546fdaa5accca47dc60e6",
            "faba1f4271af4b0594bed8c728ce04aa",
            "c87ca072c86e46b5bac510fb07193b0b",
            "e9621e9bfdc942a999f5bec0652ca368",
            "1271ded973fa4e418c234d60b4fe033d",
            "63a0a4b2d5fa43e59e065f0148e9f9b2",
            "c8390c4d62474f588e3ac3ec207a17f7",
            "cb7f54e36a4647709aa73665b8c0258f",
            "dae61352132d4602ba7e9aaa278e2e98",
            "2e7490977c15463f95516975b4398ca6"
          ]
        },
        "outputId": "7601b5f7-458b-4cbf-ba79-80762f0a2779"
      },
      "source": [
        "#Get reference data () fastq's)\n",
        "\n",
        "#Transcripts\n",
        "#!wget --quiet https://caltech.box.com/shared/static/use8yd40nlif8147y2vaf0j4j3wjy3vm\n",
        "download_file('10.22002/D1.1825','.gz')\n",
        "\n",
        "#Gff3 (TRINITY)\n",
        "#!wget --quiet https://caltech.box.com/shared/static/bh6ivy8xpatkwtw61cj50ahkt93kzuwv\n",
        "download_file('10.22002/D1.1824','.gz')\n",
        "\n"
      ],
      "execution_count": null,
      "outputs": [
        {
          "output_type": "stream",
          "text": [
            "/usr/local/lib/python3.6/dist-packages/ipykernel_launcher.py:18: TqdmDeprecationWarning: Please use `tqdm.notebook.trange` instead of `tqdm.tnrange`\n"
          ],
          "name": "stderr"
        },
        {
          "output_type": "display_data",
          "data": {
            "application/vnd.jupyter.widget-view+json": {
              "model_id": "88460009a70540d28b3c8b8ef4957a5a",
              "version_minor": 0,
              "version_major": 2
            },
            "text/plain": [
              "HBox(children=(FloatProgress(value=0.0, max=23757.0), HTML(value='')))"
            ]
          },
          "metadata": {
            "tags": []
          }
        },
        {
          "output_type": "display_data",
          "data": {
            "application/vnd.jupyter.widget-view+json": {
              "model_id": "c87ca072c86e46b5bac510fb07193b0b",
              "version_minor": 0,
              "version_major": 2
            },
            "text/plain": [
              "HBox(children=(FloatProgress(value=0.0, max=4972.0), HTML(value='')))"
            ]
          },
          "metadata": {
            "tags": []
          }
        },
        {
          "output_type": "execute_result",
          "data": {
            "application/vnd.google.colaboratory.intrinsic+json": {
              "type": "string"
            },
            "text/plain": [
              "'D1.1824.gz'"
            ]
          },
          "metadata": {
            "tags": []
          },
          "execution_count": 3
        }
      ]
    },
    {
      "cell_type": "code",
      "metadata": {
        "id": "5uDqcKvT5hFt"
      },
      "source": [
        "# Get doi links for all Starvation cDNA fastq.gz files\n",
        "starvFiles = []\n",
        "dois = ['10.22002/D1.1840','10.22002/D1.1841','10.22002/D1.1842','10.22002/D1.1843',\n",
        "        '10.22002/D1.1844','10.22002/D1.1845','10.22002/D1.1846','10.22002/D1.1847',\n",
        "        '10.22002/D1.1848','10.22002/D1.1849','10.22002/D1.1850','10.22002/D1.1851',\n",
        "        '10.22002/D1.1852','10.22002/D1.1853','10.22002/D1.1854','10.22002/D1.1855'] #16 doi numbers\n",
        "for doi in dois:\n",
        "  url = 'https://api.datacite.org/dois/'+doi+'/media'\n",
        "  r = requests.get(url).json()\n",
        "  netcdf_url = r['data'][0]['attributes']['url']\n",
        "\n",
        "  starvFiles += [netcdf_url]\n",
        "\n",
        "s1 = starvFiles[0]\n",
        "s2 = starvFiles[1]\n",
        "s3 = starvFiles[2]\n",
        "s4 = starvFiles[3]\n",
        "s5 = starvFiles[4]\n",
        "s6 = starvFiles[5]\n",
        "s7 = starvFiles[6]\n",
        "s8 = starvFiles[7]\n",
        "\n",
        "s9 = starvFiles[8]\n",
        "s10 = starvFiles[9]\n",
        "s11 = starvFiles[10]\n",
        "s12 = starvFiles[11]\n",
        "s13 = starvFiles[12]\n",
        "s14 = starvFiles[13]\n",
        "s15 = starvFiles[14]\n",
        "s16 = starvFiles[15]"
      ],
      "execution_count": null,
      "outputs": []
    },
    {
      "cell_type": "code",
      "metadata": {
        "id": "iOrWY2jM6FHF"
      },
      "source": [
        "# Get doi links for all Stimulation cDNA fastq.gz files\n",
        "stimFiles = []\n",
        "dois = ['10.22002/D1.1860','10.22002/D1.1863','10.22002/D1.1864','10.22002/D1.1865',\n",
        "        '10.22002/D1.1866','10.22002/D1.1868','10.22002/D1.1870','10.22002/D1.1871'] #8 numbers\n",
        "for doi in dois:\n",
        "  url = 'https://api.datacite.org/dois/'+doi+'/media'\n",
        "  r = requests.get(url).json()\n",
        "  netcdf_url = r['data'][0]['attributes']['url']\n",
        "\n",
        "  stimFiles += [netcdf_url]\n",
        "\n",
        "\n",
        "stim1 = stimFiles[0]\n",
        "stim2 = stimFiles[1]\n",
        "stim3 = stimFiles[2]\n",
        "stim4 = stimFiles[3]\n",
        "stim5 = stimFiles[4]\n",
        "stim6 = stimFiles[5]\n",
        "stim7 = stimFiles[6]\n",
        "stim8 = stimFiles[7]\n"
      ],
      "execution_count": null,
      "outputs": []
    },
    {
      "cell_type": "code",
      "metadata": {
        "id": "ZpoZNcGmqK1V",
        "colab": {
          "base_uri": "https://localhost:8080/",
          "height": 116,
          "referenced_widgets": [
            "06a1bab732234a6cb888443425967f3e",
            "3808a53bf180412cb5918491656a81a1",
            "76856d10c9504af2ae2a843721e97360",
            "dc6e49b2bf24423497af373a7417d829",
            "dde80995dbd14c999bbca76e60e915d6",
            "84a1427cd41e4648b60db1a9b5f5cd4b",
            "561105ad446143a79b2686ea4e3204e4",
            "945f1cba6d5644339bb090a0c308021d",
            "465460b4dca94b1faa2bb68d87f86ba8",
            "afbcb11c1de148dd9ad19f0b4bfbb4c9",
            "5d55cff97fee4f43805a8a2c015c3924",
            "75de5e1ee6d7419d9c664e39bf465dc9",
            "0fd00f5a0cd4401493dd3e0883c81e77",
            "35bf466c7e224a63ab3c093f003123ad",
            "c03ead23f6b34044a22ce1b9b665e169",
            "2f4fe81ed007435e84ef6028119f2743"
          ]
        },
        "outputId": "ddba9767-7f74-404d-9d90-448745858b1b"
      },
      "source": [
        "#Get original, CellRanger clustered starvation adata\n",
        "#!wget --quiet https://caltech.box.com/shared/static/ts2i8pid7uky28kke4duyl8jwugx8z4h\n",
        "download_file('10.22002/D1.1798','.gz')\n",
        "\n",
        "#Names from Stim ClickTags\n",
        "#!wget --quiet https://caltech.box.com/shared/static/saiqluf1i7m8jx6vwaf7b4z2psq7cv27\n",
        "\n",
        "download_file('10.22002/D1.1817','.gz')\n",
        "\n"
      ],
      "execution_count": null,
      "outputs": [
        {
          "output_type": "stream",
          "text": [
            "/usr/local/lib/python3.6/dist-packages/ipykernel_launcher.py:18: TqdmDeprecationWarning: Please use `tqdm.notebook.trange` instead of `tqdm.tnrange`\n"
          ],
          "name": "stderr"
        },
        {
          "output_type": "display_data",
          "data": {
            "application/vnd.jupyter.widget-view+json": {
              "model_id": "06a1bab732234a6cb888443425967f3e",
              "version_minor": 0,
              "version_major": 2
            },
            "text/plain": [
              "HBox(children=(FloatProgress(value=0.0, max=45376.0), HTML(value='')))"
            ]
          },
          "metadata": {
            "tags": []
          }
        },
        {
          "output_type": "display_data",
          "data": {
            "application/vnd.jupyter.widget-view+json": {
              "model_id": "465460b4dca94b1faa2bb68d87f86ba8",
              "version_minor": 0,
              "version_major": 2
            },
            "text/plain": [
              "HBox(children=(FloatProgress(value=0.0, max=183.0), HTML(value='')))"
            ]
          },
          "metadata": {
            "tags": []
          }
        },
        {
          "output_type": "execute_result",
          "data": {
            "application/vnd.google.colaboratory.intrinsic+json": {
              "type": "string"
            },
            "text/plain": [
              "'D1.1817.gz'"
            ]
          },
          "metadata": {
            "tags": []
          },
          "execution_count": 6
        }
      ]
    },
    {
      "cell_type": "code",
      "metadata": {
        "id": "gzWVyI4PWqi1"
      },
      "source": [
        "!gunzip *.gz"
      ],
      "execution_count": null,
      "outputs": []
    },
    {
      "cell_type": "code",
      "metadata": {
        "id": "2iEq4BbbsDsL",
        "colab": {
          "base_uri": "https://localhost:8080/"
        },
        "outputId": "d06df72b-8f05-4990-a9ea-17a2cf8954f6"
      },
      "source": [
        "!pip install --quiet anndata\n",
        "!pip install --quiet scanpy\n",
        "!pip install --quiet louvain"
      ],
      "execution_count": null,
      "outputs": [
        {
          "output_type": "stream",
          "text": [
            "\u001b[K     |████████████████████████████████| 122kB 7.6MB/s \n",
            "\u001b[K     |████████████████████████████████| 7.7MB 6.5MB/s \n",
            "\u001b[K     |████████████████████████████████| 51kB 6.6MB/s \n",
            "\u001b[K     |████████████████████████████████| 71kB 9.2MB/s \n",
            "\u001b[?25h  Building wheel for sinfo (setup.py) ... \u001b[?25l\u001b[?25hdone\n",
            "\u001b[K     |████████████████████████████████| 2.2MB 9.6MB/s \n",
            "\u001b[K     |████████████████████████████████| 3.2MB 45.6MB/s \n",
            "\u001b[?25h"
          ],
          "name": "stdout"
        }
      ]
    },
    {
      "cell_type": "code",
      "metadata": {
        "id": "5WmLsw20n84I"
      },
      "source": [
        "import pandas as pd\n",
        "import anndata\n",
        "import scanpy as sc\n",
        "import numpy as np\n",
        "import scipy.sparse\n",
        "\n",
        "import matplotlib.pyplot as plt\n",
        "%matplotlib inline\n",
        "sc.set_figure_params(dpi=125)"
      ],
      "execution_count": null,
      "outputs": []
    },
    {
      "cell_type": "markdown",
      "metadata": {
        "id": "Lw5ZtHL1pQmc"
      },
      "source": [
        "### **Run kallisto bus on data with Starvation data**\n",
        "\n"
      ]
    },
    {
      "cell_type": "code",
      "metadata": {
        "id": "2BS7MYZgSm4Y",
        "colab": {
          "base_uri": "https://localhost:8080/"
        },
        "outputId": "2dd93666-6957-44c6-dd65-929047d63576"
      },
      "source": [
        "#Make Kallisto index (referene https://www.kallistobus.tools/getting_started)\n",
        "!mv D1.1825 transcripts.fa\n",
        "!kallisto index -i clytia_trin.idx -k 31 transcripts.fa"
      ],
      "execution_count": null,
      "outputs": [
        {
          "output_type": "stream",
          "text": [
            "\n",
            "[build] loading fasta file transcripts.fa\n",
            "[build] k-mer length: 31\n",
            "[build] warning: clipped off poly-A tail (longer than 10)\n",
            "        from 30 target sequences\n",
            "[build] warning: replaced 205989 non-ACGUT characters in the input sequence\n",
            "        with pseudorandom nucleotides\n",
            "[build] counting k-mers ... tcmalloc: large alloc 1610612736 bytes == 0x6a69c000 @  0x7f71df7d61e7 0x6f46bd 0x6f4739 0x4af899 0x4a7a68 0x4aec09 0x44e175 0x7f71de7f2bf7 0x452f19\n",
            "done.\n",
            "[build] building target de Bruijn graph ...  done \n",
            "[build] creating equivalence classes ...  done\n",
            "[build] target de Bruijn graph has 410850 contigs and contains 61068880 k-mers \n",
            "\n"
          ],
          "name": "stdout"
        }
      ]
    },
    {
      "cell_type": "markdown",
      "metadata": {
        "id": "U0wHSp3BTrQN"
      },
      "source": [
        "Run kallisto for one set of samples"
      ]
    },
    {
      "cell_type": "code",
      "metadata": {
        "id": "RZiGNdecTXo6",
        "colab": {
          "base_uri": "https://localhost:8080/"
        },
        "outputId": "d6cdd115-2f0e-46c7-c8b0-151da9f32b0f"
      },
      "source": [
        "#Create BUS files from fastq's, can't do separate lines\n",
        "!mkfifo R1.gz R2.gz R1_02.gz R2_02.gz R1_03.gz R2_03.gz R1_04.gz R2_04.gz; curl -Ls $s1 > R1.gz & curl -Ls $s2 > R2.gz & curl -Ls $s3 > R1_02.gz & curl -Ls $s4 > R2_02.gz & curl -Ls $s5 > R1_03.gz & curl -Ls $s6 > R2_03.gz & curl -Ls $s7 > R1_04.gz & curl -Ls $s8 > R2_04.gz & kallisto bus -i clytia_trin.idx -o bus_output/ -x 10xv2 -t 2 R1.gz R2.gz R1_02.gz R2_02.gz R1_03.gz R2_03.gz R1_04.gz R2_04.gz \n"
      ],
      "execution_count": null,
      "outputs": [
        {
          "output_type": "stream",
          "text": [
            "\n",
            "[index] k-mer length: 31\n",
            "[index] number of targets: 113,915\n",
            "[index] number of k-mers: 61,068,880\n",
            "tcmalloc: large alloc 1610612736 bytes == 0x2498000 @  0x7fd16fd721e7 0x6f46bd 0x6f4739 0x4af899 0x4a9a10 0x44e2bc 0x7fd16ed8ebf7 0x452f19\n",
            "[index] number of equivalence classes: 245,726\n",
            "[quant] will process sample 1: R1.gz\n",
            "                               R2.gz\n",
            "[quant] will process sample 2: R1_02.gz\n",
            "                               R2_02.gz\n",
            "[quant] will process sample 3: R1_03.gz\n",
            "                               R2_03.gz\n",
            "[quant] will process sample 4: R1_04.gz\n",
            "                               R2_04.gz\n",
            "[quant] finding pseudoalignments for the reads ... done\n",
            "[quant] processed 219,421,150 reads, 188,296,358 reads pseudoaligned\n",
            "\n"
          ],
          "name": "stdout"
        }
      ]
    },
    {
      "cell_type": "code",
      "metadata": {
        "id": "NIgYOcC9Tf0o"
      },
      "source": [
        "#Generate gene-count matrices\n",
        "!wget --quiet https://github.com/bustools/getting_started/releases/download/getting_started/10xv2_whitelist.txt\n",
        "\n",
        "#Make t2g file\n",
        "!mv D1.1824 trinity.gff3\n",
        "!awk '{ print $12\"\\t\"$10}' trinity.gff3  > t2g_rough.txt\n",
        "!sed 's/[\";]//g' t2g_rough.txt > t2g_trin.txt\n",
        "\n",
        "\n"
      ],
      "execution_count": null,
      "outputs": []
    },
    {
      "cell_type": "code",
      "metadata": {
        "id": "lUE_RQTWfcQz",
        "colab": {
          "base_uri": "https://localhost:8080/"
        },
        "outputId": "2cbeb79a-df89-4fa3-8176-22a025fc8af3"
      },
      "source": [
        "#!cd bus_output/\n",
        "!mkdir bus_output/genecount/ bus_output/tmp/\n",
        "\n",
        "!bustools correct -w 10xv2_whitelist.txt -p bus_output/output.bus | bustools sort -T bus_output/tmptmp/ -t 2 -p - | bustools count -o bus_output/genecount/genes -g t2g_trin.txt -e bus_output/matrix.ec -t bus_output/transcripts.txt --genecounts -"
      ],
      "execution_count": null,
      "outputs": [
        {
          "output_type": "stream",
          "text": [
            "Found 737280 barcodes in the whitelist\n",
            "Processed 188296358 BUS records\n",
            "In whitelist = 179043072\n",
            "Corrected = 3009765\n",
            "Uncorrected = 6243521\n",
            "Read in 182052837 BUS records\n"
          ],
          "name": "stdout"
        }
      ]
    },
    {
      "cell_type": "markdown",
      "metadata": {
        "id": "wxD1HzygTvcE"
      },
      "source": [
        "Run kallisto for other sample set"
      ]
    },
    {
      "cell_type": "code",
      "metadata": {
        "id": "u89nNlMdTyoV",
        "colab": {
          "base_uri": "https://localhost:8080/"
        },
        "outputId": "1373a52a-5cb7-44fb-c2a9-82123885512b"
      },
      "source": [
        "#Create BUS files from fastq's\n",
        "!mkfifo R1_new.gz R2_new.gz R1_02_new.gz R2_02_new.gz R1_03_new.gz R2_03_new.gz R1_04_new.gz R2_04_new.gz; curl -Ls $s9 > R1_new.gz & curl -Ls $s10 > R2_new.gz & curl -Ls $s11 > R1_02_new.gz & curl -Ls $s12 > R2_02_new.gz & curl -Ls $s13 > R1_03_new.gz & curl -Ls $s14 > R2_03_new.gz & curl -Ls $s15 > R1_04_new.gz & curl -Ls $s16 > R2_04_new.gz & kallisto bus -i clytia_trin.idx -o bus_output_02/ -x 10xv2 -t 2 R1_new.gz R2_new.gz R1_02_new.gz R2_02_new.gz R1_03_new.gz R2_03_new.gz R1_04_new.gz R2_04_new.gz "
      ],
      "execution_count": null,
      "outputs": [
        {
          "output_type": "stream",
          "text": [
            "\n",
            "[index] k-mer length: 31\n",
            "[index] number of targets: 113,915\n",
            "[index] number of k-mers: 61,068,880\n",
            "tcmalloc: large alloc 1610612736 bytes == 0x31d2000 @  0x7fb6760911e7 0x6f46bd 0x6f4739 0x4af899 0x4a9a10 0x44e2bc 0x7fb6750adbf7 0x452f19\n",
            "[index] number of equivalence classes: 245,726\n",
            "[quant] will process sample 1: R1_new.gz\n",
            "                               R2_new.gz\n",
            "[quant] will process sample 2: R1_02_new.gz\n",
            "                               R2_02_new.gz\n",
            "[quant] will process sample 3: R1_03_new.gz\n",
            "                               R2_03_new.gz\n",
            "[quant] will process sample 4: R1_04_new.gz\n",
            "                               R2_04_new.gz\n",
            "[quant] finding pseudoalignments for the reads ... done\n",
            "[quant] processed 245,357,482 reads, 211,673,174 reads pseudoaligned\n",
            "\n"
          ],
          "name": "stdout"
        }
      ]
    },
    {
      "cell_type": "code",
      "metadata": {
        "id": "ly1VEne6TyoY",
        "colab": {
          "base_uri": "https://localhost:8080/"
        },
        "outputId": "ed376c87-726c-4736-b769-5a54ced8de6b"
      },
      "source": [
        "#Generate gene-count matrices\n",
        "!cd bus_output_02/\n",
        "!mkdir bus_output_02/genecount/ bus_output_02/tmp/\n",
        "\n",
        "!bustools correct -w 10xv2_whitelist.txt -p bus_output_02/output.bus | bustools sort -T bus_output_02/tmp/ -t 2 -p -  | bustools count -o bus_output_02/genecount/genes -g t2g_trin.txt -e bus_output_02/matrix.ec -t bus_output_02/transcripts.txt --genecounts -"
      ],
      "execution_count": null,
      "outputs": [
        {
          "output_type": "stream",
          "text": [
            "Found 737280 barcodes in the whitelist\n",
            "Processed 211673174 BUS records\n",
            "In whitelist = 201242063\n",
            "Corrected = 3408308\n",
            "Uncorrected = 7022803\n",
            "Read in 204650371 BUS records\n"
          ],
          "name": "stdout"
        }
      ]
    },
    {
      "cell_type": "markdown",
      "metadata": {
        "id": "FmFy0KoKTz5D"
      },
      "source": [
        "Merge matrices (Add -1 to first and -2 to second dataset)"
      ]
    },
    {
      "cell_type": "code",
      "metadata": {
        "id": "pK1rsIu1T36J"
      },
      "source": [
        "path = \"bus_output/genecount/\"\n",
        "jelly_adata_01 = sc.read(path+'genes.mtx', cache=True)\n",
        "jelly_adata_01.var_names = pd.read_csv(path+'genes.genes.txt', header=None)[0]\n",
        "jelly_adata_01.obs_names = pd.read_csv(path+'genes.barcodes.txt', header=None)[0]\n",
        "\n",
        "jelly_adata_01.obs_names = [i+\"-1\" for i in jelly_adata_01.obs_names]"
      ],
      "execution_count": null,
      "outputs": []
    },
    {
      "cell_type": "code",
      "metadata": {
        "id": "2h1ZCLJXT5Bs"
      },
      "source": [
        "path = \"bus_output_02/genecount/\"\n",
        "jelly_adata_02 = sc.read(path+'genes.mtx', cache=True)\n",
        "jelly_adata_02.var_names = pd.read_csv(path+'genes.genes.txt', header=None)[0]\n",
        "jelly_adata_02.obs_names = pd.read_csv(path+'genes.barcodes.txt', header=None)[0]\n",
        "\n",
        "jelly_adata_02.obs_names = [i+\"-2\" for i in jelly_adata_02.obs_names]"
      ],
      "execution_count": null,
      "outputs": []
    },
    {
      "cell_type": "code",
      "metadata": {
        "id": "P1W9dmtnT5Fp"
      },
      "source": [
        "jelly_adata = jelly_adata_01.concatenate(jelly_adata_02,join='outer', index_unique=None)"
      ],
      "execution_count": null,
      "outputs": []
    },
    {
      "cell_type": "code",
      "metadata": {
        "id": "l_AZ_wvlXzTk",
        "colab": {
          "base_uri": "https://localhost:8080/"
        },
        "outputId": "af4753c0-ac7e-4501-f96b-a0632ea776fa"
      },
      "source": [
        "# Filter barcodes by 'real' cells\n",
        "cellR = anndata.read('D1.1798')\n",
        "cells = list(cellR.obs_names)\n",
        "\n",
        "jelly_adata = jelly_adata[cells,:]\n",
        "jelly_adata"
      ],
      "execution_count": null,
      "outputs": [
        {
          "output_type": "execute_result",
          "data": {
            "text/plain": [
              "View of AnnData object with n_obs × n_vars = 13673 × 46716\n",
              "    obs: 'batch'"
            ]
          },
          "metadata": {
            "tags": []
          },
          "execution_count": 21
        }
      ]
    },
    {
      "cell_type": "code",
      "metadata": {
        "id": "fM3_ngiYT5dj"
      },
      "source": [
        "jelly_adata.write('fedStarved_raw.h5ad')"
      ],
      "execution_count": null,
      "outputs": []
    },
    {
      "cell_type": "markdown",
      "metadata": {
        "id": "oHARSeqvYgc_"
      },
      "source": [
        "### **Run kallisto bus on data with Stimulation data**\n",
        "\n",
        "\n"
      ]
    },
    {
      "cell_type": "markdown",
      "metadata": {
        "id": "1RoMlXMoYgdG"
      },
      "source": [
        "Run kallisto for one set of samples"
      ]
    },
    {
      "cell_type": "code",
      "metadata": {
        "id": "OrsvTe4kYgdH"
      },
      "source": [
        "#Create BUS files from fastq's, can't do separate lines\n",
        "!mkfifo R1_stim.gz R2_stim.gz R1_02_stim.gz R2_02_stim.gz ; curl -Ls $stim1 > R1_stim.gz & curl -Ls $stim2 > R2_stim.gz & curl -Ls $stim3 > R1_02_stim.gz & curl -Ls $stim4 > R2_02_stim.gz & kallisto bus -i clytia_trin.idx -o bus_output/ -x 10xv3 -t 2 R1_stim.gz R2_stim.gz R1_02_stim.gz R2_02_stim.gz\n",
        "\n"
      ],
      "execution_count": null,
      "outputs": []
    },
    {
      "cell_type": "code",
      "metadata": {
        "id": "J_WVkvNTYgdM"
      },
      "source": [
        "#Generate gene-count matrices\n",
        "!wget --quiet https://github.com/bustools/getting_started/releases/download/getting_started/10xv3_whitelist.txt\n"
      ],
      "execution_count": null,
      "outputs": []
    },
    {
      "cell_type": "code",
      "metadata": {
        "id": "0uXrKm7WYgdQ"
      },
      "source": [
        "#!cd bus_output/\n",
        "!mkdir bus_output/genecount/ bus_output/tmp/\n",
        "\n",
        "!bustools correct -w 10xv3_whitelist.txt -p bus_output/output.bus | bustools sort -T bus_output/tmptmp/ -t 2 -p - | bustools count -o bus_output/genecount/genes -g t2g_trin.txt -e bus_output/matrix.ec -t bus_output/transcripts.txt --genecounts -"
      ],
      "execution_count": null,
      "outputs": []
    },
    {
      "cell_type": "code",
      "metadata": {
        "id": "WUoz_i50YgdS"
      },
      "source": [
        "!ls test"
      ],
      "execution_count": null,
      "outputs": []
    },
    {
      "cell_type": "markdown",
      "metadata": {
        "id": "wsGhFlcqYgdV"
      },
      "source": [
        "Run kallisto for other sample set"
      ]
    },
    {
      "cell_type": "code",
      "metadata": {
        "id": "N-FhmQXbYgdW"
      },
      "source": [
        "#Create BUS files from fastq's\n",
        "\n",
        "!mkfifo R1_stim2.gz R2_stim2.gz R1_02_stim2.gz R2_02_stim2.gz ; curl -Ls $stim5 > R1_stim2.gz & curl -Ls $stim6 > R2_stim2.gz & curl -Ls $stim7 > R1_02_stim2.gz & curl -Ls $stim8 > R2_02_stim2.gz & kallisto bus -i clytia_trin.idx -o bus_output_02/ -x 10xv3 -t 2 R1_stim2.gz R2_stim2.gz R1_02_stim2.gz R2_02_stim2.gz\n"
      ],
      "execution_count": null,
      "outputs": []
    },
    {
      "cell_type": "code",
      "metadata": {
        "id": "Xed7_x4iYgdZ"
      },
      "source": [
        "#Generate gene-count matrices\n",
        "!cd bus_output_02/\n",
        "!mkdir bus_output_02/genecount/ bus_output_02/tmp/\n",
        "\n",
        "!bustools correct -w 10xv3_whitelist.txt -p bus_output_02/output.bus | bustools sort -T bus_output_02/tmp/ -t 2 -p -  | bustools count -o bus_output_02/genecount/genes -g t2g_trin.txt -e bus_output_02/matrix.ec -t bus_output_02/transcripts.txt --genecounts -"
      ],
      "execution_count": null,
      "outputs": []
    },
    {
      "cell_type": "code",
      "metadata": {
        "id": "AIvzbe6HYgdf"
      },
      "source": [
        ""
      ],
      "execution_count": null,
      "outputs": []
    },
    {
      "cell_type": "code",
      "metadata": {
        "id": "fwM1TKOgYgdh"
      },
      "source": [
        ""
      ],
      "execution_count": null,
      "outputs": []
    },
    {
      "cell_type": "markdown",
      "metadata": {
        "id": "bNhHT8eiYgdj"
      },
      "source": [
        "Merge matrices (Add -1 to first and -2 to second dataset)"
      ]
    },
    {
      "cell_type": "code",
      "metadata": {
        "id": "8ErKJ3chYgdk"
      },
      "source": [
        "path = \"bus_output/genecount/\"\n",
        "jelly_adata_01 = sc.read(path+'genes.mtx', cache=True)\n",
        "jelly_adata_01.var_names = pd.read_csv(path+'genes.genes.txt', header=None)[0]\n",
        "jelly_adata_01.obs_names = pd.read_csv(path+'genes.barcodes.txt', header=None)[0]\n",
        "\n",
        "jelly_adata_01.obs_names = [i+\"-1\" for i in jelly_adata_01.obs_names]"
      ],
      "execution_count": null,
      "outputs": []
    },
    {
      "cell_type": "code",
      "metadata": {
        "id": "6K88YwSzYgdn"
      },
      "source": [
        "path = \"bus_output_02/genecount/\"\n",
        "jelly_adata_02 = sc.read(path+'genes.mtx', cache=True)\n",
        "jelly_adata_02.var_names = pd.read_csv(path+'genes.genes.txt', header=None)[0]\n",
        "jelly_adata_02.obs_names = pd.read_csv(path+'genes.barcodes.txt', header=None)[0]\n",
        "\n",
        "jelly_adata_02.obs_names = [i+\"-2\" for i in jelly_adata_02.obs_names]"
      ],
      "execution_count": null,
      "outputs": []
    },
    {
      "cell_type": "code",
      "metadata": {
        "id": "cs1nTQ_4Ygdp"
      },
      "source": [
        "jelly_adata = jelly_adata_01.concatenate(jelly_adata_02,join='outer', index_unique=None)"
      ],
      "execution_count": null,
      "outputs": []
    },
    {
      "cell_type": "code",
      "metadata": {
        "id": "ERKOTY96Ygdu"
      },
      "source": [
        "# Filter barcodes by 'real' cells\n",
        "!mv D1.1817 jelly4stim_individs_tagCells_50k.mat\n",
        "barcodes_list = sio.loadmat('jelly4stim_individs_tagCells_50k.mat')\n",
        "barcodes_list.pop('__header__', None)\n",
        "barcodes_list.pop('__version__', None)\n",
        "barcodes_list.pop('__globals__', None)\n",
        "\n",
        "# Add all cell barcodes for each individual\n",
        "barcodes = []\n",
        "for b in barcodes_list:\n",
        "    if barcodes_list[b] != \"None\":\n",
        "        barcodes.append(b)\n",
        "\n",
        "print(len(barcodes))\n",
        "\n",
        "barcodes = [s.replace('-1', '-3') for s in barcodes]\n",
        "barcodes = [s.replace('-2', '-1') for s in barcodes]\n",
        "barcodes = [s.replace('-3', '-2') for s in barcodes]\n"
      ],
      "execution_count": null,
      "outputs": []
    },
    {
      "cell_type": "code",
      "metadata": {
        "id": "j9O5Ep-FZdj3"
      },
      "source": [
        "jelly_adata = jelly_adata[barcodes,:]"
      ],
      "execution_count": null,
      "outputs": []
    },
    {
      "cell_type": "code",
      "metadata": {
        "id": "3YGU50_pYgdw"
      },
      "source": [
        "jelly_adata.write('stimulation_raw.h5ad')"
      ],
      "execution_count": null,
      "outputs": []
    },
    {
      "cell_type": "code",
      "metadata": {
        "id": "LUQ8ypqpYgd0"
      },
      "source": [
        ""
      ],
      "execution_count": null,
      "outputs": []
    }
  ]
}