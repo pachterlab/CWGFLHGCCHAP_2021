{
  "nbformat": 4,
  "nbformat_minor": 0,
  "metadata": {
    "colab": {
      "name": "kallistoBusRuns_StarvAndStim.ipynb",
      "provenance": [],
      "collapsed_sections": [],
      "authorship_tag": "ABX9TyNxDISVJLoeL8GVq3x6dQ20",
      "include_colab_link": true
    },
    "kernelspec": {
      "name": "python3",
      "display_name": "Python 3"
    },
    "widgets": {
      "application/vnd.jupyter.widget-state+json": {
        "06b8606836804142baaab2b7c42a14cb": {
          "model_module": "@jupyter-widgets/controls",
          "model_name": "HBoxModel",
          "state": {
            "_view_name": "HBoxView",
            "_dom_classes": [],
            "_model_name": "HBoxModel",
            "_view_module": "@jupyter-widgets/controls",
            "_model_module_version": "1.5.0",
            "_view_count": null,
            "_view_module_version": "1.5.0",
            "box_style": "",
            "layout": "IPY_MODEL_29494dc83adf44fdbac36da7a84ab370",
            "_model_module": "@jupyter-widgets/controls",
            "children": [
              "IPY_MODEL_bf4ece4b7f6440a3b8b34a92d80952f0",
              "IPY_MODEL_caf98a0254cf4e0aad3705825bfaaf2c"
            ]
          }
        },
        "29494dc83adf44fdbac36da7a84ab370": {
          "model_module": "@jupyter-widgets/base",
          "model_name": "LayoutModel",
          "state": {
            "_view_name": "LayoutView",
            "grid_template_rows": null,
            "right": null,
            "justify_content": null,
            "_view_module": "@jupyter-widgets/base",
            "overflow": null,
            "_model_module_version": "1.2.0",
            "_view_count": null,
            "flex_flow": null,
            "width": null,
            "min_width": null,
            "border": null,
            "align_items": null,
            "bottom": null,
            "_model_module": "@jupyter-widgets/base",
            "top": null,
            "grid_column": null,
            "overflow_y": null,
            "overflow_x": null,
            "grid_auto_flow": null,
            "grid_area": null,
            "grid_template_columns": null,
            "flex": null,
            "_model_name": "LayoutModel",
            "justify_items": null,
            "grid_row": null,
            "max_height": null,
            "align_content": null,
            "visibility": null,
            "align_self": null,
            "height": null,
            "min_height": null,
            "padding": null,
            "grid_auto_rows": null,
            "grid_gap": null,
            "max_width": null,
            "order": null,
            "_view_module_version": "1.2.0",
            "grid_template_areas": null,
            "object_position": null,
            "object_fit": null,
            "grid_auto_columns": null,
            "margin": null,
            "display": null,
            "left": null
          }
        },
        "bf4ece4b7f6440a3b8b34a92d80952f0": {
          "model_module": "@jupyter-widgets/controls",
          "model_name": "FloatProgressModel",
          "state": {
            "_view_name": "ProgressView",
            "style": "IPY_MODEL_8383799e89ef4444a1393a0bf693d4ba",
            "_dom_classes": [],
            "description": "",
            "_model_name": "FloatProgressModel",
            "bar_style": "",
            "max": 23757,
            "_view_module": "@jupyter-widgets/controls",
            "_model_module_version": "1.5.0",
            "value": 23757,
            "_view_count": null,
            "_view_module_version": "1.5.0",
            "orientation": "horizontal",
            "min": 0,
            "description_tooltip": null,
            "_model_module": "@jupyter-widgets/controls",
            "layout": "IPY_MODEL_7875fb3c69454a438b88f46f32d00303"
          }
        },
        "caf98a0254cf4e0aad3705825bfaaf2c": {
          "model_module": "@jupyter-widgets/controls",
          "model_name": "HTMLModel",
          "state": {
            "_view_name": "HTMLView",
            "style": "IPY_MODEL_8db0a7a00414485a9ac54e72d9ddb762",
            "_dom_classes": [],
            "description": "",
            "_model_name": "HTMLModel",
            "placeholder": "​",
            "_view_module": "@jupyter-widgets/controls",
            "_model_module_version": "1.5.0",
            "value": " 23758/? [00:21&lt;00:00, 5898.59B/s]",
            "_view_count": null,
            "_view_module_version": "1.5.0",
            "description_tooltip": null,
            "_model_module": "@jupyter-widgets/controls",
            "layout": "IPY_MODEL_68da3251f1fb4be4b47c08a5fd854ccd"
          }
        },
        "8383799e89ef4444a1393a0bf693d4ba": {
          "model_module": "@jupyter-widgets/controls",
          "model_name": "ProgressStyleModel",
          "state": {
            "_view_name": "StyleView",
            "_model_name": "ProgressStyleModel",
            "description_width": "initial",
            "_view_module": "@jupyter-widgets/base",
            "_model_module_version": "1.5.0",
            "_view_count": null,
            "_view_module_version": "1.2.0",
            "bar_color": null,
            "_model_module": "@jupyter-widgets/controls"
          }
        },
        "7875fb3c69454a438b88f46f32d00303": {
          "model_module": "@jupyter-widgets/base",
          "model_name": "LayoutModel",
          "state": {
            "_view_name": "LayoutView",
            "grid_template_rows": null,
            "right": null,
            "justify_content": null,
            "_view_module": "@jupyter-widgets/base",
            "overflow": null,
            "_model_module_version": "1.2.0",
            "_view_count": null,
            "flex_flow": null,
            "width": null,
            "min_width": null,
            "border": null,
            "align_items": null,
            "bottom": null,
            "_model_module": "@jupyter-widgets/base",
            "top": null,
            "grid_column": null,
            "overflow_y": null,
            "overflow_x": null,
            "grid_auto_flow": null,
            "grid_area": null,
            "grid_template_columns": null,
            "flex": null,
            "_model_name": "LayoutModel",
            "justify_items": null,
            "grid_row": null,
            "max_height": null,
            "align_content": null,
            "visibility": null,
            "align_self": null,
            "height": null,
            "min_height": null,
            "padding": null,
            "grid_auto_rows": null,
            "grid_gap": null,
            "max_width": null,
            "order": null,
            "_view_module_version": "1.2.0",
            "grid_template_areas": null,
            "object_position": null,
            "object_fit": null,
            "grid_auto_columns": null,
            "margin": null,
            "display": null,
            "left": null
          }
        },
        "8db0a7a00414485a9ac54e72d9ddb762": {
          "model_module": "@jupyter-widgets/controls",
          "model_name": "DescriptionStyleModel",
          "state": {
            "_view_name": "StyleView",
            "_model_name": "DescriptionStyleModel",
            "description_width": "",
            "_view_module": "@jupyter-widgets/base",
            "_model_module_version": "1.5.0",
            "_view_count": null,
            "_view_module_version": "1.2.0",
            "_model_module": "@jupyter-widgets/controls"
          }
        },
        "68da3251f1fb4be4b47c08a5fd854ccd": {
          "model_module": "@jupyter-widgets/base",
          "model_name": "LayoutModel",
          "state": {
            "_view_name": "LayoutView",
            "grid_template_rows": null,
            "right": null,
            "justify_content": null,
            "_view_module": "@jupyter-widgets/base",
            "overflow": null,
            "_model_module_version": "1.2.0",
            "_view_count": null,
            "flex_flow": null,
            "width": null,
            "min_width": null,
            "border": null,
            "align_items": null,
            "bottom": null,
            "_model_module": "@jupyter-widgets/base",
            "top": null,
            "grid_column": null,
            "overflow_y": null,
            "overflow_x": null,
            "grid_auto_flow": null,
            "grid_area": null,
            "grid_template_columns": null,
            "flex": null,
            "_model_name": "LayoutModel",
            "justify_items": null,
            "grid_row": null,
            "max_height": null,
            "align_content": null,
            "visibility": null,
            "align_self": null,
            "height": null,
            "min_height": null,
            "padding": null,
            "grid_auto_rows": null,
            "grid_gap": null,
            "max_width": null,
            "order": null,
            "_view_module_version": "1.2.0",
            "grid_template_areas": null,
            "object_position": null,
            "object_fit": null,
            "grid_auto_columns": null,
            "margin": null,
            "display": null,
            "left": null
          }
        },
        "7624c5706a624052a1d3b339e2d0825b": {
          "model_module": "@jupyter-widgets/controls",
          "model_name": "HBoxModel",
          "state": {
            "_view_name": "HBoxView",
            "_dom_classes": [],
            "_model_name": "HBoxModel",
            "_view_module": "@jupyter-widgets/controls",
            "_model_module_version": "1.5.0",
            "_view_count": null,
            "_view_module_version": "1.5.0",
            "box_style": "",
            "layout": "IPY_MODEL_507673f1c7674933aa45229f900f766c",
            "_model_module": "@jupyter-widgets/controls",
            "children": [
              "IPY_MODEL_6c7943ae5ce34141a9be36a190d4c987",
              "IPY_MODEL_2528391f989a4f08a87a862b56007a40"
            ]
          }
        },
        "507673f1c7674933aa45229f900f766c": {
          "model_module": "@jupyter-widgets/base",
          "model_name": "LayoutModel",
          "state": {
            "_view_name": "LayoutView",
            "grid_template_rows": null,
            "right": null,
            "justify_content": null,
            "_view_module": "@jupyter-widgets/base",
            "overflow": null,
            "_model_module_version": "1.2.0",
            "_view_count": null,
            "flex_flow": null,
            "width": null,
            "min_width": null,
            "border": null,
            "align_items": null,
            "bottom": null,
            "_model_module": "@jupyter-widgets/base",
            "top": null,
            "grid_column": null,
            "overflow_y": null,
            "overflow_x": null,
            "grid_auto_flow": null,
            "grid_area": null,
            "grid_template_columns": null,
            "flex": null,
            "_model_name": "LayoutModel",
            "justify_items": null,
            "grid_row": null,
            "max_height": null,
            "align_content": null,
            "visibility": null,
            "align_self": null,
            "height": null,
            "min_height": null,
            "padding": null,
            "grid_auto_rows": null,
            "grid_gap": null,
            "max_width": null,
            "order": null,
            "_view_module_version": "1.2.0",
            "grid_template_areas": null,
            "object_position": null,
            "object_fit": null,
            "grid_auto_columns": null,
            "margin": null,
            "display": null,
            "left": null
          }
        },
        "6c7943ae5ce34141a9be36a190d4c987": {
          "model_module": "@jupyter-widgets/controls",
          "model_name": "FloatProgressModel",
          "state": {
            "_view_name": "ProgressView",
            "style": "IPY_MODEL_74a30598814342e69fbae7d47b5855ef",
            "_dom_classes": [],
            "description": "",
            "_model_name": "FloatProgressModel",
            "bar_style": "",
            "max": 4972,
            "_view_module": "@jupyter-widgets/controls",
            "_model_module_version": "1.5.0",
            "value": 4972,
            "_view_count": null,
            "_view_module_version": "1.5.0",
            "orientation": "horizontal",
            "min": 0,
            "description_tooltip": null,
            "_model_module": "@jupyter-widgets/controls",
            "layout": "IPY_MODEL_d0181918ae41456b8bdd55a2a2689962"
          }
        },
        "2528391f989a4f08a87a862b56007a40": {
          "model_module": "@jupyter-widgets/controls",
          "model_name": "HTMLModel",
          "state": {
            "_view_name": "HTMLView",
            "style": "IPY_MODEL_f574878e7f94481ba85cdff4932f16ac",
            "_dom_classes": [],
            "description": "",
            "_model_name": "HTMLModel",
            "placeholder": "​",
            "_view_module": "@jupyter-widgets/controls",
            "_model_module_version": "1.5.0",
            "value": " 4973/? [00:17&lt;00:00, 640.98B/s]",
            "_view_count": null,
            "_view_module_version": "1.5.0",
            "description_tooltip": null,
            "_model_module": "@jupyter-widgets/controls",
            "layout": "IPY_MODEL_48193ef8b92b4efab968be13d7f5e28d"
          }
        },
        "74a30598814342e69fbae7d47b5855ef": {
          "model_module": "@jupyter-widgets/controls",
          "model_name": "ProgressStyleModel",
          "state": {
            "_view_name": "StyleView",
            "_model_name": "ProgressStyleModel",
            "description_width": "initial",
            "_view_module": "@jupyter-widgets/base",
            "_model_module_version": "1.5.0",
            "_view_count": null,
            "_view_module_version": "1.2.0",
            "bar_color": null,
            "_model_module": "@jupyter-widgets/controls"
          }
        },
        "d0181918ae41456b8bdd55a2a2689962": {
          "model_module": "@jupyter-widgets/base",
          "model_name": "LayoutModel",
          "state": {
            "_view_name": "LayoutView",
            "grid_template_rows": null,
            "right": null,
            "justify_content": null,
            "_view_module": "@jupyter-widgets/base",
            "overflow": null,
            "_model_module_version": "1.2.0",
            "_view_count": null,
            "flex_flow": null,
            "width": null,
            "min_width": null,
            "border": null,
            "align_items": null,
            "bottom": null,
            "_model_module": "@jupyter-widgets/base",
            "top": null,
            "grid_column": null,
            "overflow_y": null,
            "overflow_x": null,
            "grid_auto_flow": null,
            "grid_area": null,
            "grid_template_columns": null,
            "flex": null,
            "_model_name": "LayoutModel",
            "justify_items": null,
            "grid_row": null,
            "max_height": null,
            "align_content": null,
            "visibility": null,
            "align_self": null,
            "height": null,
            "min_height": null,
            "padding": null,
            "grid_auto_rows": null,
            "grid_gap": null,
            "max_width": null,
            "order": null,
            "_view_module_version": "1.2.0",
            "grid_template_areas": null,
            "object_position": null,
            "object_fit": null,
            "grid_auto_columns": null,
            "margin": null,
            "display": null,
            "left": null
          }
        },
        "f574878e7f94481ba85cdff4932f16ac": {
          "model_module": "@jupyter-widgets/controls",
          "model_name": "DescriptionStyleModel",
          "state": {
            "_view_name": "StyleView",
            "_model_name": "DescriptionStyleModel",
            "description_width": "",
            "_view_module": "@jupyter-widgets/base",
            "_model_module_version": "1.5.0",
            "_view_count": null,
            "_view_module_version": "1.2.0",
            "_model_module": "@jupyter-widgets/controls"
          }
        },
        "48193ef8b92b4efab968be13d7f5e28d": {
          "model_module": "@jupyter-widgets/base",
          "model_name": "LayoutModel",
          "state": {
            "_view_name": "LayoutView",
            "grid_template_rows": null,
            "right": null,
            "justify_content": null,
            "_view_module": "@jupyter-widgets/base",
            "overflow": null,
            "_model_module_version": "1.2.0",
            "_view_count": null,
            "flex_flow": null,
            "width": null,
            "min_width": null,
            "border": null,
            "align_items": null,
            "bottom": null,
            "_model_module": "@jupyter-widgets/base",
            "top": null,
            "grid_column": null,
            "overflow_y": null,
            "overflow_x": null,
            "grid_auto_flow": null,
            "grid_area": null,
            "grid_template_columns": null,
            "flex": null,
            "_model_name": "LayoutModel",
            "justify_items": null,
            "grid_row": null,
            "max_height": null,
            "align_content": null,
            "visibility": null,
            "align_self": null,
            "height": null,
            "min_height": null,
            "padding": null,
            "grid_auto_rows": null,
            "grid_gap": null,
            "max_width": null,
            "order": null,
            "_view_module_version": "1.2.0",
            "grid_template_areas": null,
            "object_position": null,
            "object_fit": null,
            "grid_auto_columns": null,
            "margin": null,
            "display": null,
            "left": null
          }
        },
        "5e40ad3b71054ceaa5593594c5d9f2bc": {
          "model_module": "@jupyter-widgets/controls",
          "model_name": "HBoxModel",
          "state": {
            "_view_name": "HBoxView",
            "_dom_classes": [],
            "_model_name": "HBoxModel",
            "_view_module": "@jupyter-widgets/controls",
            "_model_module_version": "1.5.0",
            "_view_count": null,
            "_view_module_version": "1.5.0",
            "box_style": "",
            "layout": "IPY_MODEL_6a268cfa477e4f50be44b2ef6281e57d",
            "_model_module": "@jupyter-widgets/controls",
            "children": [
              "IPY_MODEL_17a22294c3c446438ab35dfba30cb084",
              "IPY_MODEL_5683268b435243deacf8352924d01ce6"
            ]
          }
        },
        "6a268cfa477e4f50be44b2ef6281e57d": {
          "model_module": "@jupyter-widgets/base",
          "model_name": "LayoutModel",
          "state": {
            "_view_name": "LayoutView",
            "grid_template_rows": null,
            "right": null,
            "justify_content": null,
            "_view_module": "@jupyter-widgets/base",
            "overflow": null,
            "_model_module_version": "1.2.0",
            "_view_count": null,
            "flex_flow": null,
            "width": null,
            "min_width": null,
            "border": null,
            "align_items": null,
            "bottom": null,
            "_model_module": "@jupyter-widgets/base",
            "top": null,
            "grid_column": null,
            "overflow_y": null,
            "overflow_x": null,
            "grid_auto_flow": null,
            "grid_area": null,
            "grid_template_columns": null,
            "flex": null,
            "_model_name": "LayoutModel",
            "justify_items": null,
            "grid_row": null,
            "max_height": null,
            "align_content": null,
            "visibility": null,
            "align_self": null,
            "height": null,
            "min_height": null,
            "padding": null,
            "grid_auto_rows": null,
            "grid_gap": null,
            "max_width": null,
            "order": null,
            "_view_module_version": "1.2.0",
            "grid_template_areas": null,
            "object_position": null,
            "object_fit": null,
            "grid_auto_columns": null,
            "margin": null,
            "display": null,
            "left": null
          }
        },
        "17a22294c3c446438ab35dfba30cb084": {
          "model_module": "@jupyter-widgets/controls",
          "model_name": "FloatProgressModel",
          "state": {
            "_view_name": "ProgressView",
            "style": "IPY_MODEL_f3536e94ff654af2a42230b9a622e73d",
            "_dom_classes": [],
            "description": "",
            "_model_name": "FloatProgressModel",
            "bar_style": "",
            "max": 45376,
            "_view_module": "@jupyter-widgets/controls",
            "_model_module_version": "1.5.0",
            "value": 45376,
            "_view_count": null,
            "_view_module_version": "1.5.0",
            "orientation": "horizontal",
            "min": 0,
            "description_tooltip": null,
            "_model_module": "@jupyter-widgets/controls",
            "layout": "IPY_MODEL_5ff9d564d28546228a639e823650d9f9"
          }
        },
        "5683268b435243deacf8352924d01ce6": {
          "model_module": "@jupyter-widgets/controls",
          "model_name": "HTMLModel",
          "state": {
            "_view_name": "HTMLView",
            "style": "IPY_MODEL_bd241251f1c342fabc1382065213e184",
            "_dom_classes": [],
            "description": "",
            "_model_name": "HTMLModel",
            "placeholder": "​",
            "_view_module": "@jupyter-widgets/controls",
            "_model_module_version": "1.5.0",
            "value": " 45377/? [00:20&lt;00:00, 21982.13B/s]",
            "_view_count": null,
            "_view_module_version": "1.5.0",
            "description_tooltip": null,
            "_model_module": "@jupyter-widgets/controls",
            "layout": "IPY_MODEL_60c4cd10b1fe4d33b9d70c63dd2a0bd8"
          }
        },
        "f3536e94ff654af2a42230b9a622e73d": {
          "model_module": "@jupyter-widgets/controls",
          "model_name": "ProgressStyleModel",
          "state": {
            "_view_name": "StyleView",
            "_model_name": "ProgressStyleModel",
            "description_width": "initial",
            "_view_module": "@jupyter-widgets/base",
            "_model_module_version": "1.5.0",
            "_view_count": null,
            "_view_module_version": "1.2.0",
            "bar_color": null,
            "_model_module": "@jupyter-widgets/controls"
          }
        },
        "5ff9d564d28546228a639e823650d9f9": {
          "model_module": "@jupyter-widgets/base",
          "model_name": "LayoutModel",
          "state": {
            "_view_name": "LayoutView",
            "grid_template_rows": null,
            "right": null,
            "justify_content": null,
            "_view_module": "@jupyter-widgets/base",
            "overflow": null,
            "_model_module_version": "1.2.0",
            "_view_count": null,
            "flex_flow": null,
            "width": null,
            "min_width": null,
            "border": null,
            "align_items": null,
            "bottom": null,
            "_model_module": "@jupyter-widgets/base",
            "top": null,
            "grid_column": null,
            "overflow_y": null,
            "overflow_x": null,
            "grid_auto_flow": null,
            "grid_area": null,
            "grid_template_columns": null,
            "flex": null,
            "_model_name": "LayoutModel",
            "justify_items": null,
            "grid_row": null,
            "max_height": null,
            "align_content": null,
            "visibility": null,
            "align_self": null,
            "height": null,
            "min_height": null,
            "padding": null,
            "grid_auto_rows": null,
            "grid_gap": null,
            "max_width": null,
            "order": null,
            "_view_module_version": "1.2.0",
            "grid_template_areas": null,
            "object_position": null,
            "object_fit": null,
            "grid_auto_columns": null,
            "margin": null,
            "display": null,
            "left": null
          }
        },
        "bd241251f1c342fabc1382065213e184": {
          "model_module": "@jupyter-widgets/controls",
          "model_name": "DescriptionStyleModel",
          "state": {
            "_view_name": "StyleView",
            "_model_name": "DescriptionStyleModel",
            "description_width": "",
            "_view_module": "@jupyter-widgets/base",
            "_model_module_version": "1.5.0",
            "_view_count": null,
            "_view_module_version": "1.2.0",
            "_model_module": "@jupyter-widgets/controls"
          }
        },
        "60c4cd10b1fe4d33b9d70c63dd2a0bd8": {
          "model_module": "@jupyter-widgets/base",
          "model_name": "LayoutModel",
          "state": {
            "_view_name": "LayoutView",
            "grid_template_rows": null,
            "right": null,
            "justify_content": null,
            "_view_module": "@jupyter-widgets/base",
            "overflow": null,
            "_model_module_version": "1.2.0",
            "_view_count": null,
            "flex_flow": null,
            "width": null,
            "min_width": null,
            "border": null,
            "align_items": null,
            "bottom": null,
            "_model_module": "@jupyter-widgets/base",
            "top": null,
            "grid_column": null,
            "overflow_y": null,
            "overflow_x": null,
            "grid_auto_flow": null,
            "grid_area": null,
            "grid_template_columns": null,
            "flex": null,
            "_model_name": "LayoutModel",
            "justify_items": null,
            "grid_row": null,
            "max_height": null,
            "align_content": null,
            "visibility": null,
            "align_self": null,
            "height": null,
            "min_height": null,
            "padding": null,
            "grid_auto_rows": null,
            "grid_gap": null,
            "max_width": null,
            "order": null,
            "_view_module_version": "1.2.0",
            "grid_template_areas": null,
            "object_position": null,
            "object_fit": null,
            "grid_auto_columns": null,
            "margin": null,
            "display": null,
            "left": null
          }
        },
        "868d26d99d70469f955d2f72d7bb0dcc": {
          "model_module": "@jupyter-widgets/controls",
          "model_name": "HBoxModel",
          "state": {
            "_view_name": "HBoxView",
            "_dom_classes": [],
            "_model_name": "HBoxModel",
            "_view_module": "@jupyter-widgets/controls",
            "_model_module_version": "1.5.0",
            "_view_count": null,
            "_view_module_version": "1.5.0",
            "box_style": "",
            "layout": "IPY_MODEL_c123c389509b4a2fbdfdc3155885da24",
            "_model_module": "@jupyter-widgets/controls",
            "children": [
              "IPY_MODEL_800c0037ac44444f86f0a7a567583936",
              "IPY_MODEL_a8c2fc3ef82c40678de01dd5beefcaa6"
            ]
          }
        },
        "c123c389509b4a2fbdfdc3155885da24": {
          "model_module": "@jupyter-widgets/base",
          "model_name": "LayoutModel",
          "state": {
            "_view_name": "LayoutView",
            "grid_template_rows": null,
            "right": null,
            "justify_content": null,
            "_view_module": "@jupyter-widgets/base",
            "overflow": null,
            "_model_module_version": "1.2.0",
            "_view_count": null,
            "flex_flow": null,
            "width": null,
            "min_width": null,
            "border": null,
            "align_items": null,
            "bottom": null,
            "_model_module": "@jupyter-widgets/base",
            "top": null,
            "grid_column": null,
            "overflow_y": null,
            "overflow_x": null,
            "grid_auto_flow": null,
            "grid_area": null,
            "grid_template_columns": null,
            "flex": null,
            "_model_name": "LayoutModel",
            "justify_items": null,
            "grid_row": null,
            "max_height": null,
            "align_content": null,
            "visibility": null,
            "align_self": null,
            "height": null,
            "min_height": null,
            "padding": null,
            "grid_auto_rows": null,
            "grid_gap": null,
            "max_width": null,
            "order": null,
            "_view_module_version": "1.2.0",
            "grid_template_areas": null,
            "object_position": null,
            "object_fit": null,
            "grid_auto_columns": null,
            "margin": null,
            "display": null,
            "left": null
          }
        },
        "800c0037ac44444f86f0a7a567583936": {
          "model_module": "@jupyter-widgets/controls",
          "model_name": "FloatProgressModel",
          "state": {
            "_view_name": "ProgressView",
            "style": "IPY_MODEL_be1c64516b934669ab55300b4cd72071",
            "_dom_classes": [],
            "description": "",
            "_model_name": "FloatProgressModel",
            "bar_style": "",
            "max": 183,
            "_view_module": "@jupyter-widgets/controls",
            "_model_module_version": "1.5.0",
            "value": 183,
            "_view_count": null,
            "_view_module_version": "1.5.0",
            "orientation": "horizontal",
            "min": 0,
            "description_tooltip": null,
            "_model_module": "@jupyter-widgets/controls",
            "layout": "IPY_MODEL_0a94c3cb59aa4f7eac39e909ebdbfc49"
          }
        },
        "a8c2fc3ef82c40678de01dd5beefcaa6": {
          "model_module": "@jupyter-widgets/controls",
          "model_name": "HTMLModel",
          "state": {
            "_view_name": "HTMLView",
            "style": "IPY_MODEL_27315c370f8b478d9d7b01dc5e0d1487",
            "_dom_classes": [],
            "description": "",
            "_model_name": "HTMLModel",
            "placeholder": "​",
            "_view_module": "@jupyter-widgets/controls",
            "_model_module_version": "1.5.0",
            "value": " 184/? [00:15&lt;00:00, 171.19B/s]",
            "_view_count": null,
            "_view_module_version": "1.5.0",
            "description_tooltip": null,
            "_model_module": "@jupyter-widgets/controls",
            "layout": "IPY_MODEL_e260ca13045b44159c96a2d4ef62006f"
          }
        },
        "be1c64516b934669ab55300b4cd72071": {
          "model_module": "@jupyter-widgets/controls",
          "model_name": "ProgressStyleModel",
          "state": {
            "_view_name": "StyleView",
            "_model_name": "ProgressStyleModel",
            "description_width": "initial",
            "_view_module": "@jupyter-widgets/base",
            "_model_module_version": "1.5.0",
            "_view_count": null,
            "_view_module_version": "1.2.0",
            "bar_color": null,
            "_model_module": "@jupyter-widgets/controls"
          }
        },
        "0a94c3cb59aa4f7eac39e909ebdbfc49": {
          "model_module": "@jupyter-widgets/base",
          "model_name": "LayoutModel",
          "state": {
            "_view_name": "LayoutView",
            "grid_template_rows": null,
            "right": null,
            "justify_content": null,
            "_view_module": "@jupyter-widgets/base",
            "overflow": null,
            "_model_module_version": "1.2.0",
            "_view_count": null,
            "flex_flow": null,
            "width": null,
            "min_width": null,
            "border": null,
            "align_items": null,
            "bottom": null,
            "_model_module": "@jupyter-widgets/base",
            "top": null,
            "grid_column": null,
            "overflow_y": null,
            "overflow_x": null,
            "grid_auto_flow": null,
            "grid_area": null,
            "grid_template_columns": null,
            "flex": null,
            "_model_name": "LayoutModel",
            "justify_items": null,
            "grid_row": null,
            "max_height": null,
            "align_content": null,
            "visibility": null,
            "align_self": null,
            "height": null,
            "min_height": null,
            "padding": null,
            "grid_auto_rows": null,
            "grid_gap": null,
            "max_width": null,
            "order": null,
            "_view_module_version": "1.2.0",
            "grid_template_areas": null,
            "object_position": null,
            "object_fit": null,
            "grid_auto_columns": null,
            "margin": null,
            "display": null,
            "left": null
          }
        },
        "27315c370f8b478d9d7b01dc5e0d1487": {
          "model_module": "@jupyter-widgets/controls",
          "model_name": "DescriptionStyleModel",
          "state": {
            "_view_name": "StyleView",
            "_model_name": "DescriptionStyleModel",
            "description_width": "",
            "_view_module": "@jupyter-widgets/base",
            "_model_module_version": "1.5.0",
            "_view_count": null,
            "_view_module_version": "1.2.0",
            "_model_module": "@jupyter-widgets/controls"
          }
        },
        "e260ca13045b44159c96a2d4ef62006f": {
          "model_module": "@jupyter-widgets/base",
          "model_name": "LayoutModel",
          "state": {
            "_view_name": "LayoutView",
            "grid_template_rows": null,
            "right": null,
            "justify_content": null,
            "_view_module": "@jupyter-widgets/base",
            "overflow": null,
            "_model_module_version": "1.2.0",
            "_view_count": null,
            "flex_flow": null,
            "width": null,
            "min_width": null,
            "border": null,
            "align_items": null,
            "bottom": null,
            "_model_module": "@jupyter-widgets/base",
            "top": null,
            "grid_column": null,
            "overflow_y": null,
            "overflow_x": null,
            "grid_auto_flow": null,
            "grid_area": null,
            "grid_template_columns": null,
            "flex": null,
            "_model_name": "LayoutModel",
            "justify_items": null,
            "grid_row": null,
            "max_height": null,
            "align_content": null,
            "visibility": null,
            "align_self": null,
            "height": null,
            "min_height": null,
            "padding": null,
            "grid_auto_rows": null,
            "grid_gap": null,
            "max_width": null,
            "order": null,
            "_view_module_version": "1.2.0",
            "grid_template_areas": null,
            "object_position": null,
            "object_fit": null,
            "grid_auto_columns": null,
            "margin": null,
            "display": null,
            "left": null
          }
        }
      }
    }
  },
  "cells": [
    {
      "cell_type": "markdown",
      "metadata": {
        "id": "view-in-github",
        "colab_type": "text"
      },
      "source": [
        "<a href=\"https://colab.research.google.com/github/pachterlab/CWGFLHGCCHAP_2021/blob/master/notebooks/Preprocessing/cDNAFiltering/kallistoBusRuns_StarvAndStim.ipynb\" target=\"_parent\"><img src=\"https://colab.research.google.com/assets/colab-badge.svg\" alt=\"Open In Colab\"/></a>"
      ]
    },
    {
      "cell_type": "code",
      "metadata": {
        "id": "oN2VaaIQ_zHw"
      },
      "source": [
        "!date"
      ],
      "execution_count": null,
      "outputs": []
    },
    {
      "cell_type": "code",
      "metadata": {
        "id": "qfirib2yPrHF"
      },
      "source": [
        "#Install kallisto and bustools\n",
        "\n",
        "!wget --quiet https://github.com/pachterlab/kallisto/releases/download/v0.46.2/kallisto_linux-v0.46.2.tar.gz\n",
        "!tar -xf kallisto_linux-v0.46.2.tar.gz\n",
        "!cp kallisto/kallisto /usr/local/bin/\n",
        "\n",
        "!wget --quiet https://github.com/BUStools/bustools/releases/download/v0.40.0/bustools_linux-v0.40.0.tar.gz\n",
        "!tar -xf bustools_linux-v0.40.0.tar.gz\n",
        "!cp bustools/bustools /usr/local/bin/"
      ],
      "execution_count": 1,
      "outputs": []
    },
    {
      "cell_type": "code",
      "metadata": {
        "id": "JrzLW-FjV3LA"
      },
      "source": [
        "import requests\n",
        "from tqdm import tnrange, tqdm_notebook\n",
        "def download_file(doi,ext):\n",
        "    url = 'https://api.datacite.org/dois/'+doi+'/media'\n",
        "    r = requests.get(url).json()\n",
        "    netcdf_url = r['data'][0]['attributes']['url']\n",
        "    r = requests.get(netcdf_url,stream=True)\n",
        "    #Set file name\n",
        "    fname = doi.split('/')[-1]+ext\n",
        "    #Download file with progress bar\n",
        "    if r.status_code == 403:\n",
        "        print(\"File Unavailable\")\n",
        "    if 'content-length' not in r.headers:\n",
        "        print(\"Did not get file\")\n",
        "    else:\n",
        "        with open(fname, 'wb') as f:\n",
        "            total_length = int(r.headers.get('content-length'))\n",
        "            pbar = tnrange(int(total_length/1024), unit=\"B\")\n",
        "            for chunk in r.iter_content(chunk_size=1024):\n",
        "                if chunk:\n",
        "                    pbar.update()\n",
        "                    f.write(chunk)\n",
        "        return fname"
      ],
      "execution_count": 13,
      "outputs": []
    },
    {
      "cell_type": "code",
      "metadata": {
        "id": "hxFD2QMnQ-xG",
        "colab": {
          "base_uri": "https://localhost:8080/",
          "height": 116,
          "referenced_widgets": [
            "06b8606836804142baaab2b7c42a14cb",
            "29494dc83adf44fdbac36da7a84ab370",
            "bf4ece4b7f6440a3b8b34a92d80952f0",
            "caf98a0254cf4e0aad3705825bfaaf2c",
            "8383799e89ef4444a1393a0bf693d4ba",
            "7875fb3c69454a438b88f46f32d00303",
            "8db0a7a00414485a9ac54e72d9ddb762",
            "68da3251f1fb4be4b47c08a5fd854ccd",
            "7624c5706a624052a1d3b339e2d0825b",
            "507673f1c7674933aa45229f900f766c",
            "6c7943ae5ce34141a9be36a190d4c987",
            "2528391f989a4f08a87a862b56007a40",
            "74a30598814342e69fbae7d47b5855ef",
            "d0181918ae41456b8bdd55a2a2689962",
            "f574878e7f94481ba85cdff4932f16ac",
            "48193ef8b92b4efab968be13d7f5e28d"
          ]
        },
        "outputId": "4ad8fcd5-b976-4829-c834-2ca42717274b"
      },
      "source": [
        "#Get reference data () fastq's)\n",
        "\n",
        "#Transcripts\n",
        "#!wget --quiet https://caltech.box.com/shared/static/use8yd40nlif8147y2vaf0j4j3wjy3vm\n",
        "download_file('10.22002/D1.1825','.gz')\n",
        "\n",
        "#Gff3 (TRINITY)\n",
        "#!wget --quiet https://caltech.box.com/shared/static/bh6ivy8xpatkwtw61cj50ahkt93kzuwv\n",
        "download_file('10.22002/D1.1824','.gz')\n",
        "\n"
      ],
      "execution_count": null,
      "outputs": [
        {
          "output_type": "stream",
          "text": [
            "/usr/local/lib/python3.6/dist-packages/ipykernel_launcher.py:18: TqdmDeprecationWarning: Please use `tqdm.notebook.trange` instead of `tqdm.tnrange`\n"
          ],
          "name": "stderr"
        },
        {
          "output_type": "display_data",
          "data": {
            "application/vnd.jupyter.widget-view+json": {
              "model_id": "06b8606836804142baaab2b7c42a14cb",
              "version_minor": 0,
              "version_major": 2
            },
            "text/plain": [
              "HBox(children=(FloatProgress(value=0.0, max=23757.0), HTML(value='')))"
            ]
          },
          "metadata": {
            "tags": []
          }
        },
        {
          "output_type": "display_data",
          "data": {
            "application/vnd.jupyter.widget-view+json": {
              "model_id": "7624c5706a624052a1d3b339e2d0825b",
              "version_minor": 0,
              "version_major": 2
            },
            "text/plain": [
              "HBox(children=(FloatProgress(value=0.0, max=4972.0), HTML(value='')))"
            ]
          },
          "metadata": {
            "tags": []
          }
        },
        {
          "output_type": "execute_result",
          "data": {
            "application/vnd.google.colaboratory.intrinsic+json": {
              "type": "string"
            },
            "text/plain": [
              "'D1.1824.gz'"
            ]
          },
          "metadata": {
            "tags": []
          },
          "execution_count": 4
        }
      ]
    },
    {
      "cell_type": "code",
      "metadata": {
        "id": "5uDqcKvT5hFt"
      },
      "source": [
        "# Get doi links for all Starvation cDNA fastq.gz files\n",
        "starvFiles = []\n",
        "dois = [] #16 numbers\n",
        "for doi in dois:\n",
        "  url = 'https://api.datacite.org/dois/'+doi+'/media'\n",
        "  r = requests.get(url).json()\n",
        "  netcdf_url = r['data'][0]['attributes']['url']\n",
        "\n",
        "  starvFiles += [netcdf_url]\n",
        "\n",
        "s1 = starvFiles[0]\n",
        "s2 = starvFiles[1]\n",
        "s3 = starvFiles[2]\n",
        "s4 = starvFiles[3]\n",
        "s5 = starvFiles[4]\n",
        "s6 = starvFiles[5]\n",
        "s7 = starvFiles[6]\n",
        "s8 = starvFiles[7]\n",
        "\n",
        "s9 = starvFiles[8]\n",
        "s10 = starvFiles[9]\n",
        "s11 = starvFiles[10]\n",
        "s12 = starvFiles[11]\n",
        "s13 = starvFiles[12]\n",
        "s14 = starvFiles[13]\n",
        "s15 = starvFiles[14]\n",
        "s16 = starvFiles[15]"
      ],
      "execution_count": null,
      "outputs": []
    },
    {
      "cell_type": "code",
      "metadata": {
        "id": "iOrWY2jM6FHF"
      },
      "source": [
        "# Get doi links for all Stimulation cDNA fastq.gz files\n",
        "stimFiles = []\n",
        "dois = [] #8 numbers\n",
        "for doi in dois:\n",
        "  url = 'https://api.datacite.org/dois/'+doi+'/media'\n",
        "  r = requests.get(url).json()\n",
        "  netcdf_url = r['data'][0]['attributes']['url']\n",
        "\n",
        "  stimFiles += [netcdf_url]\n",
        "\n",
        "\n",
        "stim1 = stimFiles[0]\n",
        "stim2 = stimFiles[1]\n",
        "stim3 = stimFiles[2]\n",
        "stim4 = stimFiles[3]\n",
        "stim5 = stimFiles[4]\n",
        "stim6 = stimFiles[5]\n",
        "stim7 = stimFiles[6]\n",
        "stim8 = stimFiles[7]\n"
      ],
      "execution_count": null,
      "outputs": []
    },
    {
      "cell_type": "code",
      "metadata": {
        "id": "ZpoZNcGmqK1V",
        "colab": {
          "base_uri": "https://localhost:8080/",
          "height": 98,
          "referenced_widgets": [
            "5e40ad3b71054ceaa5593594c5d9f2bc",
            "6a268cfa477e4f50be44b2ef6281e57d",
            "17a22294c3c446438ab35dfba30cb084",
            "5683268b435243deacf8352924d01ce6",
            "f3536e94ff654af2a42230b9a622e73d",
            "5ff9d564d28546228a639e823650d9f9",
            "bd241251f1c342fabc1382065213e184",
            "60c4cd10b1fe4d33b9d70c63dd2a0bd8",
            "868d26d99d70469f955d2f72d7bb0dcc",
            "c123c389509b4a2fbdfdc3155885da24",
            "800c0037ac44444f86f0a7a567583936",
            "a8c2fc3ef82c40678de01dd5beefcaa6",
            "be1c64516b934669ab55300b4cd72071",
            "0a94c3cb59aa4f7eac39e909ebdbfc49",
            "27315c370f8b478d9d7b01dc5e0d1487",
            "e260ca13045b44159c96a2d4ef62006f"
          ]
        },
        "outputId": "a9cf67fa-4710-451b-ea62-5f183ba68d97"
      },
      "source": [
        "#Get original, CellRanger data\n",
        "#!wget --quiet https://caltech.box.com/shared/static/ts2i8pid7uky28kke4duyl8jwugx8z4h\n",
        "download_file('10.22002/D1.1798','.gz')\n",
        "\n",
        "#Names from Stim ClickTags\n",
        "#!wget --quiet https://caltech.box.com/shared/static/saiqluf1i7m8jx6vwaf7b4z2psq7cv27\n",
        "\n",
        "download_file('10.22002/D1.1817','.gz')\n",
        "\n"
      ],
      "execution_count": null,
      "outputs": [
        {
          "output_type": "stream",
          "text": [
            "/usr/local/lib/python3.6/dist-packages/ipykernel_launcher.py:18: TqdmDeprecationWarning: Please use `tqdm.notebook.trange` instead of `tqdm.tnrange`\n"
          ],
          "name": "stderr"
        },
        {
          "output_type": "display_data",
          "data": {
            "application/vnd.jupyter.widget-view+json": {
              "model_id": "5e40ad3b71054ceaa5593594c5d9f2bc",
              "version_minor": 0,
              "version_major": 2
            },
            "text/plain": [
              "HBox(children=(FloatProgress(value=0.0, max=45376.0), HTML(value='')))"
            ]
          },
          "metadata": {
            "tags": []
          }
        },
        {
          "output_type": "display_data",
          "data": {
            "application/vnd.jupyter.widget-view+json": {
              "model_id": "868d26d99d70469f955d2f72d7bb0dcc",
              "version_minor": 0,
              "version_major": 2
            },
            "text/plain": [
              "HBox(children=(FloatProgress(value=0.0, max=183.0), HTML(value='')))"
            ]
          },
          "metadata": {
            "tags": []
          }
        }
      ]
    },
    {
      "cell_type": "code",
      "metadata": {
        "id": "gzWVyI4PWqi1"
      },
      "source": [
        "!gunzip *.gz"
      ],
      "execution_count": null,
      "outputs": []
    },
    {
      "cell_type": "code",
      "metadata": {
        "id": "2iEq4BbbsDsL",
        "colab": {
          "base_uri": "https://localhost:8080/"
        },
        "outputId": "df2de4f9-0dd7-483f-de38-d7d867568853"
      },
      "source": [
        "!pip install --quiet anndata\n",
        "!pip install --quiet scanpy\n",
        "!pip install --quiet louvain"
      ],
      "execution_count": 16,
      "outputs": [
        {
          "output_type": "stream",
          "text": [
            "\u001b[K     |████████████████████████████████| 122kB 11.4MB/s \n",
            "\u001b[K     |████████████████████████████████| 7.7MB 12.5MB/s \n",
            "\u001b[K     |████████████████████████████████| 71kB 8.4MB/s \n",
            "\u001b[K     |████████████████████████████████| 51kB 6.0MB/s \n",
            "\u001b[?25h  Building wheel for sinfo (setup.py) ... \u001b[?25l\u001b[?25hdone\n",
            "\u001b[K     |████████████████████████████████| 2.2MB 11.8MB/s \n",
            "\u001b[K     |████████████████████████████████| 3.2MB 51.6MB/s \n",
            "\u001b[?25h"
          ],
          "name": "stdout"
        }
      ]
    },
    {
      "cell_type": "code",
      "metadata": {
        "id": "5WmLsw20n84I"
      },
      "source": [
        "import pandas as pd\n",
        "import anndata\n",
        "import scanpy as sc\n",
        "import numpy as np\n",
        "import scipy.sparse\n",
        "\n",
        "import matplotlib.pyplot as plt\n",
        "%matplotlib inline\n",
        "sc.set_figure_params(dpi=125)"
      ],
      "execution_count": 17,
      "outputs": []
    },
    {
      "cell_type": "markdown",
      "metadata": {
        "id": "Lw5ZtHL1pQmc"
      },
      "source": [
        "### **Run kallisto bus on data with Starvation data**\n",
        "\n"
      ]
    },
    {
      "cell_type": "code",
      "metadata": {
        "id": "2BS7MYZgSm4Y",
        "colab": {
          "base_uri": "https://localhost:8080/"
        },
        "outputId": "63eb66d1-6b40-4df7-e96f-5556ab072a92"
      },
      "source": [
        "#Make Kallisto index (referene https://www.kallistobus.tools/getting_started)\n",
        "!mv D1.1825 transcripts.fa\n",
        "!kallisto index -i clytia_trin.idx -k 31 transcripts.fa"
      ],
      "execution_count": null,
      "outputs": [
        {
          "output_type": "stream",
          "text": [
            "\n",
            "[build] loading fasta file transcripts.fa\n",
            "[build] k-mer length: 31\n",
            "[build] warning: clipped off poly-A tail (longer than 10)\n",
            "        from 30 target sequences\n",
            "[build] warning: replaced 205989 non-ACGUT characters in the input sequence\n",
            "        with pseudorandom nucleotides\n",
            "[build] counting k-mers ... tcmalloc: large alloc 1610612736 bytes == 0x68af6000 @  0x7f8f107161e7 0x6f46bd 0x6f4739 0x4af899 0x4a7a68 0x4aec09 0x44e175 0x7f8f0f732bf7 0x452f19\n",
            "done.\n",
            "[build] building target de Bruijn graph ...  done \n",
            "[build] creating equivalence classes ...  done\n",
            "[build] target de Bruijn graph has 410850 contigs and contains 61068880 k-mers \n",
            "\n"
          ],
          "name": "stdout"
        }
      ]
    },
    {
      "cell_type": "markdown",
      "metadata": {
        "id": "U0wHSp3BTrQN"
      },
      "source": [
        "Run kallisto for one set of samples"
      ]
    },
    {
      "cell_type": "code",
      "metadata": {
        "id": "RZiGNdecTXo6"
      },
      "source": [
        "#Create BUS files from fastq's, can't do separate lines\n",
        "!mkfifo R1.gz R2.gz R1_02.gz R2_02.gz R1_03.gz R2_03.gz R1_04.gz R2_04.gz; curl -Ls $s1 > R1.gz & curl -Ls $s2 > R2.gz & curl -Ls $s3 > R1_02.gz & curl -Ls $s4 > R2_02.gz & curl -Ls $s5 > R1_03.gz & curl -Ls $s6 > R2_03.gz & curl -Ls $s7 > R1_04.gz & curl -Ls $s8 > R2_04.gz &\n",
        "kallisto bus -i clytia_trin.idx -o bus_output/ -x 10xv2 -t 8 \\\n",
        "/home/tchari/cDNA_fastqs/FT-BB01610/FT-SA16888_FT-TS91279/FT-SA16888_S1_L004_R1_001.fastq.gz \\\n",
        "/home/tchari/cDNA_fastqs/FT-BB01610/FT-SA16888_FT-TS91279/FT-SA16888_S1_L004_R2_001.fastq.gz \\\n",
        "/home/tchari/cDNA_fastqs/FT-BB01610/FT-SA16888_FT-TS91279/FT-SA16889_S2_L004_R1_001.fastq.gz \\\n",
        "/home/tchari/cDNA_fastqs/FT-BB01610/FT-SA16888_FT-TS91279/FT-SA16889_S2_L004_R2_001.fastq.gz \\\n",
        "/home/tchari/cDNA_fastqs/FT-BB01610/FT-SA16888_FT-TS91279/FT-SA16890_S3_L004_R1_001.fastq.gz \\\n",
        "/home/tchari/cDNA_fastqs/FT-BB01610/FT-SA16888_FT-TS91279/FT-SA16890_S3_L004_R2_001.fastq.gz \\\n",
        "/home/tchari/cDNA_fastqs/FT-BB01610/FT-SA16888_FT-TS91279/FT-SA16891_S4_L004_R1_001.fastq.gz \\\n",
        "/home/tchari/cDNA_fastqs/FT-BB01610/FT-SA16888_FT-TS91279/FT-SA16891_S4_L004_R2_001.fastq.gz\n"
      ],
      "execution_count": null,
      "outputs": []
    },
    {
      "cell_type": "code",
      "metadata": {
        "id": "NIgYOcC9Tf0o"
      },
      "source": [
        "#Generate gene-count matrices\n",
        "!wget --quiet https://github.com/bustools/getting_started/releases/download/getting_started/10xv2_whitelist.txt\n",
        "\n",
        "#Make t2g file\n",
        "!mv D1.1824 trinity.gff3\n",
        "!awk '{ print $12\"\\t\"$10}' trinity.gff3  > t2g_rough.txt\n",
        "!sed 's/[\";]//g' t2g_rough.txt > t2g_trin.txt\n",
        "\n",
        "\n"
      ],
      "execution_count": null,
      "outputs": []
    },
    {
      "cell_type": "code",
      "metadata": {
        "id": "lUE_RQTWfcQz"
      },
      "source": [
        "#!cd bus_output/\n",
        "!mkdir bus_output/genecount/ bus_output/tmp/\n",
        "\n",
        "!bustools correct -w 10xv2_whitelist.txt -p bus_output/output.bus | bustools sort -T bus_output/tmptmp/ -t 8 -p - | bustools count -o bus_output/genecount/genes -g t2g_trin.txt -e bus_output/matrix.ec -t bus_output/transcripts.txt --genecounts -"
      ],
      "execution_count": null,
      "outputs": []
    },
    {
      "cell_type": "code",
      "metadata": {
        "id": "-CIYlHqfTgB4"
      },
      "source": [
        "!ls test"
      ],
      "execution_count": null,
      "outputs": []
    },
    {
      "cell_type": "markdown",
      "metadata": {
        "id": "wxD1HzygTvcE"
      },
      "source": [
        "Run kallisto for other sample set"
      ]
    },
    {
      "cell_type": "code",
      "metadata": {
        "id": "u89nNlMdTyoV"
      },
      "source": [
        "#Create BUS files from fastq's\n",
        "!mkfifo R1.gz R2.gz R1_02.gz R2_02.gz R1_03.gz R2_03.gz R1_04.gz R2_04.gz; curl -Ls $s9 > R1.gz & curl -Ls $s10 > R2.gz & curl -Ls $s11 > R1_02.gz & curl -Ls $s12 > R2_02.gz & curl -Ls $s13 > R1_03.gz & curl -Ls $s14 > R2_03.gz & curl -Ls $s15 > R1_04.gz & curl -Ls $s16 > R2_04.gz &\n",
        "!kallisto bus -i clytia_trin.idx -o bus_output_02/ -x 10xv2 -t 8 \\\n",
        "/home/tchari/cDNA_fastqs/FT-BB01610/FT-SA16892_FT-TS91283/FT-SA16892_S5_L004_R1_001.fastq.gz \\\n",
        "/home/tchari/cDNA_fastqs/FT-BB01610/FT-SA16892_FT-TS91283/FT-SA16892_S5_L004_R2_001.fastq.gz \\\n",
        "/home/tchari/cDNA_fastqs/FT-BB01610/FT-SA16892_FT-TS91283/FT-SA16893_S6_L004_R1_001.fastq.gz \\\n",
        "/home/tchari/cDNA_fastqs/FT-BB01610/FT-SA16892_FT-TS91283/FT-SA16893_S6_L004_R2_001.fastq.gz \\\n",
        "/home/tchari/cDNA_fastqs/FT-BB01610/FT-SA16892_FT-TS91283/FT-SA16894_S7_L004_R1_001.fastq.gz \\\n",
        "/home/tchari/cDNA_fastqs/FT-BB01610/FT-SA16892_FT-TS91283/FT-SA16894_S7_L004_R2_001.fastq.gz \\\n",
        "/home/tchari/cDNA_fastqs/FT-BB01610/FT-SA16892_FT-TS91283/FT-SA16895_S8_L004_R1_001.fastq.gz \\\n",
        "/home/tchari/cDNA_fastqs/FT-BB01610/FT-SA16892_FT-TS91283/FT-SA16895_S8_L004_R2_001.fastq.gz\n"
      ],
      "execution_count": null,
      "outputs": []
    },
    {
      "cell_type": "code",
      "metadata": {
        "id": "ly1VEne6TyoY"
      },
      "source": [
        "#Generate gene-count matrices\n",
        "!cd bus_output_02/\n",
        "!mkdir bus_output_02/genecount/ bus_output_02/tmp/\n",
        "\n",
        "!bustools correct -w 10xv2_whitelist.txt -p bus_output_02/output.bus | bustools sort -T bus_output_02/tmp/ -t 8 -p -  | bustools count -o bus_output_02/genecount/genes -g t2g_trin.txt -e bus_output_02/matrix.ec -t bus_output_02/transcripts.txt --genecounts -"
      ],
      "execution_count": null,
      "outputs": []
    },
    {
      "cell_type": "code",
      "metadata": {
        "id": "DwYKaQDtTxvy"
      },
      "source": [
        ""
      ],
      "execution_count": null,
      "outputs": []
    },
    {
      "cell_type": "code",
      "metadata": {
        "id": "vo6dTY87Tx0C"
      },
      "source": [
        ""
      ],
      "execution_count": null,
      "outputs": []
    },
    {
      "cell_type": "markdown",
      "metadata": {
        "id": "FmFy0KoKTz5D"
      },
      "source": [
        "Merge matrices (Add -1 to first and -2 to second dataset)"
      ]
    },
    {
      "cell_type": "code",
      "metadata": {
        "id": "pK1rsIu1T36J"
      },
      "source": [
        "path = \"bus_output/genecount/\"\n",
        "jelly_adata_01 = sc.read(path+'genes.mtx', cache=True)\n",
        "jelly_adata_01.var_names = pd.read_csv(path+'genes.genes.txt', header=None)[0]\n",
        "jelly_adata_01.obs_names = pd.read_csv(path+'genes.barcodes.txt', header=None)[0]\n",
        "\n",
        "jelly_adata_01.obs_names = [i+\"-1\" for i in jelly_adata_01.obs_names]"
      ],
      "execution_count": null,
      "outputs": []
    },
    {
      "cell_type": "code",
      "metadata": {
        "id": "2h1ZCLJXT5Bs"
      },
      "source": [
        "path = \"bus_output_02/genecount/\"\n",
        "jelly_adata_02 = sc.read(path+'genes.mtx', cache=True)\n",
        "jelly_adata_02.var_names = pd.read_csv(path+'genes.genes.txt', header=None)[0]\n",
        "jelly_adata_02.obs_names = pd.read_csv(path+'genes.barcodes.txt', header=None)[0]\n",
        "\n",
        "jelly_adata_02.obs_names = [i+\"-2\" for i in jelly_adata_02.obs_names]"
      ],
      "execution_count": null,
      "outputs": []
    },
    {
      "cell_type": "code",
      "metadata": {
        "id": "P1W9dmtnT5Fp"
      },
      "source": [
        "jelly_adata = jelly_adata_01.concatenate(jelly_adata_02,join='outer', index_unique=None)"
      ],
      "execution_count": null,
      "outputs": []
    },
    {
      "cell_type": "code",
      "metadata": {
        "id": "l_AZ_wvlXzTk"
      },
      "source": [
        "# Filter barcodes by 'real' cells\n",
        "cellR = anndata.read('D1.1798')\n",
        "cells = list(cellR.obs_names)\n",
        "\n",
        "jelly_adata = jelly_adata[cells,:]"
      ],
      "execution_count": null,
      "outputs": []
    },
    {
      "cell_type": "code",
      "metadata": {
        "id": "fM3_ngiYT5dj"
      },
      "source": [
        "jelly_adata.write('fedStarved_raw.h5ad')"
      ],
      "execution_count": null,
      "outputs": []
    },
    {
      "cell_type": "markdown",
      "metadata": {
        "id": "oHARSeqvYgc_"
      },
      "source": [
        "### **Run kallisto bus on data with Stimulation data**\n",
        "\n",
        "\n"
      ]
    },
    {
      "cell_type": "markdown",
      "metadata": {
        "id": "1RoMlXMoYgdG"
      },
      "source": [
        "Run kallisto for one set of samples"
      ]
    },
    {
      "cell_type": "code",
      "metadata": {
        "id": "OrsvTe4kYgdH"
      },
      "source": [
        "#Create BUS files from fastq's, can't do separate lines\n",
        "!kallisto bus -i clytia_trin.idx -o bus_output/ -x 10xv3 -t 8 \\\n",
        "/home/tchari/cDNA_fastqs/FT-BB01610/FT-SA16888_FT-TS91279/FT-SA16888_S1_L004_R1_001.fastq.gz \\\n",
        "/home/tchari/cDNA_fastqs/FT-BB01610/FT-SA16888_FT-TS91279/FT-SA16888_S1_L004_R2_001.fastq.gz \\\n",
        "/home/tchari/cDNA_fastqs/FT-BB01610/FT-SA16888_FT-TS91279/FT-SA16889_S2_L004_R1_001.fastq.gz \\\n",
        "/home/tchari/cDNA_fastqs/FT-BB01610/FT-SA16888_FT-TS91279/FT-SA16889_S2_L004_R2_001.fastq.gz \\\n",
        "/home/tchari/cDNA_fastqs/FT-BB01610/FT-SA16888_FT-TS91279/FT-SA16890_S3_L004_R1_001.fastq.gz \\\n",
        "/home/tchari/cDNA_fastqs/FT-BB01610/FT-SA16888_FT-TS91279/FT-SA16890_S3_L004_R2_001.fastq.gz \\\n",
        "/home/tchari/cDNA_fastqs/FT-BB01610/FT-SA16888_FT-TS91279/FT-SA16891_S4_L004_R1_001.fastq.gz \\\n",
        "/home/tchari/cDNA_fastqs/FT-BB01610/FT-SA16888_FT-TS91279/FT-SA16891_S4_L004_R2_001.fastq.gz\n"
      ],
      "execution_count": null,
      "outputs": []
    },
    {
      "cell_type": "code",
      "metadata": {
        "id": "J_WVkvNTYgdM"
      },
      "source": [
        "#Generate gene-count matrices\n",
        "!wget --quiet https://github.com/bustools/getting_started/releases/download/getting_started/10xv3_whitelist.txt\n"
      ],
      "execution_count": null,
      "outputs": []
    },
    {
      "cell_type": "code",
      "metadata": {
        "id": "0uXrKm7WYgdQ"
      },
      "source": [
        "#!cd bus_output/\n",
        "!mkdir bus_output/genecount/ bus_output/tmp/\n",
        "\n",
        "!bustools correct -w 10xv3_whitelist.txt -p bus_output/output.bus | bustools sort -T bus_output/tmptmp/ -t 8 -p - | bustools count -o bus_output/genecount/genes -g t2g_trin.txt -e bus_output/matrix.ec -t bus_output/transcripts.txt --genecounts -"
      ],
      "execution_count": null,
      "outputs": []
    },
    {
      "cell_type": "code",
      "metadata": {
        "id": "WUoz_i50YgdS"
      },
      "source": [
        "!ls test"
      ],
      "execution_count": null,
      "outputs": []
    },
    {
      "cell_type": "markdown",
      "metadata": {
        "id": "wsGhFlcqYgdV"
      },
      "source": [
        "Run kallisto for other sample set"
      ]
    },
    {
      "cell_type": "code",
      "metadata": {
        "id": "N-FhmQXbYgdW"
      },
      "source": [
        "#Create BUS files from fastq's\n",
        "\n",
        "!kallisto bus -i clytia_trin.idx -o bus_output_02/ -x 10xv3 -t 8 \\\n",
        "/home/tchari/cDNA_fastqs/FT-BB01610/FT-SA16892_FT-TS91283/FT-SA16892_S5_L004_R1_001.fastq.gz \\\n",
        "/home/tchari/cDNA_fastqs/FT-BB01610/FT-SA16892_FT-TS91283/FT-SA16892_S5_L004_R2_001.fastq.gz \\\n",
        "/home/tchari/cDNA_fastqs/FT-BB01610/FT-SA16892_FT-TS91283/FT-SA16893_S6_L004_R1_001.fastq.gz \\\n",
        "/home/tchari/cDNA_fastqs/FT-BB01610/FT-SA16892_FT-TS91283/FT-SA16893_S6_L004_R2_001.fastq.gz \\\n",
        "/home/tchari/cDNA_fastqs/FT-BB01610/FT-SA16892_FT-TS91283/FT-SA16894_S7_L004_R1_001.fastq.gz \\\n",
        "/home/tchari/cDNA_fastqs/FT-BB01610/FT-SA16892_FT-TS91283/FT-SA16894_S7_L004_R2_001.fastq.gz \\\n",
        "/home/tchari/cDNA_fastqs/FT-BB01610/FT-SA16892_FT-TS91283/FT-SA16895_S8_L004_R1_001.fastq.gz \\\n",
        "/home/tchari/cDNA_fastqs/FT-BB01610/FT-SA16892_FT-TS91283/FT-SA16895_S8_L004_R2_001.fastq.gz\n"
      ],
      "execution_count": null,
      "outputs": []
    },
    {
      "cell_type": "code",
      "metadata": {
        "id": "Xed7_x4iYgdZ"
      },
      "source": [
        "#Generate gene-count matrices\n",
        "!cd bus_output_02/\n",
        "!mkdir bus_output_02/genecount/ bus_output_02/tmp/\n",
        "\n",
        "!bustools correct -w 10xv3_whitelist.txt -p bus_output_02/output.bus | bustools sort -T bus_output_02/tmp/ -t 8 -p -  | bustools count -o bus_output_02/genecount/genes -g t2g_trin.txt -e bus_output_02/matrix.ec -t bus_output_02/transcripts.txt --genecounts -"
      ],
      "execution_count": null,
      "outputs": []
    },
    {
      "cell_type": "code",
      "metadata": {
        "id": "AIvzbe6HYgdf"
      },
      "source": [
        ""
      ],
      "execution_count": null,
      "outputs": []
    },
    {
      "cell_type": "code",
      "metadata": {
        "id": "fwM1TKOgYgdh"
      },
      "source": [
        ""
      ],
      "execution_count": null,
      "outputs": []
    },
    {
      "cell_type": "markdown",
      "metadata": {
        "id": "bNhHT8eiYgdj"
      },
      "source": [
        "Merge matrices (Add -1 to first and -2 to second dataset)"
      ]
    },
    {
      "cell_type": "code",
      "metadata": {
        "id": "8ErKJ3chYgdk"
      },
      "source": [
        "path = \"bus_output/genecount/\"\n",
        "jelly_adata_01 = sc.read(path+'genes.mtx', cache=True)\n",
        "jelly_adata_01.var_names = pd.read_csv(path+'genes.genes.txt', header=None)[0]\n",
        "jelly_adata_01.obs_names = pd.read_csv(path+'genes.barcodes.txt', header=None)[0]\n",
        "\n",
        "jelly_adata_01.obs_names = [i+\"-1\" for i in jelly_adata_01.obs_names]"
      ],
      "execution_count": null,
      "outputs": []
    },
    {
      "cell_type": "code",
      "metadata": {
        "id": "6K88YwSzYgdn"
      },
      "source": [
        "path = \"bus_output_02/genecount/\"\n",
        "jelly_adata_02 = sc.read(path+'genes.mtx', cache=True)\n",
        "jelly_adata_02.var_names = pd.read_csv(path+'genes.genes.txt', header=None)[0]\n",
        "jelly_adata_02.obs_names = pd.read_csv(path+'genes.barcodes.txt', header=None)[0]\n",
        "\n",
        "jelly_adata_02.obs_names = [i+\"-2\" for i in jelly_adata_02.obs_names]"
      ],
      "execution_count": null,
      "outputs": []
    },
    {
      "cell_type": "code",
      "metadata": {
        "id": "cs1nTQ_4Ygdp"
      },
      "source": [
        "jelly_adata = jelly_adata_01.concatenate(jelly_adata_02,join='outer', index_unique=None)"
      ],
      "execution_count": null,
      "outputs": []
    },
    {
      "cell_type": "code",
      "metadata": {
        "id": "ERKOTY96Ygdu"
      },
      "source": [
        "# Filter barcodes by 'real' cells\n",
        "!mv D1.1817 jelly4stim_individs_tagCells_50k.mat\n",
        "barcodes_list = sio.loadmat('jelly4stim_individs_tagCells_50k.mat')\n",
        "barcodes_list.pop('__header__', None)\n",
        "barcodes_list.pop('__version__', None)\n",
        "barcodes_list.pop('__globals__', None)\n",
        "\n",
        "# Add all cell barcodes for each individual\n",
        "barcodes = []\n",
        "for b in barcodes_list:\n",
        "    if barcodes_list[b] != \"None\":\n",
        "        barcodes.append(b)\n",
        "\n",
        "print(len(barcodes))\n",
        "\n",
        "barcodes = [s.replace('-1', '-3') for s in barcodes]\n",
        "barcodes = [s.replace('-2', '-1') for s in barcodes]\n",
        "barcodes = [s.replace('-3', '-2') for s in barcodes]\n"
      ],
      "execution_count": null,
      "outputs": []
    },
    {
      "cell_type": "code",
      "metadata": {
        "id": "j9O5Ep-FZdj3"
      },
      "source": [
        "jelly_adata = jelly_adata[barcodes,:]"
      ],
      "execution_count": null,
      "outputs": []
    },
    {
      "cell_type": "code",
      "metadata": {
        "id": "3YGU50_pYgdw"
      },
      "source": [
        "jelly_adata.write('stimulation_raw.h5ad')"
      ],
      "execution_count": null,
      "outputs": []
    },
    {
      "cell_type": "code",
      "metadata": {
        "id": "LUQ8ypqpYgd0"
      },
      "source": [
        ""
      ],
      "execution_count": null,
      "outputs": []
    }
  ]
}