{
  "nbformat": 4,
  "nbformat_minor": 0,
  "metadata": {
    "colab": {
      "name": "cellAtlas_Generation_KNN_NCA.ipynb",
      "provenance": [],
      "collapsed_sections": [],
      "authorship_tag": "ABX9TyNl19MlEWfbSnidYT+uxm9F",
      "include_colab_link": true
    },
    "kernelspec": {
      "name": "python3",
      "display_name": "Python 3"
    }
  },
  "cells": [
    {
      "cell_type": "markdown",
      "metadata": {
        "id": "view-in-github",
        "colab_type": "text"
      },
      "source": [
        "<a href=\"https://colab.research.google.com/github/pachterlab/Clytia_single_cell_2020/blob/master/notebooks/cellAtlas_Generation_KNN_NCA.ipynb\" target=\"_parent\"><img src=\"https://colab.research.google.com/assets/colab-badge.svg\" alt=\"Open In Colab\"/></a>"
      ]
    },
    {
      "cell_type": "code",
      "metadata": {
        "id": "RKKAI0W89RFX",
        "colab_type": "code",
        "colab": {
          "base_uri": "https://localhost:8080/",
          "height": 34
        },
        "outputId": "51ca852c-132b-43ef-f0cd-e15d086aea3c"
      },
      "source": [
        "!date"
      ],
      "execution_count": 1,
      "outputs": [
        {
          "output_type": "stream",
          "text": [
            "Mon Aug 17 20:20:34 UTC 2020\n"
          ],
          "name": "stdout"
        }
      ]
    },
    {
      "cell_type": "code",
      "metadata": {
        "id": "krNSxC7W9eRK",
        "colab_type": "code",
        "colab": {}
      },
      "source": [
        "#Read in filtered starved data\n",
        "!wget --quiet https://caltech.box.com/shared/static/13jsqkczkskrf6cau9p4evhnmqyp7jn3\n",
        "#Original clustering \n",
        "!wget --quiet https://caltech.box.com/shared/static/ts2i8pid7uky28kke4duyl8jwugx8z4h\n",
        "\n",
        "#Read in filtered stimulation data \n",
        "!wget --quiet https://caltech.box.com/shared/static/hd36giuxz3zd933fh4bca3iqnykncro8"
      ],
      "execution_count": 1,
      "outputs": []
    },
    {
      "cell_type": "code",
      "metadata": {
        "id": "DZ7O0GAWYFeR",
        "colab_type": "code",
        "colab": {}
      },
      "source": [
        "#Unfiltered, raw starvation counts\n",
        "!wget --quiet https://caltech.box.com/shared/static/3l60szs0e9hgaax4q9dbuehgoo092xww\n",
        "\n",
        "#Unfiltered, raw stimulation counts\n",
        "!wget --quiet https://caltech.box.com/shared/static/cy5n9b6rdyk7v4uhvgvpkgotmchlts45"
      ],
      "execution_count": 2,
      "outputs": []
    },
    {
      "cell_type": "code",
      "metadata": {
        "id": "p_g1hzELJ1ps",
        "colab_type": "code",
        "colab": {}
      },
      "source": [
        "#Save merged datasets\n",
        "!wget --quiet https://caltech.box.com/shared/static/jf24fsdq7ojrbwxwf3mc7pqecnrjhpem\n",
        "\n",
        "#Data only contained Fed and SW control\n",
        "!wget --quiet https://caltech.box.com/shared/static/tq6f5fqcmhw9h6kphzk8bvt5qx8xew90"
      ],
      "execution_count": 3,
      "outputs": []
    },
    {
      "cell_type": "code",
      "metadata": {
        "id": "8LLSF58RHFVN",
        "colab_type": "code",
        "colab": {
          "base_uri": "https://localhost:8080/",
          "height": 141
        },
        "outputId": "cb0001ee-8acc-4413-f15f-8accad54f541"
      },
      "source": [
        "!pip install --quiet anndata\n",
        "!pip install --quiet scanpy\n",
        "!pip3 install --quiet leidenalg"
      ],
      "execution_count": 4,
      "outputs": [
        {
          "output_type": "stream",
          "text": [
            "\u001b[K     |████████████████████████████████| 122kB 7.9MB/s \n",
            "\u001b[K     |████████████████████████████████| 7.7MB 4.9MB/s \n",
            "\u001b[K     |████████████████████████████████| 51kB 6.5MB/s \n",
            "\u001b[K     |████████████████████████████████| 61kB 7.7MB/s \n",
            "\u001b[?25h  Building wheel for sinfo (setup.py) ... \u001b[?25l\u001b[?25hdone\n",
            "\u001b[K     |████████████████████████████████| 2.4MB 5.3MB/s \n",
            "\u001b[K     |████████████████████████████████| 3.2MB 46.4MB/s \n",
            "\u001b[?25h"
          ],
          "name": "stdout"
        }
      ]
    },
    {
      "cell_type": "markdown",
      "metadata": {
        "id": "0_3kNRKHHUDp",
        "colab_type": "text"
      },
      "source": [
        "###**Import packages**"
      ]
    },
    {
      "cell_type": "code",
      "metadata": {
        "id": "ao3y0Bs5HIwV",
        "colab_type": "code",
        "colab": {}
      },
      "source": [
        "import pandas as pd\n",
        "import anndata\n",
        "import scanpy as sc\n",
        "import numpy as np\n",
        "import scipy.sparse\n",
        "\n",
        "import warnings\n",
        "warnings.filterwarnings('ignore')\n",
        "\n",
        "from sklearn.neighbors import (KNeighborsClassifier,NeighborhoodComponentsAnalysis)\n",
        "from sklearn.pipeline import Pipeline\n",
        "from sklearn.manifold import TSNE\n",
        "from sklearn.decomposition import PCA\n",
        "\n",
        "import matplotlib.pyplot as plt\n",
        "%matplotlib inline\n",
        "sc.set_figure_params(dpi=125)\n",
        "\n",
        "import seaborn as sns\n",
        "sns.set(style=\"whitegrid\")"
      ],
      "execution_count": 5,
      "outputs": []
    },
    {
      "cell_type": "markdown",
      "metadata": {
        "id": "cGOVZY88HlgL",
        "colab_type": "text"
      },
      "source": [
        "###**Map Starvation Labels and to Stimulation Cells**"
      ]
    },
    {
      "cell_type": "markdown",
      "metadata": {
        "id": "EyPy35WIHvH_",
        "colab_type": "text"
      },
      "source": [
        "Read in data"
      ]
    },
    {
      "cell_type": "code",
      "metadata": {
        "id": "HrgeMBJsHTOW",
        "colab_type": "code",
        "colab": {
          "base_uri": "https://localhost:8080/",
          "height": 390
        },
        "outputId": "973c477e-5a2a-491a-fdea-f4860505ce85"
      },
      "source": [
        "#bus_fs_combo data (filtered bus data), bus_combo_noZero (filtered stim data)\n",
        "\n",
        "#bus_fs_combo\n",
        "bus_fs_combo = anndata.read(\"13jsqkczkskrf6cau9p4evhnmqyp7jn3\")\n",
        "\n",
        "#orig = anndata.read(\"ts2i8pid7uky28kke4duyl8jwugx8z4h\")\n",
        "\n",
        "print(bus_fs_combo)\n",
        "#print(orig)\n",
        "#bus_combo_noZero\n",
        "bus_combo_noZero = anndata.read(\"hd36giuxz3zd933fh4bca3iqnykncro8\")\n",
        "print(bus_combo_noZero)\n",
        "\n",
        "#Previously saved overlap, merged data\n",
        "overlap_combo = anndata.read(\"jf24fsdq7ojrbwxwf3mc7pqecnrjhpem\")\n",
        "overlap_combo"
      ],
      "execution_count": 44,
      "outputs": [
        {
          "output_type": "stream",
          "text": [
            "AnnData object with n_obs × n_vars = 13673 × 8696\n",
            "    obs: 'batch', 'n_counts', 'n_countslog', 'louvain', 'leiden', 'orgID', 'fed', 'starved', 'fed_neighbor_score', 'cellRanger_louvain'\n",
            "    var: 'n_counts'\n",
            "    uns: 'fed_neighbor_score_colors', 'leiden', 'leiden_colors', 'louvain', 'louvain_colors', 'neighbors', 'pca'\n",
            "    obsm: 'X_pca', 'X_tsne', 'X_umap'\n",
            "    varm: 'PCs'\n",
            "    obsp: 'distances', 'connectivities'\n",
            "AnnData object with n_obs × n_vars = 19054 × 10260\n",
            "    obs: 'batch', 'n_counts', 'n_countslog', 'leiden', 'condition', 'orgID'\n",
            "    var: 'n_counts'\n",
            "    uns: 'leiden', 'leiden_colors', 'neighbors', 'pca', 'rank_genes_groups'\n",
            "    obsm: 'X_pca', 'X_tsne', 'X_umap'\n",
            "    varm: 'PCs'\n",
            "    obsp: 'distances', 'connectivities'\n"
          ],
          "name": "stdout"
        },
        {
          "output_type": "execute_result",
          "data": {
            "text/plain": [
              "AnnData object with n_obs × n_vars = 32727 × 6756\n",
              "    obs: 'batch', 'condition', 'fed', 'fed_neighbor_score', 'leiden', 'louvain', 'n_counts', 'n_countslog', 'orgID', 'starved', 'knn_clus', 'cell_origin'\n",
              "    var: 'n_counts-0', 'n_counts-1'\n",
              "    uns: 'cell_origin_colors', 'draw_graph', 'knn_clus_colors', 'knn_clus_sizes', 'neighbors', 'paga', 'pca'\n",
              "    obsm: 'X_draw_graph_fa', 'X_nca', 'X_pca', 'X_tsne'\n",
              "    varm: 'PCs'\n",
              "    obsp: 'distances', 'connectivities'"
            ]
          },
          "metadata": {
            "tags": []
          },
          "execution_count": 44
        }
      ]
    },
    {
      "cell_type": "markdown",
      "metadata": {
        "id": "x7iIMDWVILxP",
        "colab_type": "text"
      },
      "source": [
        "Predict labels for stimulation data\n"
      ]
    },
    {
      "cell_type": "code",
      "metadata": {
        "id": "b_qVS551Hksz",
        "colab_type": "code",
        "colab": {}
      },
      "source": [
        "#Make X_pca with merged, use top 30 PC's\n",
        "def getPredLabels(overlap_fs,overlap_combo, n_PC):\n",
        "    \n",
        "    numFS = len(overlap_fs.obs_names)\n",
        "    X_train = overlap_combo.obsm['X_pca'][0:numFS,0:n_PC]\n",
        "\n",
        "    #X_pca at stim rows = X_test\n",
        "    X_test = overlap_combo.obsm['X_pca'][numFS:,0:n_PC]\n",
        "\n",
        "    #y_train is f/s louvain labels\n",
        "    y_train = overlap_fs.obs['cellRanger_louvain']\n",
        "\n",
        "    #Fit and predict\n",
        "    classifier = KNeighborsClassifier(n_neighbors=15)\n",
        "    classifier.fit(X_train, y_train)\n",
        "\n",
        "    y_pred = classifier.predict(X_test)\n",
        "    \n",
        "    labels = list(y_train)+list(y_pred)\n",
        "    \n",
        "    print(len(labels),' labels created')\n",
        "    \n",
        "    return labels\n"
      ],
      "execution_count": 7,
      "outputs": []
    },
    {
      "cell_type": "code",
      "metadata": {
        "id": "EAtCeaLnHkwv",
        "colab_type": "code",
        "colab": {}
      },
      "source": [
        "#Predict cluster labels for stim\n",
        "\n",
        "def applyNCAEmbed(overlap_combo,labels,n_PC,n_NCA):\n",
        "    \n",
        "    overlap_combo.obs['knn_clus'] = pd.Categorical(labels)\n",
        "\n",
        "    #PCA init\n",
        "    pca = PCA(n_components=n_PC)\n",
        "    pca.fit(overlap_combo.X)\n",
        "    X_pca = pca.transform(overlap_combo.X)    \n",
        "    \n",
        "    nca = NeighborhoodComponentsAnalysis(n_components=n_NCA)\n",
        "    knn = KNeighborsClassifier() # what is default # neighbors?\n",
        "    nca_pipe = Pipeline([('nca', nca), ('knn', knn)])\n",
        "    X_nca = nca.fit_transform(X_pca,labels)\n",
        "    overlap_combo.obsm['X_nca'] = X_nca\n",
        "    \n",
        "    print('Finished NCA embedding')\n",
        "    \n",
        "    X_embedded = TSNE(n_components=2,perplexity = 320,learning_rate=2600,random_state=42).fit_transform(X_nca)\n",
        "    overlap_combo.obsm['X_tsne'] = X_embedded\n",
        "    \n",
        "    print('Finished tSNE embedding')"
      ],
      "execution_count": 8,
      "outputs": []
    },
    {
      "cell_type": "markdown",
      "metadata": {
        "id": "EB_BOO6GRndi",
        "colab_type": "text"
      },
      "source": [
        "Generate reduced, linear embedding of merged data with new labels"
      ]
    },
    {
      "cell_type": "code",
      "metadata": {
        "id": "fPRl4c6aHk3a",
        "colab_type": "code",
        "colab": {}
      },
      "source": [
        "def plotEmbed(overlap_combo, overlap_fs,overlap_stim,save_file):\n",
        "    \n",
        "    origin_label = list(np.repeat('FS',len(overlap_fs.obs_names)))+list(np.repeat('Stim',len(overlap_stim.obs_names)))\n",
        "    overlap_combo.obs['cell_origin'] =  pd.Categorical(origin_label)\n",
        "    overlap_combo\n",
        "\n",
        "    sc.pl.tsne(overlap_combo,color=['knn_clus','cell_origin'],color_map='viridis',legend_loc='on data',save=save_file)\n",
        "    sc.pl.tsne(overlap_combo,color=['XLOC_019434'],color_map='viridis')\n"
      ],
      "execution_count": 9,
      "outputs": []
    },
    {
      "cell_type": "code",
      "metadata": {
        "id": "-qX4apWHHlDx",
        "colab_type": "code",
        "colab": {
          "base_uri": "https://localhost:8080/",
          "height": 34
        },
        "outputId": "6b31e130-f3c4-43c0-87e8-09088dc2b014"
      },
      "source": [
        "#Get intersection of var names between the two\n",
        "overlap = list(set(bus_combo_noZero.var_names).intersection(bus_fs_combo.var_names))\n",
        "\n",
        "overlap_fs = bus_fs_combo[:,overlap]\n",
        "\n",
        "overlap_stim = bus_combo_noZero[:,overlap]\n",
        "\n",
        "\n",
        "#Merge datasets\n",
        "overlap_fs.obs_names = [i+'_fs' for i in overlap_fs.obs_names]\n",
        "overlap_stim.obs_names = [i+'_ieg' for i in overlap_stim.obs_names]\n",
        "\n",
        "overlap_combo = overlap_fs.concatenate(overlap_stim,join='outer', index_unique=None)\n",
        "\n",
        "sc.pp.scale(overlap_combo, max_value=10)\n",
        "\n",
        "#Do PCA on merged dataset + plot variance explained\n",
        "sc.tl.pca(overlap_combo, n_comps=60)\n",
        "#sc.pl.pca_variance_ratio(overlap_combo, log=True)\n",
        "\n",
        "overlap_combo\n",
        "\n",
        "labels = getPredLabels(overlap_fs,overlap_combo,n_PC = 50)\n",
        "\n",
        "applyNCAEmbed(overlap_combo,labels,n_PC = 50, n_NCA = 10)\n",
        "plotEmbed(overlap_combo, overlap_fs,overlap_stim,'merged_50PC_10NCA_tSNE.pdf')\n"
      ],
      "execution_count": null,
      "outputs": [
        {
          "output_type": "stream",
          "text": [
            "32727  labels created\n"
          ],
          "name": "stdout"
        }
      ]
    },
    {
      "cell_type": "code",
      "metadata": {
        "id": "ev7pfj4gHlB0",
        "colab_type": "code",
        "colab": {}
      },
      "source": [
        "#Discrete and continuous mapping with PAGA (vs tSNE)\n",
        "sc.pp.neighbors(overlap_combo,n_pcs=30, n_neighbors=60, use_rep='X_nca') #n_pcs=30\n",
        "sc.tl.paga(overlap_combo, groups='knn_clus')\n",
        "\n",
        "sc.pl.paga(overlap_combo,color=['knn_clus'],threshold=0.1,max_edge_width=1)"
      ],
      "execution_count": null,
      "outputs": []
    },
    {
      "cell_type": "code",
      "metadata": {
        "id": "th5c2RnKHlAJ",
        "colab_type": "code",
        "colab": {}
      },
      "source": [
        "sc.tl.draw_graph(overlap_combo, init_pos='paga', layout='fa', maxiter=500)\n",
        "sc.pl.draw_graph(overlap_combo,color=['knn_clus','XLOC_030068','XLOC_012650'],\n",
        "                 title=['Cluster','Dkk-3 XLOC_030068','Old Neuron Marker - XLOC_012650'],legend_loc='on data')\n"
      ],
      "execution_count": null,
      "outputs": []
    },
    {
      "cell_type": "code",
      "metadata": {
        "id": "R4DoTFxsHk-o",
        "colab_type": "code",
        "colab": {}
      },
      "source": [
        "# #Scramble labels\n",
        "# import random\n",
        "\n",
        "# #Get intersection of var names between the two\n",
        "# overlap = list(set(bus_combo_noZero.var_names).intersection(bus_fs_combo.var_names))\n",
        "\n",
        "# overlap_fs = bus_fs_combo[:,overlap]\n",
        "\n",
        "# overlap_stim = bus_combo_noZero[:,overlap]\n",
        "\n",
        "\n",
        "# #Merge datasets\n",
        "# overlap_fs.obs_names = [i+'_fs' for i in overlap_fs.obs_names]\n",
        "# overlap_stim.obs_names = [i+'_ieg' for i in overlap_stim.obs_names]\n",
        "\n",
        "# overlap_combo = overlap_fs.concatenate(overlap_stim,join='outer', index_unique=None)\n",
        "\n",
        "# sc.pp.scale(overlap_combo, max_value=10)\n",
        "\n",
        "# #Do PCA on merged dataset + plot variance explained\n",
        "# sc.tl.pca(overlap_combo, n_comps=60)\n",
        "# sc.pl.pca_variance_ratio(overlap_combo, log=True)\n",
        "\n",
        "# overlap_combo\n",
        "\n",
        "# labels = getPredLabels(overlap_fs,overlap_combo, orig)\n",
        "\n",
        "# #Shuffle labels\n",
        "# numFS = len(overlap_fs.obs_names)\n",
        "# stimLabels = list(labels[numFS:])\n",
        "\n",
        "# random.shuffle(stimLabels)\n",
        "# newLabels = labels[0:numFS]+stimLabels"
      ],
      "execution_count": null,
      "outputs": []
    },
    {
      "cell_type": "code",
      "metadata": {
        "id": "9LnJPm9fHk9f",
        "colab_type": "code",
        "colab": {}
      },
      "source": [
        "# applyNCAEmbed(overlap_combo,newLabels)\n",
        "# plotEmbed(overlap_combo, overlap_fs,overlap_stim)"
      ],
      "execution_count": null,
      "outputs": []
    },
    {
      "cell_type": "code",
      "metadata": {
        "id": "yCNEPoZHHk7K",
        "colab_type": "code",
        "colab": {
          "base_uri": "https://localhost:8080/",
          "height": 34
        },
        "outputId": "1e9a61ba-ab55-4c17-876a-dfd35a73e7bf"
      },
      "source": [
        "#Make overlap_combo just fed and SW\n",
        "\n",
        "#Get intersection of var names between the two\n",
        "overlap = list(set(bus_combo_noZero.var_names).intersection(bus_fs_combo.var_names))\n",
        "\n",
        "overlap_fs_fed = bus_fs_combo[bus_fs_combo.obs['fed'] == True]\n",
        "overlap_fs_fed = overlap_fs_fed[:,overlap]\n",
        "\n",
        "overlap_stim_sw = bus_combo_noZero[bus_combo_noZero.obs['condition'] == 'SW']\n",
        "overlap_stim_sw = overlap_stim_sw[:,overlap]\n",
        "\n",
        "\n",
        "#Merge datasets\n",
        "overlap_fs_fed.obs_names = [i+'_fs' for i in overlap_fs_fed.obs_names]\n",
        "overlap_stim_sw.obs_names = [i+'_ieg' for i in overlap_stim_sw.obs_names]\n",
        "\n",
        "overlap_combo_fed_sw = overlap_fs_fed.concatenate(overlap_stim_sw,join='outer', index_unique=None)\n",
        "\n",
        "sc.pp.scale(overlap_combo_fed_sw, max_value=10)\n",
        "\n",
        "#Do PCA on merged dataset + plot variance explained\n",
        "sc.tl.pca(overlap_combo_fed_sw, n_comps=60)\n",
        "##sc.pl.pca_variance_ratio(overlap_combo_fed_sw, log=True)\n",
        "\n",
        "overlap_combo_fed_sw\n",
        "\n",
        "\n",
        "labels = getPredLabels(overlap_fs_fed,overlap_combo_fed_sw,50)\n",
        "\n",
        "overlap_combo_fed_sw.obs['knn_clus'] = pd.Categorical(labels)\n",
        "\n",
        "#applyNCAEmbed(overlap_combo_fed_sw,labels,30,10)\n",
        "#plotEmbed(overlap_combo_fed_sw, overlap_fs_fed,overlap_stim_sw,'merged_fed_sw.pdf')"
      ],
      "execution_count": 8,
      "outputs": [
        {
          "output_type": "stream",
          "text": [
            "11883  labels created\n"
          ],
          "name": "stdout"
        }
      ]
    },
    {
      "cell_type": "code",
      "metadata": {
        "id": "ehlqzZOjHq7B",
        "colab_type": "code",
        "colab": {}
      },
      "source": [
        "#Discrete and continuous plotting with PAGA (vs tSNE)\n",
        "# sc.pp.neighbors(overlap_combo_fed_sw,n_pcs=30, n_neighbors=500, use_rep='X_nca') #n_pcs=30\n",
        "# sc.tl.paga(overlap_combo_fed_sw, groups='knn_clus')\n",
        "\n",
        "# sc.pl.paga(overlap_combo_fed_sw,color=['knn_clus'],threshold=0.1,max_edge_width=1)\n",
        "\n",
        "# sc.tl.draw_graph(overlap_combo_fed_sw, init_pos='paga', layout='fa', maxiter=500)\n",
        "\n",
        "# sc.pl.draw_graph(overlap_combo_fed_sw,color=['knn_clus','XLOC_030068'],legend_loc='on data')"
      ],
      "execution_count": null,
      "outputs": []
    },
    {
      "cell_type": "code",
      "metadata": {
        "id": "eIOB1AEqIvQP",
        "colab_type": "code",
        "colab": {}
      },
      "source": [
        ""
      ],
      "execution_count": 17,
      "outputs": []
    },
    {
      "cell_type": "code",
      "metadata": {
        "id": "zTmRcnNFZrNM",
        "colab_type": "code",
        "colab": {}
      },
      "source": [
        ""
      ],
      "execution_count": null,
      "outputs": []
    },
    {
      "cell_type": "markdown",
      "metadata": {
        "id": "eHw-wChaQg9v",
        "colab_type": "text"
      },
      "source": [
        "###**Determine which clusters to sub-cluster**"
      ]
    },
    {
      "cell_type": "code",
      "metadata": {
        "id": "kyaTfj2LM-DE",
        "colab_type": "code",
        "colab": {}
      },
      "source": [
        "#Plot distances between centroid of stim-starved and fed-starved for each cluster\n",
        "def changeBool(fed):\n",
        "    if fed:\n",
        "        return 'fed'\n",
        "    elif fed == False:\n",
        "        return 'starved' \n",
        "    else:\n",
        "        return 'stim'\n",
        "\n",
        "def addConds(overlap_combo):\n",
        "    fs_conds = [changeBool(i) for i in overlap_combo.obs['fed']]\n",
        "    overlap_combo.obs['centroid_conds'] = pd.Categorical(fs_conds)\n",
        "\n",
        "    overlap_combo.obs['centroid_conds']"
      ],
      "execution_count": 10,
      "outputs": []
    },
    {
      "cell_type": "code",
      "metadata": {
        "id": "RJ2vCksybEaC",
        "colab_type": "code",
        "colab": {}
      },
      "source": [
        "from sklearn.metrics import pairwise_distances\n",
        "#Centroids of cell atlas/defined clusters\n",
        "def getClusCentroids(overlap_combo,pcs=60,clusType='knn_clus'):\n",
        "    clusters = np.unique(overlap_combo.obs[clusType])\n",
        "    centroids = np.zeros((len(clusters),pcs))\n",
        "    \n",
        "    for c in clusters:\n",
        "        \n",
        "        sub_data = overlap_combo[overlap_combo.obs[clusType] == c]\n",
        "        pca_embed = sub_data.obsm['X_pca'][:,0:pcs]\n",
        "        centroid = pca_embed.mean(axis=0)\n",
        "        \n",
        "        centroids[c,:] = list(centroid)\n",
        "        \n",
        "    return centroids"
      ],
      "execution_count": 11,
      "outputs": []
    },
    {
      "cell_type": "code",
      "metadata": {
        "id": "db6wpyGHM-KK",
        "colab_type": "code",
        "colab": {}
      },
      "source": [
        "#Distance between conditions within clusters\n",
        "def getCentroidDists(overlap_combo,pcs=30,clusType='knn_clus'):\n",
        "    fedStarv = []\n",
        "    fsStim = []\n",
        "\n",
        "    cluster = []\n",
        "\n",
        "    #Initialize output matrix\n",
        "    addConds(overlap_combo)\n",
        "    clusters = np.unique(overlap_combo.obs[clusType])\n",
        "    centroid_dist = pd.DataFrame(columns =['fedStarv','fsStim','cluster','clus_color']) \n",
        "\n",
        "    for c in clusters:\n",
        "        #Get cells in cluster and their conditions\n",
        "        sub_data = overlap_combo[overlap_combo.obs[clusType] == c]\n",
        "        centroid_conds = sub_data.obs['centroid_conds'] \n",
        "\n",
        "        #Get 2D tsne embedding\n",
        "        pca_embed = sub_data.obsm['X_pca'][:,0:pcs] #PCA\n",
        "\n",
        "        #Get location of condition cells\n",
        "        stim_pos = list(centroid_conds == 'stim')\n",
        "        allFS_pos = list(centroid_conds != 'stim')\n",
        "        fed_pos = list(centroid_conds == 'fed')\n",
        "        starved_pos = list(centroid_conds == 'starved')\n",
        "\n",
        "        #Get column means for x,y coords\n",
        "        meanFed = pca_embed[fed_pos,].mean(axis=0)\n",
        "\n",
        "        meanStarv = pca_embed[starved_pos,].mean(axis=0)\n",
        "\n",
        "        meanStim = pca_embed[stim_pos,].mean(axis=0)\n",
        "\n",
        "        meanFS = pca_embed[allFS_pos,].mean(axis=0)\n",
        "\n",
        "\n",
        "        cluster += [c]\n",
        "\n",
        "        #Dist between fed and starved\n",
        "        fs_dist = np.linalg.norm(meanFed - meanStarv,1)\n",
        "\n",
        "        #Dist between (all) starved experiment and stim\n",
        "\n",
        "        starvStim_dist = np.linalg.norm(meanFS - meanStim,1)\n",
        "\n",
        "        fedStarv += [fs_dist]\n",
        "        fsStim += [starvStim_dist]\n",
        "\n",
        "    centroid_dist['fedStarv'] = fedStarv\n",
        "    centroid_dist['fsStim'] = fsStim\n",
        "\n",
        "    centroid_dist['cluster'] = cluster\n",
        "\n",
        "    return centroid_dist"
      ],
      "execution_count": 12,
      "outputs": []
    },
    {
      "cell_type": "markdown",
      "metadata": {
        "id": "SQLkKvTcTfbb",
        "colab_type": "text"
      },
      "source": [
        "###**Fed/Starved Only Analysis**\n",
        "Cell type v state plots"
      ]
    },
    {
      "cell_type": "code",
      "metadata": {
        "id": "1nFY5wf_Te4O",
        "colab_type": "code",
        "colab": {
          "base_uri": "https://localhost:8080/",
          "height": 197
        },
        "outputId": "baa234df-0e30-4183-88e7-f81ab8d1caf2"
      },
      "source": [
        "withinFS_Dists = getCentroidDists(bus_fs_combo,60,'cellRanger_louvain')\n",
        "withinFS_Dists.head()"
      ],
      "execution_count": 22,
      "outputs": [
        {
          "output_type": "execute_result",
          "data": {
            "text/html": [
              "<div>\n",
              "<style scoped>\n",
              "    .dataframe tbody tr th:only-of-type {\n",
              "        vertical-align: middle;\n",
              "    }\n",
              "\n",
              "    .dataframe tbody tr th {\n",
              "        vertical-align: top;\n",
              "    }\n",
              "\n",
              "    .dataframe thead th {\n",
              "        text-align: right;\n",
              "    }\n",
              "</style>\n",
              "<table border=\"1\" class=\"dataframe\">\n",
              "  <thead>\n",
              "    <tr style=\"text-align: right;\">\n",
              "      <th></th>\n",
              "      <th>fedStarv</th>\n",
              "      <th>fsStim</th>\n",
              "      <th>cluster</th>\n",
              "      <th>clus_color</th>\n",
              "    </tr>\n",
              "  </thead>\n",
              "  <tbody>\n",
              "    <tr>\n",
              "      <th>0</th>\n",
              "      <td>8.916938</td>\n",
              "      <td>NaN</td>\n",
              "      <td>0</td>\n",
              "      <td>NaN</td>\n",
              "    </tr>\n",
              "    <tr>\n",
              "      <th>1</th>\n",
              "      <td>18.716833</td>\n",
              "      <td>NaN</td>\n",
              "      <td>1</td>\n",
              "      <td>NaN</td>\n",
              "    </tr>\n",
              "    <tr>\n",
              "      <th>2</th>\n",
              "      <td>11.210931</td>\n",
              "      <td>NaN</td>\n",
              "      <td>2</td>\n",
              "      <td>NaN</td>\n",
              "    </tr>\n",
              "    <tr>\n",
              "      <th>3</th>\n",
              "      <td>16.473646</td>\n",
              "      <td>NaN</td>\n",
              "      <td>3</td>\n",
              "      <td>NaN</td>\n",
              "    </tr>\n",
              "    <tr>\n",
              "      <th>4</th>\n",
              "      <td>13.697141</td>\n",
              "      <td>NaN</td>\n",
              "      <td>4</td>\n",
              "      <td>NaN</td>\n",
              "    </tr>\n",
              "  </tbody>\n",
              "</table>\n",
              "</div>"
            ],
            "text/plain": [
              "    fedStarv  fsStim  cluster clus_color\n",
              "0   8.916938     NaN        0        NaN\n",
              "1  18.716833     NaN        1        NaN\n",
              "2  11.210931     NaN        2        NaN\n",
              "3  16.473646     NaN        3        NaN\n",
              "4  13.697141     NaN        4        NaN"
            ]
          },
          "metadata": {
            "tags": []
          },
          "execution_count": 22
        }
      ]
    },
    {
      "cell_type": "code",
      "metadata": {
        "id": "qFQl8WqaTkdJ",
        "colab_type": "code",
        "colab": {
          "base_uri": "https://localhost:8080/",
          "height": 34
        },
        "outputId": "64dadfb4-cf58-421a-9696-9c8c71aae0b3"
      },
      "source": [
        "#Compare to pairwise distances between cell atlas clusters\n",
        "centroids = getClusCentroids(bus_fs_combo,60,'cellRanger_louvain')\n",
        "#centroids_arr = centroids['centroid'].to_numpy()\n",
        "pairCentroid_dists = pairwise_distances(centroids, metric = 'l1')\n",
        "pairCentroid_dists.shape\n",
        "print(np.mean(pairCentroid_dists))"
      ],
      "execution_count": 23,
      "outputs": [
        {
          "output_type": "stream",
          "text": [
            "145.1484529125223\n"
          ],
          "name": "stdout"
        }
      ]
    },
    {
      "cell_type": "code",
      "metadata": {
        "id": "x1HX7BIJVFcF",
        "colab_type": "code",
        "colab": {
          "base_uri": "https://localhost:8080/",
          "height": 1000
        },
        "outputId": "51205533-6c9a-40e4-c9fa-7c37ab2e5e86"
      },
      "source": [
        "max(pairCentroid_dists.reshape((36*36,)))\n",
        "reshape_noZero = [i for i in pairCentroid_dists.reshape((36*36,)) if i != 0]\n",
        "print(np.min(reshape_noZero))\n",
        "\n",
        "plt.figure(figsize=(16,10))\n",
        "plt.hist(withinFS_Dists['fedStarv'],color='r',bins=15,alpha=0.6,label='fed-starved',density=True)\n",
        "\n",
        "plt.hist(reshape_noZero, bins=36,color = 'orange',alpha=0.6,label='pairwise clusters',density=True)\n",
        "plt.legend(loc='upper right')\n",
        "plt.title('Comparison to pairwise distribution (pairwise on clusters with fed/starved cells)')\n",
        "plt.show()"
      ],
      "execution_count": 30,
      "outputs": [
        {
          "output_type": "stream",
          "text": [
            "46.697266585659236\n"
          ],
          "name": "stdout"
        },
        {
          "output_type": "display_data",
          "data": {
            "image/png": "[encoded data removed]",
            "text/plain": [
              "<Figure size 2000x1250 with 1 Axes>"
            ]
          },
          "metadata": {
            "tags": [],
            "image/png": {
              "width": 1653,
              "height": 1036
            }
          }
        }
      ]
    },
    {
      "cell_type": "code",
      "metadata": {
        "id": "Ybi2f73HVXc7",
        "colab_type": "code",
        "colab": {
          "base_uri": "https://localhost:8080/",
          "height": 70
        },
        "outputId": "b4103fae-21dd-4825-b4f6-2079211975c2"
      },
      "source": [
        "#Area where line between cell state/type is blurred seems to be only in digestive endodermal clusters 14,19 (strong metabolic responses to starvation)\n",
        "outlier_clus = withinFS_Dists[withinFS_Dists.fedStarv> 46.69]['cluster']\n",
        "outlier_clus\n"
      ],
      "execution_count": 27,
      "outputs": [
        {
          "output_type": "execute_result",
          "data": {
            "text/plain": [
              "14    14\n",
              "19    19\n",
              "Name: cluster, dtype: int64"
            ]
          },
          "metadata": {
            "tags": []
          },
          "execution_count": 27
        }
      ]
    },
    {
      "cell_type": "markdown",
      "metadata": {
        "id": "oLbB9x2JTkxw",
        "colab_type": "text"
      },
      "source": [
        "###**Organismal Distances, Fed/Starved + Stimulation**\n",
        "Batch effect plots"
      ]
    },
    {
      "cell_type": "code",
      "metadata": {
        "id": "b5-rDQSzRfHi",
        "colab_type": "code",
        "colab": {
          "base_uri": "https://localhost:8080/",
          "height": 141
        },
        "outputId": "94ea7af2-23d5-40cc-d76b-ac707d5e8b3a"
      },
      "source": [
        "#condition -- Stim, fed -- Fed/Starved data\n",
        "overlap_combo"
      ],
      "execution_count": 17,
      "outputs": [
        {
          "output_type": "execute_result",
          "data": {
            "text/plain": [
              "AnnData object with n_obs × n_vars = 32727 × 6756\n",
              "    obs: 'batch', 'condition', 'fed', 'fed_neighbor_score', 'leiden', 'louvain', 'n_counts', 'n_countslog', 'orgID', 'starved', 'knn_clus', 'cell_origin'\n",
              "    var: 'n_counts-0', 'n_counts-1'\n",
              "    uns: 'cell_origin_colors', 'draw_graph', 'knn_clus_colors', 'knn_clus_sizes', 'neighbors', 'paga', 'pca'\n",
              "    obsm: 'X_draw_graph_fa', 'X_nca', 'X_pca', 'X_tsne'\n",
              "    varm: 'PCs'\n",
              "    obsp: 'distances', 'connectivities'"
            ]
          },
          "metadata": {
            "tags": []
          },
          "execution_count": 17
        }
      ]
    },
    {
      "cell_type": "code",
      "metadata": {
        "id": "JovRSThAW2YM",
        "colab_type": "code",
        "colab": {}
      },
      "source": [
        "#Use overlap_combo\n",
        "\n",
        "#Go through each clustee\n",
        "clus = np.unique(overlap_combo.obs['knn_clus'])\n",
        "\n",
        "fed_data = overlap_combo[overlap_combo.obs['fed'] == 'True']\n",
        "sw_data = overlap_combo[overlap_combo.obs['condition'] == 'SW']\n",
        "\n",
        "fed_orgs = np.unique(fed_data.obs['orgID'])\n",
        "sw_orgs = np.unique(sw_data.obs['orgID'])\n",
        "\n",
        "pcs = 60\n",
        "\n",
        "org_metadata = pd.DataFrame(columns =['orgID','cluster','condition']) #centroid = row mean for all cells in organism\n",
        "num_points = (len(fed_orgs)+len(sw_orgs))*len(clus)\n",
        "\n",
        "#Get centroid in PCA space in each cluster for each organism\n",
        "org_centroids = np.zeros((num_points,pcs))\n",
        "\n",
        "condition = []\n",
        "cluster = []\n",
        "orgID = []\n",
        "\n",
        "count = 0\n",
        "toRemove = []\n",
        "for c in clus:\n",
        "  #Get all cells in chosen condition\n",
        "  fed_sub = fed_data[fed_data.obs['knn_clus'] == c]\n",
        "  fed_pca_embed = fed_sub.obsm['X_pca'][:,0:pcs] #PCA matrix\n",
        "\n",
        "  sw_sub = sw_data[sw_data.obs['knn_clus'] == c]\n",
        "  sw_pca_embed = sw_sub.obsm['X_pca'][:,0:pcs] #PCA matrix\n",
        "\n",
        "  #For each org, get centroid of cells (X_pca)\n",
        "  for sw in sw_orgs:\n",
        "    condition += ['SW']\n",
        "    cluster += [c]\n",
        "    orgID += [sw]\n",
        "\n",
        "    #Get location of org cells\n",
        "    org_pos = list(sw_sub.obs['orgID'] == sw)\n",
        "\n",
        "    #Sum down rows of cells for each PC\n",
        "    if len(sw_pca_embed[org_pos,]) == 0:\n",
        "      toRemove += [count]\n",
        "\n",
        "    org_centroids[count,:] = list(sw_pca_embed[org_pos,].mean(axis=0))\n",
        "\n",
        "    count += 1\n",
        "\n",
        "  for fed in fed_orgs:\n",
        "    condition += ['Fed']\n",
        "    cluster += [c]\n",
        "    orgID += [fed]\n",
        "\n",
        "    #Get location of org cells\n",
        "    org_pos = list(fed_sub.obs['orgID'] == fed)\n",
        "    #Sum down rows of cells for each PC\n",
        "    if len(fed_pca_embed[org_pos,]) == 0:\n",
        "      toRemove += [count]\n",
        "\n",
        "    org_centroids[count,:] = list(fed_pca_embed[org_pos,].mean(axis=0))\n",
        "\n",
        "    count += 1    \n",
        "\n",
        "  #For each org, get centroid of cells (X_pca)\n",
        "\n",
        "  #Average pairwise distance between org centroid\n",
        "\n",
        "org_metadata['orgID'] = orgID\n",
        "org_metadata['cluster'] = cluster\n",
        "org_metadata['condition'] = condition\n",
        "\n",
        "\n"
      ],
      "execution_count": 66,
      "outputs": []
    },
    {
      "cell_type": "code",
      "metadata": {
        "id": "Qft8909D2LDD",
        "colab_type": "code",
        "colab": {
          "base_uri": "https://localhost:8080/",
          "height": 34
        },
        "outputId": "69f595f6-3c19-4dd0-c5d5-0d65ada5d0e0"
      },
      "source": [
        "toRemove "
      ],
      "execution_count": 67,
      "outputs": [
        {
          "output_type": "execute_result",
          "data": {
            "text/plain": [
              "[181, 183]"
            ]
          },
          "metadata": {
            "tags": []
          },
          "execution_count": 67
        }
      ]
    },
    {
      "cell_type": "code",
      "metadata": {
        "id": "1BmIMS39o18o",
        "colab_type": "code",
        "colab": {
          "base_uri": "https://localhost:8080/",
          "height": 230
        },
        "outputId": "3bea25eb-796d-4933-d9ef-6bab35532a76"
      },
      "source": [
        "org_metadata = org_metadata.drop(org_metadata.index[toRemove])\n",
        "org_metadata.head()\n",
        "\n",
        "org_centroids= np.delete(org_centroids, toRemove, 0)\n",
        "org_centroids[0,:]"
      ],
      "execution_count": 68,
      "outputs": [
        {
          "output_type": "execute_result",
          "data": {
            "text/plain": [
              "array([-2.5141046 , -1.83165169, -2.56139255, -0.30813822,  1.98264134,\n",
              "       -1.87403417, -3.38868713, -0.13224465, -2.21397758, -1.29323554,\n",
              "       -1.94140637, -1.32937133, -3.10828853,  0.80791473,  1.62436104,\n",
              "       -0.25122994, -0.1887034 , -0.0583187 ,  0.72272348, -3.10565209,\n",
              "        4.24892616,  0.37986624, -0.55612922,  0.59272265,  1.71611094,\n",
              "        0.18304156, -0.49343768, -0.86163104,  0.33055994, -0.709203  ,\n",
              "        0.56443644,  0.82765633, -0.53927851, -0.98591512, -0.33037487,\n",
              "       -0.26226798, -0.02119251, -0.54339862, -0.05480121, -0.18422647,\n",
              "        1.82246745,  0.5512197 , -0.12327559, -0.62353981,  0.45485938,\n",
              "        0.32711661,  0.760185  ,  0.3137255 ,  0.22211218,  0.23228893,\n",
              "        0.12949443,  0.16719288, -0.71052462, -0.33989388,  0.3274518 ,\n",
              "       -0.18515548,  0.48728189,  0.23112439,  0.46149072, -0.40837356])"
            ]
          },
          "metadata": {
            "tags": []
          },
          "execution_count": 68
        }
      ]
    },
    {
      "cell_type": "code",
      "metadata": {
        "id": "ISGUCMK2rsrg",
        "colab_type": "code",
        "colab": {}
      },
      "source": [
        "org_pairDists = pd.DataFrame(columns =['cluster','pair_fed','pair_sw','pair_mix'])\n",
        "cluster = []\n",
        "pair_fed = []\n",
        "pair_sw = []\n",
        "pair_mix = []\n",
        "\n",
        "for c in clus:\n",
        "\n",
        "  #Fed org centroids\n",
        "  where_fed = (org_metadata.cluster == c) & (org_metadata.condition == 'Fed')\n",
        "  fed_mat = org_centroids[where_fed,:]\n",
        "\n",
        "  pair_fed_dist = pairwise_distances(fed_mat, metric = 'l1')\n",
        "  pair_fed_mean = np.mean(pair_fed_dist)\n",
        "\n",
        "  #SW org centroids\n",
        "  where_sw = (org_metadata.cluster == c) & (org_metadata.condition == 'SW')\n",
        "  sw_mat = org_centroids[where_sw,:]\n",
        "\n",
        "  pair_sw_dist = pairwise_distances(sw_mat, metric = 'l1')\n",
        "  pair_sw_mean = np.mean(pair_sw_dist)\n",
        "\n",
        "  pair_mix_dist = pairwise_distances(fed_mat,sw_mat, metric = 'l1')\n",
        "  pair_mix_mean = np.mean(pair_mix_dist)\n",
        "\n",
        "  cluster += [c]\n",
        "  pair_fed += [pair_fed_mean]\n",
        "  pair_sw += [pair_sw_mean]\n",
        "  pair_mix += [pair_mix_mean]\n",
        "\n",
        "org_pairDists['cluster'] = cluster\n",
        "org_pairDists['pair_fed'] = pair_fed\n",
        "org_pairDists['pair_sw'] = pair_sw\n",
        "org_pairDists['pair_mix'] = pair_mix"
      ],
      "execution_count": 69,
      "outputs": []
    },
    {
      "cell_type": "code",
      "metadata": {
        "id": "h3-QKU3trsoe",
        "colab_type": "code",
        "colab": {
          "base_uri": "https://localhost:8080/",
          "height": 197
        },
        "outputId": "c9e2dde9-9b33-4adc-e5ea-5d54f5838892"
      },
      "source": [
        "org_pairDists.head()"
      ],
      "execution_count": 70,
      "outputs": [
        {
          "output_type": "execute_result",
          "data": {
            "text/html": [
              "<div>\n",
              "<style scoped>\n",
              "    .dataframe tbody tr th:only-of-type {\n",
              "        vertical-align: middle;\n",
              "    }\n",
              "\n",
              "    .dataframe tbody tr th {\n",
              "        vertical-align: top;\n",
              "    }\n",
              "\n",
              "    .dataframe thead th {\n",
              "        text-align: right;\n",
              "    }\n",
              "</style>\n",
              "<table border=\"1\" class=\"dataframe\">\n",
              "  <thead>\n",
              "    <tr style=\"text-align: right;\">\n",
              "      <th></th>\n",
              "      <th>cluster</th>\n",
              "      <th>pair_fed</th>\n",
              "      <th>pair_sw</th>\n",
              "      <th>pair_mix</th>\n",
              "    </tr>\n",
              "  </thead>\n",
              "  <tbody>\n",
              "    <tr>\n",
              "      <th>0</th>\n",
              "      <td>0</td>\n",
              "      <td>6.435431</td>\n",
              "      <td>6.709091</td>\n",
              "      <td>23.432679</td>\n",
              "    </tr>\n",
              "    <tr>\n",
              "      <th>1</th>\n",
              "      <td>1</td>\n",
              "      <td>14.112677</td>\n",
              "      <td>34.774560</td>\n",
              "      <td>63.872450</td>\n",
              "    </tr>\n",
              "    <tr>\n",
              "      <th>2</th>\n",
              "      <td>2</td>\n",
              "      <td>8.279761</td>\n",
              "      <td>14.382547</td>\n",
              "      <td>53.206116</td>\n",
              "    </tr>\n",
              "    <tr>\n",
              "      <th>3</th>\n",
              "      <td>3</td>\n",
              "      <td>17.876802</td>\n",
              "      <td>26.969492</td>\n",
              "      <td>54.635241</td>\n",
              "    </tr>\n",
              "    <tr>\n",
              "      <th>4</th>\n",
              "      <td>4</td>\n",
              "      <td>15.024401</td>\n",
              "      <td>24.717512</td>\n",
              "      <td>34.451474</td>\n",
              "    </tr>\n",
              "  </tbody>\n",
              "</table>\n",
              "</div>"
            ],
            "text/plain": [
              "   cluster   pair_fed    pair_sw   pair_mix\n",
              "0        0   6.435431   6.709091  23.432679\n",
              "1        1  14.112677  34.774560  63.872450\n",
              "2        2   8.279761  14.382547  53.206116\n",
              "3        3  17.876802  26.969492  54.635241\n",
              "4        4  15.024401  24.717512  34.451474"
            ]
          },
          "metadata": {
            "tags": []
          },
          "execution_count": 70
        }
      ]
    },
    {
      "cell_type": "code",
      "metadata": {
        "id": "5aUExtgJrsjs",
        "colab_type": "code",
        "colab": {
          "base_uri": "https://localhost:8080/",
          "height": 1000
        },
        "outputId": "152ea11f-5f24-4acc-8c18-0d0566e33fec"
      },
      "source": [
        "plt.figure(figsize=(16,10))\n",
        "plt.hist(org_pairDists['pair_fed'],color='r',bins=15,alpha=0.6,label='fed org dist',density=True)\n",
        "plt.hist(org_pairDists['pair_sw'],color='blue',bins=15,alpha=0.6,label='sw org dist',density=True)\n",
        "plt.hist(org_pairDists['pair_mix'], bins=15,color = 'orange',alpha=0.6,label='mix dist',density=True)\n",
        "plt.legend(loc='upper right')\n",
        "plt.title('Between Organisms Distances (L1)')\n",
        "plt.show()"
      ],
      "execution_count": 76,
      "outputs": [
        {
          "output_type": "display_data",
          "data": {
            "image/png": "[encoded data removed]",
            "text/plain": [
              "<Figure size 2000x1250 with 1 Axes>"
            ]
          },
          "metadata": {
            "tags": [],
            "image/png": {
              "width": 1644,
              "height": 1036
            }
          }
        }
      ]
    },
    {
      "cell_type": "code",
      "metadata": {
        "id": "xV_UVyNC42TT",
        "colab_type": "code",
        "colab": {}
      },
      "source": [
        ""
      ],
      "execution_count": null,
      "outputs": []
    },
    {
      "cell_type": "code",
      "metadata": {
        "id": "DHJgDNLr6QYw",
        "colab_type": "code",
        "colab": {}
      },
      "source": [
        ""
      ],
      "execution_count": null,
      "outputs": []
    },
    {
      "cell_type": "markdown",
      "metadata": {
        "id": "9xdMQpQy6RH-",
        "colab_type": "text"
      },
      "source": [
        "###**Pearson Correlation Between F/S and Stim Cluster Markers**\n",
        "Use KNN to map stim cells, assess mapping"
      ]
    },
    {
      "cell_type": "code",
      "metadata": {
        "id": "73tUz2ghImAy",
        "colab_type": "code",
        "colab": {}
      },
      "source": [
        "stim = overlap_combo "
      ],
      "execution_count": null,
      "outputs": []
    },
    {
      "cell_type": "code",
      "metadata": {
        "id": "HQE6HSt4AQzs",
        "colab_type": "code",
        "colab": {
          "base_uri": "https://localhost:8080/",
          "height": 141
        },
        "outputId": "bbfe0ab0-0c89-4fc5-fde9-3f23189bf26f"
      },
      "source": [
        "sc.tl.rank_genes_groups(bus_fs_combo,groupby='cellRanger_louvain',n_genes=100,method='wilcoxon')\n",
        "\n",
        "bus_combo_noZero.obs['cellRanger_louvain'] = \n",
        "sc.pp.highly_variable_genes(overlap_combo,)\n",
        "overlap_combo"
      ],
      "execution_count": 109,
      "outputs": [
        {
          "output_type": "execute_result",
          "data": {
            "text/plain": [
              "AnnData object with n_obs × n_vars = 32727 × 6756\n",
              "    obs: 'batch', 'condition', 'fed', 'fed_neighbor_score', 'leiden', 'louvain', 'n_counts', 'n_countslog', 'orgID', 'starved', 'knn_clus', 'cell_origin'\n",
              "    var: 'n_counts-0', 'n_counts-1'\n",
              "    uns: 'cell_origin_colors', 'draw_graph', 'knn_clus_colors', 'knn_clus_sizes', 'neighbors', 'paga', 'pca', 'rank_genes_groups'\n",
              "    obsm: 'X_draw_graph_fa', 'X_nca', 'X_pca', 'X_tsne'\n",
              "    varm: 'PCs'\n",
              "    obsp: 'distances', 'connectivities'"
            ]
          },
          "metadata": {
            "tags": []
          },
          "execution_count": 109
        }
      ]
    },
    {
      "cell_type": "code",
      "metadata": {
        "id": "faQGL-HEAmEE",
        "colab_type": "code",
        "colab": {
          "base_uri": "https://localhost:8080/",
          "height": 52
        },
        "outputId": "dbe3b07d-b7ff-4487-a20f-1fd38f2eec23"
      },
      "source": [
        "from scipy.stats import pearsonr\n",
        "#sub = overlap_combo[overlap_combo.obs['knn_clus'] == 26]\n",
        "genes = []\n",
        "\n",
        "#genes = list(overlap_combo.uns['rank_genes_groups']['names'][c])\n",
        "#sub = overlap_combo[:,genes]\n",
        "\n",
        "fs = overlap_combo[overlap_combo.obs['cell_origin'] == 'FS']\n",
        "stim = overlap_combo[overlap_combo.obs['cell_origin'] == 'Stim']\n",
        "\n",
        "n= 100\n",
        "sc.tl.rank_genes_groups(fs,groupby='knn_clus',n_genes=n,method='wilcoxon')\n",
        "sc.tl.rank_genes_groups(stim,groupby='knn_clus',n_genes=n,method='wilcoxon')\n",
        "\n",
        "#plt.scatter(np.sum(fs.raw.toarray(),axis=0),np.sum(stim.raw.toarray(),axis=0))\n",
        "\n",
        "#plt.scatter(fs.X,stim.X)\n"
      ],
      "execution_count": 151,
      "outputs": [
        {
          "output_type": "stream",
          "text": [
            "Trying to set attribute `.uns` of view, copying.\n",
            "Trying to set attribute `.uns` of view, copying.\n"
          ],
          "name": "stderr"
        }
      ]
    },
    {
      "cell_type": "code",
      "metadata": {
        "id": "YkCh7bi_J3zh",
        "colab_type": "code",
        "colab": {
          "base_uri": "https://localhost:8080/",
          "height": 1000
        },
        "outputId": "466a6937-772f-4c53-dd04-e3ca407857c1"
      },
      "source": [
        "#n=50\n",
        "for c in clus:\n",
        "  len1 = len(fs[fs.obs['knn_clus']==c].obs_names)\n",
        "  len2 = len(stim[stim.obs['knn_clus']==c].obs_names)\n",
        "  print('clus: '+str(c)+' - '\n",
        "      + str(len(set(fs.uns['rank_genes_groups']['names'][str(c)]).intersection(stim.uns['rank_genes_groups']['names'][str(c)]))/n) \n",
        "  + ': '+str(len1/len2))\n",
        "  \n",
        "  print()"
      ],
      "execution_count": 152,
      "outputs": [
        {
          "output_type": "stream",
          "text": [
            "clus: 0 - 0.45: 0.9845559845559846\n",
            "\n",
            "clus: 1 - 0.56: 3.9125\n",
            "\n",
            "clus: 2 - 0.71: 0.3454404945904173\n",
            "\n",
            "clus: 3 - 0.59: 0.9413067552602437\n",
            "\n",
            "clus: 4 - 0.7: 0.9269282814614344\n",
            "\n",
            "clus: 5 - 0.66: 1.4901960784313726\n",
            "\n",
            "clus: 6 - 0.55: 0.6837606837606838\n",
            "\n",
            "clus: 7 - 0.64: 0.8112965340179717\n",
            "\n",
            "clus: 8 - 0.67: 1.1640316205533596\n",
            "\n",
            "clus: 9 - 0.53: 0.7931570762052877\n",
            "\n",
            "clus: 10 - 0.62: 1.4477611940298507\n",
            "\n",
            "clus: 11 - 0.81: 0.4733201581027668\n",
            "\n",
            "clus: 12 - 0.69: 0.4937853107344633\n",
            "\n",
            "clus: 13 - 0.72: 1.1385135135135136\n",
            "\n",
            "clus: 14 - 0.67: 0.8025\n",
            "\n",
            "clus: 15 - 0.73: 0.42756680731364277\n",
            "\n",
            "clus: 16 - 0.73: 0.5549242424242424\n",
            "\n",
            "clus: 17 - 0.82: 0.42164781906300486\n",
            "\n",
            "clus: 18 - 0.68: 0.5272727272727272\n",
            "\n",
            "clus: 19 - 0.64: 0.6207729468599034\n",
            "\n",
            "clus: 20 - 0.42: 8.096774193548388\n",
            "\n",
            "clus: 21 - 0.63: 0.8025889967637541\n",
            "\n",
            "clus: 22 - 0.91: 0.3131868131868132\n",
            "\n",
            "clus: 23 - 0.79: 0.35266457680250785\n",
            "\n",
            "clus: 24 - 0.6: 0.4434589800443459\n",
            "\n",
            "clus: 25 - 0.82: 0.5431654676258992\n",
            "\n",
            "clus: 26 - 0.48: 2.642857142857143\n",
            "\n",
            "clus: 27 - 0.95: 0.3415841584158416\n",
            "\n",
            "clus: 28 - 0.56: 2.6818181818181817\n",
            "\n",
            "clus: 29 - 0.69: 0.23553719008264462\n",
            "\n",
            "clus: 30 - 0.61: 0.9622641509433962\n",
            "\n",
            "clus: 31 - 0.63: 1.5344827586206897\n",
            "\n",
            "clus: 32 - 0.88: 0.27091633466135456\n",
            "\n",
            "clus: 33 - 0.65: 1.4545454545454546\n",
            "\n",
            "clus: 34 - 0.8: 0.18421052631578946\n",
            "\n",
            "clus: 35 - 0.49: 0.7906976744186046\n",
            "\n"
          ],
          "name": "stdout"
        }
      ]
    },
    {
      "cell_type": "code",
      "metadata": {
        "id": "lz9m7Ew86QTX",
        "colab_type": "code",
        "colab": {}
      },
      "source": [
        "from scipy.stats import pearsonr\n",
        "#sub = overlap_combo[overlap_combo.obs['knn_clus'] == 26]\n",
        "genes = []\n",
        "\n",
        "for c in clus:\n",
        "  genes += list(overlap_combo.uns['rank_genes_groups']['names'][str(c)])\n",
        "#sub = overlap_combo[:,genes]\n",
        "\n",
        "fs = overlap_combo[overlap_combo.obs['cell_origin'] == 'FS']\n",
        "stim = overlap_combo[overlap_combo.obs['cell_origin'] == 'Stim']\n",
        "\n",
        "n= 20\n",
        "sc.tl.rank_genes_groups(fs,groupby='knn_clus',n_genes=n,method='wilcoxon')\n",
        "sc.tl.rank_genes_groups(stim,groupby='knn_clus',n_genes=n,method='wilcoxon')\n",
        "\n",
        "#plt.scatter(np.sum(fs.raw.toarray(),axis=0),np.sum(stim.raw.toarray(),axis=0))\n",
        "\n",
        "#plt.scatter(fs.X,stim.X)\n"
      ],
      "execution_count": null,
      "outputs": []
    },
    {
      "cell_type": "code",
      "metadata": {
        "id": "AmXTKlAVM-A8",
        "colab_type": "code",
        "colab": {}
      },
      "source": [
        "# allCells_Dists = getCentroidDists(overlap_combo,pcs=60)\n",
        "# #controlCells_Dists = getCentroidDists(overlap_combo_fed_sw,pcs=60)"
      ],
      "execution_count": 12,
      "outputs": []
    },
    {
      "cell_type": "code",
      "metadata": {
        "id": "tRZ6J5-VM997",
        "colab_type": "code",
        "colab": {}
      },
      "source": [
        "# plt.figure(figsize=(16,10))\n",
        "# plt.scatter(x='cluster', y='fedStarv', data=allCells_Dists,color='red',label='fed-starved')\n",
        "# plt.scatter(x='cluster', y='fsStim', data=allCells_Dists,color='blue',label='starved-stim')\n",
        "# #plt.scatter(x='cluster', y='fsStim', data=controlCells_Dists,color='black',label='fed-sw control',s=100)\n",
        "# plt.legend()\n",
        "# plt.xticks(np.arange(min(allCells_Dists['cluster']), max(allCells_Dists['cluster'])+1, 1))\n",
        "# plt.show()"
      ],
      "execution_count": null,
      "outputs": []
    },
    {
      "cell_type": "code",
      "metadata": {
        "id": "agPoj4VTQqRd",
        "colab_type": "code",
        "colab": {
          "base_uri": "https://localhost:8080/",
          "height": 34
        },
        "outputId": "9abbe5b2-4a4d-4c32-9898-ea8da2459243"
      },
      "source": [
        "# #Compare to pairwise distances between cell atlas clusters\n",
        "# fs_celltypes = overlap_combo[overlap_combo.obs['cell_origin'] == 'FS']\n",
        "\n",
        "# centroids = getClusCentroids(fs_celltypes,pcs=60)\n",
        "# #centroids_arr = centroids['centroid'].to_numpy()\n",
        "# pairCentroid_dists = pairwise_distances(centroids, metric = 'l1')\n",
        "# pairCentroid_dists.shape\n",
        "# print(np.mean(pairCentroid_dists))\n"
      ],
      "execution_count": 52,
      "outputs": [
        {
          "output_type": "stream",
          "text": [
            "144.73460022468623\n"
          ],
          "name": "stdout"
        }
      ]
    },
    {
      "cell_type": "code",
      "metadata": {
        "id": "5JJfiES0QqOw",
        "colab_type": "code",
        "colab": {}
      },
      "source": [
        "# max(pairCentroid_dists.reshape((36*36,)))\n",
        "# reshape_noZero = [i for i in pairCentroid_dists.reshape((36*36,)) if i != 0]\n",
        "# print(np.min(reshape_noZero))\n",
        "\n",
        "# plt.figure(figsize=(16,10))\n",
        "# plt.hist(allCells_Dists['fedStarv'],color='r',bins=15,alpha=0.6,label='fed-starved',density=True)\n",
        "# plt.hist(allCells_Dists['fsStim'],color='blue',bins=15,alpha=0.6,label='fs-stim',density=True)\n",
        "# plt.hist(reshape_noZero, bins=15,color = 'orange',alpha=0.6,label='pairwise clusters',density=True)\n",
        "# plt.legend(loc='upper right')\n",
        "# plt.title('Comparison to pairwise distribution (pairwise on clusters with fed/starved+stim cells)')\n",
        "# plt.show()"
      ],
      "execution_count": 1,
      "outputs": []
    },
    {
      "cell_type": "code",
      "metadata": {
        "id": "bOZvlYiYkBii",
        "colab_type": "code",
        "colab": {
          "base_uri": "https://localhost:8080/",
          "height": 34
        },
        "outputId": "959cde85-629a-4480-c587-209af375912c"
      },
      "source": [
        "# np.min(reshape_noZero)"
      ],
      "execution_count": 54,
      "outputs": [
        {
          "output_type": "execute_result",
          "data": {
            "text/plain": [
              "41.17746266908944"
            ]
          },
          "metadata": {
            "tags": []
          },
          "execution_count": 54
        }
      ]
    },
    {
      "cell_type": "code",
      "metadata": {
        "id": "-hfA2ZH3Fz8d",
        "colab_type": "code",
        "colab": {}
      },
      "source": [
        "# outlier_clus = allCells_Dists[allCells_Dists['fsStim']> 41]['cluster']\n",
        "# len(outlier_clus)"
      ],
      "execution_count": 2,
      "outputs": []
    },
    {
      "cell_type": "code",
      "metadata": {
        "id": "Z_NDZaRjQqMI",
        "colab_type": "code",
        "colab": {}
      },
      "source": [
        "# log2fc_thr = 1\n",
        "# padj_thr = 0.01\n",
        "# outlier_dist = 41\n",
        "\n",
        "# outlier_clus = allCells_Dists[allCells_Dists['fsStim']> outlier_dist]['cluster']\n",
        "\n",
        "# subCluster_Genes = {}\n",
        "\n",
        "# for c in outlier_clus:\n",
        "#   score = 0 \n",
        "#   clus = overlap_combo[overlap_combo.obs['knn_clus'].isin([c])]\n",
        "#   sc.tl.rank_genes_groups(clus,groupby='cell_origin',method='wilcoxon')\n",
        "\n",
        "#   #Filter results by thresholds\n",
        "#   pvals = clus.uns['rank_genes_groups']['pvals_adj']['Stim']\n",
        "#   names = clus.uns['rank_genes_groups']['names']['Stim']\n",
        "\n",
        "#   fc_filter = clus.uns['rank_genes_groups']['logfoldchanges']['Stim'] > log2fc_thr\n",
        "#   pvals_filt = pvals[fc_filter]\n",
        "#   names = names[fc_filter]\n",
        "\n",
        "#   #Filter by p-val cutoff\n",
        "#   pvals_filt_new = pvals_filt[pvals_filt < padj_thr]\n",
        "\n",
        "  \n",
        "#   names = names[pvals_filt < padj_thr]\n",
        "\n",
        "#   if len(pvals_filt_new) != 0:\n",
        "#     score = -np.log10(np.sum(pvals_filt_new))\n",
        "#     #print(c)\n",
        "#     print(str(c)+':'+str(len(names)))\n",
        "#     subCluster_Genes[c] = names\n",
        "#     #print(score) \n",
        "#     #print(len(clus.obs_names))\n",
        "\n",
        "# #subCluster_Genes"
      ],
      "execution_count": 3,
      "outputs": []
    },
    {
      "cell_type": "code",
      "metadata": {
        "id": "LExLE_gJQqKO",
        "colab_type": "code",
        "colab": {}
      },
      "source": [
        ""
      ],
      "execution_count": null,
      "outputs": []
    },
    {
      "cell_type": "code",
      "metadata": {
        "id": "-2PtYN4pM95t",
        "colab_type": "code",
        "colab": {}
      },
      "source": [
        "#Optimize for pseudotime and cell type labels in embedding"
      ],
      "execution_count": null,
      "outputs": []
    }
  ]
}