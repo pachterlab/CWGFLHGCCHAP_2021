{
  "nbformat": 4,
  "nbformat_minor": 0,
  "metadata": {
    "colab": {
      "name": "cellAtlas_Generation_KNN_NCA.ipynb",
      "provenance": [],
      "authorship_tag": "ABX9TyMRLSPkpMpb6mftNZnfNArK",
      "include_colab_link": true
    },
    "kernelspec": {
      "name": "python3",
      "display_name": "Python 3"
    }
  },
  "cells": [
    {
      "cell_type": "markdown",
      "metadata": {
        "id": "view-in-github",
        "colab_type": "text"
      },
      "source": [
        "<a href=\"https://colab.research.google.com/github/pachterlab/Clytia_single_cell_2020/blob/master/notebooks/cellAtlas_Generation_KNN_NCA.ipynb\" target=\"_parent\"><img src=\"https://colab.research.google.com/assets/colab-badge.svg\" alt=\"Open In Colab\"/></a>"
      ]
    },
    {
      "cell_type": "code",
      "metadata": {
        "id": "RKKAI0W89RFX",
        "colab_type": "code",
        "colab": {
          "base_uri": "https://localhost:8080/",
          "height": 34
        },
        "outputId": "301a5d45-132d-4f8f-9519-f8997efe50d8"
      },
      "source": [
        "!date"
      ],
      "execution_count": 1,
      "outputs": [
        {
          "output_type": "stream",
          "text": [
            "Tue Jul  7 20:27:09 UTC 2020\n"
          ],
          "name": "stdout"
        }
      ]
    },
    {
      "cell_type": "code",
      "metadata": {
        "id": "krNSxC7W9eRK",
        "colab_type": "code",
        "colab": {}
      },
      "source": [
        "#Read in filtered starved data\n",
        "!wget --quiet https://caltech.box.com/shared/static/4jr6eqg6qnnrj2c8orlf7fwo7scyj6s1\n",
        "#Original clustering \n",
        "!wget --quiet https://caltech.box.com/shared/static/ts2i8pid7uky28kke4duyl8jwugx8z4h\n",
        "\n",
        "#Read in filtered stimulation data \n",
        "!wget --quiet https://caltech.box.com/shared/static/hd36giuxz3zd933fh4bca3iqnykncro8"
      ],
      "execution_count": 1,
      "outputs": []
    },
    {
      "cell_type": "code",
      "metadata": {
        "id": "DZ7O0GAWYFeR",
        "colab_type": "code",
        "colab": {}
      },
      "source": [
        "#Unfiltered, raw starvation counts\n",
        "!wget --quiet https://caltech.box.com/shared/static/3l60szs0e9hgaax4q9dbuehgoo092xww\n",
        "\n",
        "#Unfiltered, raw stimulation counts\n",
        "!wget --quiet https://caltech.box.com/shared/static/cy5n9b6rdyk7v4uhvgvpkgotmchlts45"
      ],
      "execution_count": 2,
      "outputs": []
    },
    {
      "cell_type": "code",
      "metadata": {
        "id": "p_g1hzELJ1ps",
        "colab_type": "code",
        "colab": {}
      },
      "source": [
        "#Save merged datasets\n",
        "!wget --quiet https://caltech.box.com/shared/static/jf24fsdq7ojrbwxwf3mc7pqecnrjhpem\n",
        "\n",
        "#Data only contained Fed and SW control\n",
        "!wget --quiet https://caltech.box.com/shared/static/tq6f5fqcmhw9h6kphzk8bvt5qx8xew90"
      ],
      "execution_count": null,
      "outputs": []
    },
    {
      "cell_type": "code",
      "metadata": {
        "id": "8LLSF58RHFVN",
        "colab_type": "code",
        "colab": {
          "base_uri": "https://localhost:8080/",
          "height": 105
        },
        "outputId": "63f84846-8ca1-4134-a17f-2dbf99669a66"
      },
      "source": [
        "!pip install --quiet anndata\n",
        "!pip install --quiet scanpy\n",
        "!pip3 install --quiet leidenalg"
      ],
      "execution_count": 3,
      "outputs": [
        {
          "output_type": "stream",
          "text": [
            "\u001b[K     |████████████████████████████████| 122kB 2.9MB/s \n",
            "\u001b[K     |████████████████████████████████| 7.2MB 2.2MB/s \n",
            "\u001b[K     |████████████████████████████████| 51kB 6.9MB/s \n",
            "\u001b[K     |████████████████████████████████| 2.4MB 2.8MB/s \n",
            "\u001b[K     |████████████████████████████████| 3.2MB 16.6MB/s \n",
            "\u001b[?25h"
          ],
          "name": "stdout"
        }
      ]
    },
    {
      "cell_type": "markdown",
      "metadata": {
        "id": "0_3kNRKHHUDp",
        "colab_type": "text"
      },
      "source": [
        "###**Import packages**"
      ]
    },
    {
      "cell_type": "code",
      "metadata": {
        "id": "ao3y0Bs5HIwV",
        "colab_type": "code",
        "colab": {}
      },
      "source": [
        "import pandas as pd\n",
        "import anndata\n",
        "import scanpy as sc\n",
        "import numpy as np\n",
        "import scipy.sparse\n",
        "\n",
        "import warnings\n",
        "warnings.filterwarnings('ignore')\n",
        "\n",
        "from sklearn.neighbors import (KNeighborsClassifier,NeighborhoodComponentsAnalysis)\n",
        "from sklearn.pipeline import Pipeline\n",
        "from sklearn.manifold import TSNE\n",
        "\n",
        "import matplotlib.pyplot as plt\n",
        "%matplotlib inline\n",
        "sc.set_figure_params(dpi=125)\n",
        "\n",
        "import seaborn as sns\n",
        "sns.set(style=\"whitegrid\")"
      ],
      "execution_count": 4,
      "outputs": []
    },
    {
      "cell_type": "markdown",
      "metadata": {
        "id": "cGOVZY88HlgL",
        "colab_type": "text"
      },
      "source": [
        "###**Map Starvation Labels and to Stimulation Cells**"
      ]
    },
    {
      "cell_type": "markdown",
      "metadata": {
        "id": "EyPy35WIHvH_",
        "colab_type": "text"
      },
      "source": [
        "Read in data"
      ]
    },
    {
      "cell_type": "code",
      "metadata": {
        "id": "HrgeMBJsHTOW",
        "colab_type": "code",
        "colab": {
          "base_uri": "https://localhost:8080/",
          "height": 1000
        },
        "outputId": "cd6d8daf-0619-40a9-bd20-62237108a3cd"
      },
      "source": [
        "#bus_fs_combo data (filtered bus data), bus_combo_noZero (filtered stim data)\n",
        "\n",
        "#bus_fs_combo\n",
        "bus_fs_combo = anndata.read(\"4jr6eqg6qnnrj2c8orlf7fwo7scyj6s1\")\n",
        "\n",
        "orig = anndata.read(\"ts2i8pid7uky28kke4duyl8jwugx8z4h\")\n",
        "\n",
        "print(bus_fs_combo)\n",
        "print(orig)\n",
        "#bus_combo_noZero\n",
        "bus_combo_noZero = anndata.read(\"hd36giuxz3zd933fh4bca3iqnykncro8\")\n",
        "print(bus_combo_noZero)\n"
      ],
      "execution_count": 8,
      "outputs": [
        {
          "output_type": "stream",
          "text": [
            "AnnData object with n_obs × n_vars = 13673 × 8696\n",
            "    obs: 'batch', 'n_counts', 'n_countslog', 'louvain', 'leiden', 'orgID', 'fed', 'starved', 'fed_neighbor_score'\n",
            "    var: 'n_counts'\n",
            "    uns: 'fed_neighbor_score_colors', 'leiden', 'leiden_colors', 'louvain', 'louvain_colors', 'neighbors', 'pca'\n",
            "    obsm: 'X_pca', 'X_tsne', 'X_umap'\n",
            "    varm: 'PCs'\n",
            "    obsp: 'distances', 'connectivities'\n",
            "AnnData object with n_obs × n_vars = 13673 × 2657\n",
            "    obs: 'n_counts', 'n_countslog', 'louvain', 'orgID', 'fed', 'starved', 'fed_ord', 'starved_ord', 'new_fed', 'fed_neighbor_score'\n",
            "    var: 'n_counts', 'n_cells'\n",
            "    uns: 'fed_ord_colors', 'louvain', 'louvain_colors', 'louvain_sizes', 'neighbors', 'new_fed_colors', 'orgID_colors', 'paga', 'pca', 'rank_genes_groups', 'starved_ord_colors'\n",
            "    obsm: 'X_pca', 'X_tsne', 'X_umap'\n",
            "    varm: 'PCs'\n",
            "    obsp: 'distances', 'connectivities'\n",
            "AnnData object with n_obs × n_vars = 19054 × 10260\n",
            "    obs: 'batch', 'n_counts', 'n_countslog', 'leiden', 'condition', 'orgID'\n",
            "    var: 'n_counts'\n",
            "    uns: 'leiden', 'leiden_colors', 'neighbors', 'pca', 'rank_genes_groups'\n",
            "    obsm: 'X_pca', 'X_tsne', 'X_umap'\n",
            "    varm: 'PCs'\n",
            "    obsp: 'distances', 'connectivities'\n"
          ],
          "name": "stdout"
        },
        {
          "output_type": "display_data",
          "data": {
            "image/png": "[encoded data removed]",
            "text/plain": [
              "<Figure size 500x500 with 1 Axes>"
            ]
          },
          "metadata": {
            "tags": [],
            "image/png": {
              "width": 483,
              "height": 499
            }
          }
        },
        {
          "output_type": "execute_result",
          "data": {
            "text/plain": [
              "AnnData object with n_obs × n_vars = 32727 × 6756\n",
              "    obs: 'batch', 'n_counts', 'n_countslog', 'louvain', 'leiden', 'orgID', 'fed', 'starved', 'fed_neighbor_score', 'condition'\n",
              "    var: 'n_counts-0', 'n_counts-1'\n",
              "    uns: 'pca'\n",
              "    obsm: 'X_pca', 'X_tsne', 'X_umap'\n",
              "    varm: 'PCs'"
            ]
          },
          "metadata": {
            "tags": []
          },
          "execution_count": 8
        }
      ]
    },
    {
      "cell_type": "markdown",
      "metadata": {
        "id": "x7iIMDWVILxP",
        "colab_type": "text"
      },
      "source": [
        "Predict labels for stimulation data\n"
      ]
    },
    {
      "cell_type": "code",
      "metadata": {
        "id": "b_qVS551Hksz",
        "colab_type": "code",
        "colab": {}
      },
      "source": [
        "#Make X_pca with merged, use top 30 PC's\n",
        "def getPredLabels(overlap_fs,overlap_combo, orig):\n",
        "    \n",
        "    numFS = len(overlap_fs.obs_names)\n",
        "    X_train = overlap_combo.obsm['X_pca'][0:numFS,0:30]\n",
        "\n",
        "    #X_pca at stim rows = X_test\n",
        "    X_test = overlap_combo.obsm['X_pca'][numFS:,0:30]\n",
        "\n",
        "    #y_train is f/s louvain labels\n",
        "    names = [x.replace('_fs','') for x in overlap_fs.obs_names]\n",
        "    orig = orig[names,]\n",
        "    y_train = orig.obs['louvain']\n",
        "\n",
        "    #Fit and predict\n",
        "    classifier = KNeighborsClassifier(n_neighbors=15)\n",
        "    classifier.fit(X_train, y_train)\n",
        "\n",
        "    y_pred = classifier.predict(X_test)\n",
        "    \n",
        "    labels = list(y_train)+list(y_pred)\n",
        "    \n",
        "    print(len(labels),' labels created')\n",
        "    \n",
        "    return labels\n"
      ],
      "execution_count": null,
      "outputs": []
    },
    {
      "cell_type": "code",
      "metadata": {
        "id": "EAtCeaLnHkwv",
        "colab_type": "code",
        "colab": {}
      },
      "source": [
        "#Predict cluster labels for stim\n",
        "\n",
        "def applyNCAEmbed(overlap_combo,overlap_fs,labels):\n",
        "    \n",
        "    overlap_combo.obs['knn_clus'] = pd.Categorical(labels)\n",
        "    \n",
        "    nca = NeighborhoodComponentsAnalysis(n_components=30)\n",
        "    knn = KNeighborsClassifier() # what is default # neighbors?\n",
        "    nca_pipe = Pipeline([('nca', nca), ('knn', knn)])\n",
        "    X_nca = nca.fit_transform(overlap_combo.X,labels)\n",
        "    overlap_combo.obsm['X_nca'] = X_nca\n",
        "    \n",
        "    print('Finished NCA embedding')\n",
        "    \n",
        "    X_embedded = TSNE(n_components=2,perplexity = 50).fit_transform(X_nca)\n",
        "    overlap_combo.obsm['X_tsne'] = X_embedded\n",
        "    \n",
        "    print('Finished tSNE embedding')"
      ],
      "execution_count": null,
      "outputs": []
    },
    {
      "cell_type": "markdown",
      "metadata": {
        "id": "EB_BOO6GRndi",
        "colab_type": "text"
      },
      "source": [
        "Generate reduced, linear embedding of merged data with new labels"
      ]
    },
    {
      "cell_type": "code",
      "metadata": {
        "id": "fPRl4c6aHk3a",
        "colab_type": "code",
        "colab": {}
      },
      "source": [
        "def plotEmbed(overlap_combo, overlap_fs,overlap_stim):\n",
        "    \n",
        "    origin_label = list(np.repeat('FS',len(overlap_fs.obs_names)))+list(np.repeat('Stim',len(overlap_stim.obs_names)))\n",
        "    overlap_combo.obs['cell_origin'] =  pd.Categorical(origin_label)\n",
        "    overlap_combo\n",
        "\n",
        "    sc.pl.tsne(overlap_combo,color=['knn_clus'],color_map='viridis',legend_loc='on data')\n",
        "    sc.pl.tsne(overlap_combo,color=['XLOC_019434','cell_origin'],color_map='viridis')\n"
      ],
      "execution_count": null,
      "outputs": []
    },
    {
      "cell_type": "code",
      "metadata": {
        "id": "-qX4apWHHlDx",
        "colab_type": "code",
        "colab": {}
      },
      "source": [
        "#Get intersection of var names between the two\n",
        "overlap = list(set(bus_combo_noZero.var_names).intersection(bus_fs_combo.var_names))\n",
        "\n",
        "overlap_fs = bus_fs_combo[:,overlap]\n",
        "\n",
        "overlap_stim = bus_combo_noZero[:,overlap]\n",
        "\n",
        "\n",
        "#Merge datasets\n",
        "overlap_fs.obs_names = [i+'_fs' for i in overlap_fs.obs_names]\n",
        "overlap_stim.obs_names = [i+'_ieg' for i in overlap_stim.obs_names]\n",
        "\n",
        "overlap_combo = overlap_fs.concatenate(overlap_stim,join='outer', index_unique=None)\n",
        "\n",
        "sc.pp.scale(overlap_combo, max_value=10)\n",
        "\n",
        "#Do PCA on merged dataset + plot variance explained\n",
        "sc.tl.pca(overlap_combo, n_comps=60)\n",
        "sc.pl.pca_variance_ratio(overlap_combo, log=True)\n",
        "\n",
        "overlap_combo\n",
        "\n",
        "labels = getPredLabels(overlap_fs,overlap_combo, orig)\n",
        "\n",
        "applyNCAEmbed(overlap_combo,overlap_fs,labels)\n",
        "plotEmbed(overlap_combo, overlap_fs,overlap_stim)\n"
      ],
      "execution_count": null,
      "outputs": []
    },
    {
      "cell_type": "code",
      "metadata": {
        "id": "ev7pfj4gHlB0",
        "colab_type": "code",
        "colab": {}
      },
      "source": [
        "#Discrete and continuous mapping with PAGA (vs tSNE)\n",
        "sc.pp.neighbors(overlap_combo,n_pcs=30, n_neighbors=60, use_rep='X_nca') #n_pcs=30\n",
        "sc.tl.paga(overlap_combo, groups='knn_clus')\n",
        "\n",
        "sc.pl.paga(overlap_combo,color=['knn_clus'],threshold=0.1,max_edge_width=1)"
      ],
      "execution_count": null,
      "outputs": []
    },
    {
      "cell_type": "code",
      "metadata": {
        "id": "th5c2RnKHlAJ",
        "colab_type": "code",
        "colab": {}
      },
      "source": [
        "sc.tl.draw_graph(overlap_combo, init_pos='paga', layout='fa', maxiter=500)\n",
        "sc.pl.draw_graph(overlap_combo,color=['knn_clus','XLOC_030068','XLOC_012650'],\n",
        "                 title=['Cluster','Dkk-3 XLOC_030068','Old Neuron Marker - XLOC_012650'],legend_loc='on data')\n"
      ],
      "execution_count": null,
      "outputs": []
    },
    {
      "cell_type": "code",
      "metadata": {
        "id": "R4DoTFxsHk-o",
        "colab_type": "code",
        "colab": {}
      },
      "source": [
        "# #Scramble labels\n",
        "# import random\n",
        "\n",
        "# #Get intersection of var names between the two\n",
        "# overlap = list(set(bus_combo_noZero.var_names).intersection(bus_fs_combo.var_names))\n",
        "\n",
        "# overlap_fs = bus_fs_combo[:,overlap]\n",
        "\n",
        "# overlap_stim = bus_combo_noZero[:,overlap]\n",
        "\n",
        "\n",
        "# #Merge datasets\n",
        "# overlap_fs.obs_names = [i+'_fs' for i in overlap_fs.obs_names]\n",
        "# overlap_stim.obs_names = [i+'_ieg' for i in overlap_stim.obs_names]\n",
        "\n",
        "# overlap_combo = overlap_fs.concatenate(overlap_stim,join='outer', index_unique=None)\n",
        "\n",
        "# sc.pp.scale(overlap_combo, max_value=10)\n",
        "\n",
        "# #Do PCA on merged dataset + plot variance explained\n",
        "# sc.tl.pca(overlap_combo, n_comps=60)\n",
        "# sc.pl.pca_variance_ratio(overlap_combo, log=True)\n",
        "\n",
        "# overlap_combo\n",
        "\n",
        "# labels = getPredLabels(overlap_fs,overlap_combo, orig)\n",
        "\n",
        "# #Shuffle labels\n",
        "# numFS = len(overlap_fs.obs_names)\n",
        "# stimLabels = list(labels[numFS:])\n",
        "\n",
        "# random.shuffle(stimLabels)\n",
        "# newLabels = labels[0:numFS]+stimLabels"
      ],
      "execution_count": null,
      "outputs": []
    },
    {
      "cell_type": "code",
      "metadata": {
        "id": "9LnJPm9fHk9f",
        "colab_type": "code",
        "colab": {}
      },
      "source": [
        "# applyNCAEmbed(overlap_combo,overlap_fs,newLabels)\n",
        "# plotEmbed(overlap_combo, overlap_fs,overlap_stim)"
      ],
      "execution_count": null,
      "outputs": []
    },
    {
      "cell_type": "code",
      "metadata": {
        "id": "yCNEPoZHHk7K",
        "colab_type": "code",
        "colab": {}
      },
      "source": [
        "#Make overlap_combo just fed and SW\n",
        "\n",
        "#Get intersection of var names between the two\n",
        "overlap = list(set(bus_combo_noZero.var_names).intersection(bus_fs_combo.var_names))\n",
        "\n",
        "overlap_fs_fed = bus_fs_combo[bus_fs_combo.obs['fed'] == True]\n",
        "overlap_fs_fed = overlap_fs_fed[:,overlap]\n",
        "\n",
        "overlap_stim_sw = bus_combo_noZero[bus_combo_noZero.obs['condition'] == 'SW']\n",
        "overlap_stim_sw = overlap_stim_sw[:,overlap]\n",
        "\n",
        "\n",
        "#Merge datasets\n",
        "overlap_fs_fed.obs_names = [i+'_fs' for i in overlap_fs_fed.obs_names]\n",
        "overlap_stim_sw.obs_names = [i+'_ieg' for i in overlap_stim_sw.obs_names]\n",
        "\n",
        "overlap_combo_fed_sw = overlap_fs_fed.concatenate(overlap_stim_sw,join='outer', index_unique=None)\n",
        "\n",
        "sc.pp.scale(overlap_combo_fed_sw, max_value=10)\n",
        "\n",
        "#Do PCA on merged dataset + plot variance explained\n",
        "sc.tl.pca(overlap_combo_fed_sw, n_comps=60)\n",
        "sc.pl.pca_variance_ratio(overlap_combo_fed_sw, log=True)\n",
        "\n",
        "overlap_combo_fed_sw\n",
        "\n",
        "labels = getPredLabels(overlap_fs_fed,overlap_combo_fed_sw, oj2_metadata)\n",
        "applyNCAEmbed(overlap_combo_fed_sw,overlap_fs_fed,oj2_metadata,labels)\n",
        "plotEmbed(overlap_combo_fed_sw, overlap_fs_fed,overlap_stim_sw)"
      ],
      "execution_count": null,
      "outputs": []
    },
    {
      "cell_type": "code",
      "metadata": {
        "id": "ehlqzZOjHq7B",
        "colab_type": "code",
        "colab": {}
      },
      "source": [
        "#Discrete and continuous plotting with PAGA (vs tSNE)\n",
        "sc.pp.neighbors(overlap_combo_fed_sw,n_pcs=30, n_neighbors=500, use_rep='X_nca') #n_pcs=30\n",
        "sc.tl.paga(overlap_combo_fed_sw, groups='knn_clus')\n",
        "\n",
        "sc.pl.paga(overlap_combo_fed_sw,color=['knn_clus'],threshold=0.1,max_edge_width=1)\n",
        "\n",
        "sc.tl.draw_graph(overlap_combo_fed_sw, init_pos='paga', layout='fa', maxiter=500)\n",
        "\n",
        "sc.pl.draw_graph(overlap_combo_fed_sw,color=['knn_clus','XLOC_030068'],legend_loc='on data')"
      ],
      "execution_count": null,
      "outputs": []
    },
    {
      "cell_type": "markdown",
      "metadata": {
        "id": "uPg9ZAZ9RqQt",
        "colab_type": "text"
      },
      "source": [
        "###**Visualize marker genes and use SAVED data**"
      ]
    },
    {
      "cell_type": "code",
      "metadata": {
        "id": "eIOB1AEqIvQP",
        "colab_type": "code",
        "colab": {}
      },
      "source": [
        ""
      ],
      "execution_count": null,
      "outputs": []
    },
    {
      "cell_type": "code",
      "metadata": {
        "id": "jII1ExvAHk1I",
        "colab_type": "code",
        "colab": {}
      },
      "source": [
        "#Read in saved, merged data sets\n",
        "overlap_combo = anndata.read(\"jf24fsdq7ojrbwxwf3mc7pqecnrjhpem\")\n",
        "\n",
        "overlap_combo_fed_sw = anndata.read(\"tq6f5fqcmhw9h6kphzk8bvt5qx8xew90\")\n",
        "\n",
        "#Rank and extract marker genes for all clusters\n",
        "#Keep top 30 genes\n",
        "sc.tl.rank_genes_groups(overlap_combo, 'knn_clus', n_genes=30,method='t-test')\n",
        "\n",
        "#Plot top marker gene for each cluster\n",
        "\n",
        "markers = []\n",
        "for i in np.unique(overlap_combo.obs['knn_clus']):\n",
        "     markers += [overlap_combo.uns['rank_genes_groups']['names'][i][0]]\n",
        "\n",
        "sc.pl.umap(overlap_combo,color=markers,color_map = 'viridis')"
      ],
      "execution_count": null,
      "outputs": []
    },
    {
      "cell_type": "markdown",
      "metadata": {
        "id": "p-YnQ5nCYuPG",
        "colab_type": "text"
      },
      "source": [
        "Visualize other genes with unfiltered gene list"
      ]
    },
    {
      "cell_type": "code",
      "metadata": {
        "id": "KVs6kC9ZHkzx",
        "colab_type": "code",
        "colab": {}
      },
      "source": [
        "#Raw counts, no clustering h5ad, from Kallisto bus\n",
        "jelly4stim = anndata.read(\"cy5n9b6rdyk7v4uhvgvpkgotmchlts45\")\n",
        "\n",
        "#Remove Cluster '0' cells (low umi counts and gene expression)\n",
        "jelly4stim = jelly4stim[bus_combo_noZero.obs_names,]\n",
        "\n",
        "\n",
        "#Add _ieg to cell names\n",
        "jelly4stim.obs_names = [i+'_ieg' for i in jelly4stim.obs_names]\n",
        "\n",
        "\n",
        "stim_data = AnnDatasetFromAnnData(ad = jelly4stim)\n",
        "\n",
        "#Filter zero count genes\n",
        "stim_data.filter_genes_by_count(per_batch=True)\n",
        "print(stim_data)\n",
        "\n",
        "\n",
        "\n",
        "#Read in Fed/Starved data, raw counts, no clustering\n",
        "oj2 = anndata.read(\"3l60szs0e9hgaax4q9dbuehgoo092xww\")\n",
        "\n",
        "#Add _fs to cell names\n",
        "oj2.obs_names = [i+'_fs' for i in oj2.obs_names]\n",
        "\n",
        "\n",
        "fs_data = AnnDatasetFromAnnData(ad = oj2)\n",
        "\n",
        "#Filter zero count genes\n",
        "fs_data.filter_genes_by_count(per_batch=True)\n",
        "print(fs_data)\n",
        "\n",
        "\n",
        "#Concatenate data (with all nonzero genes)\n",
        "combo = jelly4stim.concatenate(oj2,join='outer', index_unique=None)"
      ],
      "execution_count": null,
      "outputs": []
    },
    {
      "cell_type": "code",
      "metadata": {
        "id": "hqkmWBxWHTcG",
        "colab_type": "code",
        "colab": {}
      },
      "source": [
        "#Save obs to combo data, which contains all nonzero ('unfiltered') genes for downstream analysis/visualizations\n",
        "combo = combo[overlap_combo.obs_names,]\n",
        "combo.raw = sc.pp.log1p(combo, copy=True)\n",
        "sc.pp.normalize_per_cell(combo, counts_per_cell_after=1e4)\n",
        "sc.pp.scale(combo, max_value=10)\n",
        "\n",
        "#Transfer info from embedded version\n",
        "combo.obs['knn_clus'] = overlap_combo.obs['knn_clus']\n",
        "combo.obs['cell_origin'] = overlap_combo.obs['cell_origin']\n",
        "combo.obsm['X_tsne'] = overlap_combo.obsm['X_tsne']"
      ],
      "execution_count": null,
      "outputs": []
    },
    {
      "cell_type": "code",
      "metadata": {
        "id": "_W7FKZzEZrPj",
        "colab_type": "code",
        "colab": {}
      },
      "source": [
        "#Can plot genes with combo now"
      ],
      "execution_count": null,
      "outputs": []
    },
    {
      "cell_type": "code",
      "metadata": {
        "id": "zTmRcnNFZrNM",
        "colab_type": "code",
        "colab": {}
      },
      "source": [
        ""
      ],
      "execution_count": null,
      "outputs": []
    },
    {
      "cell_type": "markdown",
      "metadata": {
        "id": "eHw-wChaQg9v",
        "colab_type": "text"
      },
      "source": [
        "###**Determine which clusters to sub-cluster**"
      ]
    },
    {
      "cell_type": "code",
      "metadata": {
        "id": "kyaTfj2LM-DE",
        "colab_type": "code",
        "colab": {}
      },
      "source": [
        "#Plot distances between centroid of stim-starved and fed-starved for each cluster\n",
        "def changeBool(fed):\n",
        "    if fed == 'True':\n",
        "        return 'fed'\n",
        "    elif fed == 'False':\n",
        "        return 'starved' \n",
        "    else:\n",
        "        return 'stim'\n",
        "\n",
        "def addConds(overlap_combo):\n",
        "    fs_conds = [changeBool(i) for i in overlap_combo.obs['fed']]\n",
        "    overlap_combo.obs['centroid_conds'] = pd.Categorical(fs_conds)\n",
        "\n",
        "    overlap_combo.obs['centroid_conds']"
      ],
      "execution_count": null,
      "outputs": []
    },
    {
      "cell_type": "code",
      "metadata": {
        "id": "db6wpyGHM-KK",
        "colab_type": "code",
        "colab": {}
      },
      "source": [
        "def getCentroidDists(overlap_combo):\n",
        "    fedStarv = []\n",
        "    fsStim = []\n",
        "\n",
        "    cluster = []\n",
        "\n",
        "    #Initialize output matrix\n",
        "    addConds(overlap_combo)\n",
        "    clusters = np.unique(overlap_combo.obs['knn_clus'])\n",
        "    centroid_dist = pd.DataFrame(columns =['fedStarv','fsStim','cluster','clus_color']) \n",
        "\n",
        "    for c in clusters:\n",
        "        #Get cells in cluster and their conditions\n",
        "        sub_data = overlap_combo[overlap_combo.obs['knn_clus'] == c]\n",
        "        centroid_conds = sub_data.obs['centroid_conds'] \n",
        "\n",
        "        #Get 2D tsne embedding\n",
        "        pca_embed = sub_data.obsm['X_pca'] #PCA\n",
        "\n",
        "        #Get location of condition cells\n",
        "        stim_pos = list(centroid_conds == 'stim')\n",
        "        allFS_pos = list(centroid_conds != 'stim')\n",
        "        fed_pos = list(centroid_conds == 'fed')\n",
        "        starved_pos = list(centroid_conds == 'starved')\n",
        "\n",
        "        #Get column means for x,y coords\n",
        "        meanFed = pca_embed[fed_pos,].mean(axis=0)\n",
        "\n",
        "        meanStarv = pca_embed[starved_pos,].mean(axis=0)\n",
        "\n",
        "        meanStim = pca_embed[stim_pos,].mean(axis=0)\n",
        "\n",
        "        meanFS = pca_embed[allFS_pos,].mean(axis=0)\n",
        "\n",
        "\n",
        "        cluster += [c]\n",
        "\n",
        "        #Dist between fed and starved\n",
        "        fs_dist = np.linalg.norm(meanFed - meanStarv)\n",
        "\n",
        "        #Dist between (all) starved experiment and stim\n",
        "\n",
        "        starvStim_dist = np.linalg.norm(meanFS - meanStim)\n",
        "\n",
        "        fedStarv += [fs_dist]\n",
        "        fsStim += [starvStim_dist]\n",
        "\n",
        "    centroid_dist['fedStarv'] = fedStarv\n",
        "    centroid_dist['fsStim'] = fsStim\n",
        "\n",
        "    centroid_dist['cluster'] = cluster\n",
        "\n",
        "    return centroid_dist"
      ],
      "execution_count": null,
      "outputs": []
    },
    {
      "cell_type": "code",
      "metadata": {
        "id": "AmXTKlAVM-A8",
        "colab_type": "code",
        "colab": {}
      },
      "source": [
        "allCells_Dists = getCentroidDists(overlap_combo)\n",
        "controlCells_Dists = getCentroidDists(overlap_combo_fed_sw)"
      ],
      "execution_count": null,
      "outputs": []
    },
    {
      "cell_type": "code",
      "metadata": {
        "id": "tRZ6J5-VM997",
        "colab_type": "code",
        "colab": {}
      },
      "source": [
        "plt.figure(figsize=(16,10))\n",
        "plt.scatter(x='cluster', y='fedStarv', data=allCells_Dists,color='red',label='fed-starved')\n",
        "plt.scatter(x='cluster', y='fsStim', data=allCells_Dists,color='blue',label='starved-stim')\n",
        "plt.scatter(x='cluster', y='fsStim', data=controlCells_Dists,color='black',label='fed-sw control')\n",
        "plt.legend()\n",
        "plt.xticks(np.arange(min(allCells_Dists['cluster']), max(allCells_Dists['cluster'])+1, 1))\n",
        "plt.show()"
      ],
      "execution_count": null,
      "outputs": []
    },
    {
      "cell_type": "markdown",
      "metadata": {
        "id": "4FCzA1uzKqZ2",
        "colab_type": "text"
      },
      "source": [
        "Do sub-clustering\n"
      ]
    },
    {
      "cell_type": "code",
      "metadata": {
        "id": "_GfS2D_1QqHY",
        "colab_type": "code",
        "colab": {}
      },
      "source": [
        "clus21 = overlap_combo[overlap_combo.obs['knn_clus'].isin([21])]\n",
        "sc.pp.scale(clus21, max_value=10)\n",
        "\n",
        "sc.tl.pca(clus21, n_comps=60)\n",
        "#sc.pl.pca_variance_ratio(bus_combo, log=True)\n",
        "#sc.tl.tsne(bus_fs_combo, n_pcs=30)\n",
        "\n",
        "sc.pp.neighbors(clus21,n_neighbors=40, n_pcs=30) #n_neighbors=5, n_pcs=15\n",
        "sc.tl.leiden(clus21,resolution=0.5)\n",
        "sc.tl.umap(clus21)\n",
        "sc.pl.umap(clus21, color=['leiden','cell_origin'])\n"
      ],
      "execution_count": null,
      "outputs": []
    },
    {
      "cell_type": "code",
      "metadata": {
        "id": "BPO1kpUrQqT9",
        "colab_type": "code",
        "colab": {}
      },
      "source": [
        "#Keep top 30 genes\n",
        "sc.tl.rank_genes_groups(clus21, 'leiden', n_genes=30,method='t-test')\n",
        "\n",
        "#Plot top marker gene for each cluster\n",
        "\n",
        "markers = []\n",
        "for i in np.unique(clus21.obs['leiden']):\n",
        "     markers += list(clus21.uns['rank_genes_groups']['names'][str(i)][0:2])\n",
        "\n",
        "sc.pl.umap(clus21,color=markers,color_map = 'viridis')"
      ],
      "execution_count": null,
      "outputs": []
    },
    {
      "cell_type": "code",
      "metadata": {
        "id": "agPoj4VTQqRd",
        "colab_type": "code",
        "colab": {}
      },
      "source": [
        ""
      ],
      "execution_count": null,
      "outputs": []
    },
    {
      "cell_type": "code",
      "metadata": {
        "id": "5JJfiES0QqOw",
        "colab_type": "code",
        "colab": {}
      },
      "source": [
        ""
      ],
      "execution_count": null,
      "outputs": []
    },
    {
      "cell_type": "code",
      "metadata": {
        "id": "Z_NDZaRjQqMI",
        "colab_type": "code",
        "colab": {}
      },
      "source": [
        ""
      ],
      "execution_count": null,
      "outputs": []
    },
    {
      "cell_type": "code",
      "metadata": {
        "id": "LExLE_gJQqKO",
        "colab_type": "code",
        "colab": {}
      },
      "source": [
        ""
      ],
      "execution_count": null,
      "outputs": []
    },
    {
      "cell_type": "code",
      "metadata": {
        "id": "-2PtYN4pM95t",
        "colab_type": "code",
        "colab": {}
      },
      "source": [
        "#Optimize for pseudotime and cell type labels in embedding"
      ],
      "execution_count": null,
      "outputs": []
    }
  ]
}