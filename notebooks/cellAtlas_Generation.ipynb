{
  "nbformat": 4,
  "nbformat_minor": 0,
  "metadata": {
    "colab": {
      "name": "cellAtlas_Generation.ipynb",
      "provenance": [],
      "collapsed_sections": []
    },
    "kernelspec": {
      "name": "python3",
      "display_name": "Python 3"
    }
  },
  "cells": [
    {
      "cell_type": "markdown",
      "metadata": {
        "id": "PrHxwePEtk4I",
        "colab_type": "text"
      },
      "source": [
        "[![Open In Colab](https://colab.research.google.com/assets/colab-badge.svg)](https://colab.research.google.com/github/pachterlab/Clytia_single_cell_2020/blob/master/notebooks/cellAtlas_Generation.ipynb)"
      ]
    },
    {
      "cell_type": "code",
      "metadata": {
        "id": "-skPoZvHVgPB",
        "colab_type": "code",
        "outputId": "181b8f4f-577a-4d32-df5d-422da915efcc",
        "colab": {
          "base_uri": "https://localhost:8080/",
          "height": 34
        }
      },
      "source": [
        "!date"
      ],
      "execution_count": 1,
      "outputs": [
        {
          "output_type": "stream",
          "text": [
            "Wed Jun  3 20:54:09 UTC 2020\n"
          ],
          "name": "stdout"
        }
      ]
    },
    {
      "cell_type": "code",
      "metadata": {
        "id": "jQgdV4y38bR3",
        "colab_type": "code",
        "colab": {
          "base_uri": "https://localhost:8080/",
          "height": 462
        },
        "outputId": "4cfc01ad-412a-4adc-f748-96ba353d9f65"
      },
      "source": [
        "#Download starvation data from Box, raw Kallisto counts, no clustering, etc\n",
        "!wget https://caltech.box.com/shared/static/3l60szs0e9hgaax4q9dbuehgoo092xww"
      ],
      "execution_count": 2,
      "outputs": [
        {
          "output_type": "stream",
          "text": [
            "--2020-06-03 20:54:14--  https://caltech.box.com/shared/static/3l60szs0e9hgaax4q9dbuehgoo092xww\n",
            "Resolving caltech.box.com (caltech.box.com)... 107.152.26.197\n",
            "Connecting to caltech.box.com (caltech.box.com)|107.152.26.197|:443... connected.\n",
            "HTTP request sent, awaiting response... 301 Moved Permanently\n",
            "Location: /public/static/3l60szs0e9hgaax4q9dbuehgoo092xww [following]\n",
            "--2020-06-03 20:54:14--  https://caltech.box.com/public/static/3l60szs0e9hgaax4q9dbuehgoo092xww\n",
            "Reusing existing connection to caltech.box.com:443.\n",
            "HTTP request sent, awaiting response... 301 Moved Permanently\n",
            "Location: https://caltech.app.box.com/public/static/3l60szs0e9hgaax4q9dbuehgoo092xww [following]\n",
            "--2020-06-03 20:54:14--  https://caltech.app.box.com/public/static/3l60szs0e9hgaax4q9dbuehgoo092xww\n",
            "Resolving caltech.app.box.com (caltech.app.box.com)... 107.152.29.201\n",
            "Connecting to caltech.app.box.com (caltech.app.box.com)|107.152.29.201|:443... connected.\n",
            "HTTP request sent, awaiting response... 302 Found\n",
            "Location: https://public.boxcloud.com/d/1/b1!3mLJahcMPFCsQ1yZtbATQxysoRn3L7ZxBhqv2ipCL5vl6YAE7NM-E-drsnNtdIZnCN5CtmZEiYwcGO5UPUYstcdOhjH9o6lkXnSlkUNZsH66hMTY-bimW2W1b1KdpAVkCOZzQw942E_wahcq_uLw1g3FxnQPZPLxBDNy0KIyvFAX01BMuxd5TWxQ767DbIyuzZA88uN0CRQ1Fy7JiKvW-rEJzfRrorDLZxVAA5PWkeZiRcw4mcYMS7r5Jyi621s45K_nqfYr9Baby7N1MR-8DJkk1gvmtTRgmWyFD_Nz1BabPAo4GWdb1j4vC1kbOw86teYaq0g1_zeGC8lK00FuulN2q85tGnFlZSxx2ljXzXh7tml-j-QaKPUTwvy3rDEiuDK29qP_KvAxLYeV9jW-Cog1TkYfW-t_GCgiHUiNGXYA-StMwh3Z-5bx7a2blsEmhyePRrtHY0d3Y6MEVnP-2vLinuYNIZ7u0NTdWM1xJOwKRC6Mpo46KWQKeZoER5SUQiKDbbuS5on5aonOSgMJZGOCvBH09GKRF0dtAWF3ahedm_eotb0w6MNVSde1PnraFdhkau3AURWfp6P2rpfrVl12jppyoIP6yc1U1JcuD2jLmL-IDh3HbPMCelFs_oH3vel0MNtUJVrhM-hUHcpLNolNAl8j8lUYHoQ0BlPNsYGW-n52hDUSvchD5SHSLibIo_qIfPy-QF3UiJ5qjvw8YF1egaW8e13vwwM8QYWRQsS3vu6oaCbTjhvG_phnc5waqaMboWgeIcYtuHyEBEtXwHz6cdare67ZtQ26KftolgvzENJjGGWvcSx_j3NGJgZuGBOdOKAEE-r170Btomw17ocX-60IEvvjnwfaGVzHFFtz7ttTVbCFxSzWAMkeopc92SM-rfn-REKHyaCoFxBKpXpNFvYcLAYAO8kIB59zAzJ_CzjRtLne5PSrc1nKb7-KN5xEXvw0HkyB2kMqPkqBnhX9d-xx5xlQjeEV7beQ448BSofokWnmbuokZvNw4q6NvnDwneA5nIlvVwwJn_0J1CEpzgVHdTWhqIzV2Y5xbw2RHltS7r7HwTy6p-pINV1Ka-EYJRliaG4hhk4xN7dpCwdAm5mq0yFBaqo8ezCbIgL3nsv5La2g3zERF5o_T2yfusdetji4wp3ddRYPt4dapppi588y3uDylKOLlZEhXhYlxSe5otI5o09OXMRE8QzpKbHZhyfhMuT4LwXs_zCYRlMxSNqCDp3K6JociVJtPwGmI_kKhLjPOqH8oGl081uMbno6XzqkMLf1FqEwycLJG3Zz_X8j6kqrN3J_enRRllayueUzIVz5Oyip9X7oynNO93GDcP0QIDOIvx2ensph5uTxMCKi9vazJb6MVv6bJw7-92Yc2ipOpCWPeW0R6ZmrpVSH9UQ92L0TKFFEAgbKF61SAl54H7uI8_OC-bHqZu4./download [following]\n",
            "--2020-06-03 20:54:14--  https://public.boxcloud.com/d/1/b1!3mLJahcMPFCsQ1yZtbATQxysoRn3L7ZxBhqv2ipCL5vl6YAE7NM-E-drsnNtdIZnCN5CtmZEiYwcGO5UPUYstcdOhjH9o6lkXnSlkUNZsH66hMTY-bimW2W1b1KdpAVkCOZzQw942E_wahcq_uLw1g3FxnQPZPLxBDNy0KIyvFAX01BMuxd5TWxQ767DbIyuzZA88uN0CRQ1Fy7JiKvW-rEJzfRrorDLZxVAA5PWkeZiRcw4mcYMS7r5Jyi621s45K_nqfYr9Baby7N1MR-8DJkk1gvmtTRgmWyFD_Nz1BabPAo4GWdb1j4vC1kbOw86teYaq0g1_zeGC8lK00FuulN2q85tGnFlZSxx2ljXzXh7tml-j-QaKPUTwvy3rDEiuDK29qP_KvAxLYeV9jW-Cog1TkYfW-t_GCgiHUiNGXYA-StMwh3Z-5bx7a2blsEmhyePRrtHY0d3Y6MEVnP-2vLinuYNIZ7u0NTdWM1xJOwKRC6Mpo46KWQKeZoER5SUQiKDbbuS5on5aonOSgMJZGOCvBH09GKRF0dtAWF3ahedm_eotb0w6MNVSde1PnraFdhkau3AURWfp6P2rpfrVl12jppyoIP6yc1U1JcuD2jLmL-IDh3HbPMCelFs_oH3vel0MNtUJVrhM-hUHcpLNolNAl8j8lUYHoQ0BlPNsYGW-n52hDUSvchD5SHSLibIo_qIfPy-QF3UiJ5qjvw8YF1egaW8e13vwwM8QYWRQsS3vu6oaCbTjhvG_phnc5waqaMboWgeIcYtuHyEBEtXwHz6cdare67ZtQ26KftolgvzENJjGGWvcSx_j3NGJgZuGBOdOKAEE-r170Btomw17ocX-60IEvvjnwfaGVzHFFtz7ttTVbCFxSzWAMkeopc92SM-rfn-REKHyaCoFxBKpXpNFvYcLAYAO8kIB59zAzJ_CzjRtLne5PSrc1nKb7-KN5xEXvw0HkyB2kMqPkqBnhX9d-xx5xlQjeEV7beQ448BSofokWnmbuokZvNw4q6NvnDwneA5nIlvVwwJn_0J1CEpzgVHdTWhqIzV2Y5xbw2RHltS7r7HwTy6p-pINV1Ka-EYJRliaG4hhk4xN7dpCwdAm5mq0yFBaqo8ezCbIgL3nsv5La2g3zERF5o_T2yfusdetji4wp3ddRYPt4dapppi588y3uDylKOLlZEhXhYlxSe5otI5o09OXMRE8QzpKbHZhyfhMuT4LwXs_zCYRlMxSNqCDp3K6JociVJtPwGmI_kKhLjPOqH8oGl081uMbno6XzqkMLf1FqEwycLJG3Zz_X8j6kqrN3J_enRRllayueUzIVz5Oyip9X7oynNO93GDcP0QIDOIvx2ensph5uTxMCKi9vazJb6MVv6bJw7-92Yc2ipOpCWPeW0R6ZmrpVSH9UQ92L0TKFFEAgbKF61SAl54H7uI8_OC-bHqZu4./download\n",
            "Resolving public.boxcloud.com (public.boxcloud.com)... 107.152.27.200\n",
            "Connecting to public.boxcloud.com (public.boxcloud.com)|107.152.27.200|:443... connected.\n",
            "HTTP request sent, awaiting response... 200 OK\n",
            "Length: 99521857 (95M) [application/octet-stream]\n",
            "Saving to: ‘3l60szs0e9hgaax4q9dbuehgoo092xww’\n",
            "\n",
            "3l60szs0e9hgaax4q9d 100%[===================>]  94.91M  24.1MB/s    in 4.0s    \n",
            "\n",
            "2020-06-03 20:54:19 (23.4 MB/s) - ‘3l60szs0e9hgaax4q9dbuehgoo092xww’ saved [99521857/99521857]\n",
            "\n"
          ],
          "name": "stdout"
        }
      ]
    },
    {
      "cell_type": "code",
      "metadata": {
        "id": "WZUUkcYl8bsV",
        "colab_type": "code",
        "colab": {
          "base_uri": "https://localhost:8080/",
          "height": 887
        },
        "outputId": "d4f3013a-7012-4c90-f749-e99272082bae"
      },
      "source": [
        "#Download stimulation data from Box, raw Kallisto counts, no clustering, etc\n",
        "!wget https://caltech.box.com/shared/static/cy5n9b6rdyk7v4uhvgvpkgotmchlts45\n",
        "!wget https://caltech.box.com/shared/static/hd36giuxz3zd933fh4bca3iqnykncro8"
      ],
      "execution_count": 3,
      "outputs": [
        {
          "output_type": "stream",
          "text": [
            "--2020-06-03 20:54:21--  https://caltech.box.com/shared/static/cy5n9b6rdyk7v4uhvgvpkgotmchlts45\n",
            "Resolving caltech.box.com (caltech.box.com)... 107.152.26.197\n",
            "Connecting to caltech.box.com (caltech.box.com)|107.152.26.197|:443... connected.\n",
            "HTTP request sent, awaiting response... 301 Moved Permanently\n",
            "Location: /public/static/cy5n9b6rdyk7v4uhvgvpkgotmchlts45 [following]\n",
            "--2020-06-03 20:54:21--  https://caltech.box.com/public/static/cy5n9b6rdyk7v4uhvgvpkgotmchlts45\n",
            "Reusing existing connection to caltech.box.com:443.\n",
            "HTTP request sent, awaiting response... 301 Moved Permanently\n",
            "Location: https://caltech.app.box.com/public/static/cy5n9b6rdyk7v4uhvgvpkgotmchlts45 [following]\n",
            "--2020-06-03 20:54:21--  https://caltech.app.box.com/public/static/cy5n9b6rdyk7v4uhvgvpkgotmchlts45\n",
            "Resolving caltech.app.box.com (caltech.app.box.com)... 107.152.29.201\n",
            "Connecting to caltech.app.box.com (caltech.app.box.com)|107.152.29.201|:443... connected.\n",
            "HTTP request sent, awaiting response... 302 Found\n",
            "Location: https://public.boxcloud.com/d/1/b1!98JFIfbdlr8c8RIkHAAMnW7zQ0NVJxXkfW-kzWAr5PN3rKSYKnwYmfOOA0Ye-SFp-B9fQSrwiBeEZLJNIFWzVoIsY3pbOWxqgZ6VyUpIlmmQGKEiuR6gewl1ar3rc9As9TPvgB-6iDnox3R5JXh88A6DWaqw4BNnzyegTF16GWkW83FfLnSF8QgMMLZmHcnKH8EgY0zt8CjzS05Fwj9trNNOyCV7fcm_BinYSktQuxiYoimHymRcd8p8PJnXAnuGLAhUR8UeN8SmaAeq-KDTDVRWV8jiIMnzHpolAVu21y0QTsNPgeRIuuSee47pzho8KcmAVbv3UnO7JzkHbCZe_LOr3VHAGcDmqeZUh6Ju2lBB8hc9m8t-TOAgI1lRRjEVqY8lTDxShE81nRcD7UgYl-L5x460EH9wQJ_HV2T-30AV5e1dP0p1uFtN0M_cUU0veQrG34CbrSBLRNG0xJuPKzk-4PsMLx5AoCEeav4Xhc_WWG8Aei3vQl_e08qlX1Xya96MHEJh8JtcIXXxn5Wdo_s-U2ruYX_HlXst4BVkMHLCzqCCdiJUro8_nrKRVMmddOI5x01nuVjIKMcrWlI6_lx50uuqjAGjxoJvJdzgYYfEcPG-0xt9XhQkyNTg6BdRGXrflTy3eHKB--3Xds7lES_OQz07a_Nw6GA6jPAx6hZVEwOhSoNKJoQ-B3NEa7Bl3GRBOfRHRZPhBj_qVRfsYSNRn4C2Tn96EAHk-qkr7Hs-3cWJV_w19VVdww04bBpgb0PURYCgJe6JD66zDUCi96kGAzuDkVOnrK6nxzgbW6JWhVhuDCbFTe5EVZP0e-q7vHIpmgBkY5mN02E-B06YMPQxoK890Ka2Dj39lKNSF9E6Kj1rIgg-lI7V61BNJPZTM_hstoXhhK3hZEBAtZObHJt86nh4zCw6T8qtyow_dxsLArUGaVR_wYGoqJSBy0P86m-GsaskN8IQCBc6oyp13Lx8sXz2DWt7FKr3VxdcmQ88rK3jkkbuNAjJNIKMKuUV4MiGsoLp56p_bfTPidVn7YdP1RjkjrNjn95pAbUQr7qwOhpukufi4fJ_A73nq14L3jpD5mhfO9pe1P6Mg_cIdnS7ts_hQeylBONEQom1J0sRwtJw3gBIy9dszWNDw6ZqZzfuRvZYGyITOoPmrqMN_e0cEagtEUDPWOHI1FybjhPF8fI3qUqcpsOlSOQAYf_Xn8pERNujs3uj1OqjdFMBo7oKEdUbVtiwwkLOq40YKb_K7cLWz8S1SIvtVZm447BBjBGy-aGNTSGT0SQFNDchNbhcc7BGhuMf6Q40Xc9fJIgzhuqAN5Cat55OE5dNSjenLj62wCKjNVoggAXcGWTZ1ELMQDFUHlWxBb9DVaBs9ZdO-Ott2PKB_XBLfJo0CFh16zKQ0CGODgZtdRpkXyTwzQrMXubxMHPPuH3pEPfc/download [following]\n",
            "--2020-06-03 20:54:22--  https://public.boxcloud.com/d/1/b1!98JFIfbdlr8c8RIkHAAMnW7zQ0NVJxXkfW-kzWAr5PN3rKSYKnwYmfOOA0Ye-SFp-B9fQSrwiBeEZLJNIFWzVoIsY3pbOWxqgZ6VyUpIlmmQGKEiuR6gewl1ar3rc9As9TPvgB-6iDnox3R5JXh88A6DWaqw4BNnzyegTF16GWkW83FfLnSF8QgMMLZmHcnKH8EgY0zt8CjzS05Fwj9trNNOyCV7fcm_BinYSktQuxiYoimHymRcd8p8PJnXAnuGLAhUR8UeN8SmaAeq-KDTDVRWV8jiIMnzHpolAVu21y0QTsNPgeRIuuSee47pzho8KcmAVbv3UnO7JzkHbCZe_LOr3VHAGcDmqeZUh6Ju2lBB8hc9m8t-TOAgI1lRRjEVqY8lTDxShE81nRcD7UgYl-L5x460EH9wQJ_HV2T-30AV5e1dP0p1uFtN0M_cUU0veQrG34CbrSBLRNG0xJuPKzk-4PsMLx5AoCEeav4Xhc_WWG8Aei3vQl_e08qlX1Xya96MHEJh8JtcIXXxn5Wdo_s-U2ruYX_HlXst4BVkMHLCzqCCdiJUro8_nrKRVMmddOI5x01nuVjIKMcrWlI6_lx50uuqjAGjxoJvJdzgYYfEcPG-0xt9XhQkyNTg6BdRGXrflTy3eHKB--3Xds7lES_OQz07a_Nw6GA6jPAx6hZVEwOhSoNKJoQ-B3NEa7Bl3GRBOfRHRZPhBj_qVRfsYSNRn4C2Tn96EAHk-qkr7Hs-3cWJV_w19VVdww04bBpgb0PURYCgJe6JD66zDUCi96kGAzuDkVOnrK6nxzgbW6JWhVhuDCbFTe5EVZP0e-q7vHIpmgBkY5mN02E-B06YMPQxoK890Ka2Dj39lKNSF9E6Kj1rIgg-lI7V61BNJPZTM_hstoXhhK3hZEBAtZObHJt86nh4zCw6T8qtyow_dxsLArUGaVR_wYGoqJSBy0P86m-GsaskN8IQCBc6oyp13Lx8sXz2DWt7FKr3VxdcmQ88rK3jkkbuNAjJNIKMKuUV4MiGsoLp56p_bfTPidVn7YdP1RjkjrNjn95pAbUQr7qwOhpukufi4fJ_A73nq14L3jpD5mhfO9pe1P6Mg_cIdnS7ts_hQeylBONEQom1J0sRwtJw3gBIy9dszWNDw6ZqZzfuRvZYGyITOoPmrqMN_e0cEagtEUDPWOHI1FybjhPF8fI3qUqcpsOlSOQAYf_Xn8pERNujs3uj1OqjdFMBo7oKEdUbVtiwwkLOq40YKb_K7cLWz8S1SIvtVZm447BBjBGy-aGNTSGT0SQFNDchNbhcc7BGhuMf6Q40Xc9fJIgzhuqAN5Cat55OE5dNSjenLj62wCKjNVoggAXcGWTZ1ELMQDFUHlWxBb9DVaBs9ZdO-Ott2PKB_XBLfJo0CFh16zKQ0CGODgZtdRpkXyTwzQrMXubxMHPPuH3pEPfc/download\n",
            "Resolving public.boxcloud.com (public.boxcloud.com)... 107.152.27.200\n",
            "Connecting to public.boxcloud.com (public.boxcloud.com)|107.152.27.200|:443... connected.\n",
            "HTTP request sent, awaiting response... 200 OK\n",
            "Length: 285666761 (272M) [application/octet-stream]\n",
            "Saving to: ‘cy5n9b6rdyk7v4uhvgvpkgotmchlts45’\n",
            "\n",
            "cy5n9b6rdyk7v4uhvgv 100%[===================>] 272.43M  23.9MB/s    in 12s     \n",
            "\n",
            "2020-06-03 20:54:34 (23.6 MB/s) - ‘cy5n9b6rdyk7v4uhvgvpkgotmchlts45’ saved [285666761/285666761]\n",
            "\n",
            "--2020-06-03 20:54:35--  https://caltech.box.com/shared/static/hd36giuxz3zd933fh4bca3iqnykncro8\n",
            "Resolving caltech.box.com (caltech.box.com)... 107.152.26.197\n",
            "Connecting to caltech.box.com (caltech.box.com)|107.152.26.197|:443... connected.\n",
            "HTTP request sent, awaiting response... 301 Moved Permanently\n",
            "Location: /public/static/hd36giuxz3zd933fh4bca3iqnykncro8 [following]\n",
            "--2020-06-03 20:54:35--  https://caltech.box.com/public/static/hd36giuxz3zd933fh4bca3iqnykncro8\n",
            "Reusing existing connection to caltech.box.com:443.\n",
            "HTTP request sent, awaiting response... 301 Moved Permanently\n",
            "Location: https://caltech.app.box.com/public/static/hd36giuxz3zd933fh4bca3iqnykncro8 [following]\n",
            "--2020-06-03 20:54:36--  https://caltech.app.box.com/public/static/hd36giuxz3zd933fh4bca3iqnykncro8\n",
            "Resolving caltech.app.box.com (caltech.app.box.com)... 107.152.29.201\n",
            "Connecting to caltech.app.box.com (caltech.app.box.com)|107.152.29.201|:443... connected.\n",
            "HTTP request sent, awaiting response... 302 Found\n",
            "Location: https://public.boxcloud.com/d/1/b1!9b7p9YZZByTd0j0-YIgaxTH3f0LOT37mRCxWfm4bb4X7vr0BjLmYzoDMP36n_jgXco2qe4scEAYBiyrTUY42wwk7BxGqrVDW3o4IXnsain1Lcws0Do8Hyx6iGlyBVegHNvLYkTjTL_TXtWvYpSgkAUoeHdM3JQeKps5kS9QafMXw6LARRFoJkVFaienx-HLE20LWBbzu_DaqzEArP7_bEQlnWDnEih_uDIQsPAi2zu5yZlaOGBrBmwI0LCl1ZeYFAvcwiLQib4RqhvbfxHb0rf1cGBiFu6cTY8n-hkR5D-Sm0TYUw3YhgQiJ3Okrh4MsLETaZxf0P9uumwuqCfIQ0SzfvE7gICoOcV7O8d4FwuF4ZsnGKZvrBQL5ZQY71MDjFCSg5e_g8IoDu38Z4LCu9jXq-WHqApnlpkKD5pI6LA4HtWh9ZMhCWCwMfnS-kBAygJJg9iaqJiAZMQk_Xp1yLCq5mbBCeayH28kF3WRSizwZI-JDgn0lZtya3ZxFsJV8dmUw8p1Ei0HZfdlMEXvQ1vKh-WZK01kXyKUuzhbaR86Gss5sYTZQ0t3asuzEjtQ8KXsZ8kRpXowG_c1b14el3MPbuavoENf0JyMYRv_kOboSYh_4fkn1FmEOHh41akaFn5f47Mq9wjg_RXs5TILZfobsehkz0-kFeF5hC8F9rWgiP4qmaokrhoHuDoDLFUro2wjkyVNfYLavJqkOwqmIR-Lz6HZaxMvUvaNzZnwdI6s6uZ-lilH1mv-m4FHRJJJMMmUkMzD87CPkkfGTqmA2jbVdVmhHt8oiot9CORPb18eMP_eCKr8-2T0rxUQfYR9FI0JSm8NkY9KyL4yUmgIr_ufd_wEpnueLiBu4eZ-64Nwpi2tHW03yJtE-chvHLv0irSuqJsXQmIiyyg7PkQOt3b5d7pUH_CBscX9RhQBiJSqCuLTIN3TrQwbaDfG_rStQtNAt-MxDnfYbdzCYkCgE3TrJQGRaF0uMpOS4gNvw7Cn1IHBRsL5Kt2K0Ulu2IeOqNrDv4zWY_Ehg_CfGO1BtbktvqiPxL9vk_XdXf2BdGrpdokYOgp-PUqk-NUpdIxbJh2DZWd1KLOyTiQoMcJg_9Ckgypt320IkOeD4-hHNW5VFT7HZ5H96r0mWu6A1rU-MwclgzHoeTLbMzfBCCNZaF0eJE6979vFThOB3-OzJZs2dHW2WtwuYCEMLPD1LJAzH_6-7McEUZP1V8VDdNlR84nx8CVqZxk19zD-6WGI6JgR_4G-l0GKhIQBhDX0Ujd25fJw8Ng8pQPs5oNAxlYzkxLOBgN7Z-2i-vjMObmgp_YCOWRjxftGJFTR2N56s0b77eIGRuxJlrf6KPsdXScJwKmWZHxsBPzzs6LUUb2zPiVlx_0wiRWBE9Yp7HrbQhgD5CBdimKvxFbH5Uxq0kQo7EOIovQk8TDA1knMPPAdBaU3MWKcjpjKxbcI./download [following]\n",
            "--2020-06-03 20:54:36--  https://public.boxcloud.com/d/1/b1!9b7p9YZZByTd0j0-YIgaxTH3f0LOT37mRCxWfm4bb4X7vr0BjLmYzoDMP36n_jgXco2qe4scEAYBiyrTUY42wwk7BxGqrVDW3o4IXnsain1Lcws0Do8Hyx6iGlyBVegHNvLYkTjTL_TXtWvYpSgkAUoeHdM3JQeKps5kS9QafMXw6LARRFoJkVFaienx-HLE20LWBbzu_DaqzEArP7_bEQlnWDnEih_uDIQsPAi2zu5yZlaOGBrBmwI0LCl1ZeYFAvcwiLQib4RqhvbfxHb0rf1cGBiFu6cTY8n-hkR5D-Sm0TYUw3YhgQiJ3Okrh4MsLETaZxf0P9uumwuqCfIQ0SzfvE7gICoOcV7O8d4FwuF4ZsnGKZvrBQL5ZQY71MDjFCSg5e_g8IoDu38Z4LCu9jXq-WHqApnlpkKD5pI6LA4HtWh9ZMhCWCwMfnS-kBAygJJg9iaqJiAZMQk_Xp1yLCq5mbBCeayH28kF3WRSizwZI-JDgn0lZtya3ZxFsJV8dmUw8p1Ei0HZfdlMEXvQ1vKh-WZK01kXyKUuzhbaR86Gss5sYTZQ0t3asuzEjtQ8KXsZ8kRpXowG_c1b14el3MPbuavoENf0JyMYRv_kOboSYh_4fkn1FmEOHh41akaFn5f47Mq9wjg_RXs5TILZfobsehkz0-kFeF5hC8F9rWgiP4qmaokrhoHuDoDLFUro2wjkyVNfYLavJqkOwqmIR-Lz6HZaxMvUvaNzZnwdI6s6uZ-lilH1mv-m4FHRJJJMMmUkMzD87CPkkfGTqmA2jbVdVmhHt8oiot9CORPb18eMP_eCKr8-2T0rxUQfYR9FI0JSm8NkY9KyL4yUmgIr_ufd_wEpnueLiBu4eZ-64Nwpi2tHW03yJtE-chvHLv0irSuqJsXQmIiyyg7PkQOt3b5d7pUH_CBscX9RhQBiJSqCuLTIN3TrQwbaDfG_rStQtNAt-MxDnfYbdzCYkCgE3TrJQGRaF0uMpOS4gNvw7Cn1IHBRsL5Kt2K0Ulu2IeOqNrDv4zWY_Ehg_CfGO1BtbktvqiPxL9vk_XdXf2BdGrpdokYOgp-PUqk-NUpdIxbJh2DZWd1KLOyTiQoMcJg_9Ckgypt320IkOeD4-hHNW5VFT7HZ5H96r0mWu6A1rU-MwclgzHoeTLbMzfBCCNZaF0eJE6979vFThOB3-OzJZs2dHW2WtwuYCEMLPD1LJAzH_6-7McEUZP1V8VDdNlR84nx8CVqZxk19zD-6WGI6JgR_4G-l0GKhIQBhDX0Ujd25fJw8Ng8pQPs5oNAxlYzkxLOBgN7Z-2i-vjMObmgp_YCOWRjxftGJFTR2N56s0b77eIGRuxJlrf6KPsdXScJwKmWZHxsBPzzs6LUUb2zPiVlx_0wiRWBE9Yp7HrbQhgD5CBdimKvxFbH5Uxq0kQo7EOIovQk8TDA1knMPPAdBaU3MWKcjpjKxbcI./download\n",
            "Resolving public.boxcloud.com (public.boxcloud.com)... 107.152.27.200\n",
            "Connecting to public.boxcloud.com (public.boxcloud.com)|107.152.27.200|:443... connected.\n",
            "HTTP request sent, awaiting response... 200 OK\n",
            "Length: 1088870840 (1.0G) [application/octet-stream]\n",
            "Saving to: ‘hd36giuxz3zd933fh4bca3iqnykncro8’\n",
            "\n",
            "hd36giuxz3zd933fh4b 100%[===================>]   1.01G  22.3MB/s    in 46s     \n",
            "\n",
            "2020-06-03 20:55:23 (22.5 MB/s) - ‘hd36giuxz3zd933fh4bca3iqnykncro8’ saved [1088870840/1088870840]\n",
            "\n"
          ],
          "name": "stdout"
        }
      ]
    },
    {
      "cell_type": "code",
      "metadata": {
        "id": "h4ILY2R1VoKM",
        "colab_type": "code",
        "colab": {}
      },
      "source": [
        "# from google.colab import drive\n",
        "# drive.mount('/content/drive/')"
      ],
      "execution_count": 0,
      "outputs": []
    },
    {
      "cell_type": "code",
      "metadata": {
        "id": "AGMCsy5hZing",
        "colab_type": "code",
        "colab": {
          "base_uri": "https://localhost:8080/",
          "height": 1000
        },
        "outputId": "c3dad7f2-7bcc-4ada-9e2f-481a5ef1159e"
      },
      "source": [
        "!pip install scvi"
      ],
      "execution_count": 4,
      "outputs": [
        {
          "output_type": "stream",
          "text": [
            "Collecting scvi\n",
            "\u001b[?25l  Downloading https://files.pythonhosted.org/packages/52/fd/0d086c6c6bb7a91e2923a7c0c44717362cbc5a7dd3b1fe55d2dfa5f3ca32/scvi-0.6.5-py2.py3-none-any.whl (154kB)\n",
            "\r\u001b[K     |██▏                             | 10kB 17.4MB/s eta 0:00:01\r\u001b[K     |████▎                           | 20kB 1.8MB/s eta 0:00:01\r\u001b[K     |██████▍                         | 30kB 2.2MB/s eta 0:00:01\r\u001b[K     |████████▌                       | 40kB 2.5MB/s eta 0:00:01\r\u001b[K     |██████████▋                     | 51kB 2.0MB/s eta 0:00:01\r\u001b[K     |████████████▊                   | 61kB 2.3MB/s eta 0:00:01\r\u001b[K     |██████████████▉                 | 71kB 2.5MB/s eta 0:00:01\r\u001b[K     |█████████████████               | 81kB 2.8MB/s eta 0:00:01\r\u001b[K     |███████████████████             | 92kB 2.9MB/s eta 0:00:01\r\u001b[K     |█████████████████████▏          | 102kB 2.9MB/s eta 0:00:01\r\u001b[K     |███████████████████████▎        | 112kB 2.9MB/s eta 0:00:01\r\u001b[K     |█████████████████████████▍      | 122kB 2.9MB/s eta 0:00:01\r\u001b[K     |███████████████████████████▌    | 133kB 2.9MB/s eta 0:00:01\r\u001b[K     |█████████████████████████████▋  | 143kB 2.9MB/s eta 0:00:01\r\u001b[K     |███████████████████████████████▊| 153kB 2.9MB/s eta 0:00:01\r\u001b[K     |████████████████████████████████| 163kB 2.9MB/s \n",
            "\u001b[?25hRequirement already satisfied: h5py>=2.9.0 in /usr/local/lib/python3.6/dist-packages (from scvi) (2.10.0)\n",
            "Requirement already satisfied: scikit-learn>=0.20.3 in /usr/local/lib/python3.6/dist-packages (from scvi) (0.22.2.post1)\n",
            "Collecting loompy>=3.0.6\n",
            "\u001b[?25l  Downloading https://files.pythonhosted.org/packages/36/52/74ed37ae5988522fbf87b856c67c4f80700e6452410b4cd80498c5f416f9/loompy-3.0.6.tar.gz (41kB)\n",
            "\u001b[K     |████████████████████████████████| 51kB 6.5MB/s \n",
            "\u001b[?25hRequirement already satisfied: pandas>=0.24.2 in /usr/local/lib/python3.6/dist-packages (from scvi) (1.0.4)\n",
            "Requirement already satisfied: statsmodels in /usr/local/lib/python3.6/dist-packages (from scvi) (0.10.2)\n",
            "Requirement already satisfied: dataclasses; python_version < \"3.7\" in /usr/local/lib/python3.6/dist-packages (from scvi) (0.7)\n",
            "Requirement already satisfied: tqdm>=4.31.1 in /usr/local/lib/python3.6/dist-packages (from scvi) (4.41.1)\n",
            "Requirement already satisfied: hyperopt==0.1.2 in /usr/local/lib/python3.6/dist-packages (from scvi) (0.1.2)\n",
            "Collecting scikit-misc\n",
            "\u001b[?25l  Downloading https://files.pythonhosted.org/packages/e5/a9/7e539368f6a3c7cc071481fad9872825b174cd86408be40bd8b286d3977c/scikit_misc-0.1.3-cp36-cp36m-manylinux1_x86_64.whl (8.7MB)\n",
            "\u001b[K     |████████████████████████████████| 8.7MB 6.1MB/s \n",
            "\u001b[?25hCollecting xlrd>=1.2.0\n",
            "\u001b[?25l  Downloading https://files.pythonhosted.org/packages/b0/16/63576a1a001752e34bf8ea62e367997530dc553b689356b9879339cf45a4/xlrd-1.2.0-py2.py3-none-any.whl (103kB)\n",
            "\u001b[K     |████████████████████████████████| 112kB 41.5MB/s \n",
            "\u001b[?25hCollecting anndata>=0.7\n",
            "\u001b[?25l  Downloading https://files.pythonhosted.org/packages/28/75/6f3b304f4cce11dee2188ad13c8c4a9d075d2a5c2d7b4e3a058ae506b8f6/anndata-0.7.3-py3-none-any.whl (112kB)\n",
            "\u001b[K     |████████████████████████████████| 122kB 47.9MB/s \n",
            "\u001b[?25hRequirement already satisfied: numpy>=1.16.2 in /usr/local/lib/python3.6/dist-packages (from scvi) (1.18.4)\n",
            "Requirement already satisfied: torch>=1.0.1 in /usr/local/lib/python3.6/dist-packages (from scvi) (1.5.0+cu101)\n",
            "Requirement already satisfied: matplotlib>=3.1.2 in /usr/local/lib/python3.6/dist-packages (from scvi) (3.2.1)\n",
            "Collecting scanpy>=1.4\n",
            "\u001b[?25l  Downloading https://files.pythonhosted.org/packages/eb/83/33131aeae2065c2ab89fd2c4d57ea47f4c87c85517c5dc8e359f37b76ed1/scanpy-1.5.1-py3-none-any.whl (7.2MB)\n",
            "\u001b[K     |████████████████████████████████| 7.2MB 16.6MB/s \n",
            "\u001b[?25hRequirement already satisfied: six in /usr/local/lib/python3.6/dist-packages (from h5py>=2.9.0->scvi) (1.12.0)\n",
            "Requirement already satisfied: joblib>=0.11 in /usr/local/lib/python3.6/dist-packages (from scikit-learn>=0.20.3->scvi) (0.15.1)\n",
            "Requirement already satisfied: scipy>=0.17.0 in /usr/local/lib/python3.6/dist-packages (from scikit-learn>=0.20.3->scvi) (1.4.1)\n",
            "Requirement already satisfied: setuptools in /usr/local/lib/python3.6/dist-packages (from loompy>=3.0.6->scvi) (47.1.1)\n",
            "Requirement already satisfied: numba in /usr/local/lib/python3.6/dist-packages (from loompy>=3.0.6->scvi) (0.48.0)\n",
            "Requirement already satisfied: click in /usr/local/lib/python3.6/dist-packages (from loompy>=3.0.6->scvi) (7.1.2)\n",
            "Collecting numpy-groupies\n",
            "\u001b[?25l  Downloading https://files.pythonhosted.org/packages/57/ae/18217b57ba3e4bb8a44ecbfc161ed065f6d1b90c75d404bd6ba8d6f024e2/numpy_groupies-0.9.10.tar.gz (43kB)\n",
            "\u001b[K     |████████████████████████████████| 51kB 6.8MB/s \n",
            "\u001b[?25hRequirement already satisfied: pytz>=2017.2 in /usr/local/lib/python3.6/dist-packages (from pandas>=0.24.2->scvi) (2018.9)\n",
            "Requirement already satisfied: python-dateutil>=2.6.1 in /usr/local/lib/python3.6/dist-packages (from pandas>=0.24.2->scvi) (2.8.1)\n",
            "Requirement already satisfied: patsy>=0.4.0 in /usr/local/lib/python3.6/dist-packages (from statsmodels->scvi) (0.5.1)\n",
            "Requirement already satisfied: networkx in /usr/local/lib/python3.6/dist-packages (from hyperopt==0.1.2->scvi) (2.4)\n",
            "Requirement already satisfied: pymongo in /usr/local/lib/python3.6/dist-packages (from hyperopt==0.1.2->scvi) (3.10.1)\n",
            "Requirement already satisfied: future in /usr/local/lib/python3.6/dist-packages (from hyperopt==0.1.2->scvi) (0.16.0)\n",
            "Requirement already satisfied: natsort in /usr/local/lib/python3.6/dist-packages (from anndata>=0.7->scvi) (5.5.0)\n",
            "Requirement already satisfied: importlib-metadata>=0.7; python_version < \"3.8\" in /usr/local/lib/python3.6/dist-packages (from anndata>=0.7->scvi) (1.6.0)\n",
            "Requirement already satisfied: packaging in /usr/local/lib/python3.6/dist-packages (from anndata>=0.7->scvi) (20.4)\n",
            "Requirement already satisfied: kiwisolver>=1.0.1 in /usr/local/lib/python3.6/dist-packages (from matplotlib>=3.1.2->scvi) (1.2.0)\n",
            "Requirement already satisfied: pyparsing!=2.0.4,!=2.1.2,!=2.1.6,>=2.0.1 in /usr/local/lib/python3.6/dist-packages (from matplotlib>=3.1.2->scvi) (2.4.7)\n",
            "Requirement already satisfied: cycler>=0.10 in /usr/local/lib/python3.6/dist-packages (from matplotlib>=3.1.2->scvi) (0.10.0)\n",
            "Requirement already satisfied: umap-learn>=0.3.10 in /usr/local/lib/python3.6/dist-packages (from scanpy>=1.4->scvi) (0.4.3)\n",
            "Collecting setuptools-scm\n",
            "  Downloading https://files.pythonhosted.org/packages/ad/d3/e54f8b4cde0f6fb4f231629f570c1a33ded18515411dee6df6fe363d976f/setuptools_scm-4.1.2-py2.py3-none-any.whl\n",
            "Requirement already satisfied: tables in /usr/local/lib/python3.6/dist-packages (from scanpy>=1.4->scvi) (3.4.4)\n",
            "Requirement already satisfied: seaborn in /usr/local/lib/python3.6/dist-packages (from scanpy>=1.4->scvi) (0.10.1)\n",
            "Collecting legacy-api-wrap\n",
            "  Downloading https://files.pythonhosted.org/packages/a4/68/da997bc56bb69dcdcee4054f0bc42266909307b905389fbc54c9158f42da/legacy_api_wrap-1.2-py3-none-any.whl\n",
            "Requirement already satisfied: llvmlite<0.32.0,>=0.31.0dev0 in /usr/local/lib/python3.6/dist-packages (from numba->loompy>=3.0.6->scvi) (0.31.0)\n",
            "Requirement already satisfied: decorator>=4.3.0 in /usr/local/lib/python3.6/dist-packages (from networkx->hyperopt==0.1.2->scvi) (4.4.2)\n",
            "Requirement already satisfied: zipp>=0.5 in /usr/local/lib/python3.6/dist-packages (from importlib-metadata>=0.7; python_version < \"3.8\"->anndata>=0.7->scvi) (3.1.0)\n",
            "Requirement already satisfied: tbb in /usr/local/lib/python3.6/dist-packages (from umap-learn>=0.3.10->scanpy>=1.4->scvi) (2020.0.133)\n",
            "Requirement already satisfied: numexpr>=2.5.2 in /usr/local/lib/python3.6/dist-packages (from tables->scanpy>=1.4->scvi) (2.7.1)\n",
            "Collecting get-version>=2.0.4\n",
            "\u001b[?25l  Downloading https://files.pythonhosted.org/packages/23/48/7610e884e62fff2183e7bc8592397c39a020267fb5147905fcd3f9cc820c/get_version-2.1-py3-none-any.whl (43kB)\n",
            "\u001b[K     |████████████████████████████████| 51kB 6.2MB/s \n",
            "\u001b[?25hBuilding wheels for collected packages: loompy, numpy-groupies\n",
            "  Building wheel for loompy (setup.py) ... \u001b[?25l\u001b[?25hdone\n",
            "  Created wheel for loompy: filename=loompy-3.0.6-cp36-none-any.whl size=47895 sha256=e542092a289aed9ba70a9ada759188969c390e4f18c5259462ad547d2944f986\n",
            "  Stored in directory: /root/.cache/pip/wheels/f9/a4/90/5a98ad83419732b0fba533b81a2a52ba3dbe230a936ca4cdc9\n",
            "  Building wheel for numpy-groupies (setup.py) ... \u001b[?25l\u001b[?25hdone\n",
            "  Created wheel for numpy-groupies: filename=numpy_groupies-0+unknown-cp36-none-any.whl size=28042 sha256=ecacca816fcd47ad6b87176986ea90fafbde990cd628c8dbadb10b9b71e66cb0\n",
            "  Stored in directory: /root/.cache/pip/wheels/30/ac/83/64d5f9293aeaec63f9539142fc629a41af064cae1b3d8d94aa\n",
            "Successfully built loompy numpy-groupies\n",
            "Installing collected packages: numpy-groupies, loompy, scikit-misc, xlrd, anndata, setuptools-scm, get-version, legacy-api-wrap, scanpy, scvi\n",
            "  Found existing installation: xlrd 1.1.0\n",
            "    Uninstalling xlrd-1.1.0:\n",
            "      Successfully uninstalled xlrd-1.1.0\n",
            "Successfully installed anndata-0.7.3 get-version-2.1 legacy-api-wrap-1.2 loompy-3.0.6 numpy-groupies-0+unknown scanpy-1.5.1 scikit-misc-0.1.3 scvi-0.6.5 setuptools-scm-4.1.2 xlrd-1.2.0\n"
          ],
          "name": "stdout"
        }
      ]
    },
    {
      "cell_type": "markdown",
      "metadata": {
        "id": "wkgQxge0aL4v",
        "colab_type": "text"
      },
      "source": [
        "**Install packages**"
      ]
    },
    {
      "cell_type": "code",
      "metadata": {
        "id": "pw3xK22AZ85R",
        "colab_type": "code",
        "colab": {}
      },
      "source": [
        "import torch\n",
        "from scvi.dataset import AnnDatasetFromAnnData, GeneExpressionDataset, SmfishDataset\n",
        "from scvi.models import VAE, LDVAE\n",
        "from scvi.inference import UnsupervisedTrainer, load_posterior\n",
        "from scvi import set_seed\n",
        "\n",
        "import pandas as pd\n",
        "import anndata\n",
        "import scanpy as sc\n",
        "import numpy as np\n",
        "import scipy.sparse\n",
        "\n",
        "import warnings\n",
        "warnings.filterwarnings('ignore')\n",
        "\n",
        "import matplotlib.pyplot as plt\n",
        "%matplotlib inline\n",
        "sc.set_figure_params(dpi=125)\n",
        "\n",
        "import seaborn as sns\n",
        "sns.set(style=\"whitegrid\")"
      ],
      "execution_count": 0,
      "outputs": []
    },
    {
      "cell_type": "markdown",
      "metadata": {
        "id": "ol6LMoE0aR0W",
        "colab_type": "text"
      },
      "source": [
        "##**Generation of cell atlas**\n",
        "### Using scVI (LDVAE) for merging of datasets (Lopez et al. 2018)"
      ]
    },
    {
      "cell_type": "markdown",
      "metadata": {
        "id": "CJMn-BHlal41",
        "colab_type": "text"
      },
      "source": [
        "Read in data"
      ]
    },
    {
      "cell_type": "code",
      "metadata": {
        "id": "U2RkidvOaBBx",
        "colab_type": "code",
        "colab": {
          "base_uri": "https://localhost:8080/",
          "height": 459
        },
        "outputId": "04d8e3bf-1bcc-4793-8d7a-e0517a6426e4"
      },
      "source": [
        "#Stimulation data\n",
        "#path = './drive/My Drive/Colab Notebooks/data/stimulation'\n",
        "\n",
        "#Raw counts, no clustering h5ad, from Kallisto bus\n",
        "jelly4stim = anndata.read(\"cy5n9b6rdyk7v4uhvgvpkgotmchlts45\")\n",
        "\n",
        "#Kallisto bus h5ad with clustering and filtering \n",
        "bus_stim = anndata.read(\"hd36giuxz3zd933fh4bca3iqnykncro8\")\n",
        "\n",
        "#Remove Cluster '0' cells (low umi counts and gene expression)\n",
        "jelly4stim = jelly4stim[bus_stim.obs_names,]\n",
        "\n",
        "\n",
        "#Add _ieg to cell names\n",
        "jelly4stim.obs_names = [i+'_ieg' for i in jelly4stim.obs_names]\n",
        "\n",
        "\n",
        "stim_data = AnnDatasetFromAnnData(ad = jelly4stim)\n",
        "\n",
        "#Filter zero count genes\n",
        "stim_data.filter_genes_by_count(per_batch=True)\n",
        "print(stim_data)\n",
        "\n",
        "\n",
        "\n",
        "#Read in Fed/Starved data, raw counts, no clustering\n",
        "oj2 = anndata.read(\"3l60szs0e9hgaax4q9dbuehgoo092xww\")\n",
        "\n",
        "#Add _fs to cell names\n",
        "oj2.obs_names = [i+'_fs' for i in oj2.obs_names]\n",
        "\n",
        "\n",
        "fs_data = AnnDatasetFromAnnData(ad = oj2)\n",
        "\n",
        "#Filter zero count genes\n",
        "fs_data.filter_genes_by_count(per_batch=True)\n",
        "print(fs_data)\n",
        "\n",
        "\n",
        "#Concatenate data (with all nonzero genes)\n",
        "combo = jelly4stim.concatenate(oj2,join='outer', index_unique=None)"
      ],
      "execution_count": 7,
      "outputs": [
        {
          "output_type": "stream",
          "text": [
            "[2020-06-03 20:56:08,010] INFO - scvi.dataset.dataset | Remapping labels to [0,N]\n",
            "[2020-06-03 20:56:08,014] INFO - scvi.dataset.dataset | Remapping batch_indices to [0,N]\n",
            "[2020-06-03 20:56:08,557] INFO - scvi.dataset.dataset | Computing the library size for the new data\n",
            "[2020-06-03 20:56:08,673] INFO - scvi.dataset.dataset | Downsampled from 19054 to 19054 cells\n",
            "[2020-06-03 20:56:08,789] INFO - scvi.dataset.dataset | Downsampling from 46716 to 39851 genes\n",
            "[2020-06-03 20:56:09,335] INFO - scvi.dataset.dataset | Computing the library size for the new data\n",
            "[2020-06-03 20:56:09,419] INFO - scvi.dataset.dataset | Filtering non-expressing cells.\n",
            "[2020-06-03 20:56:09,883] INFO - scvi.dataset.dataset | Computing the library size for the new data\n",
            "[2020-06-03 20:56:09,964] INFO - scvi.dataset.dataset | Downsampled from 19054 to 19054 cells\n",
            "GeneExpressionDataset object with n_cells x nb_genes = 19054 x 39851\n",
            "    gene_attribute_names: 'gene_names'\n",
            "    cell_attribute_names: 'labels', 'batch', 'local_means', 'batch_indices', 'local_vars'\n",
            "    cell_categorical_attribute_names: 'labels', 'batch_indices'\n",
            "[2020-06-03 20:56:10,175] INFO - scvi.dataset.dataset | Remapping labels to [0,N]\n",
            "[2020-06-03 20:56:10,177] INFO - scvi.dataset.dataset | Remapping batch_indices to [0,N]\n",
            "[2020-06-03 20:56:10,349] INFO - scvi.dataset.dataset | Computing the library size for the new data\n",
            "[2020-06-03 20:56:10,384] INFO - scvi.dataset.dataset | Downsampled from 13673 to 13673 cells\n",
            "[2020-06-03 20:56:10,427] INFO - scvi.dataset.dataset | Downsampling from 46716 to 28514 genes\n",
            "[2020-06-03 20:56:10,632] INFO - scvi.dataset.dataset | Computing the library size for the new data\n",
            "[2020-06-03 20:56:10,668] INFO - scvi.dataset.dataset | Filtering non-expressing cells.\n",
            "[2020-06-03 20:56:10,840] INFO - scvi.dataset.dataset | Computing the library size for the new data\n",
            "[2020-06-03 20:56:10,874] INFO - scvi.dataset.dataset | Downsampled from 13673 to 13673 cells\n",
            "GeneExpressionDataset object with n_cells x nb_genes = 13673 x 28514\n",
            "    gene_attribute_names: 'gene_names'\n",
            "    cell_attribute_names: 'labels', 'batch', 'local_means', 'batch_indices', 'local_vars'\n",
            "    cell_categorical_attribute_names: 'labels', 'batch_indices'\n"
          ],
          "name": "stdout"
        }
      ]
    },
    {
      "cell_type": "markdown",
      "metadata": {
        "id": "KdT_JWKdb37q",
        "colab_type": "text"
      },
      "source": [
        "Concatenate data with highly variable genes"
      ]
    },
    {
      "cell_type": "code",
      "metadata": {
        "id": "oViE7sm2be8H",
        "colab_type": "code",
        "colab": {}
      },
      "source": [
        "all_dataset = GeneExpressionDataset()\n",
        "\n",
        "stim_data.subsample_genes(5000)\n",
        "fs_data.subsample_genes(5000)\n",
        "all_dataset.populate_from_datasets([stim_data,fs_data])"
      ],
      "execution_count": 0,
      "outputs": []
    },
    {
      "cell_type": "markdown",
      "metadata": {
        "id": "cBTMpvVWcIpZ",
        "colab_type": "text"
      },
      "source": [
        "Create and fit LDVAE model"
      ]
    },
    {
      "cell_type": "code",
      "metadata": {
        "id": "XRyqn5uhcDrX",
        "colab_type": "code",
        "colab": {}
      },
      "source": [
        "#Set n_latents to 30\n",
        "vae = LDVAE(\n",
        "    all_dataset.nb_genes,\n",
        "    n_batch=all_dataset.n_batches,\n",
        "    n_latent=30,\n",
        "    n_layers_encoder=1,\n",
        "    n_hidden=128,\n",
        "    reconstruction_loss=\"nb\",\n",
        "    latent_distribution=\"normal\",\n",
        ")"
      ],
      "execution_count": 0,
      "outputs": []
    },
    {
      "cell_type": "code",
      "metadata": {
        "id": "Pm7LlWKgcPER",
        "colab_type": "code",
        "colab": {}
      },
      "source": [
        "trainer = UnsupervisedTrainer(vae,\n",
        "                              all_dataset,\n",
        "                              frequency=1,\n",
        "                              use_cuda=True,\n",
        "                              n_epochs_kl_warmup=None\n",
        "                             )"
      ],
      "execution_count": 0,
      "outputs": []
    },
    {
      "cell_type": "markdown",
      "metadata": {
        "id": "0qsRCpxycRki",
        "colab_type": "text"
      },
      "source": [
        "Train model"
      ]
    },
    {
      "cell_type": "code",
      "metadata": {
        "id": "EPpn2-WxcQuJ",
        "colab_type": "code",
        "colab": {}
      },
      "source": [
        "n_epochs_all = None\n",
        "\n",
        "n_epochs = 250 if n_epochs_all is None else n_epochs_all\n",
        "trainer.train(lr=5e-3, n_epochs=250)"
      ],
      "execution_count": 0,
      "outputs": []
    },
    {
      "cell_type": "code",
      "metadata": {
        "id": "L9kzaA5IcYZy",
        "colab_type": "code",
        "colab": {}
      },
      "source": [
        "#ELBO plot\n",
        "fig, ax = plt.subplots(figsize=(6, 4))\n",
        "ax.plot(trainer.history['elbo_train_set'][10:])\n",
        "ax.plot(trainer.history['elbo_test_set'][10:])"
      ],
      "execution_count": 0,
      "outputs": []
    },
    {
      "cell_type": "markdown",
      "metadata": {
        "id": "75fhfoHecXq9",
        "colab_type": "text"
      },
      "source": [
        "Save data"
      ]
    },
    {
      "cell_type": "code",
      "metadata": {
        "id": "t-cKNyv8ceMS",
        "colab_type": "code",
        "colab": {}
      },
      "source": [
        "torch.save(trainer.model.state_dict(),'harmonization.vae.allgenes.model.pkl')"
      ],
      "execution_count": 0,
      "outputs": []
    },
    {
      "cell_type": "markdown",
      "metadata": {
        "id": "mvda7iFOcl25",
        "colab_type": "text"
      },
      "source": [
        "Load data"
      ]
    },
    {
      "cell_type": "code",
      "metadata": {
        "id": "u-_wA6c1cqej",
        "colab_type": "code",
        "colab": {}
      },
      "source": [
        "trainer.model.load_state_dict(torch.load('harmonization.vae.allgenes.model.pkl'))\n",
        "#trainer.model.eval()"
      ],
      "execution_count": 0,
      "outputs": []
    },
    {
      "cell_type": "code",
      "metadata": {
        "id": "OwYmKVC-cvfs",
        "colab_type": "code",
        "colab": {}
      },
      "source": [
        "#Extract latent space\n",
        "full = trainer.create_posterior(trainer.model, all_dataset, indices=np.arange(len(all_dataset)))\n",
        "Z_hat = full.sequential().get_latent()[0]\n",
        "adata = anndata.AnnData(all_dataset.X)\n",
        "adata.var_names = all_dataset.gene_names\n",
        "adata.obs_names = list(jelly4stim.obs_names)+list(oj2.obs_names)\n",
        "adata"
      ],
      "execution_count": 0,
      "outputs": []
    },
    {
      "cell_type": "markdown",
      "metadata": {
        "id": "Nt3O2u88c5y2",
        "colab_type": "text"
      },
      "source": [
        "Clustering of data"
      ]
    },
    {
      "cell_type": "code",
      "metadata": {
        "id": "eK0p1JYlc7H8",
        "colab_type": "code",
        "colab": {}
      },
      "source": [
        "#Use UMAP embedding and Leiden clustering for now\n",
        "adata.obsm[\"X_scVI\"] = Z_hat\n",
        "sc.pp.neighbors(adata, use_rep=\"X_scVI\", n_neighbors=1000)\n",
        "sc.tl.umap(adata)\n",
        "sc.tl.leiden(adata, key_added=\"leiden_scVI\", resolution=0.8)\n",
        "adata"
      ],
      "execution_count": 0,
      "outputs": []
    },
    {
      "cell_type": "code",
      "metadata": {
        "id": "37kKmDVHdDOy",
        "colab_type": "code",
        "colab": {}
      },
      "source": [
        "sc.pl.umap(adata, color=[\"leiden_scVI\"],color_map='viridis',legend_loc='on data')"
      ],
      "execution_count": 0,
      "outputs": []
    },
    {
      "cell_type": "code",
      "metadata": {
        "id": "1dgAMjqPdF0w",
        "colab_type": "code",
        "colab": {}
      },
      "source": [
        "#Add labels for experimental origin of each cell\n",
        "origin_label = list(np.repeat('IEG',len(jelly4stim.obs_names))) + list(np.repeat('FS',len(oj2.obs_names)))\n",
        "adata.obs['cell_origin'] =  pd.Categorical(origin_label)\n",
        "adata"
      ],
      "execution_count": 0,
      "outputs": []
    },
    {
      "cell_type": "markdown",
      "metadata": {
        "id": "kSuqW8dGdVS_",
        "colab_type": "text"
      },
      "source": [
        "Plot latent variables"
      ]
    },
    {
      "cell_type": "code",
      "metadata": {
        "id": "o8MkaJpfdMMD",
        "colab_type": "code",
        "colab": {}
      },
      "source": [
        "loadings = vae.get_loadings()\n",
        "loadings = \\\n",
        "pd.DataFrame.from_records(loadings, index=all_dataset.gene_names,\n",
        "                                    columns=[f'Z_{i}' for i in range(30)])\n",
        "loadings.head()"
      ],
      "execution_count": 0,
      "outputs": []
    },
    {
      "cell_type": "code",
      "metadata": {
        "id": "cKGpYEewdYU7",
        "colab_type": "code",
        "colab": {}
      },
      "source": [
        "for i, z in enumerate(Z_hat.T):\n",
        "    adata.obs[f'Z_{i}'] = z"
      ],
      "execution_count": 0,
      "outputs": []
    },
    {
      "cell_type": "code",
      "metadata": {
        "id": "vVl-1ekHdYrh",
        "colab_type": "code",
        "colab": {}
      },
      "source": [
        "# Plot latent variables\n",
        "# zs = [f'Z_{i}' for i in range(vae.n_latent)]\n",
        "# sc.pl.umap(adata, color=zs, ncols=3)"
      ],
      "execution_count": 0,
      "outputs": []
    },
    {
      "cell_type": "markdown",
      "metadata": {
        "id": "3gSOGX4vdgB1",
        "colab_type": "text"
      },
      "source": [
        "Save adata"
      ]
    },
    {
      "cell_type": "code",
      "metadata": {
        "id": "HvyZw_BOdfpR",
        "colab_type": "code",
        "colab": {}
      },
      "source": [
        "# adata.write('scVI_latent30_combo.h5ad')\n",
        "\n",
        "# #Save obs to combo data, which contains all nonzero ('unfiltered') genes for downstream analysis/visualizations\n",
        "# combo.obs['leiden_scVI'] = adata.obs['leiden_scVI']\n",
        "# combo.obs['cell_origin'] = adata.obs['cell_origin']\n",
        "# combo.obsm['X_scVI'] = adata.obsm['X_scVI']\n",
        "# combo.obsm['X_umap'] = adata.obsm['X_umap']\n",
        "\n",
        "# combo.write('bus_stim_fs_latent30_combo.h5ad')"
      ],
      "execution_count": 0,
      "outputs": []
    }
  ]
}