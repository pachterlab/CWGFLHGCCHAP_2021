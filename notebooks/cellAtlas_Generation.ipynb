{
  "nbformat": 4,
  "nbformat_minor": 0,
  "metadata": {
    "colab": {
      "name": "cellAtlas_Generation.ipynb",
      "provenance": [],
      "collapsed_sections": []
    },
    "kernelspec": {
      "name": "python3",
      "display_name": "Python 3"
    }
  },
  "cells": [
    {
      "cell_type": "code",
      "metadata": {
        "id": "-skPoZvHVgPB",
        "colab_type": "code",
        "colab": {
          "base_uri": "https://localhost:8080/",
          "height": 34
        },
        "outputId": "93dacf56-449e-4ce3-d912-c6310e7266c1"
      },
      "source": [
        "!date"
      ],
      "execution_count": 1,
      "outputs": [
        {
          "output_type": "stream",
          "text": [
            "Wed May 27 22:52:46 UTC 2020\n"
          ],
          "name": "stdout"
        }
      ]
    },
    {
      "cell_type": "code",
      "metadata": {
        "id": "h4ILY2R1VoKM",
        "colab_type": "code",
        "colab": {
          "base_uri": "https://localhost:8080/",
          "height": 122
        },
        "outputId": "25d29d73-7362-4866-e2f2-a846ef7f4ed5"
      },
      "source": [
        "from google.colab import drive\n",
        "drive.mount('/content/drive/')"
      ],
      "execution_count": 2,
      "outputs": [
        {
          "output_type": "stream",
          "text": [
            "Go to this URL in a browser: https://accounts.google.com/o/oauth2/auth?client_id=947318989803-6bn6qk8qdgf4n4g3pfee6491hc0brc4i.apps.googleusercontent.com&redirect_uri=urn%3aietf%3awg%3aoauth%3a2.0%3aoob&response_type=code&scope=email%20https%3a%2f%2fwww.googleapis.com%2fauth%2fdocs.test%20https%3a%2f%2fwww.googleapis.com%2fauth%2fdrive%20https%3a%2f%2fwww.googleapis.com%2fauth%2fdrive.photos.readonly%20https%3a%2f%2fwww.googleapis.com%2fauth%2fpeopleapi.readonly\n",
            "\n",
            "Enter your authorization code:\n",
            "··········\n",
            "Mounted at /content/drive/\n"
          ],
          "name": "stdout"
        }
      ]
    },
    {
      "cell_type": "code",
      "metadata": {
        "id": "AGMCsy5hZing",
        "colab_type": "code",
        "colab": {
          "base_uri": "https://localhost:8080/",
          "height": 1000
        },
        "outputId": "c18adaf5-cf1c-400d-afc0-a74ca52b1628"
      },
      "source": [
        "!pip install scvi"
      ],
      "execution_count": 3,
      "outputs": [
        {
          "output_type": "stream",
          "text": [
            "Collecting scvi\n",
            "\u001b[?25l  Downloading https://files.pythonhosted.org/packages/52/fd/0d086c6c6bb7a91e2923a7c0c44717362cbc5a7dd3b1fe55d2dfa5f3ca32/scvi-0.6.5-py2.py3-none-any.whl (154kB)\n",
            "\u001b[K     |████████████████████████████████| 163kB 2.8MB/s \n",
            "\u001b[?25hRequirement already satisfied: statsmodels in /usr/local/lib/python3.6/dist-packages (from scvi) (0.10.2)\n",
            "Requirement already satisfied: tqdm>=4.31.1 in /usr/local/lib/python3.6/dist-packages (from scvi) (4.41.1)\n",
            "Requirement already satisfied: pandas>=0.24.2 in /usr/local/lib/python3.6/dist-packages (from scvi) (1.0.3)\n",
            "Requirement already satisfied: numpy>=1.16.2 in /usr/local/lib/python3.6/dist-packages (from scvi) (1.18.4)\n",
            "Collecting xlrd>=1.2.0\n",
            "\u001b[?25l  Downloading https://files.pythonhosted.org/packages/b0/16/63576a1a001752e34bf8ea62e367997530dc553b689356b9879339cf45a4/xlrd-1.2.0-py2.py3-none-any.whl (103kB)\n",
            "\u001b[K     |████████████████████████████████| 112kB 8.3MB/s \n",
            "\u001b[?25hRequirement already satisfied: torch>=1.0.1 in /usr/local/lib/python3.6/dist-packages (from scvi) (1.5.0+cu101)\n",
            "Collecting scanpy>=1.4\n",
            "\u001b[?25l  Downloading https://files.pythonhosted.org/packages/eb/83/33131aeae2065c2ab89fd2c4d57ea47f4c87c85517c5dc8e359f37b76ed1/scanpy-1.5.1-py3-none-any.whl (7.2MB)\n",
            "\u001b[K     |████████████████████████████████| 7.2MB 7.3MB/s \n",
            "\u001b[?25hCollecting scikit-misc\n",
            "\u001b[?25l  Downloading https://files.pythonhosted.org/packages/e5/a9/7e539368f6a3c7cc071481fad9872825b174cd86408be40bd8b286d3977c/scikit_misc-0.1.3-cp36-cp36m-manylinux1_x86_64.whl (8.7MB)\n",
            "\u001b[K     |████████████████████████████████| 8.7MB 24.0MB/s \n",
            "\u001b[?25hRequirement already satisfied: dataclasses; python_version < \"3.7\" in /usr/local/lib/python3.6/dist-packages (from scvi) (0.7)\n",
            "Requirement already satisfied: hyperopt==0.1.2 in /usr/local/lib/python3.6/dist-packages (from scvi) (0.1.2)\n",
            "Collecting anndata>=0.7\n",
            "\u001b[?25l  Downloading https://files.pythonhosted.org/packages/28/75/6f3b304f4cce11dee2188ad13c8c4a9d075d2a5c2d7b4e3a058ae506b8f6/anndata-0.7.3-py3-none-any.whl (112kB)\n",
            "\u001b[K     |████████████████████████████████| 122kB 53.7MB/s \n",
            "\u001b[?25hRequirement already satisfied: scikit-learn>=0.20.3 in /usr/local/lib/python3.6/dist-packages (from scvi) (0.22.2.post1)\n",
            "Requirement already satisfied: matplotlib>=3.1.2 in /usr/local/lib/python3.6/dist-packages (from scvi) (3.2.1)\n",
            "Collecting loompy>=3.0.6\n",
            "\u001b[?25l  Downloading https://files.pythonhosted.org/packages/36/52/74ed37ae5988522fbf87b856c67c4f80700e6452410b4cd80498c5f416f9/loompy-3.0.6.tar.gz (41kB)\n",
            "\u001b[K     |████████████████████████████████| 51kB 7.5MB/s \n",
            "\u001b[?25hRequirement already satisfied: h5py>=2.9.0 in /usr/local/lib/python3.6/dist-packages (from scvi) (2.10.0)\n",
            "Requirement already satisfied: scipy>=0.18 in /usr/local/lib/python3.6/dist-packages (from statsmodels->scvi) (1.4.1)\n",
            "Requirement already satisfied: patsy>=0.4.0 in /usr/local/lib/python3.6/dist-packages (from statsmodels->scvi) (0.5.1)\n",
            "Requirement already satisfied: pytz>=2017.2 in /usr/local/lib/python3.6/dist-packages (from pandas>=0.24.2->scvi) (2018.9)\n",
            "Requirement already satisfied: python-dateutil>=2.6.1 in /usr/local/lib/python3.6/dist-packages (from pandas>=0.24.2->scvi) (2.8.1)\n",
            "Requirement already satisfied: future in /usr/local/lib/python3.6/dist-packages (from torch>=1.0.1->scvi) (0.16.0)\n",
            "Requirement already satisfied: natsort in /usr/local/lib/python3.6/dist-packages (from scanpy>=1.4->scvi) (5.5.0)\n",
            "Requirement already satisfied: joblib in /usr/local/lib/python3.6/dist-packages (from scanpy>=1.4->scvi) (0.15.1)\n",
            "Requirement already satisfied: umap-learn>=0.3.10 in /usr/local/lib/python3.6/dist-packages (from scanpy>=1.4->scvi) (0.4.3)\n",
            "Collecting legacy-api-wrap\n",
            "  Downloading https://files.pythonhosted.org/packages/a4/68/da997bc56bb69dcdcee4054f0bc42266909307b905389fbc54c9158f42da/legacy_api_wrap-1.2-py3-none-any.whl\n",
            "Requirement already satisfied: seaborn in /usr/local/lib/python3.6/dist-packages (from scanpy>=1.4->scvi) (0.10.1)\n",
            "Requirement already satisfied: importlib-metadata>=0.7; python_version < \"3.8\" in /usr/local/lib/python3.6/dist-packages (from scanpy>=1.4->scvi) (1.6.0)\n",
            "Requirement already satisfied: networkx in /usr/local/lib/python3.6/dist-packages (from scanpy>=1.4->scvi) (2.4)\n",
            "Collecting setuptools-scm\n",
            "  Downloading https://files.pythonhosted.org/packages/17/e7/453068431e84588c8931f130022f3cda3759facc38bde69926140b3187f0/setuptools_scm-4.1.1-py2.py3-none-any.whl\n",
            "Requirement already satisfied: numba>=0.41.0 in /usr/local/lib/python3.6/dist-packages (from scanpy>=1.4->scvi) (0.48.0)\n",
            "Requirement already satisfied: tables in /usr/local/lib/python3.6/dist-packages (from scanpy>=1.4->scvi) (3.4.4)\n",
            "Requirement already satisfied: packaging in /usr/local/lib/python3.6/dist-packages (from scanpy>=1.4->scvi) (20.4)\n",
            "Requirement already satisfied: pymongo in /usr/local/lib/python3.6/dist-packages (from hyperopt==0.1.2->scvi) (3.10.1)\n",
            "Requirement already satisfied: six in /usr/local/lib/python3.6/dist-packages (from hyperopt==0.1.2->scvi) (1.12.0)\n",
            "Requirement already satisfied: cycler>=0.10 in /usr/local/lib/python3.6/dist-packages (from matplotlib>=3.1.2->scvi) (0.10.0)\n",
            "Requirement already satisfied: kiwisolver>=1.0.1 in /usr/local/lib/python3.6/dist-packages (from matplotlib>=3.1.2->scvi) (1.2.0)\n",
            "Requirement already satisfied: pyparsing!=2.0.4,!=2.1.2,!=2.1.6,>=2.0.1 in /usr/local/lib/python3.6/dist-packages (from matplotlib>=3.1.2->scvi) (2.4.7)\n",
            "Requirement already satisfied: setuptools in /usr/local/lib/python3.6/dist-packages (from loompy>=3.0.6->scvi) (46.3.0)\n",
            "Requirement already satisfied: click in /usr/local/lib/python3.6/dist-packages (from loompy>=3.0.6->scvi) (7.1.2)\n",
            "Collecting numpy-groupies\n",
            "\u001b[?25l  Downloading https://files.pythonhosted.org/packages/57/ae/18217b57ba3e4bb8a44ecbfc161ed065f6d1b90c75d404bd6ba8d6f024e2/numpy_groupies-0.9.10.tar.gz (43kB)\n",
            "\u001b[K     |████████████████████████████████| 51kB 7.7MB/s \n",
            "\u001b[?25hRequirement already satisfied: tbb in /usr/local/lib/python3.6/dist-packages (from umap-learn>=0.3.10->scanpy>=1.4->scvi) (2020.0.133)\n",
            "Collecting get-version>=2.0.4\n",
            "\u001b[?25l  Downloading https://files.pythonhosted.org/packages/23/48/7610e884e62fff2183e7bc8592397c39a020267fb5147905fcd3f9cc820c/get_version-2.1-py3-none-any.whl (43kB)\n",
            "\u001b[K     |████████████████████████████████| 51kB 7.7MB/s \n",
            "\u001b[?25hRequirement already satisfied: zipp>=0.5 in /usr/local/lib/python3.6/dist-packages (from importlib-metadata>=0.7; python_version < \"3.8\"->scanpy>=1.4->scvi) (3.1.0)\n",
            "Requirement already satisfied: decorator>=4.3.0 in /usr/local/lib/python3.6/dist-packages (from networkx->scanpy>=1.4->scvi) (4.4.2)\n",
            "Requirement already satisfied: llvmlite<0.32.0,>=0.31.0dev0 in /usr/local/lib/python3.6/dist-packages (from numba>=0.41.0->scanpy>=1.4->scvi) (0.31.0)\n",
            "Requirement already satisfied: numexpr>=2.5.2 in /usr/local/lib/python3.6/dist-packages (from tables->scanpy>=1.4->scvi) (2.7.1)\n",
            "Building wheels for collected packages: loompy, numpy-groupies\n",
            "  Building wheel for loompy (setup.py) ... \u001b[?25l\u001b[?25hdone\n",
            "  Created wheel for loompy: filename=loompy-3.0.6-cp36-none-any.whl size=47895 sha256=9e01722f2ed527ed08e69b5988baa86b89ce0fe751830d7dbe0ba1220b90dbc8\n",
            "  Stored in directory: /root/.cache/pip/wheels/f9/a4/90/5a98ad83419732b0fba533b81a2a52ba3dbe230a936ca4cdc9\n",
            "  Building wheel for numpy-groupies (setup.py) ... \u001b[?25l\u001b[?25hdone\n",
            "  Created wheel for numpy-groupies: filename=numpy_groupies-0+unknown-cp36-none-any.whl size=28042 sha256=889d83caeecee7dfa4f35061b1333d48b35851fde4a4b858709e4f3d4c08bc9e\n",
            "  Stored in directory: /root/.cache/pip/wheels/30/ac/83/64d5f9293aeaec63f9539142fc629a41af064cae1b3d8d94aa\n",
            "Successfully built loompy numpy-groupies\n",
            "Installing collected packages: xlrd, get-version, legacy-api-wrap, anndata, setuptools-scm, scanpy, scikit-misc, numpy-groupies, loompy, scvi\n",
            "  Found existing installation: xlrd 1.1.0\n",
            "    Uninstalling xlrd-1.1.0:\n",
            "      Successfully uninstalled xlrd-1.1.0\n",
            "Successfully installed anndata-0.7.3 get-version-2.1 legacy-api-wrap-1.2 loompy-3.0.6 numpy-groupies-0+unknown scanpy-1.5.1 scikit-misc-0.1.3 scvi-0.6.5 setuptools-scm-4.1.1 xlrd-1.2.0\n"
          ],
          "name": "stdout"
        }
      ]
    },
    {
      "cell_type": "markdown",
      "metadata": {
        "id": "wkgQxge0aL4v",
        "colab_type": "text"
      },
      "source": [
        "**Install packages**"
      ]
    },
    {
      "cell_type": "code",
      "metadata": {
        "id": "pw3xK22AZ85R",
        "colab_type": "code",
        "colab": {}
      },
      "source": [
        "import torch\n",
        "from scvi.dataset import AnnDatasetFromAnnData, GeneExpressionDataset, SmfishDataset\n",
        "from scvi.models import VAE, LDVAE\n",
        "from scvi.inference import UnsupervisedTrainer, load_posterior\n",
        "from scvi import set_seed\n",
        "\n",
        "import pandas as pd\n",
        "import anndata\n",
        "import scanpy as sc\n",
        "import numpy as np\n",
        "import scipy.sparse\n",
        "\n",
        "import warnings\n",
        "warnings.filterwarnings('ignore')\n",
        "\n",
        "import matplotlib.pyplot as plt\n",
        "%matplotlib inline\n",
        "sc.set_figure_params(dpi=125)\n",
        "\n",
        "import seaborn as sns\n",
        "sns.set(style=\"whitegrid\")"
      ],
      "execution_count": 0,
      "outputs": []
    },
    {
      "cell_type": "markdown",
      "metadata": {
        "id": "ol6LMoE0aR0W",
        "colab_type": "text"
      },
      "source": [
        "##**Generation of cell atlas**\n",
        "### Using scVI (LDVAE) for merging of datasets (Lopez et al. 2018)"
      ]
    },
    {
      "cell_type": "markdown",
      "metadata": {
        "id": "CJMn-BHlal41",
        "colab_type": "text"
      },
      "source": [
        "Read in data"
      ]
    },
    {
      "cell_type": "code",
      "metadata": {
        "id": "U2RkidvOaBBx",
        "colab_type": "code",
        "colab": {
          "base_uri": "https://localhost:8080/",
          "height": 459
        },
        "outputId": "1f09e57c-1aed-4d2e-c08f-a04993ae0443"
      },
      "source": [
        "#Stimulation data\n",
        "path = './drive/My Drive/Colab Notebooks/data/stimulation'\n",
        "jelly4stim = anndata.read(path + \"/jelly4stim_bus_combo_filtered_raw.h5ad\")\n",
        "\n",
        "#Remove Cluster '0' cells\n",
        "bus_stim = sc.read(path+'/jelly4stim_bus_combo_noZero_filtered_leiden.h5ad')\n",
        "jelly4stim = jelly4stim[bus_stim.obs_names,]\n",
        "\n",
        "\n",
        "#Add _ieg to cell names\n",
        "jelly4stim.obs_names = [i+'_ieg' for i in jelly4stim.obs_names]\n",
        "\n",
        "\n",
        "stim_data = AnnDatasetFromAnnData(ad = jelly4stim)\n",
        "\n",
        "#Filter zero count genes\n",
        "stim_data.filter_genes_by_count(per_batch=True)\n",
        "print(stim_data)\n",
        "\n",
        "\n",
        "\n",
        "#Read in Fed/Starved data\n",
        "path = './drive/My Drive/Colab Notebooks/data/starvation'\n",
        "\n",
        "oj2 = anndata.read(path + \"/bus_fs_combo_filtered_raw.h5ad\")\n",
        "\n",
        "#Add _fs to cell names\n",
        "oj2.obs_names = [i+'_fs' for i in oj2.obs_names]\n",
        "\n",
        "\n",
        "fs_data = AnnDatasetFromAnnData(ad = oj2)\n",
        "\n",
        "#Filter zero count genes\n",
        "fs_data.filter_genes_by_count(per_batch=True)\n",
        "print(fs_data)\n",
        "\n",
        "\n",
        "#Concatenate data (with all nonzero genes)\n",
        "combo = jelly4stim.concatenate(oj2,join='outer', index_unique=None)"
      ],
      "execution_count": 8,
      "outputs": [
        {
          "output_type": "stream",
          "text": [
            "[2020-05-27 23:19:30,534] INFO - scvi.dataset.dataset | Remapping batch_indices to [0,N]\n",
            "[2020-05-27 23:19:30,538] INFO - scvi.dataset.dataset | Remapping labels to [0,N]\n",
            "[2020-05-27 23:19:31,130] INFO - scvi.dataset.dataset | Computing the library size for the new data\n",
            "[2020-05-27 23:19:31,300] INFO - scvi.dataset.dataset | Downsampled from 19054 to 19054 cells\n",
            "[2020-05-27 23:19:31,414] INFO - scvi.dataset.dataset | Downsampling from 46716 to 39851 genes\n",
            "[2020-05-27 23:19:31,942] INFO - scvi.dataset.dataset | Computing the library size for the new data\n",
            "[2020-05-27 23:19:32,025] INFO - scvi.dataset.dataset | Filtering non-expressing cells.\n",
            "[2020-05-27 23:19:32,481] INFO - scvi.dataset.dataset | Computing the library size for the new data\n",
            "[2020-05-27 23:19:32,558] INFO - scvi.dataset.dataset | Downsampled from 19054 to 19054 cells\n",
            "GeneExpressionDataset object with n_cells x nb_genes = 19054 x 39851\n",
            "    gene_attribute_names: 'gene_names'\n",
            "    cell_attribute_names: 'local_vars', 'labels', 'local_means', 'batch_indices', 'batch'\n",
            "    cell_categorical_attribute_names: 'batch_indices', 'labels'\n",
            "[2020-05-27 23:19:33,963] INFO - scvi.dataset.dataset | Remapping batch_indices to [0,N]\n",
            "[2020-05-27 23:19:33,965] INFO - scvi.dataset.dataset | Remapping labels to [0,N]\n",
            "[2020-05-27 23:19:34,136] INFO - scvi.dataset.dataset | Computing the library size for the new data\n",
            "[2020-05-27 23:19:34,168] INFO - scvi.dataset.dataset | Downsampled from 13673 to 13673 cells\n",
            "[2020-05-27 23:19:34,208] INFO - scvi.dataset.dataset | Downsampling from 46716 to 28514 genes\n",
            "[2020-05-27 23:19:34,400] INFO - scvi.dataset.dataset | Computing the library size for the new data\n",
            "[2020-05-27 23:19:34,438] INFO - scvi.dataset.dataset | Filtering non-expressing cells.\n",
            "[2020-05-27 23:19:34,606] INFO - scvi.dataset.dataset | Computing the library size for the new data\n",
            "[2020-05-27 23:19:34,634] INFO - scvi.dataset.dataset | Downsampled from 13673 to 13673 cells\n",
            "GeneExpressionDataset object with n_cells x nb_genes = 13673 x 28514\n",
            "    gene_attribute_names: 'gene_names'\n",
            "    cell_attribute_names: 'local_vars', 'labels', 'local_means', 'batch_indices', 'batch'\n",
            "    cell_categorical_attribute_names: 'batch_indices', 'labels'\n"
          ],
          "name": "stdout"
        }
      ]
    },
    {
      "cell_type": "markdown",
      "metadata": {
        "id": "KdT_JWKdb37q",
        "colab_type": "text"
      },
      "source": [
        "Concatenate data with highly variable genes"
      ]
    },
    {
      "cell_type": "code",
      "metadata": {
        "id": "oViE7sm2be8H",
        "colab_type": "code",
        "colab": {
          "base_uri": "https://localhost:8080/",
          "height": 428
        },
        "outputId": "343c407d-2c13-492f-a9c6-39e3e84b9ff3"
      },
      "source": [
        "all_dataset = GeneExpressionDataset()\n",
        "\n",
        "stim_data.subsample_genes(5000)\n",
        "fs_data.subsample_genes(5000)\n",
        "all_dataset.populate_from_datasets([stim_data,fs_data])"
      ],
      "execution_count": 9,
      "outputs": [
        {
          "output_type": "stream",
          "text": [
            "[2020-05-27 23:20:47,910] INFO - scvi.dataset.dataset | extracting highly variable genes using seurat_v3 flavor\n",
            "[2020-05-27 23:20:50,148] INFO - scvi.dataset.dataset | Downsampling from 39851 to 5000 genes\n",
            "[2020-05-27 23:20:50,435] INFO - scvi.dataset.dataset | Computing the library size for the new data\n",
            "[2020-05-27 23:20:50,459] INFO - scvi.dataset.dataset | Filtering non-expressing cells.\n",
            "[2020-05-27 23:20:50,569] INFO - scvi.dataset.dataset | Computing the library size for the new data\n",
            "[2020-05-27 23:20:50,592] INFO - scvi.dataset.dataset | Downsampled from 19054 to 19054 cells\n",
            "[2020-05-27 23:20:50,593] INFO - scvi.dataset.dataset | extracting highly variable genes using seurat_v3 flavor\n",
            "[2020-05-27 23:20:51,100] INFO - scvi.dataset.dataset | Downsampling from 28514 to 5000 genes\n",
            "[2020-05-27 23:20:51,205] INFO - scvi.dataset.dataset | Computing the library size for the new data\n",
            "[2020-05-27 23:20:51,216] INFO - scvi.dataset.dataset | Filtering non-expressing cells.\n",
            "[2020-05-27 23:20:51,256] INFO - scvi.dataset.dataset | Computing the library size for the new data\n",
            "[2020-05-27 23:20:51,265] INFO - scvi.dataset.dataset | Downsampled from 13673 to 13673 cells\n",
            "[2020-05-27 23:20:51,266] INFO - scvi.dataset.dataset | Merging datasets. Input objects are modified in place.\n",
            "[2020-05-27 23:20:51,267] INFO - scvi.dataset.dataset | Gene names and cell measurement names are assumed to have a non-null intersection between datasets.\n",
            "[2020-05-27 23:20:51,279] INFO - scvi.dataset.dataset | Keeping 2793 genes\n",
            "[2020-05-27 23:20:51,410] INFO - scvi.dataset.dataset | Computing the library size for the new data\n",
            "[2020-05-27 23:20:51,428] INFO - scvi.dataset.dataset | Remapping batch_indices to [0,N]\n",
            "[2020-05-27 23:20:51,430] INFO - scvi.dataset.dataset | Remapping labels to [0,N]\n",
            "[2020-05-27 23:20:51,478] INFO - scvi.dataset.dataset | Computing the library size for the new data\n",
            "[2020-05-27 23:20:51,488] INFO - scvi.dataset.dataset | Remapping batch_indices to [0,N]\n",
            "[2020-05-27 23:20:51,490] INFO - scvi.dataset.dataset | Remapping labels to [0,N]\n",
            "[2020-05-27 23:20:51,529] INFO - scvi.dataset.dataset | Remapping batch_indices to [0,N]\n",
            "[2020-05-27 23:20:51,531] INFO - scvi.dataset.dataset | Remapping labels to [0,N]\n"
          ],
          "name": "stdout"
        }
      ]
    },
    {
      "cell_type": "markdown",
      "metadata": {
        "id": "cBTMpvVWcIpZ",
        "colab_type": "text"
      },
      "source": [
        "Create and fit LDVAE model"
      ]
    },
    {
      "cell_type": "code",
      "metadata": {
        "id": "XRyqn5uhcDrX",
        "colab_type": "code",
        "colab": {}
      },
      "source": [
        "#Set n_latents to 30\n",
        "vae = LDVAE(\n",
        "    all_dataset.nb_genes,\n",
        "    n_batch=all_dataset.n_batches,\n",
        "    n_latent=30,\n",
        "    n_layers_encoder=1,\n",
        "    n_hidden=128,\n",
        "    reconstruction_loss=\"nb\",\n",
        "    latent_distribution=\"normal\",\n",
        ")"
      ],
      "execution_count": 0,
      "outputs": []
    },
    {
      "cell_type": "code",
      "metadata": {
        "id": "Pm7LlWKgcPER",
        "colab_type": "code",
        "colab": {}
      },
      "source": [
        "trainer = UnsupervisedTrainer(vae,\n",
        "                              all_dataset,\n",
        "                              frequency=1,\n",
        "                              use_cuda=True,\n",
        "                              n_epochs_kl_warmup=None\n",
        "                             )"
      ],
      "execution_count": 0,
      "outputs": []
    },
    {
      "cell_type": "markdown",
      "metadata": {
        "id": "0qsRCpxycRki",
        "colab_type": "text"
      },
      "source": [
        "Train model"
      ]
    },
    {
      "cell_type": "code",
      "metadata": {
        "id": "EPpn2-WxcQuJ",
        "colab_type": "code",
        "colab": {}
      },
      "source": [
        "n_epochs_all = None\n",
        "\n",
        "n_epochs = 250 if n_epochs_all is None else n_epochs_all\n",
        "trainer.train(lr=5e-3, n_epochs=250)"
      ],
      "execution_count": 0,
      "outputs": []
    },
    {
      "cell_type": "code",
      "metadata": {
        "id": "L9kzaA5IcYZy",
        "colab_type": "code",
        "colab": {}
      },
      "source": [
        "#ELBO plot\n",
        "fig, ax = plt.subplots(figsize=(6, 4))\n",
        "ax.plot(trainer.history['elbo_train_set'][10:])\n",
        "ax.plot(trainer.history['elbo_test_set'][10:])"
      ],
      "execution_count": 0,
      "outputs": []
    },
    {
      "cell_type": "markdown",
      "metadata": {
        "id": "75fhfoHecXq9",
        "colab_type": "text"
      },
      "source": [
        "Save data"
      ]
    },
    {
      "cell_type": "code",
      "metadata": {
        "id": "t-cKNyv8ceMS",
        "colab_type": "code",
        "colab": {}
      },
      "source": [
        "torch.save(trainer.model.state_dict(),path+'/harmonization.vae.allgenes.model.pkl')"
      ],
      "execution_count": 0,
      "outputs": []
    },
    {
      "cell_type": "markdown",
      "metadata": {
        "id": "mvda7iFOcl25",
        "colab_type": "text"
      },
      "source": [
        "Load data"
      ]
    },
    {
      "cell_type": "code",
      "metadata": {
        "id": "u-_wA6c1cqej",
        "colab_type": "code",
        "colab": {}
      },
      "source": [
        "trainer.model.load_state_dict(torch.load(path+'/harmonization.vae.allgenes.model.pkl'))\n",
        "#trainer.model.eval()"
      ],
      "execution_count": 0,
      "outputs": []
    },
    {
      "cell_type": "code",
      "metadata": {
        "id": "OwYmKVC-cvfs",
        "colab_type": "code",
        "colab": {}
      },
      "source": [
        "#Extract latent space\n",
        "full = trainer.create_posterior(trainer.model, all_dataset, indices=np.arange(len(all_dataset)))\n",
        "Z_hat = full.sequential().get_latent()[0]\n",
        "adata = anndata.AnnData(all_dataset.X)\n",
        "adata.var_names = all_dataset.gene_names\n",
        "adata.obs_names = list(jelly4stim.obs_names)+list(oj2.obs_names)\n",
        "adata"
      ],
      "execution_count": 0,
      "outputs": []
    },
    {
      "cell_type": "markdown",
      "metadata": {
        "id": "Nt3O2u88c5y2",
        "colab_type": "text"
      },
      "source": [
        "Clustering of data"
      ]
    },
    {
      "cell_type": "code",
      "metadata": {
        "id": "eK0p1JYlc7H8",
        "colab_type": "code",
        "colab": {}
      },
      "source": [
        "#Use UMAP embedding and Leiden clustering for now\n",
        "adata.obsm[\"X_scVI\"] = Z_hat\n",
        "sc.pp.neighbors(adata, use_rep=\"X_scVI\", n_neighbors=1000)\n",
        "sc.tl.umap(adata)\n",
        "sc.tl.leiden(adata, key_added=\"leiden_scVI\", resolution=0.8)\n",
        "adata"
      ],
      "execution_count": 0,
      "outputs": []
    },
    {
      "cell_type": "code",
      "metadata": {
        "id": "37kKmDVHdDOy",
        "colab_type": "code",
        "colab": {}
      },
      "source": [
        "sc.pl.umap(adata, color=[\"leiden_scVI\"],color_map='viridis',legend_loc='on data')"
      ],
      "execution_count": 0,
      "outputs": []
    },
    {
      "cell_type": "code",
      "metadata": {
        "id": "1dgAMjqPdF0w",
        "colab_type": "code",
        "colab": {}
      },
      "source": [
        "#Add labels for experimental origin of each cell\n",
        "origin_label = list(np.repeat('IEG',len(jelly4stim.obs_names))) + list(np.repeat('FS',len(oj2.obs_names)))\n",
        "adata.obs['cell_origin'] =  pd.Categorical(origin_label)\n",
        "adata"
      ],
      "execution_count": 0,
      "outputs": []
    },
    {
      "cell_type": "markdown",
      "metadata": {
        "id": "kSuqW8dGdVS_",
        "colab_type": "text"
      },
      "source": [
        "Plot latent variables"
      ]
    },
    {
      "cell_type": "code",
      "metadata": {
        "id": "o8MkaJpfdMMD",
        "colab_type": "code",
        "colab": {}
      },
      "source": [
        "loadings = vae.get_loadings()\n",
        "loadings = \\\n",
        "pd.DataFrame.from_records(loadings, index=all_dataset.gene_names,\n",
        "                                    columns=[f'Z_{i}' for i in range(30)])\n",
        "loadings.head()"
      ],
      "execution_count": 0,
      "outputs": []
    },
    {
      "cell_type": "code",
      "metadata": {
        "id": "cKGpYEewdYU7",
        "colab_type": "code",
        "colab": {}
      },
      "source": [
        "for i, z in enumerate(Z_hat.T):\n",
        "    adata.obs[f'Z_{i}'] = z"
      ],
      "execution_count": 0,
      "outputs": []
    },
    {
      "cell_type": "code",
      "metadata": {
        "id": "vVl-1ekHdYrh",
        "colab_type": "code",
        "colab": {}
      },
      "source": [
        "# Plot latent variables\n",
        "# zs = [f'Z_{i}' for i in range(vae.n_latent)]\n",
        "# sc.pl.umap(adata, color=zs, ncols=3)"
      ],
      "execution_count": 0,
      "outputs": []
    },
    {
      "cell_type": "markdown",
      "metadata": {
        "id": "3gSOGX4vdgB1",
        "colab_type": "text"
      },
      "source": [
        "Save adata"
      ]
    },
    {
      "cell_type": "code",
      "metadata": {
        "id": "HvyZw_BOdfpR",
        "colab_type": "code",
        "colab": {}
      },
      "source": [
        "# adata.write(path+'/scVI_latent30_combo.h5ad')\n",
        "\n",
        "# #Save obs to combo data, which contains all nonzero ('unfiltered') genes for downstream analysis/visualizations\n",
        "# combo.obs['leiden_scVI'] = adata.obs['leiden_scVI']\n",
        "# combo.obs['cell_origin'] = adata.obs['cell_origin']\n",
        "# combo.obsm['X_scVI'] = adata.obsm['X_scVI']\n",
        "# combo.obsm['X_umap'] = adata.obsm['X_umap']\n",
        "\n",
        "# combo.write(path+'/bus_stim_fs_latent30_combo.h5ad')"
      ],
      "execution_count": 0,
      "outputs": []
    }
  ]
}