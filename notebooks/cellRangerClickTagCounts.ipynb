{
  "nbformat": 4,
  "nbformat_minor": 0,
  "metadata": {
    "colab": {
      "name": "cellRangerClickTagCounts.ipynb",
      "provenance": [],
      "collapsed_sections": [],
      "authorship_tag": "ABX9TyOPgVvK18a+ph2Rox++yeIo",
      "include_colab_link": true
    },
    "kernelspec": {
      "name": "python3",
      "display_name": "Python 3"
    }
  },
  "cells": [
    {
      "cell_type": "markdown",
      "metadata": {
        "id": "view-in-github",
        "colab_type": "text"
      },
      "source": [
        "<a href=\"https://colab.research.google.com/github/pachterlab/Clytia_single_cell_2020/blob/master/notebooks/cellRangerClickTagCounts.ipynb\" target=\"_parent\"><img src=\"https://colab.research.google.com/assets/colab-badge.svg\" alt=\"Open In Colab\"/></a>"
      ]
    },
    {
      "cell_type": "code",
      "metadata": {
        "colab": {
          "base_uri": "https://localhost:8080/"
        },
        "id": "YxtqBSDyfIuu",
        "outputId": "3126a865-64d0-4741-fa66-65d43b28be86"
      },
      "source": [
        "!date"
      ],
      "execution_count": 1,
      "outputs": [
        {
          "output_type": "stream",
          "text": [
            "Sat Dec  5 01:21:00 UTC 2020\n"
          ],
          "name": "stdout"
        }
      ]
    },
    {
      "cell_type": "code",
      "metadata": {
        "colab": {
          "base_uri": "https://localhost:8080/"
        },
        "id": "CFBcbdo2gdZR",
        "outputId": "b0b400a3-3f9c-46e3-bf09-8538388becef"
      },
      "source": [
        "!pip install pysam\n",
        "!pip install --quiet anndata\n",
        "!pip install --quiet scanpy\n",
        "!pip3 install --quiet leidenalg\n",
        "!pip install --quiet louvain\n",
        "!pip install --quiet fuzzywuzzy\n"
      ],
      "execution_count": 5,
      "outputs": [
        {
          "output_type": "stream",
          "text": [
            "Requirement already satisfied: pysam in /usr/local/lib/python3.6/dist-packages (0.16.0.1)\n"
          ],
          "name": "stdout"
        }
      ]
    },
    {
      "cell_type": "code",
      "metadata": {
        "id": "rU8JPosQg98F"
      },
      "source": [
        "!pip install --quiet biopython"
      ],
      "execution_count": 10,
      "outputs": []
    },
    {
      "cell_type": "code",
      "metadata": {
        "id": "qbdkqqgNirR3"
      },
      "source": [
        "#70BPbarcodes (ClickTag sequences)\n",
        "!wget --quiet https://caltech.box.com/shared/static/hj4no50kc20482oq07rju098pap1i98h\n",
        "\n",
        "#tags1.bam\n",
        "!wget --quiet https://caltech.box.com/shared/static/sskkop3866ajhswyq8ibhup7gdork2gp\n",
        "\n",
        "#tags2.bam\n",
        "!wget --quiet https://caltech.box.com/shared/static/loqzj4lrf562mnk2hu2n02a7amj7t04f"
      ],
      "execution_count": 13,
      "outputs": []
    },
    {
      "cell_type": "code",
      "metadata": {
        "id": "8D5dTENofM9a"
      },
      "source": [
        "import pysam\n",
        "import os\n",
        "import csv\n",
        "import pandas\n",
        "import numpy as np\n",
        "from fuzzywuzzy import fuzz\n",
        "from fuzzywuzzy import process\n",
        "from Bio import SeqIO\n",
        "import time\n",
        "import copy\n",
        "import matplotlib.pyplot as plt\n",
        "import scipy.io\n",
        "import seaborn as sns\n",
        "from collections import Counter\n",
        "from collections import defaultdict\n",
        "from collections import OrderedDict\n",
        "from itertools import islice\n",
        "from itertools import combinations\n",
        "import pandas as pd\n",
        "import time\n",
        "import locale\n",
        "#import Levenshtein\n",
        "import re\n",
        "import scanpy as sc\n",
        "import multiprocessing"
      ],
      "execution_count": 14,
      "outputs": []
    },
    {
      "cell_type": "code",
      "metadata": {
        "id": "UWOrHGWzgblA"
      },
      "source": [
        "## Set parameters - below are parameters for 10x 3' v2 chemistry\n",
        "\n",
        "cell_barcode_length = 16\n",
        "UMI_length = 10\n",
        "\n",
        "!mv hj4no50kc20482oq07rju098pap1i98h 70BPbarcodes.fa\n",
        "!mv sskkop3866ajhswyq8ibhup7gdork2gp tags1.bam\n",
        "!mv loqzj4lrf562mnk2hu2n02a7amj7t04f tags2.bam\n",
        "tags = \"70BPbarcodes.fa\"\n",
        "CellRangerOut = \"tags1.bam\"\n",
        "\n"
      ],
      "execution_count": 15,
      "outputs": []
    },
    {
      "cell_type": "code",
      "metadata": {
        "id": "Bl3SkUaPhUg-"
      },
      "source": [
        "\n",
        "def parse_tags(filename):\n",
        "    odict = OrderedDict()\n",
        "    for record in SeqIO.parse(filename, \"fasta\"):\n",
        "        #odict[row[0].encode('utf-8')] = row[1]\n",
        "        odict[record.name] = str(record.seq)[28:36]\n",
        "    return odict\n",
        "\n",
        "\n",
        "def worker(procnum, unique_lines_full, start, end, celltags, cellbarcodes, return_dict):\n",
        "    \"\"\"worker function\"\"\"\n",
        "    full_dataframe=pd.DataFrame(index=ab_map.keys(), columns=set([x[:16] for x in unique_lines]))\n",
        "    full_dataframe.fillna(0, inplace=True)\n",
        "    #variables\n",
        "    res_table = defaultdict(lambda : defaultdict(int))\n",
        "    n=0\n",
        "    for line in unique_lines_full[start:end]:\n",
        "        cell_barcode = line[0:cell_barcode_length]\n",
        "        UMI = line[cell_barcode_length:cell_barcode_length+UMI_length]\n",
        "        BC_UMI = cell_barcode + UMI\n",
        "        TAG_seq = line[len(BC_UMI):]\n",
        "        tagpositions = [TAG_seq[i:(i+23)] for i in range(0,10)]\n",
        "        fuzzpos = process.extractOne(\"TCGTCGGCAGCGTCAGATGTGTA\", tagpositions)\n",
        "        if fuzzpos[1] > 85:\n",
        "\n",
        "            pos = TAG_seq.find(fuzzpos[0])\n",
        "            fuzzbc = process.extractOne(TAG_seq[pos+23:pos+31], list(ab_map.values()))\n",
        "            if fuzzbc[1] > 85:\n",
        "                best = list(ab_map.keys())[list(ab_map.values()).index(fuzzbc[0])]\n",
        "                BC_UMI_TAG = BC_UMI + best\n",
        "                if BC_UMI_TAG not in UMI_reduce:\n",
        "                    #print(\"got one\")\n",
        "                    res_table[cell_barcode][best]+=1\n",
        "                    full_dataframe.loc[best,cell_barcode]+=1\n",
        "                    UMI_reduce.add(BC_UMI_TAG)\n",
        "        n += 1\n",
        "        #if(n>5):break\n",
        "        if(n%20000==0):\n",
        "            print(n)\n",
        "            print(\"elapsed time \" + str(time.time()-start))\n",
        "    if procnum < 5:\n",
        "        print('hello_world '+cell_barcode)\n",
        "        print(full_dataframe.loc[:,cell_barcode])\n",
        "        #put res_table into dataframe\n",
        "        \"\"\"worker function\"\"\"\n",
        "        print('worker '+str(procnum) + '\\t' + 'start '+str(start) + '\\t' + 'end '+str(end))\n",
        "        print(pd.DataFrame(res_table))\n",
        "        print(' ')\n",
        "    return_list.append(full_dataframe)\n",
        "    return\n",
        "\n"
      ],
      "execution_count": 16,
      "outputs": []
    },
    {
      "cell_type": "code",
      "metadata": {
        "id": "krHIxBEphVgm"
      },
      "source": [
        "ab_map=parse_tags(tags)"
      ],
      "execution_count": 17,
      "outputs": []
    },
    {
      "cell_type": "markdown",
      "metadata": {
        "id": "ylUwrC63jXrn"
      },
      "source": [
        "Count ClickTags lane 1 tags first"
      ]
    },
    {
      "cell_type": "code",
      "metadata": {
        "id": "q0ZbypeCjcjn"
      },
      "source": [
        "\"Create a set for UMI reduction. Fast way to collapse UMIs\"\n",
        "\n",
        "UMI_reduce=set()\n",
        "#Creaet result table\n",
        "res_table=defaultdict(lambda : defaultdict(int))\n",
        "#set counter\n",
        "n=0\n",
        "#set number of reads to process\n",
        "top_n = None"
      ],
      "execution_count": 18,
      "outputs": []
    },
    {
      "cell_type": "code",
      "metadata": {
        "colab": {
          "base_uri": "https://localhost:8080/"
        },
        "id": "22Xm_oT_jvRy",
        "outputId": "6ef5b801-d47e-42c8-9896-326733442e60"
      },
      "source": [
        "\"\"\"\n",
        "This section of code processes the entire genome BAM file. Runtime is about one hour for 3 million reads.\n",
        "Proccessing is slow due to multiple fuzzy matching steps\n",
        "Currently configured for 10x v2 and sample tags used in Gehring et. al 2018\n",
        "The script iterates through the genome BAM, identifies quality barcode sequences with fuzzywuzzy score > 85, \n",
        "then classifies them.\n",
        "fuzzpos is a constant sequence just upstream of the barcode\n",
        "fuzzbc is the barcode sequence extracted for classification\n",
        "\"\"\"\n",
        "\n",
        "#Load TAGS barcodes\n",
        "ab_map = parse_tags(tags)\n",
        "#Create a set for UMI reduction. Fast way to check if it already exists\n",
        "UMI_reduce = set()\n",
        "#Create result table\n",
        "res_table = defaultdict(lambda : defaultdict(int))\n",
        "res_table_sum = defaultdict(lambda : defaultdict(int))\n",
        "# set counter\n",
        "n = 0\n",
        "top_n = None\n",
        "unique_lines = set()\n",
        "start = time.time()\n",
        "\n",
        "samfile = pysam.AlignmentFile(CellRangerOut, \"rb\")\n",
        "for read in samfile.fetch(until_eof=True):\n",
        "    if read.has_tag('CB'):\n",
        "        line = str(read.get_tag('CB'))[:-2] + read.get_tag('UR') + str(read.query_sequence)\n",
        "        unique_lines.add(line)    \n",
        "    if top_n: \n",
        "        if top_n < n: break\n",
        "    n += 1\n",
        "    if(n%1000000==0):print(n)\n",
        "    if(n%1000000==0):\n",
        "        print('elapsed time: ' + str(time.time()-start))\n",
        "samfile.close()\n",
        "print(str(n) + ' reads loaded')\n",
        "print(str(len(unique_lines)) + ' unique reads loaded')\n",
        "\n",
        "    \n",
        "    \n",
        "print(\"runtime \" + str(time.time() - start))"
      ],
      "execution_count": 20,
      "outputs": [
        {
          "output_type": "stream",
          "text": [
            "1000000\n",
            "elapsed time: 4.658763885498047\n",
            "2000000\n",
            "elapsed time: 10.726136445999146\n",
            "3000000\n",
            "elapsed time: 16.86853003501892\n",
            "4000000\n",
            "elapsed time: 22.890313625335693\n",
            "5000000\n",
            "elapsed time: 28.802430152893066\n",
            "6000000\n",
            "elapsed time: 35.0033597946167\n",
            "7000000\n",
            "elapsed time: 41.18895173072815\n",
            "8000000\n",
            "elapsed time: 47.19905686378479\n",
            "9000000\n",
            "elapsed time: 53.172648429870605\n",
            "10000000\n",
            "elapsed time: 59.088330030441284\n",
            "10090668 reads loaded\n",
            "9626566 unique reads loaded\n",
            "runtime 59.633803844451904\n"
          ],
          "name": "stdout"
        }
      ]
    },
    {
      "cell_type": "code",
      "metadata": {
        "id": "ftUUxnRIj4jf"
      },
      "source": [
        "unique_lines = list(unique_lines)\n",
        "\n",
        "jobs=[]\n",
        "manager = multiprocessing.Manager()\n",
        "return_list = manager.list()\n",
        "n_threads=80\n",
        "slicestart=0\n",
        "celltags=list(ab_map.keys())\n",
        "cellbarcodes=list(set([x[:16] for x in unique_lines]))\n",
        "for job in range(n_threads):\n",
        "    #divide up the unique_lines by the number of threads\n",
        "    #call the worker function, passing positions in unique_lines as input\n",
        "    sliceend=slicestart+len(unique_lines)//n_threads\n",
        "    p = multiprocessing.Process(target=worker, args=(job, unique_lines,slicestart, sliceend, celltags, cellbarcodes, return_list))\n",
        "    jobs.append(p)\n",
        "    p.start()\n",
        "    slicestart=sliceend"
      ],
      "execution_count": 21,
      "outputs": []
    },
    {
      "cell_type": "code",
      "metadata": {
        "id": "Ay4jh-G4j-hD"
      },
      "source": [
        "pd.DataFrame(res_table)\n",
        "return_list[0][0].fillna(0).iloc[:]['ATCATCTCATCACGTA'] = return_list[0][0].fillna(0).iloc[:]['ATCATCTCATCACGTA']+return_list[0][0].fillna(0).iloc[:]['ATCATCTCATCACGTA']\n",
        "return_list[0][0].fillna(0).loc[:,'ATCATCTCATCACGTA']"
      ],
      "execution_count": null,
      "outputs": []
    },
    {
      "cell_type": "code",
      "metadata": {
        "id": "qpOGg3n5kOQC"
      },
      "source": [
        "final_df=pd.DataFrame(index=ab_map.keys(), columns=set([x[:16] for x in unique_lines]))\n",
        "final_df.fillna(0,inplace=True)\n",
        "for i in range(len(return_list)):\n",
        "    final_df+=(return_list[i])"
      ],
      "execution_count": null,
      "outputs": []
    },
    {
      "cell_type": "code",
      "metadata": {
        "id": "-PLgHkTpkTGk"
      },
      "source": [
        "final_df.head()"
      ],
      "execution_count": null,
      "outputs": []
    },
    {
      "cell_type": "code",
      "metadata": {
        "id": "jyAIpIfwkVc2"
      },
      "source": [
        "res_matrix=copy.deepcopy(final_df)\n",
        "sortedREAP_dtf = copy.deepcopy(res_matrix.sum())\n",
        "sortedREAP_dtf = sortedREAP_dtf.sort_values(ascending=False)\n",
        "plt.plot(np.log10(range(len(sortedREAP_dtf))), sortedREAP_dtf.apply(np.log10))\n",
        "plt.show()"
      ],
      "execution_count": null,
      "outputs": []
    },
    {
      "cell_type": "code",
      "metadata": {
        "id": "zXzpmb9FkWJx"
      },
      "source": [
        "\"\"\"\n",
        "Have a look at the data\n",
        "Columns of the matrix are cells\n",
        "Rows are tag counts for each cell\n",
        "Only 8 of twenty possible tags were used in this experiment (2 tags for each of 4 samples)\n",
        "\"\"\"\n",
        "res_matrix.fillna(0, inplace=True)\n",
        "res_matrix.loc[:,sortedREAP_dtf.index[6000:6020]]"
      ],
      "execution_count": null,
      "outputs": []
    },
    {
      "cell_type": "code",
      "metadata": {
        "id": "RbeL0_h9kbxE"
      },
      "source": [
        "res_matrix.to_csv(path_or_buf=\"jelly3tags1counts.csv\")"
      ],
      "execution_count": null,
      "outputs": []
    },
    {
      "cell_type": "markdown",
      "metadata": {
        "id": "jAYWLUx3lAWq"
      },
      "source": [
        "Analysis for lane 2 ClickTags "
      ]
    },
    {
      "cell_type": "code",
      "metadata": {
        "id": "UKBbqssilCTj"
      },
      "source": [
        "CellRangerOut = \"tags2.bam\""
      ],
      "execution_count": null,
      "outputs": []
    },
    {
      "cell_type": "code",
      "metadata": {
        "id": "byT6fSj4nRzv"
      },
      "source": [
        "\"Create a set for UMI reduction. Fast way to collapse UMIs\"\n",
        "\n",
        "UMI_reduce=set()\n",
        "#Creaet result table\n",
        "res_table=defaultdict(lambda : defaultdict(int))\n",
        "#set counter\n",
        "n=0\n",
        "#set number of reads to process\n",
        "top_n = None"
      ],
      "execution_count": null,
      "outputs": []
    },
    {
      "cell_type": "code",
      "metadata": {
        "colab": {
          "base_uri": "https://localhost:8080/"
        },
        "id": "bE7ca6QmnRzv",
        "outputId": "6ef5b801-d47e-42c8-9896-326733442e60"
      },
      "source": [
        "\"\"\"\n",
        "This section of code processes the entire genome BAM file. Runtime is about one hour for 3 million reads.\n",
        "Proccessing is slow due to multiple fuzzy matching steps\n",
        "Currently configured for 10x v2 and sample tags used in Gehring et. al 2018\n",
        "The script iterates through the genome BAM, identifies quality barcode sequences with fuzzywuzzy score > 85, \n",
        "then classifies them.\n",
        "fuzzpos is a constant sequence just upstream of the barcode\n",
        "fuzzbc is the barcode sequence extracted for classification\n",
        "\"\"\"\n",
        "\n",
        "#Load TAGS barcodes\n",
        "ab_map = parse_tags(tags)\n",
        "#Create a set for UMI reduction. Fast way to check if it already exists\n",
        "UMI_reduce = set()\n",
        "#Create result table\n",
        "res_table = defaultdict(lambda : defaultdict(int))\n",
        "res_table_sum = defaultdict(lambda : defaultdict(int))\n",
        "# set counter\n",
        "n = 0\n",
        "top_n = None\n",
        "unique_lines = set()\n",
        "start = time.time()\n",
        "\n",
        "samfile = pysam.AlignmentFile(CellRangerOut, \"rb\")\n",
        "for read in samfile.fetch(until_eof=True):\n",
        "    if read.has_tag('CB'):\n",
        "        line = str(read.get_tag('CB'))[:-2] + read.get_tag('UR') + str(read.query_sequence)\n",
        "        unique_lines.add(line)    \n",
        "    if top_n: \n",
        "        if top_n < n: break\n",
        "    n += 1\n",
        "    if(n%1000000==0):print(n)\n",
        "    if(n%1000000==0):\n",
        "        print('elapsed time: ' + str(time.time()-start))\n",
        "samfile.close()\n",
        "print(str(n) + ' reads loaded')\n",
        "print(str(len(unique_lines)) + ' unique reads loaded')\n",
        "\n",
        "    \n",
        "    \n",
        "print(\"runtime \" + str(time.time() - start))"
      ],
      "execution_count": null,
      "outputs": [
        {
          "output_type": "stream",
          "text": [
            "1000000\n",
            "elapsed time: 4.658763885498047\n",
            "2000000\n",
            "elapsed time: 10.726136445999146\n",
            "3000000\n",
            "elapsed time: 16.86853003501892\n",
            "4000000\n",
            "elapsed time: 22.890313625335693\n",
            "5000000\n",
            "elapsed time: 28.802430152893066\n",
            "6000000\n",
            "elapsed time: 35.0033597946167\n",
            "7000000\n",
            "elapsed time: 41.18895173072815\n",
            "8000000\n",
            "elapsed time: 47.19905686378479\n",
            "9000000\n",
            "elapsed time: 53.172648429870605\n",
            "10000000\n",
            "elapsed time: 59.088330030441284\n",
            "10090668 reads loaded\n",
            "9626566 unique reads loaded\n",
            "runtime 59.633803844451904\n"
          ],
          "name": "stdout"
        }
      ]
    },
    {
      "cell_type": "code",
      "metadata": {
        "id": "Bad7fOkMnRzw"
      },
      "source": [
        "unique_lines = list(unique_lines)\n",
        "\n",
        "jobs=[]\n",
        "manager = multiprocessing.Manager()\n",
        "return_list = manager.list()\n",
        "n_threads=80\n",
        "slicestart=0\n",
        "celltags=list(ab_map.keys())\n",
        "cellbarcodes=list(set([x[:16] for x in unique_lines]))\n",
        "for job in range(n_threads):\n",
        "    #divide up the unique_lines by the number of threads\n",
        "    #call the worker function, passing positions in unique_lines as input\n",
        "    sliceend=slicestart+len(unique_lines)//n_threads\n",
        "    p = multiprocessing.Process(target=worker, args=(job, unique_lines,slicestart, sliceend, celltags, cellbarcodes, return_list))\n",
        "    jobs.append(p)\n",
        "    p.start()\n",
        "    slicestart=sliceend"
      ],
      "execution_count": null,
      "outputs": []
    },
    {
      "cell_type": "code",
      "metadata": {
        "id": "sxGjVFfKnRzx"
      },
      "source": [
        "pd.DataFrame(res_table)\n",
        "return_list[0][0].fillna(0).iloc[:]['ATCATCTCATCACGTA'] = return_list[0][0].fillna(0).iloc[:]['ATCATCTCATCACGTA']+return_list[0][0].fillna(0).iloc[:]['ATCATCTCATCACGTA']\n",
        "return_list[0][0].fillna(0).loc[:,'ATCATCTCATCACGTA']"
      ],
      "execution_count": null,
      "outputs": []
    },
    {
      "cell_type": "code",
      "metadata": {
        "id": "16CsE3zGnRzx"
      },
      "source": [
        "final_df=pd.DataFrame(index=ab_map.keys(), columns=set([x[:16] for x in unique_lines]))\n",
        "final_df.fillna(0,inplace=True)\n",
        "for i in range(len(return_list)):\n",
        "    final_df+=(return_list[i])"
      ],
      "execution_count": null,
      "outputs": []
    },
    {
      "cell_type": "code",
      "metadata": {
        "id": "nfFb4_zAnRzx"
      },
      "source": [
        "final_df.head()"
      ],
      "execution_count": null,
      "outputs": []
    },
    {
      "cell_type": "code",
      "metadata": {
        "id": "Qb-WF2n6nRzx"
      },
      "source": [
        "res_matrix=copy.deepcopy(final_df)\n",
        "sortedREAP_dtf = copy.deepcopy(res_matrix.sum())\n",
        "sortedREAP_dtf = sortedREAP_dtf.sort_values(ascending=False)\n",
        "plt.plot(np.log10(range(len(sortedREAP_dtf))), sortedREAP_dtf.apply(np.log10))\n",
        "plt.show()"
      ],
      "execution_count": null,
      "outputs": []
    },
    {
      "cell_type": "code",
      "metadata": {
        "id": "dchKCu0wnRzx"
      },
      "source": [
        "\"\"\"\n",
        "Have a look at the data\n",
        "Columns of the matrix are cells\n",
        "Rows are tag counts for each cell\n",
        "Only 8 of twenty possible tags were used in this experiment (2 tags for each of 4 samples)\n",
        "\"\"\"\n",
        "res_matrix.fillna(0, inplace=True)\n",
        "res_matrix.loc[:,sortedREAP_dtf.index[5000:5200]]"
      ],
      "execution_count": null,
      "outputs": []
    },
    {
      "cell_type": "code",
      "metadata": {
        "id": "UmqS11EgnRzx"
      },
      "source": [
        "res_matrix.to_csv(path_or_buf=\"jelly3tags2counts.csv\")"
      ],
      "execution_count": null,
      "outputs": []
    }
  ]
}